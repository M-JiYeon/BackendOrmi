{
  "nbformat": 4,
  "nbformat_minor": 0,
  "metadata": {
    "colab": {
      "provenance": [],
      "collapsed_sections": [
        "CQ99idbBLnhl"
      ],
      "authorship_tag": "ABX9TyPf69KuJ93hE7J7/HF+LMvJ",
      "include_colab_link": true
    },
    "kernelspec": {
      "name": "python3",
      "display_name": "Python 3"
    },
    "language_info": {
      "name": "python"
    }
  },
  "cells": [
    {
      "cell_type": "markdown",
      "metadata": {
        "id": "view-in-github",
        "colab_type": "text"
      },
      "source": [
        "<a href=\"https://colab.research.google.com/github/M-JiYeon/BackendOrmi/blob/main/Python/deep_dive_python.ipynb\" target=\"_parent\"><img src=\"https://colab.research.google.com/assets/colab-badge.svg\" alt=\"Open In Colab\"/></a>"
      ]
    },
    {
      "cell_type": "markdown",
      "source": [
        "# colab 사용법"
      ],
      "metadata": {
        "id": "skRVtmluuzdf"
      }
    },
    {
      "cell_type": "markdown",
      "source": [
        "* MAC을 사용하는 경우 Ctrl 대신 Command입니다. Alt 대신 Option입니다.\n",
        "1. **실행 단축키**\n",
        "    1. (필수) `Ctrl(Command)` + `Enter` : 해당 셀 실행\n",
        "    2. `Shift` + `Enter` : 해당 셀 실행 + 커서를 다음 셀로 이동\n",
        "    3. (필수) `Alt(Option)` + `Enter` : 해당 셀 실행 + 코드 불록 하단 추가\n",
        "2. **셀 삽입/삭제 관련 단축키**\n",
        "    1. `Ctrl(Command)` + M A : 코드 셀 위에 삽입\n",
        "    2. `Ctrl(Command)` + M B : 코드 셀 아래 삽입\n",
        "    3. `Ctrl(Command)` + M D : 셀 지우기\n",
        "    4. `Ctrl(Command)` + M Y : 코드 셀로 변경\n",
        "    5. `Ctrl(Command)` + M M : 마크다운 셀로 변경\n",
        "    6. `Ctrl(Command)` + M Z : 실행 취소\n",
        "3. **수정 관련된 단축키**\n",
        "    1. `Ctrl(Command)` + `Alt(Option)` + 화살표위아래 : 동시 수정\n",
        "    2. (자주) `Ctrl(Command)` + D : 같은 단어 찾아 동시 수정\n",
        "    3. `Ctrl(Command)` + `Shift` + L : 동일 단어를 전체로 찾아 동시 수정\n",
        "    4. `Alt(Option)` + `Shift` + 화살표위아래 : 해당내용을 위나 아래 복사해서 붙여넣기\n",
        "    5. `Alt(Option)` + 화살표위아래 : 해당 내용을 위나 아래로 보내기\n",
        "    6. (자주) `Ctrl(Command)` + `Alt(Option)` + 화살표위아래 : 위아래 동시 수정\n",
        "    7. (자주) Home, End : 문장의 양 끝\n",
        "    8. (필수) `Ctrl` + `/` : 주석\n",
        "    9. (필수) `Shift` + `Del` : 한 줄 지우기\n",
        "    10. (필수) `Tab`, `Ctrl` + `]` : 들여쓰기\n",
        "    11. (필수) `Shift` + `Tab`, `Ctrl` + `[` : 내어쓰기\n",
        "4. 단축키 보기 및 설정\n",
        "    1. `Ctrl(Command)` + M H : 단축키 모음"
      ],
      "metadata": {
        "id": "Bi65Qu3jveWH"
      }
    },
    {
      "cell_type": "markdown",
      "source": [
        "# 마크다운"
      ],
      "metadata": {
        "id": "_o8MMgcpx7EU"
      }
    },
    {
      "cell_type": "markdown",
      "source": [
        "* 필수 마크다운\n",
        "\n",
        "  ```\n",
        "  # hello\n",
        "  ## hello\n",
        "  ### hello\n",
        "\n",
        "  1. hello\n",
        "  2. hello\n",
        "  3. hello\n",
        "\n",
        "  * hello\n",
        "  * hello\n",
        "  * hello\n",
        "  ```\n",
        "\n",
        "* 선택 마크다운(필수가 아니니 부담가지지 마세요.)\n",
        "\n",
        "  ```\n",
        "  # h1\n",
        "  ## h2\n",
        "  ### h3\n",
        "  #### h4\n",
        "  ##### h5\n",
        "  ###### h6\n",
        "\n",
        "  ---\n",
        "\n",
        "  1. hello\n",
        "  2. hello\n",
        "  3. hello\n",
        "\n",
        "  * hello\n",
        "  * hello\n",
        "  * hello\n",
        "\n",
        "  - hello\n",
        "  - hello\n",
        "  - hello\n",
        "\n",
        "  __굵게__\n",
        "  **굵게**\n",
        "  _기울여 쓰기_\n",
        "  *기울여 쓰기*\n",
        "  ~취소선~\n",
        "  ~~취소선~~\n",
        "\n",
        "  > 인용문 작성하기\n",
        "  `인라인 코드는 이렇게 작성해요.`\n",
        "\n",
        "  [인라인 링크](https://velog.io/)\n",
        "\n",
        "  ![이미지 설명](이미지 링크)\n",
        "\n",
        "  * table은 직접 만들지 마시고 https://www.tablesgenerator.com/markdown_tables 와 같은 서비스를 이용하세요.\n",
        "  | 1 | 2     | 3 | 4 | 5     |\n",
        "  |---|-------|---|---|-------|\n",
        "  | 1 | hello | 3 | 4 | world |\n",
        "\n",
        "  * [ ] hello\n",
        "  * [X] hello\n",
        "  ```"
      ],
      "metadata": {
        "id": "t2RYHZqIyFM7"
      }
    },
    {
      "cell_type": "markdown",
      "source": [
        "# Python"
      ],
      "metadata": {
        "id": "QZaTO28Y4JpG"
      }
    },
    {
      "cell_type": "code",
      "source": [
        "#행 단위 주석입니다.\n",
        "\n",
        "\"\"\"\n",
        "큰 따옴표로 세번 묶거나\n",
        "작은따옴표로 세번 묶으면\n",
        "열단위 주석이 됩니다.\n",
        "\"\"\"\n",
        "\n",
        "'''\n",
        "큰 따옴표로 세번 묶거나\n",
        "작은따옴표로 세번 묶으면\n",
        "열단위 주석이 됩니다.\n",
        "'''"
      ],
      "metadata": {
        "id": "7eMnViY44p4c"
      },
      "execution_count": null,
      "outputs": []
    },
    {
      "cell_type": "code",
      "source": [
        "# 아래와 같이 열단위 주석으로 text를 넣을 수도 있습니다.\n",
        "data = '''\n",
        "큰 따옴표로 세번 묶거나 작은따옴표로 세번 묶으면 열단위 주석이 됩니다.\n",
        "'''"
      ],
      "metadata": {
        "id": "-Vve3UPC4qrQ"
      },
      "execution_count": null,
      "outputs": []
    },
    {
      "cell_type": "markdown",
      "source": [
        "* Code convention python\n",
        "* https://google.github.io/styleguide/\n",
        "* https://google.github.io/styleguide/pyguide.html"
      ],
      "metadata": {
        "id": "UvecYKkG5AQ0"
      }
    },
    {
      "cell_type": "code",
      "source": [
        "def connect_to_next_port(self, minimum: int) -> int:\n",
        "    \"\"\"Connects to the next available port.\n",
        "\n",
        "    Args:\n",
        "      minimum: A port value greater or equal to 1024.\n",
        "\n",
        "    Returns:\n",
        "      The new minimum port.\n",
        "\n",
        "    Raises:\n",
        "      ConnectionError: If no available port is found.\n",
        "    \"\"\"\n",
        "    if minimum < 1024:\n",
        "        # Note that this raising of ValueError is not mentioned in the doc\n",
        "        # string's \"Raises:\" section because it is not appropriate to\n",
        "        # guarantee this specific behavioral reaction to API misuse.\n",
        "        raise ValueError(f'Min. port must be at least 1024, not {minimum}.')\n",
        "    port = self._find_next_open_port(minimum)\n",
        "    if port is None:\n",
        "        raise ConnectionError(\n",
        "            f'Could not connect to service on port {minimum} or higher.')\n",
        "    assert port >= minimum, (\n",
        "        f'Unexpected port {port} when minimum was {minimum}.')\n",
        "    return port"
      ],
      "metadata": {
        "id": "ENLR_Fv248ri"
      },
      "execution_count": null,
      "outputs": []
    },
    {
      "cell_type": "code",
      "source": [
        "connect_to_next_port"
      ],
      "metadata": {
        "id": "qx2Eyvd3xnD5"
      },
      "execution_count": null,
      "outputs": []
    },
    {
      "cell_type": "code",
      "source": [
        "# 띄어쓰기 4칸 (tab(스페이스 4칸과 다릅니다!), 6칸, 7칸 다 작동합니다.)"
      ],
      "metadata": {
        "id": "qC6pX3746dr_"
      },
      "execution_count": null,
      "outputs": []
    },
    {
      "cell_type": "code",
      "source": [
        "# 아래와 같이 탭과 띄어쓰기 4번을 혼용하시면 error가 납니다.\n",
        "for i in range(10):\n",
        "    print(i)\n",
        "\t# print('큰 따옴표로 세번 묶거나')"
      ],
      "metadata": {
        "id": "NrZ3btYn7g5o"
      },
      "execution_count": null,
      "outputs": []
    },
    {
      "cell_type": "code",
      "source": [
        "a = 10     #int, 정수형\n",
        "b = 10.1   #float, 실수\n",
        "c = -1\n",
        "d = True   #bool, 논리형(부울형, 참거짓형)\n",
        "e = 'good'\n",
        "f = '10'   #str, 문자열\n",
        "g = 'kim'\n",
        "h = 'honggildong'\n",
        "i = 'example'\n",
        "j = 10 + 2j #complex, 복소수\n",
        "k = 0b110   #int, 2진법 \n",
        "l = 0o56    #int, 8진법\n",
        "m = 0xAC    #int, 16진법\n",
        "\n",
        "##########\n",
        "def hello():\n",
        "    return\n",
        "\n",
        "class A:\n",
        "    pass\n",
        "\n",
        "n = hello # function\n",
        "o = print # built-in function (https://docs.python.org/3/library/functions.html)\n",
        "p = lambda x:x**2 # function\n",
        "q = int # type\n",
        "r = A # class\n",
        "s = A() # instance\n",
        "##########\n",
        "\n",
        "print(f'type(10) : {type(a)}')\n",
        "print(f'type(10.1) : {type(b)}')\n",
        "print(f'type(-1) : {type(c)}')\n",
        "print(f'type(True) : {type(d)}')\n",
        "print(f'type(\\'good\\') : {type(e)}')\n",
        "print(f'type(\\'good\\'.upper) : {type(e.upper)}')\n",
        "print(f'\\'10\\' + \\'10\\' : {f + f}')\n",
        "print(f'\\'10\\' * 3 : {f * 3}')\n",
        "print(f'\\'hong\\' + \\'gildong\\' : {g + h}')\n",
        "print(f'type(\\'gildong\\') : {type(h)}')\n",
        "print(f'type(\\'gildong100!!\\') : {type(i)}')\n",
        "print(f'type(10 + 2j) : {type(j)}')\n",
        "print(f'type(0b110) : {type(k)}')\n",
        "print(k)\n",
        "print(f'type(0o56) : {type(i)}')\n",
        "print(i)\n",
        "print(f'type(0xAC) : {type(m)}')\n",
        "print(m)\n",
        "print(f'type(def func():...생략...) : {type(n)}')\n",
        "print(f'type(print) : {type(o)}')\n",
        "print(f'type(lambda x:x**2) : {type(p)}')\n",
        "print(f'type(int) : {type(int)}')"
      ],
      "metadata": {
        "id": "o7asQw318Pgh"
      },
      "execution_count": null,
      "outputs": []
    },
    {
      "cell_type": "code",
      "source": [
        "# https://ko.wikipedia.org/wiki/%EC%9D%B4%EC%8A%A4%EC%BC%80%EC%9D%B4%ED%94%84_%EB%AC%B8%EC%9E%90\n",
        "print('hello \\n world')\n",
        "print('hello \\t world')\n",
        "print('hello \\' world')\n",
        "print('hello \\\" world')\n",
        "print('hello \\\\ world')"
      ],
      "metadata": {
        "id": "sG_r0F7M-PRu"
      },
      "execution_count": null,
      "outputs": []
    },
    {
      "cell_type": "code",
      "source": [
        "# type -> string\n",
        "\n",
        "hello = 10\n",
        "\n",
        "print(r'hello \\n world') # str -> raw (Django 2.x 까지 url parsing을 이렇게 사용하고 있어요.)\n",
        "print(f'hello \\n world {hello}') # 앞으로 f-string 기법\n",
        "print('hello world {}'.format(hello))"
      ],
      "metadata": {
        "id": "OEpwXUH2_3Ki"
      },
      "execution_count": null,
      "outputs": []
    },
    {
      "cell_type": "code",
      "source": [
        "# type -> float\n",
        "# 오일러의 수를 모른다 해서, 수학 연산이 약하다 해서 우리 수업에 문제가 되지 않습니다.\n",
        "\n",
        "print(2.3e3) # 무리수, 오일러 수(2.718에 수렴, 파이가 3.14인 것처럼)\n",
        "print(2.3E3)\n",
        "\n",
        "2.3 * (10 ** 3)"
      ],
      "metadata": {
        "id": "gDGsT6NJEZ8v"
      },
      "execution_count": null,
      "outputs": []
    },
    {
      "cell_type": "code",
      "source": [
        "type(2.3E-3)"
      ],
      "metadata": {
        "id": "ZAxWdEP3FQT8"
      },
      "execution_count": null,
      "outputs": []
    },
    {
      "cell_type": "code",
      "source": [
        "class A: # 자동차 공장\n",
        "    pass\n",
        "\n",
        "a = A # class\n",
        "b = A() # instance # 자동차\n",
        "\n",
        "print(type(a))\n",
        "print(type(b))"
      ],
      "metadata": {
        "id": "hiNe36Zr-_8k"
      },
      "execution_count": null,
      "outputs": []
    },
    {
      "cell_type": "code",
      "source": [
        "# 변수를 처음 만나시면 typ, dir을 해봅니다.\n",
        "# type을 찍으면 검색 키워드를 알 수 있습니다.\n",
        "# dir을 찍으면 속성을 알 수 있습니다.\n",
        "type(a)"
      ],
      "metadata": {
        "id": "E8-6Ctly8m00"
      },
      "execution_count": null,
      "outputs": []
    },
    {
      "cell_type": "code",
      "source": [
        "print(type(a))"
      ],
      "metadata": {
        "id": "c90wTBu_8q2e"
      },
      "execution_count": null,
      "outputs": []
    },
    {
      "cell_type": "code",
      "source": [
        "dir(a)"
      ],
      "metadata": {
        "id": "w3BhdVJO870C"
      },
      "execution_count": null,
      "outputs": []
    },
    {
      "cell_type": "code",
      "source": [
        "# 실무에서 자주 사용하는 구문\n",
        "type(10)\n",
        "type(10) == int\n",
        "type(10.1) == float"
      ],
      "metadata": {
        "id": "wAKINYO4FZ_R"
      },
      "execution_count": null,
      "outputs": []
    },
    {
      "cell_type": "code",
      "source": [
        "# 위만큼 자주 사용하진 않지만 타입 코드 확인\n",
        "a = 10\n",
        "isinstance(a, int)\n",
        "isinstance(a, float)"
      ],
      "metadata": {
        "id": "6rE3HgtEFpx6"
      },
      "execution_count": null,
      "outputs": []
    },
    {
      "cell_type": "markdown",
      "source": [
        "## 변수"
      ],
      "metadata": {
        "id": "kQ1PK775F5kH"
      }
    },
    {
      "cell_type": "code",
      "source": [
        "# CS 변수는 포스트잇\n",
        "# 변수는 메모리 공간을 가리킵니다.'\n",
        "\n",
        "# x라는 포스트잇도 붙였지만\n",
        "# y라는 포스트잇도 붙여져 있는 것입니다.\n",
        "x = 10\n",
        "y = 10\n",
        "\n",
        "id(x), id(y) # id는 누굴 가리키고 있는지를 그 주소소값을 반환합니다.\n"
      ],
      "metadata": {
        "id": "9T94aNOLGd8I"
      },
      "execution_count": null,
      "outputs": []
    },
    {
      "cell_type": "code",
      "source": [
        "x is y "
      ],
      "metadata": {
        "id": "b9bYdRO3HNA3"
      },
      "execution_count": null,
      "outputs": []
    },
    {
      "cell_type": "code",
      "source": [
        "x = 257\n",
        "y = 257\n",
        "\n",
        "id(x), id(y)"
      ],
      "metadata": {
        "id": "yV7oEG6nHW-A"
      },
      "execution_count": null,
      "outputs": []
    },
    {
      "cell_type": "code",
      "source": [
        "x is y "
      ],
      "metadata": {
        "id": "F31ShMjuHr44"
      },
      "execution_count": null,
      "outputs": []
    },
    {
      "cell_type": "code",
      "source": [
        "# Python은 자체적으로 속도를 높이기 위한 \n",
        "# 여러가지 노력들을 해왔습니다.\n",
        "# (아래 언급한 것 말고도 각각의 자료형에서 메모리를 효율적으로 관리하기 위한 노력들을 말씀드리겠습니다.)\n",
        "# 구버전도 말씀을 드릴 것인데 이유는 여러분이 실무에가서 접할 환경이 최신 버전이 아니기 때문입니다.\n",
        "# 야xx의 경우에는 Django 1.x, python 2.x를 사용하고 있어요. \n",
        "# 대부분의 기업들이 한 번 구축해놓은 시스템은 바꾸기가 쉽지 않습니다.\n",
        "\n",
        "# 그래서 -5 ~ 256은 먼저 메모리에 적재를 합니다."
      ],
      "metadata": {
        "id": "-aNr8Z8iIRnj"
      },
      "execution_count": null,
      "outputs": []
    },
    {
      "cell_type": "code",
      "source": [
        "x = -5\n",
        "y = -5\n",
        "\n",
        "id(x), id(y)"
      ],
      "metadata": {
        "id": "YbdJWeyJIclQ"
      },
      "execution_count": null,
      "outputs": []
    },
    {
      "cell_type": "markdown",
      "source": [
        "* 변수의 타입이란 무엇인가?\n",
        "* 변수의 타입은 왜 있는 것일까?\n",
        "* 어떤 고민을 통해 변수의 속성을 정했을까?"
      ],
      "metadata": {
        "id": "eb1kBjwKIwQc"
      }
    },
    {
      "cell_type": "code",
      "source": [
        "'a' + 'a'"
      ],
      "metadata": {
        "id": "BvjMcT9SJAkX"
      },
      "execution_count": null,
      "outputs": []
    },
    {
      "cell_type": "code",
      "source": [
        "# 왜 이어 붙였지?\n",
        "# 컴퓨터 입장에서 a는 97(인간이 보는 숫자) -> 0x61! 결국 숫자!"
      ],
      "metadata": {
        "id": "8v99FKbrJGUV"
      },
      "execution_count": null,
      "outputs": []
    },
    {
      "cell_type": "code",
      "source": [
        "# cpython -> 이어 붙이라고 정의가 되어 있어서\n",
        "# 사회 통념적인 약속 -> 코드로 구현\n",
        "# type, dir\n",
        "# 이러한 약속들은 매직메서드(__init__....)를 통해 구현하게 됩니다."
      ],
      "metadata": {
        "id": "C0XpBbpeJTz6"
      },
      "execution_count": null,
      "outputs": []
    },
    {
      "cell_type": "markdown",
      "source": [
        "## 변수의 속성 변경"
      ],
      "metadata": {
        "id": "xCwi_TcNJ8Yv"
      }
    },
    {
      "cell_type": "code",
      "source": [
        "'10' + '10'"
      ],
      "metadata": {
        "id": "mAwWIE87KFxa"
      },
      "execution_count": null,
      "outputs": []
    },
    {
      "cell_type": "code",
      "source": [
        "int('10') + int('10')"
      ],
      "metadata": {
        "id": "3H5sHUXaJ8DQ"
      },
      "execution_count": null,
      "outputs": []
    },
    {
      "cell_type": "code",
      "source": [
        "# 지금 배우는 포인트는 class가 중요한 문법이 아니라\n",
        "# 이러한 '약속'을 우리가 변경할 수 있다가 중요한 포인트입니다.\n",
        "class int(int):\n",
        "    def __add__(self, a):\n",
        "        return 'leehojun'\n",
        "\n",
        "int('10') + int('10')"
      ],
      "metadata": {
        "id": "dYWdH4G0KSel"
      },
      "execution_count": null,
      "outputs": []
    },
    {
      "cell_type": "code",
      "source": [
        "class int(int):\n",
        "    def __add__(self, a):\n",
        "        return self * a\n",
        "\n",
        "int('10') + int('10')"
      ],
      "metadata": {
        "id": "9QHIiQI0Kr75"
      },
      "execution_count": null,
      "outputs": []
    },
    {
      "cell_type": "code",
      "source": [
        "dir(10)"
      ],
      "metadata": {
        "id": "b4VhENX5K49T"
      },
      "execution_count": null,
      "outputs": []
    },
    {
      "cell_type": "code",
      "source": [
        "class int(int):\n",
        "    def 제곱(self, 승수):\n",
        "        return self ** 승수\n",
        "\n",
        "value = int('10')\n",
        "print(dir(value))"
      ],
      "metadata": {
        "id": "X7bCR_lxLRyv"
      },
      "execution_count": null,
      "outputs": []
    },
    {
      "cell_type": "code",
      "source": [
        "value.제곱(3)"
      ],
      "metadata": {
        "id": "v4zWeG5JL11t"
      },
      "execution_count": null,
      "outputs": []
    },
    {
      "cell_type": "code",
      "source": [
        "x = 10\n",
        "y = x\n",
        "z = y\n",
        "\n",
        "print(id(x), id(y), id(z))"
      ],
      "metadata": {
        "id": "28xrVmo3MJ3c"
      },
      "execution_count": null,
      "outputs": []
    },
    {
      "cell_type": "code",
      "source": [
        "x = 10\n",
        "y = x\n",
        "x = 100\n",
        "\n",
        "print(x, y)\n",
        "print(id(x), id(y), id(z))"
      ],
      "metadata": {
        "id": "9oTZ2thFNDLv"
      },
      "execution_count": null,
      "outputs": []
    },
    {
      "cell_type": "markdown",
      "source": [
        "## 변수의 속성"
      ],
      "metadata": {
        "id": "JXVT-_DBNcju"
      }
    },
    {
      "cell_type": "markdown",
      "source": [
        "* 변수는 주로 스네이크 표기법을 많이 사용합니다. 물론 회사 컨벤션에 따르셔야 합니다.\n",
        "* 영문과 숫자를 사용할 수 있지만, 숫자로  시작하지는 못합니다.\n",
        "* 특수문자는 사용하지 않아요.(언더바(_)는  사용합니다. 스네이크 표기법, 특수문자나  이미중 사용 가능한 것들이 있기는 합니다.  권하지 않습니다.)\n",
        "* 예약어는 사용하지 않습니다.(if, elif, while, * for, etc)\n",
        "* 대소문자는 구분합니다.\n",
        "* 언더바로만 사용하거나 언더바로 시작할 수 있습니다.\n",
        "* 대문자로 시작하는 변수를 사용할 수 있지만, 관습적으로 대문자로 시작하는 변수는 Class로 만들기 때문에 소문자로 시작하는 변수를 만들기를 권합니다. Class는 보통 파스칼 표기법을 따릅니다. 다만 회사 컨벤션마다 다릅니다."
      ],
      "metadata": {
        "id": "iTLR4K6JNxdF"
      }
    },
    {
      "cell_type": "code",
      "source": [
        "# 스네이크 표기법(Python에서 주로)\n",
        "hello_world = 10\n",
        "# 카멜 표기법(JavaScript에서 주로)\n",
        "helloWorld = 10\n",
        "# 파스칼 표기법(Class 같은 곳에서 많이 사용합니다.)\n",
        "Hello = 10"
      ],
      "metadata": {
        "id": "38nduTgygnVs"
      },
      "execution_count": null,
      "outputs": []
    },
    {
      "cell_type": "code",
      "source": [
        "# 10hello = 100\n",
        "hello10 = 10\n",
        "\n",
        "π = 3.14 # 권하지 않습니다.\n",
        "print(π)\n",
        "\n",
        "_ = 100 # 언더바는 자주사용되는데 이렇게 사용되진 않습니다.\n",
        "print(_)"
      ],
      "metadata": {
        "id": "QZ8qtuxphLbX"
      },
      "execution_count": null,
      "outputs": []
    },
    {
      "cell_type": "code",
      "source": [
        "for _ in range(10): # 언더바를 순회 안에서 변수로 사용하지 않을때\n",
        "    print('hello')"
      ],
      "metadata": {
        "id": "TOpV-ZoyihQ1"
      },
      "execution_count": null,
      "outputs": []
    },
    {
      "cell_type": "code",
      "source": [
        "a = 100"
      ],
      "metadata": {
        "id": "PiTomdS4jAza"
      },
      "execution_count": null,
      "outputs": []
    },
    {
      "cell_type": "code",
      "source": [
        "# if = 100\n",
        "# print = 100"
      ],
      "metadata": {
        "id": "fCmwfz37itis"
      },
      "execution_count": null,
      "outputs": []
    },
    {
      "cell_type": "code",
      "source": [
        "# print(100)"
      ],
      "metadata": {
        "id": "4NqrfKYviwpN"
      },
      "execution_count": null,
      "outputs": []
    },
    {
      "cell_type": "code",
      "source": [
        "print(a)"
      ],
      "metadata": {
        "id": "-q2MuCW3je_s"
      },
      "execution_count": null,
      "outputs": []
    },
    {
      "cell_type": "markdown",
      "source": [
        "## 입력과 출력"
      ],
      "metadata": {
        "id": "V_eae9dbjhAM"
      }
    },
    {
      "cell_type": "code",
      "source": [
        "x = input()\n",
        "x"
      ],
      "metadata": {
        "id": "leqBK6iCjqy2"
      },
      "execution_count": null,
      "outputs": []
    },
    {
      "cell_type": "code",
      "source": [
        "x + x # 사용자에게 받은 입력은 str"
      ],
      "metadata": {
        "id": "ziqVbouQjwhq"
      },
      "execution_count": null,
      "outputs": []
    },
    {
      "cell_type": "code",
      "source": [
        "print(10, 10, 10)"
      ],
      "metadata": {
        "id": "Ha25K3Agj8yB"
      },
      "execution_count": null,
      "outputs": []
    },
    {
      "cell_type": "code",
      "source": [
        "print('hello', 'world', 'hello')"
      ],
      "metadata": {
        "id": "mdGlKegukBkf"
      },
      "execution_count": null,
      "outputs": []
    },
    {
      "cell_type": "code",
      "source": [
        "print(x, x)"
      ],
      "metadata": {
        "id": "aiCu-BdukGya"
      },
      "execution_count": null,
      "outputs": []
    },
    {
      "cell_type": "code",
      "source": [
        "print('hello world', end='!')\n",
        "print('hello world', end='!')\n",
        "print('hello world', end='!')"
      ],
      "metadata": {
        "id": "rD_yvt_WkIuc"
      },
      "execution_count": null,
      "outputs": []
    },
    {
      "cell_type": "code",
      "source": [
        "print('hello', 'world', sep='!')\n",
        "print('010', '5044', '2903', sep='-')"
      ],
      "metadata": {
        "id": "rHD-ad-elAwx"
      },
      "execution_count": null,
      "outputs": []
    },
    {
      "cell_type": "code",
      "source": [
        "이름 = '이호준'\n",
        "나이 = 10\n",
        "print('1. 제 이름은 이호준입니다. 제 나이는 10입니다')\n",
        "print('2. 제 이름은 ', 이름, '입니다. 제 나이는 ', 나이, '입니다', sep='')\n",
        "print('3. 제 이름은 %s입니다. 제 나이는 %d입니다'%(이름, 나이))\n",
        "print('4. 제 이름은 {}입니다. 제 나이는 {}입니다.'.format(이름, 나이))\n",
        "print(f'4. 제 이름은 {이름}입니다. 제 나이는 {나이}입니다.')"
      ],
      "metadata": {
        "id": "wzMY9P0tlaMq"
      },
      "execution_count": null,
      "outputs": []
    },
    {
      "cell_type": "markdown",
      "source": [
        "[포멧코드](https://www.notion.so/paullabworkspace/9fd33417740f4eba8715f5c4a1ed7c7b?v=e01ecdfe2f9448dcaad68b03a38057a5)"
      ],
      "metadata": {
        "id": "MLPPVa5FmS3q"
      }
    },
    {
      "cell_type": "markdown",
      "source": [
        "## formatting"
      ],
      "metadata": {
        "id": "5t9WnnylnCW0"
      }
    },
    {
      "cell_type": "code",
      "source": [
        "print(f'{100 * 10}')"
      ],
      "metadata": {
        "id": "QIFXp61SmaJP"
      },
      "execution_count": null,
      "outputs": []
    },
    {
      "cell_type": "code",
      "source": [
        "# 중괄호 안에서 복잡한 연산을 하시는 것을 권하지 않습니다.\n",
        "result = 100 * 10\n",
        "print(f'{result}')"
      ],
      "metadata": {
        "id": "XCRnwf3knLSL"
      },
      "execution_count": null,
      "outputs": []
    },
    {
      "cell_type": "code",
      "source": [
        "# 이런 문법은 필요에 의해 검색해 보시다 보면 익숙해집니다.\n",
        "print(f'{\"hello\":<10}')\n",
        "print(f'{\"hello\":>10}')\n",
        "print(f'{\"hello\":^10}')"
      ],
      "metadata": {
        "id": "KdX7kP8jntI7"
      },
      "execution_count": null,
      "outputs": []
    },
    {
      "cell_type": "code",
      "source": [
        "txt = 'hello'\n",
        "i = 10\n",
        "print(f'{txt:>10}')\n",
        "print(f'{txt:>{i}}')"
      ],
      "metadata": {
        "id": "nWZ8zdH6n6AF"
      },
      "execution_count": null,
      "outputs": []
    },
    {
      "cell_type": "code",
      "source": [
        "# 이런 문법은 필요에 의해 검색해 보시다 보면 익숙해집니다.\n",
        "print(f'{\"hello\":!<10}')\n",
        "print(f'{\"hello\":!>10}')\n",
        "print(f'{\"hello\":!^10}')"
      ],
      "metadata": {
        "id": "zbFLMSfRoWPB"
      },
      "execution_count": null,
      "outputs": []
    },
    {
      "cell_type": "code",
      "source": [
        "# 이런 문법은 필요에 의해 검색해 보시다 보면 익숙해집니다.\n",
        "print(f'{\"hello\":=<10}')\n",
        "print(f'{\"hello\":=>10}')\n",
        "print(f'{\"hello\":=^10}')"
      ],
      "metadata": {
        "id": "Kk7Pw9mcoaWG"
      },
      "execution_count": null,
      "outputs": []
    },
    {
      "cell_type": "code",
      "source": [
        "# 둘 다 잊으셔도 됩니다.\n",
        "# https://tech.kakao.com/2017/09/27/kakao-blind-recruitment-round-1/\n",
        "bin(9)\n",
        "print(f'{bin(9)[2:]:0>5}')"
      ],
      "metadata": {
        "id": "BTBheCNfpHqn"
      },
      "execution_count": null,
      "outputs": []
    },
    {
      "cell_type": "code",
      "source": [
        "bin(9 | 30)[2:].replace('1', '#').replace('0', ' ')"
      ],
      "metadata": {
        "id": "YN8S1bxspqqq"
      },
      "execution_count": null,
      "outputs": []
    },
    {
      "cell_type": "code",
      "source": [
        "# 요정도 활용을 합니다.\n",
        "print(f'{\"start\":-^20}')"
      ],
      "metadata": {
        "id": "rO3K56m3vNj3"
      },
      "execution_count": null,
      "outputs": []
    },
    {
      "cell_type": "code",
      "source": [
        "print(f'{0.12345:0.2f}')"
      ],
      "metadata": {
        "id": "Ko3xZBUZvgHW"
      },
      "execution_count": null,
      "outputs": []
    },
    {
      "cell_type": "markdown",
      "source": [
        "* 이 아래 코드는 필수는 아닙니다.\n",
        "참고삼아서만 넣어드립니다."
      ],
      "metadata": {
        "id": "ZhWVnsZFv4ex"
      }
    },
    {
      "cell_type": "code",
      "source": [
        "# 이전 방식\n",
        "print('나의 이름은 %s입니다'%('한사람'))\n",
        "print('나의 이름은 \"%s\"입니다. 나이는 %d세이고 성별은 %s입니다.'%('한사람',33,'남성'))\n",
        "print('나이는 %d세이고 성별은 %s입니다. 나의 이름은 %s입니다. '%(33,'남성','한사람'))\n",
        "print('나이는 %03d세이고 신장은 %6.2f입니다. 나의 이름은 %s입니다. '%(33,56.789,'한사람'))\n",
        "print('-' * 40)\n",
        "\n",
        "# 파이썬(Python) 3 포맷팅 방식\n",
        "print('나의 이름은 {}입니다'.format('한사람'))\n",
        "print('나의 이름은 {0}입니다. 나이는 {1}세이고 성별은 {2}입니다.'.format('한사람',33,'남성'))\n",
        "print('나이는 {1}세이고 성별은 {2}입니다. 나의 이름은 {0}입니다. '.format('한사람',33,'남성'))\n",
        "print('나이는 {age}세이고 성별은 {gender}입니다. 나의 이름은 {name}입니다. '\n",
        "         .format(name='한사람',age=33,gender='남성'))\n",
        "print('만세삼창 :  {0}!!! {0}!!! {0}!!! '.format('만세'))\n",
        "print('삼삼칠 박수 :  {0}!!! {0}!!! {1}!!! '.format('짝'*3,'짝'*7))\n",
        "print('-' * 40)\n",
        "\n",
        "# 파이썬(Python) 3.6 f-string 방식\n",
        "something = '볼펜'\n",
        "EA = 2\n",
        "one_length = 5.343\n",
        "scale = 'cm'\n",
        "\n",
        "print(f'{something} {EA}개의 길이는 {one_length*EA}{scale} 입니다.')\n",
        "print(f'{something} {EA}개의 길이는 {one_length*EA:.1f}{scale} 입니다.')"
      ],
      "metadata": {
        "id": "XBrqfUhjwZkW"
      },
      "execution_count": null,
      "outputs": []
    },
    {
      "cell_type": "code",
      "source": [
        "print('Python is [{:15}]'.format('good'))\n",
        "print('Python is [{:<15}]'.format('good'))\n",
        "print('Python is [{:>15}]'.format('good'))\n",
        "print('Python is [{:^15}]'.format('good'))\n",
        "print('당신의 나이는 [{:15}]세'.format(22))\n",
        "print('당신의 나이는 [{:<15}]세'.format(22))\n",
        "print('당신의 나이는 [{:>15}]세'.format(22))\n",
        "print('당신의 나이는 [{:<15}]세'.format(22))\n",
        "print('-' * 40)"
      ],
      "metadata": {
        "id": "ORJxHrcVwhxP"
      },
      "execution_count": null,
      "outputs": []
    },
    {
      "cell_type": "markdown",
      "source": [
        "## int"
      ],
      "metadata": {
        "id": "LkrfnivVwnhN"
      }
    },
    {
      "cell_type": "markdown",
      "source": [
        "* 파이썬에서는 숫자를 정수, 실수, 복소수로 나눠 표현합니다.\n",
        "* 2진수, 8진수, 16진수는 정수로 표현됩니다."
      ],
      "metadata": {
        "id": "-L6vBS20wp8J"
      }
    },
    {
      "cell_type": "code",
      "source": [
        "10 # 정수\n",
        "-10 # 정수\n",
        "10.1 # 실수\n",
        "\n",
        "a = 1\n",
        "type(a)\n",
        "dir(a)"
      ],
      "metadata": {
        "id": "YY9JoEnrw4Da"
      },
      "execution_count": null,
      "outputs": []
    },
    {
      "cell_type": "code",
      "source": [
        "'bit_length' # bit로 바꾸었을 때 비트의 길이\n",
        "'to_bytes' # 컴퓨터에 저장하는 바이트의 형태로 숫자를 표현"
      ],
      "metadata": {
        "id": "AuAOosqdxs5B"
      },
      "execution_count": null,
      "outputs": []
    },
    {
      "cell_type": "code",
      "source": [
        "# 1Bit, 0 ~ 1 # bit - 1자리\n",
        "# 1Bytes = 8bit, 00000000 ~ 11111111 # 1byte - 8bit\n",
        "# 1KB (키로바이트) = 1024Bytes\n",
        "# 1MB (메가바이트) = 1024KB \n",
        "# 1GB (기가바이트) = 1024MB\n",
        "# 1TB (테라바이트) = 1024GB\n",
        "# 1PB (페타바이트) = 1024TB"
      ],
      "metadata": {
        "id": "K0xub9Gaxyk_"
      },
      "execution_count": null,
      "outputs": []
    },
    {
      "cell_type": "code",
      "source": [
        "(9).bit_length() # 1001"
      ],
      "metadata": {
        "id": "E_ajk6_gzc6L"
      },
      "execution_count": null,
      "outputs": []
    },
    {
      "cell_type": "code",
      "source": [
        "(2).to_bytes(1, byteorder='little', signed=True)\n",
        "(1).to_bytes(1, byteorder='little', signed=True)\n",
        "(0).to_bytes(1, byteorder='little', signed=True)\n",
        "(-1).to_bytes(1, byteorder='little', signed=True)\n",
        "(-2).to_bytes(1, byteorder='little', signed=True)"
      ],
      "metadata": {
        "id": "kreK1-XbzvD4"
      },
      "execution_count": null,
      "outputs": []
    },
    {
      "cell_type": "code",
      "source": [
        "# 컴퓨터는 음수를 자체적으로 표현할 수 없기에 2의 보수를 사용합니다.\n",
        "# 1의 보수를 사용하게 되면 +0과 -0이 존재하게 됨으로 비트 하나를 낭비하게 됩니다. \n",
        "# 따라서 2의 보수를 사용합니다."
      ],
      "metadata": {
        "id": "3_Ip-osH2oDt"
      },
      "execution_count": null,
      "outputs": []
    },
    {
      "cell_type": "code",
      "source": [
        "# 0000 0001 # 1\n",
        "# 1111 1110 # 1의 1의 보수\n",
        "# 1111 1111 # 1의 2의 보수 => ff"
      ],
      "metadata": {
        "id": "S_3__ILY2aOO"
      },
      "execution_count": null,
      "outputs": []
    },
    {
      "cell_type": "code",
      "source": [
        "# 진법 변환 쉽게 하는 법 : 가장 가까운 승수를 찾아 더하거나 뺍니다.\n",
        "\n",
        "# 10진법\n",
        "# 0 1 2 3 4 5 6 7 8 9 -> 10\n",
        "# 1324 = 1*10^3 + 3*10^2 + 2*10^1 + 4*10^0\n",
        "\n",
        "# 2진법\n",
        "# 0 1 -> 10\n",
        "# 1001 -> 1*2^3 + 1*2^0 = 9\n",
        "\n",
        "# 8진법\n",
        "# 0 1 2 3 4 5 6 7 -> 10\n",
        "\n",
        "# 16진법\n",
        "# 0 1 2 3 4 5 6 7 8 9 A B C D E F -> 10"
      ],
      "metadata": {
        "id": "Ne-RJMf82z36"
      },
      "execution_count": null,
      "outputs": []
    },
    {
      "cell_type": "code",
      "source": [
        "# color의 표현\n",
        "# 25/96/be\n",
        "# 000000 ~ ffffff\n",
        "# ff는 10진수로 무슨 숫자를 의미\n",
        "# 100 -1 => ff가 됩니다. 그래서  256 -1 "
      ],
      "metadata": {
        "id": "dsvrd8kH7pBm"
      },
      "execution_count": null,
      "outputs": []
    },
    {
      "cell_type": "code",
      "source": [
        "a = 10\n",
        "type(a)"
      ],
      "metadata": {
        "id": "neYFlqNK8MoM"
      },
      "execution_count": null,
      "outputs": []
    },
    {
      "cell_type": "code",
      "source": [
        "int('10') + int('10')"
      ],
      "metadata": {
        "id": "7BVH96kD8SIT"
      },
      "execution_count": null,
      "outputs": []
    },
    {
      "cell_type": "code",
      "source": [
        "int('10', 2) # 2진법으로 10은?"
      ],
      "metadata": {
        "id": "PEXoPyDF8V5F"
      },
      "execution_count": null,
      "outputs": []
    },
    {
      "cell_type": "code",
      "source": [
        "int('10', 8) # 8진법으로 10은?"
      ],
      "metadata": {
        "id": "M4jfjVhn8cPg"
      },
      "execution_count": null,
      "outputs": []
    },
    {
      "cell_type": "code",
      "source": [
        "int('10', 16) # 16진법으로 10은?"
      ],
      "metadata": {
        "id": "M3GnhRKx8fzP"
      },
      "execution_count": null,
      "outputs": []
    },
    {
      "cell_type": "code",
      "source": [
        "print(0b110) # 바이너리 - 2진수\n",
        "print(0o110) # 옥타 - 8진수\n",
        "print(0x110) # 헥사 - 16진수"
      ],
      "metadata": {
        "id": "yrjReUlo8jOa"
      },
      "execution_count": null,
      "outputs": []
    },
    {
      "cell_type": "code",
      "source": [
        "a = 10\n",
        "type(a) == int\n",
        "isinstance(a, int)"
      ],
      "metadata": {
        "id": "O6YJSVzq8wqb"
      },
      "execution_count": null,
      "outputs": []
    },
    {
      "cell_type": "markdown",
      "source": [
        "## float"
      ],
      "metadata": {
        "id": "yVhc6T8E9Moa"
      }
    },
    {
      "cell_type": "code",
      "source": [
        "a = 10.1\n",
        "\n",
        "type(a)"
      ],
      "metadata": {
        "id": "__wXHAMM9RsM"
      },
      "execution_count": null,
      "outputs": []
    },
    {
      "cell_type": "code",
      "source": [
        "dir(a)"
      ],
      "metadata": {
        "id": "h5S26Dec9WCo"
      },
      "execution_count": null,
      "outputs": []
    },
    {
      "cell_type": "code",
      "source": [
        "a = 10\n",
        "b = 10.1\n",
        "\n",
        "a + b # 다른 일부 언어에서는 허용되지 않습니다."
      ],
      "metadata": {
        "id": "ctUZFwdU9XP5"
      },
      "execution_count": null,
      "outputs": []
    },
    {
      "cell_type": "code",
      "source": [
        "# 부동소수점 오차(2진법으로 변환했을 때 0.1이 무한대수가 발생합니다.)\n",
        "0.1 + 0.2 # 대부분의 언어 공통입니다."
      ],
      "metadata": {
        "id": "UvwM3mzi9i6X"
      },
      "execution_count": null,
      "outputs": []
    },
    {
      "cell_type": "code",
      "source": [
        "a = 0.1"
      ],
      "metadata": {
        "id": "OzcAKHg69nA8"
      },
      "execution_count": null,
      "outputs": []
    },
    {
      "cell_type": "code",
      "source": [
        "# 20번 반복해보세요.\n",
        "a += 0.1\n",
        "a"
      ],
      "metadata": {
        "id": "bh1jsoaX96d0"
      },
      "execution_count": null,
      "outputs": []
    },
    {
      "cell_type": "markdown",
      "source": [
        "* https://docs.python.org/ko/3/tutorial/floatingpoint.html\n",
        "* https://0.30000000000000004.com/ 에서 언어별 해결책을 제시한다.\n",
        "* 컴퓨터에서 부동소수점 숫자는 2진 분수로 표현되기에 무한대수가 발생한다.\n",
        "* [무한수가 발생되는 원리](https://paullabworkspace.notion.site/5f34f21bf9a34015b170e7afd7da9593)"
      ],
      "metadata": {
        "id": "ZCCUW1SE-m_1"
      }
    },
    {
      "cell_type": "markdown",
      "source": [
        "## !! 230501 오늘 배운 것 정리\n",
        "1. 단축키\n",
        "* (필수) Ctrl(Command) + Enter : 해당 셀 실행\n",
        "* (필수) Alt(Option) + Enter : 해당 셀 실행 + 코드 불록 하단 추가\n",
        "* (필수) Ctrl + / : 주석\n",
        "* (필수) Shift + Del : 한 줄 지우기\n",
        "* (필수) Tab, Ctrl + ] : 들여쓰기\n",
        "* (필수) Shift + Tab, Ctrl + [ : 내어쓰기\n",
        "\n",
        "2. 마크다운\n",
        "    ```\n",
        "    # hello\n",
        "    ## hello\n",
        "    ### hello\n",
        "\n",
        "    1. hello\n",
        "    2. hello\n",
        "    3. hello\n",
        "\n",
        "    * hello\n",
        "    * hello\n",
        "    * hello\n",
        "    ```\n",
        "\n",
        "3. 주석\n",
        "    ```python\n",
        "    #행 단위 주석입니다.\n",
        "\n",
        "    \"\"\"\n",
        "    큰 따옴표로 세번 묶거나\n",
        "    작은따옴표로 세번 묶으면\n",
        "    열단위 주석이 됩니다.\n",
        "    \"\"\"\n",
        "\n",
        "    '''\n",
        "    큰 따옴표로 세번 묶거나\n",
        "    작은따옴표로 세번 묶으면\n",
        "    열단위 주석이 됩니다.\n",
        "    '''\n",
        "    ```\n",
        "\n",
        "4. PEP8 권고사항\n",
        "* 띄어쓰기는 4칸\n",
        "* 한 줄에 79자 이상을 사용하지 않는다.\n",
        "\n",
        "5.  형의 종류(type, dir)\n",
        "int\n",
        "float\n",
        "bool\n",
        "str\n",
        "function\n",
        "bulit-in function\n",
        "\n",
        "6. 이스케이프 문자\n",
        "* https://ko.wikipedia.org/wiki/%EC%9D%B4%EC%8A%A4%EC%BC%80%EC%9D%B4%ED%94%84_%EB%AC%B8%EC%9E%90\n",
        "```python\n",
        "print('hello \\n world')\n",
        "print('hello \\t world')\n",
        "print('hello \\' world')\n",
        "print('hello \\\" world')\n",
        "print('hello \\\\ world')\n",
        "```\n",
        "\n",
        "7. 실무에서 자주 사용하는 구문\n",
        "```\n",
        "type(10)\n",
        "type(10) == int\n",
        "type(10.1) == float\n",
        "\n",
        "a = 10\n",
        "isinstance(a, int)\n",
        "isinstance(a, float)\n",
        "```\n",
        "\n",
        "dir을 입력했을 때\n",
        "1. __hello__와 같은 형태의 메직 메서드는 속성을 표현한다\n",
        "2.  언더바가 없는 메서드는 해당 자료형의 편의 기능을 제공한다\n",
        "\n",
        "입력과 출력\n",
        "x = input() #입력, 숫자를 입력해도 str\n",
        "print(x) #출력\n",
        "\n",
        "\n",
        "이름 = '이호준'\n",
        "나이 = 10\n",
        "print(f'제 이름은 {이름}입니다. 제 나이는 {나이}입니다.')\n",
        "print(f'{100 * 10}')\n",
        "\n",
        "\n",
        "\n",
        "int 형\n",
        "* 2진수, 8진수, 16진수는 정수\n",
        "\n",
        "\n",
        "float 형\n",
        "* 부동소수점 오차(2진법으로 변환했을 때 0.1이 무한대수가 발생합니다.)\n",
        "0.1 + 0.2 # 대부분의 언어 공통입니다.\n",
        "* https://docs.python.org/ko/3/tutorial/floatingpoint.html\n",
        "* https://0.30000000000000004.com/ 에서 언어별 해결책을 제시한다."
      ],
      "metadata": {
        "id": "2pnCzgV5DMtw"
      }
    },
    {
      "cell_type": "markdown",
      "source": [
        "## str(문자열)"
      ],
      "metadata": {
        "id": "Ev7PhoGayiPw"
      }
    },
    {
      "cell_type": "markdown",
      "source": [
        "- 순서가 있는 **시퀀스 자료형**입니다.\n",
        "- 작은 따옴표(' ')나 큰 따옴표(\" \"), 삼중따옴표('''str''', \"\"\"str\"\"\")로 감싸는 것도 가능합니다. (삼중따옴표를 사용할 경우에는 줄단위의 문자열을 나타낼 수 있습니다.)\n",
        "- 작은 따옴표 안에 큰 따옴표, 큰 따옴표 안에 작은 따옴표 사용이 가능합니다.\n",
        "- 이스케이프 문자도 사용이 가능합니다.\n",
        "- 리스트, 투플도 시퀀스 자료형입니다."
      ],
      "metadata": {
        "id": "g7fNR46xyta8"
      }
    },
    {
      "cell_type": "code",
      "source": [
        "s = 'paullab CEO leehojun'\n",
        "s[0] # 0은 index입니다. 이렇게 호출하는 것을 indexing이라고 합니다."
      ],
      "metadata": {
        "id": "E31qoPxvyu5_"
      },
      "execution_count": null,
      "outputs": []
    },
    {
      "cell_type": "code",
      "source": [
        "type(s)"
      ],
      "metadata": {
        "id": "mYUjib9Kz1DZ"
      },
      "execution_count": null,
      "outputs": []
    },
    {
      "cell_type": "code",
      "source": [
        "dir(s)"
      ],
      "metadata": {
        "id": "JOPxhSv2z7HB"
      },
      "execution_count": null,
      "outputs": []
    },
    {
      "cell_type": "code",
      "source": [
        "# 문자열의 메서드\n",
        "# 'capitalize','casefold','center','count','encode',\n",
        "# 'endswith','expandtabs','find','format','format_map',\n",
        "# 'index','isalnum','isalpha','isascii','isdecimal','isdigit',\n",
        "# 'isidentifier','islower','isnumeric','isprintable','isspace',\n",
        "# 'istitle','isupper','join','ljust','lower','lstrip',\n",
        "# 'maketrans','partition','removeprefix','removesuffix',\n",
        "# 'replace','rfind','rindex','rjust','rpartition','rsplit',\n",
        "# 'rstrip','split','splitlines','startswith','strip','swapcase',\n",
        "# 'title','translate','upper','zfill'"
      ],
      "metadata": {
        "id": "P-D_fxaxz767"
      },
      "execution_count": null,
      "outputs": []
    },
    {
      "cell_type": "code",
      "source": [
        "s = 'paullab CEO leehojun'\n",
        "s.lower(), s.upper() # 특히 사용자에게 입력을 받는 경우 lower도 많이 사용합니다."
      ],
      "metadata": {
        "id": "D9-LJP-N0jdD"
      },
      "execution_count": null,
      "outputs": []
    },
    {
      "cell_type": "code",
      "source": [
        "s = 'paullab CEO leehojun'\n",
        "s.find('C'), s.index('C')"
      ],
      "metadata": {
        "id": "MWQIz1DM0sK3"
      },
      "execution_count": null,
      "outputs": []
    },
    {
      "cell_type": "code",
      "source": [
        "# 견고한 코드란?\n",
        "# 시간이 지나도 그대로 사용할 수 있고\n",
        "# error가 예측 가능하게 나는 코드\n",
        "# 네이버에 이미지 슬라이딩 코드\n",
        "# bool(s.find('Z')) => -1은 True이기 때문에 주의가 필요합니다.\n",
        "s.find('Z')"
      ],
      "metadata": {
        "id": "dCsswayI1OUk"
      },
      "execution_count": null,
      "outputs": []
    },
    {
      "cell_type": "code",
      "source": [
        "# Error가 나면 Error를 주는 것이 좋습니다.\n",
        "# Error를 안주는 언어로 JavaScript\n",
        "s.index('Z')"
      ],
      "metadata": {
        "id": "t3ooexuu1i2T"
      },
      "execution_count": null,
      "outputs": []
    },
    {
      "cell_type": "code",
      "source": [
        "s = 'paullab CEO leehojun'\n",
        "s.find('CEO')"
      ],
      "metadata": {
        "id": "m9n9woUQ2k7x"
      },
      "execution_count": null,
      "outputs": []
    },
    {
      "cell_type": "code",
      "source": [
        "# 별 5개\n",
        "s = 'paullab CEO leehojun'\n",
        "s.count('l')"
      ],
      "metadata": {
        "id": "hwYPE3uA2ud-"
      },
      "execution_count": null,
      "outputs": []
    },
    {
      "cell_type": "code",
      "source": [
        "str([1, 2, 3, 4, 5])"
      ],
      "metadata": {
        "id": "P9nFbR7G25ML"
      },
      "execution_count": null,
      "outputs": []
    },
    {
      "cell_type": "code",
      "source": [
        "str([1, 2, 3, 4, 5]).count(' ')"
      ],
      "metadata": {
        "id": "BE8Lja2U3AKB"
      },
      "execution_count": null,
      "outputs": []
    },
    {
      "cell_type": "code",
      "source": [
        "str([1, 2, 3, 4, 5]).count(',')"
      ],
      "metadata": {
        "id": "n8dYQVgt3JLL"
      },
      "execution_count": null,
      "outputs": []
    },
    {
      "cell_type": "code",
      "source": [
        "str([1, 2, 11, 4, 111]).count('1')"
      ],
      "metadata": {
        "id": "OsBRIuuD3KxA"
      },
      "execution_count": null,
      "outputs": []
    },
    {
      "cell_type": "code",
      "source": [
        "str(list(range(0, 10001))).count('8')"
      ],
      "metadata": {
        "id": "Kfhqxq8z5e9i"
      },
      "execution_count": null,
      "outputs": []
    },
    {
      "cell_type": "markdown",
      "source": [
        "- https://codingdojang.com/scode/393?answer_mode=hide"
      ],
      "metadata": {
        "id": "vg6Nep813wWD"
      }
    },
    {
      "cell_type": "code",
      "source": [
        "str([1,2,3,4,5]).count(' ')\n",
        "# list는 콤마 다음에 공백이 없더라도 공백으로 인식해줍니다."
      ],
      "metadata": {
        "id": "4NsXwZtD3RJC"
      },
      "execution_count": null,
      "outputs": []
    },
    {
      "cell_type": "code",
      "source": [
        "str([1,\n",
        "     2,\n",
        "     3,\n",
        "     4,\n",
        "     5]).count(' ')\n",
        "# list는 콤마 다음에 공백이 없더라도 공백으로 인식해줍니다."
      ],
      "metadata": {
        "id": "t9x7gdI740Wj"
      },
      "execution_count": null,
      "outputs": []
    },
    {
      "cell_type": "code",
      "source": [
        "'hello'.count('')"
      ],
      "metadata": {
        "id": "LsWnTIL44AY9"
      },
      "execution_count": null,
      "outputs": []
    },
    {
      "cell_type": "code",
      "source": [
        "'a'.count('')"
      ],
      "metadata": {
        "id": "wwbgyRfE4Nph"
      },
      "execution_count": null,
      "outputs": []
    },
    {
      "cell_type": "code",
      "source": [
        "''.count('')"
      ],
      "metadata": {
        "id": "mXBRx7oV4MY2"
      },
      "execution_count": null,
      "outputs": []
    },
    {
      "cell_type": "code",
      "source": [
        "'' + ''"
      ],
      "metadata": {
        "id": "OmgS8tpL4h_3"
      },
      "execution_count": null,
      "outputs": []
    },
    {
      "cell_type": "code",
      "source": [
        "'   hello  !  '.strip()"
      ],
      "metadata": {
        "id": "akz3wknk6TTq"
      },
      "execution_count": null,
      "outputs": []
    },
    {
      "cell_type": "code",
      "source": [
        "'   hello  !  '.rstrip()"
      ],
      "metadata": {
        "id": "M2TBpfKT6i9l"
      },
      "execution_count": null,
      "outputs": []
    },
    {
      "cell_type": "code",
      "source": [
        "'   hello  !  '.lstrip()"
      ],
      "metadata": {
        "id": "WN6Xj4GQ6rg5"
      },
      "execution_count": null,
      "outputs": []
    },
    {
      "cell_type": "code",
      "source": [
        "# 별 5개\n",
        "'hello world hi'.replace(' ', '!')\n",
        "'hello world hi'.replace('world', 'W@O@R@L@D')"
      ],
      "metadata": {
        "id": "wTmhDR3Q60Pw"
      },
      "execution_count": null,
      "outputs": []
    },
    {
      "cell_type": "code",
      "source": [
        "'hello world hi'.replace('world', 'W@O@R@L@D').upper().split('@')\n",
        "# 반환값이 list이기 때문에 메서드 체이닝을 하려면\n",
        "# 이후로 list 메서드를 사용해야 합니다."
      ],
      "metadata": {
        "id": "uYh9i_uC7LZZ"
      },
      "execution_count": null,
      "outputs": []
    },
    {
      "cell_type": "code",
      "source": [
        "'hello world hi'.replace(' ', '')"
      ],
      "metadata": {
        "id": "47vM-MT97qov"
      },
      "execution_count": null,
      "outputs": []
    },
    {
      "cell_type": "code",
      "source": [
        "data = '''  \"+ +-+ -+-\"  \n",
        "  \"++ -- +-+\"  \n",
        "  \"++-+ -+ -\"  \n",
        "  \"+ ++-+ -+\"  '''\n",
        "\n",
        "data.split('\\n')[0].replace(' ', '').replace('\"', '')\n",
        "\n",
        "# Pythonic하지 않다!\n",
        "data.split('\\n')[0].replace(' ', \n",
        "                '').replace('\"', \n",
        "                '')\n",
        "\n",
        "# Pythonic하게 하려면\n",
        "data.split('\\n')[0]\\\n",
        "                .replace(' ', '')\\\n",
        "                .replace('\"', '')\\\n",
        "                .replace('\"', '')\\\n",
        "                .replace('\"', '')\\\n",
        "                .replace('\"', '')\\\n",
        "                .replace('\"', '')\\\n",
        "                .replace('\"', '')\\\n",
        "                .replace('\"', '')\n",
        "\n",
        "# 제가 사용하는 기법\n",
        "processed_string = data.split('\\n')[0].replace(' ', '').replace('\"', '')\n",
        "processed_string.replace('\"', '').replace('\"', '')"
      ],
      "metadata": {
        "id": "F9gCz1yvA5Mb"
      },
      "execution_count": null,
      "outputs": []
    },
    {
      "cell_type": "code",
      "source": [
        "# aaaaaaaaaaaaaaaaaaaaaaaaaaaaaaaaaaaaaaaaaaaaaaaaaaaaaaaaaaaaaaaaaaaaaaaaaaaaaaaa 79자\n",
        "# 아아아아아아아아아아아아아아아아아아아아아아아아아아아아아아아아아아아아아아아아 39자"
      ],
      "metadata": {
        "id": "du7uHx0XA239"
      },
      "execution_count": null,
      "outputs": []
    },
    {
      "cell_type": "code",
      "source": [
        "data = '''  \"+ +-+ -+-\"  \n",
        "  \"++ -- +-+\"  \n",
        "  \"++-+ -+ -\"  \n",
        "  \"+ ++-+ -+\"  '''\n",
        "\n",
        "data.split('\\n')[0].replace(' ', '').replace('\"', '').replace('+', '1').replace('-', '0')\n",
        "ord('A'), chr(65) # ord는 문자를 가지고 숫자로 변경. chr은 숫자를 가지고 문자로 변경합니다.\n",
        "\n",
        "숫자 = data.split('\\n')[0].replace(' ', '').replace('\"', '').replace('+', '1').replace('-', '0')\n",
        "int(숫자, 2)\n",
        "chr(int(숫자, 2))"
      ],
      "metadata": {
        "id": "PCakfhFyA7h9"
      },
      "execution_count": null,
      "outputs": []
    },
    {
      "cell_type": "code",
      "source": [
        "# 별 4.5개\n",
        "'paullab CEO leehojun'.split(' ') #문자열을 쪼개어 줍니다.\n",
        "'paullab!CEO!leehojun'.split('!')\n",
        "'paullab,CEO,leehojun'.split(',')"
      ],
      "metadata": {
        "id": "sLC7bBzuCECp"
      },
      "execution_count": null,
      "outputs": []
    },
    {
      "cell_type": "code",
      "source": [
        "# 퀴즈\n",
        "'010 5044 2903'\n",
        "'010-5044-2903'\n",
        "'010 5044-2903'"
      ],
      "metadata": {
        "id": "GCqLvEIiCHt8"
      },
      "execution_count": null,
      "outputs": []
    },
    {
      "cell_type": "code",
      "source": [
        "'010 5044 2903'.split(' ')"
      ],
      "metadata": {
        "id": "oukf7d3aCn2Y"
      },
      "execution_count": null,
      "outputs": []
    },
    {
      "cell_type": "code",
      "source": [
        "'010-5044-2903'.split('-')"
      ],
      "metadata": {
        "id": "kocM96ARCtVA"
      },
      "execution_count": null,
      "outputs": []
    },
    {
      "cell_type": "code",
      "source": [
        "list_str = '010 5044-2903'.replace('-', ' ').split(' ')"
      ],
      "metadata": {
        "id": "x_boOZMdCtJZ"
      },
      "execution_count": null,
      "outputs": []
    },
    {
      "cell_type": "code",
      "source": [
        "# 원하는 결과값\n",
        "# ['010', '5044', '2903']\n",
        "# [10, 5044, 2903] # 010은 error가 나기 때문에 10으로 "
      ],
      "metadata": {
        "id": "uC-AVf-ZCU6Z"
      },
      "execution_count": null,
      "outputs": []
    },
    {
      "cell_type": "code",
      "source": [
        "'010 5044 2903'.split(' ')\n",
        "'010-5044-2903'.split('-')\n",
        "'010 5044-2903'.replace(' ', '-').split('-')"
      ],
      "metadata": {
        "id": "23sNVY7ZEkhm"
      },
      "execution_count": null,
      "outputs": []
    },
    {
      "cell_type": "code",
      "source": [
        "'010 5044 2903'.split() # 공백단위가 들어가게 됩니다."
      ],
      "metadata": {
        "id": "niyjjgRUFw6r"
      },
      "execution_count": null,
      "outputs": []
    },
    {
      "cell_type": "code",
      "source": [
        "# '010 5044 2903'.split('') # 빈 문자열을 넣지는 못합니다. error 발생."
      ],
      "metadata": {
        "id": "kOyCSRlsF_Vb"
      },
      "execution_count": null,
      "outputs": []
    },
    {
      "cell_type": "code",
      "source": [
        "list(map(int, '010 5044 2903'.split(' ')))"
      ],
      "metadata": {
        "id": "tCnnQ0IrGFs5"
      },
      "execution_count": null,
      "outputs": []
    },
    {
      "cell_type": "code",
      "source": [
        "int('010')"
      ],
      "metadata": {
        "id": "j-nn2jV5MQ2s"
      },
      "execution_count": null,
      "outputs": []
    },
    {
      "cell_type": "code",
      "source": [
        "# print(010) # error"
      ],
      "metadata": {
        "id": "CmXKP9C-MUQc"
      },
      "execution_count": null,
      "outputs": []
    },
    {
      "cell_type": "code",
      "source": [
        "num = '010 5044-2903'.replace('-', ' ').split(' ')\n",
        "[int(i) for i in num] # 리스트 컴프리헨션 사용\n",
        "list(map(int, '010 5044 2903'.split(' ')))\n",
        "\n",
        "# 2개 모두 새로운 리스트를 만드는 것입니다.\n",
        "# 원본을 변형시키지는 않습니다."
      ],
      "metadata": {
        "id": "wTEO6-rNMiTf"
      },
      "execution_count": null,
      "outputs": []
    },
    {
      "cell_type": "code",
      "source": [
        "# 이 코드 보다는\n",
        "s = []\n",
        "for i in '010 5044-2903'.replace('-',' ').split(' '):\n",
        "    s.append(int(i))\n",
        "s\n",
        "\n",
        "# 요 코드를 추천합니다.\n",
        "[int(i) for i in num]"
      ],
      "metadata": {
        "id": "6iOISUhbNAMM"
      },
      "execution_count": null,
      "outputs": []
    },
    {
      "cell_type": "code",
      "source": [
        "# 지금 진도에서 과하기 때문에 \n",
        "# 지금은 잊으셔도 됩니다.\n",
        "# 뒤에서 상세하게 다룹니다.\n",
        "def 제곱함수(x):\n",
        "    return x ** 2\n",
        "\n",
        "def 정수함수(x):\n",
        "    return int(x)\n",
        "\n",
        "list(map(제곱함수, [1, 2, 3]))\n",
        "list(map(정수함수, ['1', '2', '3']))\n",
        "list(map(int, ['1', '2', '3']))\n",
        "\n",
        "list(map(int, ['010', '5044', '2903']))\n",
        "list(map(int, '010 5044 2903'.split(' ')))"
      ],
      "metadata": {
        "id": "1UoyxsehGOjm"
      },
      "execution_count": null,
      "outputs": []
    },
    {
      "cell_type": "code",
      "source": [
        "# 별 4.5 개\n",
        "'~'.join(['hello', 'world', 'hello'])\n",
        "'!'.join(['hello', 'world', 'hello'])\n",
        "''.join(['hello', 'world', 'hello'])\n",
        "' '.join(['hello', 'world', 'hello'])"
      ],
      "metadata": {
        "id": "ONeqZQZ5HfpT"
      },
      "execution_count": null,
      "outputs": []
    },
    {
      "cell_type": "code",
      "source": [
        "'hello'.isalpha()"
      ],
      "metadata": {
        "id": "dl8cKZiwH_iv"
      },
      "execution_count": null,
      "outputs": []
    },
    {
      "cell_type": "code",
      "source": [
        "'he llo'.isalpha()"
      ],
      "metadata": {
        "id": "GF-ylcBeIEHl"
      },
      "execution_count": null,
      "outputs": []
    },
    {
      "cell_type": "code",
      "source": [
        "'123'.isdigit(), '12 3'.isdigit()"
      ],
      "metadata": {
        "id": "sh-fJLucIF78"
      },
      "execution_count": null,
      "outputs": []
    },
    {
      "cell_type": "code",
      "source": [
        "'12a3'.isalnum(), '12 3'.isalnum()"
      ],
      "metadata": {
        "id": "Ycldp65iIVoQ"
      },
      "execution_count": null,
      "outputs": []
    },
    {
      "cell_type": "code",
      "source": [
        "'안녕하세요!'.isalpha(), '안녕하세요!'.isalnum()"
      ],
      "metadata": {
        "id": "1AyWlf3QIdRn"
      },
      "execution_count": null,
      "outputs": []
    },
    {
      "cell_type": "code",
      "source": [
        "# 퀴즈\n",
        "# 숫자를 모두 더하라!\n",
        "result = 0\n",
        "for i in '123abc913sldlf':\n",
        "    # print(i.isdigit())\n",
        "    if(i.isdigit()):\n",
        "        result += int(i) # result = result + int(i)\n",
        "result"
      ],
      "metadata": {
        "id": "_86VHB_EInUL"
      },
      "execution_count": null,
      "outputs": []
    },
    {
      "cell_type": "code",
      "source": [
        "result = 0\n",
        "for i in '123abc913sldlf':\n",
        "    if(i.isdigit()):\n",
        "        result = result + int(i)\n",
        "result"
      ],
      "metadata": {
        "id": "_OwuzkW5JQdy"
      },
      "execution_count": null,
      "outputs": []
    },
    {
      "cell_type": "code",
      "source": [
        "'paullab CEO leehojun'.isascii()"
      ],
      "metadata": {
        "id": "v3PpK7jyNyV1"
      },
      "execution_count": null,
      "outputs": []
    },
    {
      "cell_type": "code",
      "source": [
        "'paullab CEO leehojun'.rjust(30) #오른쪽 정렬\n",
        "'paullab CEO leehojun'.ljust(30) #왼쪽 정렬\n",
        "'paullab CEO leehojun'.center(30)#가운데 정렬"
      ],
      "metadata": {
        "id": "96pq6oMpJrEv"
      },
      "execution_count": null,
      "outputs": []
    },
    {
      "cell_type": "code",
      "source": [
        "'hello'.zfill(20)"
      ],
      "metadata": {
        "id": "gnFF78Q1NqSW"
      },
      "execution_count": null,
      "outputs": []
    },
    {
      "cell_type": "code",
      "source": [
        "('1001').zfill(5)\n",
        "'hellp'.zfill(10).replace('0', '-')"
      ],
      "metadata": {
        "id": "5cv-hJapOIxZ"
      },
      "execution_count": null,
      "outputs": []
    },
    {
      "cell_type": "code",
      "source": [
        "규칙테이블 = str.maketrans({'\\n':'', '\\t':''})\n",
        "'paullab \\n\\n\\n CEO \\t\\t\\t leehojun'.translate(규칙테이블)"
      ],
      "metadata": {
        "id": "RojCswRlOkAz"
      },
      "execution_count": null,
      "outputs": []
    },
    {
      "cell_type": "code",
      "source": [
        "'paullab \\n\\n\\n CEO \\t\\t\\t leehojun'.replace('\\n', '').replace('\\t', '')"
      ],
      "metadata": {
        "id": "nYhWT3T9Ow5d"
      },
      "execution_count": null,
      "outputs": []
    },
    {
      "cell_type": "code",
      "source": [
        "규칙테이블 = str.maketrans('\\n\\t', '  ') # 똑같은 길이를 가지고 있어야 함\n",
        "'paullab \\n\\n\\n CEO \\t\\t\\t leehojun'.translate(규칙테이블)"
      ],
      "metadata": {
        "id": "dKxbJKXnO76P"
      },
      "execution_count": null,
      "outputs": []
    },
    {
      "cell_type": "code",
      "source": [
        "규칙테이블 = str.maketrans('le', '12') # 똑같은 길이를 가지고 있어야 함\n",
        "'paullab CEO leehojun'.translate(규칙테이블)"
      ],
      "metadata": {
        "id": "ZRZkGgaaPKFY"
      },
      "execution_count": null,
      "outputs": []
    },
    {
      "cell_type": "markdown",
      "source": [
        "## pep"
      ],
      "metadata": {
        "id": "5iIMcIUkPR1r"
      }
    },
    {
      "cell_type": "code",
      "source": [
        "# aaaaaaaaaaaaaaaaaaaaaaaaaaaaaaaaaaaaaaaaaaaaaaaaaaaaaaaaaaaaaaaaaaaaaaaaaaaaaaaa => 80자\n",
        "# 아아아아아아아아아아아아아아아아아아아아아아아아아아아아아아아아아아아아아아아아아아 => 40자면 한글 넘어갑니다.\n",
        "# line에 딱 맞춰 들어간 것을 볼 수 있습니다. \n",
        "# 강제사항은 아닙니다.\n",
        "# 띄어쓰기 4번도 강제사항은 아닙니다.\n",
        "# pep8, pep20에 기술되어 있습니다. => pep(Python Enhancement Proposal)란 무엇인가요? 8이란 무엇인가요?\n",
        "# pep8 : Style Guide for Python Code (https://peps.python.org/pep-0008/)\n",
        "# pep20 : The Zen of Python(https://peps.python.org/pep-0020/) #이스터애그로 숨겨져 있습니다.\n",
        "# https://peps.python.org/"
      ],
      "metadata": {
        "id": "Rl0Du92pPiTa"
      },
      "execution_count": null,
      "outputs": []
    },
    {
      "cell_type": "markdown",
      "source": [
        "## cpython\n",
        "\n",
        "* 공식 홈페이지에서 다운로드 받는 것이 cpython입니다.\n",
        "* https://github.com/python/cpython\n",
        "* list를 구현한 코드 : https://github.com/python/cpython/blob/main/Objects/listobject.c"
      ],
      "metadata": {
        "id": "bbCQcTaqQmJs"
      }
    },
    {
      "cell_type": "markdown",
      "source": [
        "## 인덱싱과 슬라이싱"
      ],
      "metadata": {
        "id": "tCpcvJ5qScJG"
      }
    },
    {
      "cell_type": "code",
      "source": [
        "name = 'Guido van Rossum'\n",
        "print(name[0])\n",
        "print(name[1])\n",
        "print(name[2])"
      ],
      "metadata": {
        "id": "4Aj2qx_xSdsG"
      },
      "execution_count": null,
      "outputs": []
    },
    {
      "cell_type": "code",
      "source": [
        "# s[start:stop:step]\n",
        "s = 'paullab CEO leehojun'\n",
        "s[5:]\n",
        "s[:5]\n",
        "s[3:10]\n",
        "s[:]\n",
        "s[0:20:2]"
      ],
      "metadata": {
        "id": "Q-NdzqtBShOM"
      },
      "execution_count": null,
      "outputs": []
    },
    {
      "cell_type": "code",
      "source": [
        "# 자주 사용되는 코드\n",
        "s = 'paullab CEO leehojun!'\n",
        "s[:] # string에서는 많이 사용하지 않지만 list에서 많이 사용합니다.\n",
        "s[:-1] # 마지막 요소만 제외하고 다 슬라이싱 합니다."
      ],
      "metadata": {
        "id": "uNNEO9PcTNJT"
      },
      "execution_count": null,
      "outputs": []
    },
    {
      "cell_type": "code",
      "source": [
        "test = [1, 2, 3, 4]\n",
        "test2 = test\n",
        "test2[0] = 1000\n",
        "test, test2"
      ],
      "metadata": {
        "id": "6jcrajUtTeTI"
      },
      "execution_count": null,
      "outputs": []
    },
    {
      "cell_type": "code",
      "source": [
        "test = [1, 2, 3, 4]\n",
        "test2 = test[:] # 새로운 리스트를 만들어서 test2에게 줍니다.\n",
        "test2[0] = 1000\n",
        "test, test2"
      ],
      "metadata": {
        "id": "ukComcriTwyg"
      },
      "execution_count": null,
      "outputs": []
    },
    {
      "cell_type": "markdown",
      "source": [
        "## 문자열의 연산"
      ],
      "metadata": {
        "id": "l-0Vx0u4UqWN"
      }
    },
    {
      "cell_type": "code",
      "source": [
        "s = 'hello wolrd'\n",
        "dir(s)\n",
        "s + s\n",
        "s * 3"
      ],
      "metadata": {
        "id": "w_i5ZEV9UfPO"
      },
      "execution_count": null,
      "outputs": []
    },
    {
      "cell_type": "markdown",
      "source": [
        "## 형변환"
      ],
      "metadata": {
        "id": "4-2yANLUUvWW"
      }
    },
    {
      "cell_type": "markdown",
      "source": [
        "* 형변환 : type을 변경하는 것입니다."
      ],
      "metadata": {
        "id": "Dig3Z1-mWIfH"
      }
    },
    {
      "cell_type": "code",
      "source": [
        "x = int(input())\n",
        "x + x # but 알파벳 입력하면 error!"
      ],
      "metadata": {
        "id": "zldIAVw9U59d"
      },
      "execution_count": null,
      "outputs": []
    },
    {
      "cell_type": "code",
      "source": [
        "x = input()\n",
        "if x.isdigit():\n",
        "    x = int(x)\n",
        "x + x"
      ],
      "metadata": {
        "id": "jFV2VVhcVEUC"
      },
      "execution_count": null,
      "outputs": []
    },
    {
      "cell_type": "code",
      "source": [
        "# int('abc') # error\n",
        "int(10.1) # 버림\n",
        "int('10') # 형변환 가능\n",
        "# int('10.1') # 형변환 불가능"
      ],
      "metadata": {
        "id": "XpSZfOUGVZbW"
      },
      "execution_count": null,
      "outputs": []
    },
    {
      "cell_type": "code",
      "source": [
        "float('10') # 형변환 가능\n",
        "float('10.1') # 형변환 가능"
      ],
      "metadata": {
        "id": "KzHpoLubV3Eb"
      },
      "execution_count": null,
      "outputs": []
    },
    {
      "cell_type": "code",
      "source": [
        "int('10a') # 되는 언어가 있어서 보여드린 것입니다.\n",
        "# Python에서는 허용하지 않습니다."
      ],
      "metadata": {
        "id": "2Z6vXBjyV-pN"
      },
      "execution_count": null,
      "outputs": []
    },
    {
      "cell_type": "code",
      "source": [
        "def hello():\n",
        "    pass\n",
        "\n",
        "str('123')\n",
        "str(True)\n",
        "str(None)\n",
        "str(type)\n",
        "str(hello)\n",
        "str([1, 2, 3])\n",
        "str({1, 2, 3})\n",
        "str({'one':1, 'two':2})"
      ],
      "metadata": {
        "id": "Yqfx2efNWTUE"
      },
      "execution_count": null,
      "outputs": []
    },
    {
      "cell_type": "code",
      "source": [
        "# 별 5개\n",
        "# bool 형으로 형변환 하는 것\n",
        "if True:\n",
        "    print('hi')\n",
        "\n",
        "if 'hello':\n",
        "    print('hi')\n",
        "\n",
        "# 정말 많이 사용하는 코드\n",
        "l = [1, 2, 3]\n",
        "while l:\n",
        "    print(l.pop())\n",
        "\n",
        "bool('') # 빈 문자열을 제외하고 모두 True\n",
        "bool('a')\n",
        "bool('False') # 문자열 False이기 때문에 True\n",
        "bool(0) # 0을 제외하고 모두 True\n",
        "bool(-1) # True\n",
        "bool(100)\n",
        "bool(None) # None은 비어있음을 명시해주는 키워드, False\n",
        "bool([]) # 컨벤션 자료형은 비어있으면 False\n",
        "bool({}) # False"
      ],
      "metadata": {
        "id": "b3oj7fasW5iu"
      },
      "execution_count": null,
      "outputs": []
    },
    {
      "cell_type": "code",
      "source": [
        "# list로 형변환\n",
        "s = '10'\n",
        "l = list(s)\n",
        "l"
      ],
      "metadata": {
        "id": "UKl04bnnplRl"
      },
      "execution_count": null,
      "outputs": []
    },
    {
      "cell_type": "code",
      "source": [
        "s = 'leehojun'\n",
        "l = list(s)\n",
        "l"
      ],
      "metadata": {
        "id": "3IeGnOMIprjL"
      },
      "execution_count": null,
      "outputs": []
    },
    {
      "cell_type": "code",
      "source": [
        "# tuple로 형변환 \n",
        "s = 'leehojun'\n",
        "l = tuple(s)\n",
        "l"
      ],
      "metadata": {
        "id": "jLdIRgeQpwAm"
      },
      "execution_count": null,
      "outputs": []
    },
    {
      "cell_type": "code",
      "source": [
        "# dict\n",
        "# name = 'leehojun' # error\n",
        "# dict(name)\n",
        "\n",
        "s = [('name','leehojun'), ('age',10)]\n",
        "d = dict(s)\n",
        "d"
      ],
      "metadata": {
        "id": "p6qBQIIBp6OJ"
      },
      "execution_count": null,
      "outputs": []
    },
    {
      "cell_type": "code",
      "source": [
        "# set(집합)으로 형변환\n",
        "name = 'leehojun'\n",
        "set(name)"
      ],
      "metadata": {
        "id": "2ntauoggqO1z"
      },
      "execution_count": null,
      "outputs": []
    },
    {
      "cell_type": "code",
      "source": [
        "len('hello wolrd') # __len__\n",
        "len([1, 2, 3, 4])"
      ],
      "metadata": {
        "id": "8Nx6jjFnqb9C"
      },
      "execution_count": null,
      "outputs": []
    },
    {
      "cell_type": "markdown",
      "source": [
        "## !!연습문제"
      ],
      "metadata": {
        "id": "NQxR5OzJsR9c"
      }
    },
    {
      "cell_type": "markdown",
      "source": [
        "- https://paullabworkspace.notion.site/1-7-1a8a36a77f254aa49e84de986c7499bc"
      ],
      "metadata": {
        "id": "1sjOkUS5sUbh"
      }
    },
    {
      "cell_type": "code",
      "source": [
        "# 1번의 오답(아래처럼 변수를 선언하지 않도록 주의해주세요.)\n",
        "\n",
        "#1번\n",
        "# print = 100\n",
        "\n",
        "#2번\n",
        "# 10 = a\n",
        "\n",
        "#4번\n",
        "# 100k = 10000"
      ],
      "metadata": {
        "id": "5_XhL-kxsxPu"
      },
      "execution_count": null,
      "outputs": []
    },
    {
      "cell_type": "code",
      "source": [
        "# 2번\n",
        "user_input = input('문자를 입력해주세요!')\n",
        "print(user_input * 2)\n",
        "\n",
        "s = input()\n",
        "print(f'{s}{s}')"
      ],
      "metadata": {
        "id": "Wp2wnhYbqrz3"
      },
      "execution_count": null,
      "outputs": []
    },
    {
      "cell_type": "code",
      "source": [
        "# 3번\n",
        "num = 1234567890\n",
        "list(str(num))\n",
        "list(str(num))[3]"
      ],
      "metadata": {
        "id": "yEpxbbulrfFe"
      },
      "execution_count": null,
      "outputs": []
    },
    {
      "cell_type": "markdown",
      "source": [
        "## 산술연산"
      ],
      "metadata": {
        "id": "C-RpPowQs5An"
      }
    },
    {
      "cell_type": "code",
      "source": [
        "a = 10\n",
        "b = 3\n",
        "print(f'10 + 3 == {a + b}')\n",
        "print(f'10 - 3 == {a - b}')\n",
        "print(f'10 / 3 == {a / b}')\n",
        "print(f'10 // 3 == {a // b}') # 몫만 나옵니다.(정수만요!)\n",
        "print(f'10 * 3 == {a * b}')\n",
        "print(f'10 ** 3 == {a ** b}')\n",
        "print(f'10 +% 3 == {a % b}') # 나머지"
      ],
      "metadata": {
        "id": "RzDULaa8tAww"
      },
      "execution_count": null,
      "outputs": []
    },
    {
      "cell_type": "code",
      "source": [
        "# 연산자 운선순위는 and, or, 4칙연산, 제곱 정도만 아셔도\n",
        "# 코딩하는데 클 무리가 없습니다.\n",
        "# (모르시면 읽는데 어려움이 생기기도 합니다.)\n",
        "\n",
        "print(3 ** 2 * 3)\n",
        "print(3 * 3 ** 2) # 왜 81이 아니지? 라고 헷갈리기 말자\n",
        "# 곱하기 보다 제곱이 우선순위가 더 높습니다.\n",
        "print(3 + 3 * 2) # 3 + 3부터 먼저 하지 않습니다."
      ],
      "metadata": {
        "id": "G_HVA-zQtzt5"
      },
      "execution_count": null,
      "outputs": []
    },
    {
      "cell_type": "code",
      "source": [
        "a = 10\n",
        "b = 3\n",
        "print(f'10 > 3 == {a > b}')\n",
        "print(f'10 >= 3 == {a >= b}')\n",
        "print(f'10 < 3 == {a < b}')\n",
        "print(f'10 <= 3 == {a <= b}')\n",
        "print(f'10 == 3 == {a == b}')\n",
        "print(f'10 != 3 == {a != b}')"
      ],
      "metadata": {
        "id": "Z2DwxY6Du-iX"
      },
      "execution_count": null,
      "outputs": []
    },
    {
      "cell_type": "markdown",
      "source": [
        "## 논리연산"
      ],
      "metadata": {
        "id": "Y2UKSuQEvTft"
      }
    },
    {
      "cell_type": "code",
      "source": [
        "# and 는 곱\n",
        "# or 는 합\n",
        "# not은 반대\n",
        "# True 1\n",
        "# False 0\n",
        "\n",
        "print(True and False)\n",
        "print(True or False)\n",
        "print(True or True)\n",
        "\n",
        "if True and False:\n",
        "    print('hello')\n",
        "\n",
        "if 10 > 3 and 8 % 3 == 0:\n",
        "    print('hello')\n",
        "\n",
        "# and는 언제 True가 되나요?\n",
        "# 모두 True 일때만 True\n",
        "# or는 언제 True가 되나요?\n",
        "# 둘 중에 하나라도 참이면 True"
      ],
      "metadata": {
        "id": "OZVbClxevSyW"
      },
      "execution_count": null,
      "outputs": []
    },
    {
      "cell_type": "code",
      "source": [
        "# https://codingdojang.com/scode/350?answer_mode=hide\n",
        "for i in range(101):\n",
        "    if i % 3 == 0 and i % 5 == 0:\n",
        "        print(i)"
      ],
      "metadata": {
        "id": "R5H6v0CVwqjs"
      },
      "execution_count": null,
      "outputs": []
    },
    {
      "cell_type": "code",
      "source": [
        "for i in range(101):\n",
        "    if i % 3 == 0 or i % 5 == 0:\n",
        "        print(i)"
      ],
      "metadata": {
        "id": "KwUAoV3rxaiR"
      },
      "execution_count": null,
      "outputs": []
    },
    {
      "cell_type": "code",
      "source": [
        "result = 0\n",
        "for i in range(101):\n",
        "    if i % 3 == 0:\n",
        "        result += i # result = result + i\n",
        "    if i % 5 == 0:\n",
        "        result += i\n",
        "    if i % 15 == 0:\n",
        "        result -= i\n",
        "print(result)"
      ],
      "metadata": {
        "id": "qE_tlXlGxdjJ"
      },
      "execution_count": null,
      "outputs": []
    },
    {
      "cell_type": "code",
      "source": [
        "result = 0\n",
        "for i in range(101):\n",
        "    if i % 3 == 0 or i % 5 == 0:\n",
        "        result += i\n",
        "print(result)"
      ],
      "metadata": {
        "id": "LltkKEsbyMZG"
      },
      "execution_count": null,
      "outputs": []
    },
    {
      "cell_type": "code",
      "source": [
        "not True"
      ],
      "metadata": {
        "id": "ZgyNEiajye9P"
      },
      "execution_count": null,
      "outputs": []
    },
    {
      "cell_type": "code",
      "source": [
        "not False"
      ],
      "metadata": {
        "id": "rRFXv9nEyhZY"
      },
      "execution_count": null,
      "outputs": []
    },
    {
      "cell_type": "code",
      "source": [
        "# python 입장에서 보는 코드\n",
        "# False and ?????? => 물음표에 무엇이 나오든 False\n",
        "# 그래서 Python도 저 물음표를 보지 않습니다.\n",
        "\n",
        "def slolution():\n",
        "    1/0\n",
        "\n",
        "if False and solution():\n",
        "    print('hello')"
      ],
      "metadata": {
        "id": "xs_DZlbOyi9A"
      },
      "execution_count": null,
      "outputs": []
    },
    {
      "cell_type": "code",
      "source": [
        "# True or ????? => 물음표에 무엇이 나오든 False\n",
        "# 그래서 Python도 저 물음표를 보지 않습니다.\n",
        "\n",
        "def slolution():\n",
        "    1/0\n",
        "\n",
        "if True or solution():\n",
        "    print('hello')"
      ],
      "metadata": {
        "id": "5GKcCpJ71zm3"
      },
      "execution_count": null,
      "outputs": []
    },
    {
      "cell_type": "code",
      "source": [
        "# 단락 평가 (컴퓨터가 어디까지 보는지 판단해서 활용)\n",
        "username = '' # 사용자가 아무것도 입력하지 않았을 경우 \n",
        "username = username or 'licat'\n",
        "username"
      ],
      "metadata": {
        "id": "coyqqoXG2BMN"
      },
      "execution_count": null,
      "outputs": []
    },
    {
      "cell_type": "code",
      "source": [
        "username = 'leehojun' # 사용자가 이름을 입력했을 경우\n",
        "username = username or 'licat'\n",
        "username"
      ],
      "metadata": {
        "id": "0c1cF29x2bN-"
      },
      "execution_count": null,
      "outputs": []
    },
    {
      "cell_type": "code",
      "source": [
        "# and와 or의 우선순위(and가 더 높습니다.)\n",
        "for i in range(21):\n",
        "    if i % 3 == 0 and i % 5 == 0 or i % 2 == 0:\n",
        "        print(i)\n",
        "\n",
        "for i in range(21):\n",
        "    if (i % 3 == 0 and i % 5 == 0) or i % 2 == 0:\n",
        "        print(i)"
      ],
      "metadata": {
        "id": "GLJm72mN2tla"
      },
      "execution_count": null,
      "outputs": []
    },
    {
      "cell_type": "code",
      "source": [
        "# 아래는 출력 값이 \n",
        "for i in range(21):\n",
        "    if (i % 3 == 0 or i % 5 == 0) and i % 2 == 0:\n",
        "        print(i)\n",
        "\n",
        "for i in range(21):\n",
        "    if i % 3 == 0 or i % 5 == 0 and i % 2 == 0:\n",
        "        print(i)"
      ],
      "metadata": {
        "id": "9uOwpOdk3BcU"
      },
      "execution_count": null,
      "outputs": []
    },
    {
      "cell_type": "code",
      "source": [
        "# 아래는 출력되는 값이 다릅니다! 우선순위가 낮은 or가 먼저 나왔기 때문입니다.\n",
        "# 결론 : 헷갈리시면 괄호를 사용해주세요!\n",
        "for i in range(21):\n",
        "    if (i % 3 == 0 or i % 5 == 0) and i % 2 == 0:\n",
        "        print(i)\n",
        "\n",
        "for i in range(21):\n",
        "    if i % 3 == 0 or i % 5 == 0 and i % 2 == 0:\n",
        "        print(i)"
      ],
      "metadata": {
        "id": "g7YSDp1B3ASE"
      },
      "execution_count": null,
      "outputs": []
    },
    {
      "cell_type": "markdown",
      "source": [
        "## 비트연산 (중요도 하)"
      ],
      "metadata": {
        "id": "uK_8NImg4N2G"
      }
    },
    {
      "cell_type": "code",
      "source": [
        "# and(곱하기)\n",
        "# 1001 == 9\n",
        "# 0010 == 2\n",
        "# ----\n",
        "# 0000"
      ],
      "metadata": {
        "id": "sGgJ_rui4Q2S"
      },
      "execution_count": null,
      "outputs": []
    },
    {
      "cell_type": "code",
      "source": [
        "9 & 2 "
      ],
      "metadata": {
        "id": "v9_nRQiR4oTm"
      },
      "execution_count": null,
      "outputs": []
    },
    {
      "cell_type": "code",
      "source": [
        "# and(곱하기)\n",
        "# 1001 == 9\n",
        "# 1000 == 8\n",
        "# ----\n",
        "# 1000 == 8"
      ],
      "metadata": {
        "id": "rP3lJtrq4_pN"
      },
      "execution_count": null,
      "outputs": []
    },
    {
      "cell_type": "code",
      "source": [
        "9 & 8"
      ],
      "metadata": {
        "id": "PWAvSKdm4uBe"
      },
      "execution_count": null,
      "outputs": []
    },
    {
      "cell_type": "code",
      "source": [
        "# or(더하기, 대신 자리올림이 되진 않습니다.)\n",
        "# 1001 == 9\n",
        "# 0011 == 3\n",
        "# ----\n",
        "# 1011 == 11\n",
        "\n",
        "9 | 3"
      ],
      "metadata": {
        "id": "hpJH4Z9X5hAg"
      },
      "execution_count": null,
      "outputs": []
    },
    {
      "cell_type": "code",
      "source": [
        "# xor(같을 경우 0, 다를 경우 1)\n",
        "# 1001 == 9\n",
        "# 0011 == 3\n",
        "# ----\n",
        "# 1010 == 10\n",
        "\n",
        "9 ^ 3"
      ],
      "metadata": {
        "id": "kBNrpVue5uB-"
      },
      "execution_count": null,
      "outputs": []
    },
    {
      "cell_type": "code",
      "source": [
        "~9 # 2의 보수를 취하는 것입니다. (9에게 +1한 다음에 -를 취하시면 됩니다.)\n",
        "~-7 # 2의 보수를 취하는 것입니다. (-7에게 +1한 다음에 -를 취하시면 됩니다.)"
      ],
      "metadata": {
        "id": "5SAPmbMn6Mvq"
      },
      "execution_count": null,
      "outputs": []
    },
    {
      "cell_type": "code",
      "source": [
        "3 << 2 # 3을 2진수로 표현하면 11인데 2칸을 왼쪽으로 미는 것입니다\n",
        "# 1100"
      ],
      "metadata": {
        "id": "CoD_Bm5X6mUG"
      },
      "execution_count": null,
      "outputs": []
    },
    {
      "cell_type": "code",
      "source": [
        "7 >> 2"
      ],
      "metadata": {
        "id": "djUpMCB37mus"
      },
      "execution_count": null,
      "outputs": []
    },
    {
      "cell_type": "markdown",
      "source": [
        "## 디스코드 단축키"
      ],
      "metadata": {
        "id": "FFgoWrjl7CwT"
      }
    },
    {
      "cell_type": "markdown",
      "source": [
        "- :ok"
      ],
      "metadata": {
        "id": "1AF6eU7J7Ht2"
      }
    },
    {
      "cell_type": "markdown",
      "source": [
        "## 할당연산"
      ],
      "metadata": {
        "id": "petEyFxl72-A"
      }
    },
    {
      "cell_type": "code",
      "source": [
        "# a = 10\n",
        "# a = a + 10\n",
        "a = + 10 # 이렇게 a를 지우면 양수를 표현하는 10만 남아요.\n",
        "a"
      ],
      "metadata": {
        "id": "ed_qXKTF8JUI"
      },
      "execution_count": null,
      "outputs": []
    },
    {
      "cell_type": "code",
      "source": [
        "a = 10\n",
        "a += 10 # a = a + 10\n",
        "a"
      ],
      "metadata": {
        "id": "IE9eXmEV8WoG"
      },
      "execution_count": null,
      "outputs": []
    },
    {
      "cell_type": "code",
      "source": [
        "a = 10\n",
        "a //= 10 # 산술연산 모두 됩니다.\n",
        "a"
      ],
      "metadata": {
        "id": "fpO5edxd9BAk"
      },
      "execution_count": null,
      "outputs": []
    },
    {
      "cell_type": "code",
      "source": [
        "# Python에서 특이하게 ++a, ++b, a++, b++가 없습니다."
      ],
      "metadata": {
        "id": "kkmAwJ6Q9P1N"
      },
      "execution_count": null,
      "outputs": []
    },
    {
      "cell_type": "markdown",
      "source": [
        "## 식별연산자"
      ],
      "metadata": {
        "id": "cWVOYy9r9nX6"
      }
    },
    {
      "cell_type": "code",
      "source": [
        "# 앞으로 아래 2개를 활용해서 Python에 \n",
        "# 컨벤션 자료형이 어떻게 구성이되는지 확인해볼겁니다.\n",
        "# id()\n",
        "# is"
      ],
      "metadata": {
        "id": "YbREOh8C9jbt"
      },
      "execution_count": null,
      "outputs": []
    },
    {
      "cell_type": "code",
      "source": [
        "a = 256\n",
        "b = 256\n",
        "\n",
        "a is b"
      ],
      "metadata": {
        "id": "264SbKiJ91Gt"
      },
      "execution_count": null,
      "outputs": []
    },
    {
      "cell_type": "code",
      "source": [
        "a = 999\n",
        "b = 999\n",
        "a is b"
      ],
      "metadata": {
        "id": "ATsKpqBP94_7"
      },
      "execution_count": null,
      "outputs": []
    },
    {
      "cell_type": "code",
      "source": [
        "a = [1, 2, 3]\n",
        "b = [1, 2, 3]\n",
        "a is b # 주소"
      ],
      "metadata": {
        "id": "SnPsf-uj97gj"
      },
      "execution_count": null,
      "outputs": []
    },
    {
      "cell_type": "code",
      "source": [
        "a[0] = 100\n",
        "a, b"
      ],
      "metadata": {
        "id": "LlYJCEw0-uTX"
      },
      "execution_count": null,
      "outputs": []
    },
    {
      "cell_type": "code",
      "source": [
        "a = [1, 2, 3]\n",
        "b = [1, 2, 3]\n",
        "a == b # Python에 등호는 type과 value를 봅니다."
      ],
      "metadata": {
        "id": "6DCNg0HQ-BHG"
      },
      "execution_count": null,
      "outputs": []
    },
    {
      "cell_type": "code",
      "source": [
        "# is는 주소값을 비교합니다.\n",
        "id(a) == id(b) # 이게 False면 is도 False입니다."
      ],
      "metadata": {
        "id": "ypMfmMP8_Pze"
      },
      "execution_count": null,
      "outputs": []
    },
    {
      "cell_type": "code",
      "source": [
        "a = [1, 2, 3]\n",
        "b = [1, 2, 3]\n",
        "\n",
        "id(a)"
      ],
      "metadata": {
        "id": "zhW0DkdwUd6m"
      },
      "execution_count": null,
      "outputs": []
    },
    {
      "cell_type": "code",
      "source": [
        "id(b)"
      ],
      "metadata": {
        "id": "OSRDPx4eUfzM"
      },
      "execution_count": null,
      "outputs": []
    },
    {
      "cell_type": "code",
      "source": [
        "a == b # 값이 같은 것과 메모리에 같은 공간에 저장되어 있다는 얘기는 다른 얘기입니다!"
      ],
      "metadata": {
        "id": "nl7QzeYFML7F"
      },
      "execution_count": null,
      "outputs": []
    },
    {
      "cell_type": "markdown",
      "source": [
        "## not의 위치"
      ],
      "metadata": {
        "id": "HAMLS4H4-1c3"
      }
    },
    {
      "cell_type": "code",
      "source": [
        "a = 10\n",
        "b = 100\n",
        "a is not b\n",
        "# a not is b # error"
      ],
      "metadata": {
        "id": "XpFGgkMY-Dvb"
      },
      "execution_count": null,
      "outputs": []
    },
    {
      "cell_type": "code",
      "source": [
        "a = 10\n",
        "b = [10, 20, 30]\n",
        "a not in b"
      ],
      "metadata": {
        "id": "InZ_vdNt_D2t"
      },
      "execution_count": null,
      "outputs": []
    },
    {
      "cell_type": "markdown",
      "source": [
        "## 멤버연산"
      ],
      "metadata": {
        "id": "3ugXv-7x_g6u"
      }
    },
    {
      "cell_type": "code",
      "source": [
        "'a' in 'helalo world'\n",
        "'a' in 'hello world'\n",
        "'a' in ['a', 'b']\n",
        "'a' in {'a':10, 'b':20}\n",
        "# 10 in {'a':10, 'b':20} # dict 안에 있는 value값이 있는지 확인하고 싶으면\n",
        "10 in {'a':10, 'b':20}.values()\n",
        "10 in {10, 20, 30}"
      ],
      "metadata": {
        "id": "J5zpJ0S__j8Z"
      },
      "execution_count": null,
      "outputs": []
    },
    {
      "cell_type": "code",
      "source": [
        "'a' not in ['aa', 'bb']"
      ],
      "metadata": {
        "id": "RKdKHGJsAHMU"
      },
      "execution_count": null,
      "outputs": []
    },
    {
      "cell_type": "code",
      "source": [
        "10 in [10, 20, 30]\n",
        "[10] in [10, 20, 30]\n",
        "[10] in [[10], 20, 30]\n",
        "[10, 20] in [10, 20, 30]\n",
        "[10, 20] in [[10, 20], 30]\n",
        "set([10, 20]).issubset(set([10, 20, 30]))\n",
        "{10, 20}.issubset({10, 20, 30, 40})"
      ],
      "metadata": {
        "id": "80U54F2PDh3Y"
      },
      "execution_count": null,
      "outputs": []
    },
    {
      "cell_type": "markdown",
      "source": [
        "## !!연습문제"
      ],
      "metadata": {
        "id": "rc-B1hzAD-gA"
      }
    },
    {
      "cell_type": "code",
      "source": [
        "#1번\n",
        "a = 100\n",
        "(a > 100) and (a < 200) # False\n",
        "(a > 100) or (a < 200) # True\n",
        "(a >= 100) and (a <= 200) # True\n",
        "(a >= 100) or (a <= 200) # True"
      ],
      "metadata": {
        "id": "2kC6455YAzvL"
      },
      "execution_count": null,
      "outputs": []
    },
    {
      "cell_type": "code",
      "source": [
        "# 2번\n",
        "b = 25\n",
        "(b % 2 == 0) and (b % 5 == 0)\n",
        "# False"
      ],
      "metadata": {
        "id": "lh20wrbFBR3x"
      },
      "execution_count": null,
      "outputs": []
    },
    {
      "cell_type": "code",
      "source": [
        "# 3번\n",
        "c = 1000\n",
        "# 결과값은 10입니다.\n",
        "c // 100"
      ],
      "metadata": {
        "id": "JCCBDHWaBhYc"
      },
      "execution_count": null,
      "outputs": []
    },
    {
      "cell_type": "code",
      "source": [
        "# 4번\n",
        "# 그리디 알고리즘(욕심잭이 알고리즘)\n",
        "money = int(input('금액을 입력하세요'))\n",
        "\n",
        "ochen = money // 5000\n",
        "money %= 5000\n",
        "chen = money // 1000\n",
        "money %= 1000\n",
        "obag = money // 500\n",
        "money %= 500\n",
        "bag = money // 100\n",
        "money %= 100\n",
        "\n",
        "print(f'돈은 5000원 {ochen}개, 1000원 {chen}개, 500원 {obag}개, 100원 {bag}개로 나눌 수 있다.')"
      ],
      "metadata": {
        "id": "jSm6IZv_B6HU"
      },
      "execution_count": null,
      "outputs": []
    },
    {
      "cell_type": "code",
      "source": [
        "# 4번\n",
        "# 그리디 알고리즘(욕심쟁이 알고리즘)\n",
        "남은금액 = int(input())\n",
        "\n",
        "오천원 = 남은금액 // 5000\n",
        "# 남은금액 = 남은금액 % 5000\n",
        "남은금액 = 남은금액 (5000 * 오천원)\n",
        "\n",
        "천원 = 남은금액 // 1000\n",
        "남은금액 = 남은금액 % 1000\n",
        "\n",
        "오백원 = 남은금액 // 500\n",
        "남은금액 = 남은금액 % 500\n",
        "\n",
        "백원 = 남은금액 // 100\n",
        "남은금액 = 남은금액 % 100\n",
        "\n",
        "print(오천원, 천원, 오백원, 백원)"
      ],
      "metadata": {
        "id": "gSThLza-NBYU"
      },
      "execution_count": null,
      "outputs": []
    },
    {
      "cell_type": "markdown",
      "source": [
        "## !! 230502 오늘 배운 것 정리\n",
        "\n",
        "1. str\n",
        "    - 순서가 있는 **시퀀스 자료형**입니다.\n",
        "    - 작은 따옴표(' ')나 큰 따옴표(\" \"), 삼중따옴표('''str''', \"\"\"str\"\"\")로 감싸는 것도 가능합니다. (삼중따옴표를 사용할 경우에는 줄단위의 문자열을 나타낼 수 있습니다.)\n",
        "    - 작은 따옴표 안에 큰 따옴표, 큰 따옴표 안에 작은 따옴표 사용이 가능합니다.\n",
        "    - 이스케이프 문자도 사용이 가능합니다.\n",
        "    - 리스트, 튜플도 시퀀스 자료형입니다.\n",
        "    - 메서드\n",
        "        - lower\n",
        "        - index, find\n",
        "        - count\n",
        "        - strip\n",
        "        - replace\n",
        "        - split, join\n",
        "        - isdigit\n",
        "2. 슬라이싱\n",
        "    - 시퀀스형 자료형을 자를 수 있습니다.\n",
        "    - 형태\n",
        "    ```\n",
        "    # s[start:stop:step]\n",
        "    s = 'paullab CEO leehojun'\n",
        "    s[5:]\n",
        "    s[:5]\n",
        "    s[3:10]\n",
        "    s[:]\n",
        "    s[0:20:2]\n",
        "    # 자주 사용되는 코드\n",
        "    s = 'paullab CEO leehojun!'\n",
        "    s[:] # string에서는 많이 사용하지 않지만 list에서 많이 사용합니다.\n",
        "    s[:-1] # 마지막 요소만 제외하고 다 슬라이싱 합니다.\n",
        "    ```\n",
        "\n",
        "3. 형변환\n",
        "    - 형변환 : type을 변경하는 것입니다.\n",
        "    - int, float, str 등 자료형에 이름으로 형태를 변경할 수 있습니다.\n",
        "    - 그 중에서도 bool이 매우 중요합니다.\n",
        "    ```\n",
        "    # 별 5개\n",
        "    # bool 형으로 형변환 하는 것\n",
        "    if True:\n",
        "        print('hi')\n",
        "\n",
        "    if 'hello':\n",
        "        print('hi')\n",
        "\n",
        "    # 정말 많이 사용하는 코드\n",
        "    l = [1, 2, 3]\n",
        "    while l:\n",
        "        print(l.pop())\n",
        "\n",
        "    bool('') # 빈 문자열을 제외하고 모두 True\n",
        "    bool('a')\n",
        "    bool('False') # 문자열 False이기 때문에 True\n",
        "    bool(0) # 0을 제외하고 모두 True\n",
        "    bool(-1)\n",
        "    bool(100)\n",
        "    bool(None) # None은 비어있음을 명시해주는 키워드, False\n",
        "    bool([]) # 컨벤션 자료형은 비어있으면 False입니다.\n",
        "    bool({})\n",
        "    ```\n",
        "\n",
        "4. 산술연산\n",
        "    ```\n",
        "    a = 10\n",
        "    b = 3\n",
        "\n",
        "    print(f'10 + 3 == {a + b}')\n",
        "    print(f'10 - 3 == {a - b}')\n",
        "    print(f'10 / 3 == {a / b}')\n",
        "    print(f'10 // 3 == {a // b}') # 몫만 나옵니다.(정수만요!)\n",
        "    print(f'10 * 3 == {a * b}')\n",
        "    print(f'10 ** 3 == {a ** b}')\n",
        "    print(f'10 % 3 == {a % b}') # 나머지\n",
        "    ```\n",
        "\n",
        "5. 논리연산\n",
        "    ```\n",
        "    # and 는 곱\n",
        "    # or 는 합\n",
        "    # not은 반대\n",
        "    # True 1\n",
        "    # False 0\n",
        "    # 중요한 포인트는 저렇게 했을 때 언제 True가 되는지 정리하는 것\n",
        "\n",
        "    print(True and False)\n",
        "    print(True or False)\n",
        "    print(True or True)\n",
        "\n",
        "    # https://codingdojang.com/scode/350?answer_mode=hide\n",
        "    for i in range(101):\n",
        "        if i % 3 == 0 and i % 5 == 0:\n",
        "            print(i)\n",
        "    ```\n",
        "\n",
        "6. 할당연산\n",
        "    ```\n",
        "    a = 10\n",
        "    a += 10 # a = a + 10\n",
        "    a //= 2\n",
        "    a\n",
        "    ```\n",
        "\n",
        "7. is, in\n",
        "    1. is\n",
        "        ```\n",
        "        a = [1, 2, 3]\n",
        "        b = [1, 2, 3]\n",
        "\n",
        "        id(a), id(b)\n",
        "        a == b # 값이 같은 것과 메모리에 같은 공간에 저장되어 있다는 얘기는 다른 얘기입니다!\n",
        "        ```\n",
        "    2. in\n",
        "        ```\n",
        "        'a' in 'helalo world'\n",
        "        'a' in 'hello world'\n",
        "        'a' in ['a', 'b']\n",
        "        'a' in {'a':10, 'b':20}\n",
        "        # 10 in {'a':10, 'b':20} # dict안에있는 value값이 있는지 확인하고 싶으면\n",
        "        10 in {'a':10, 'b':20}.values()\n",
        "        10 in {10, 20, 30}\n",
        "        ```"
      ],
      "metadata": {
        "id": "zB5F1aRZVeLO"
      }
    },
    {
      "cell_type": "markdown",
      "source": [
        "## 함수"
      ],
      "metadata": {
        "id": "R4a3AHLn8Fac"
      }
    },
    {
      "cell_type": "markdown",
      "source": [
        "1. 코드 덩어리(정말 쉽게 설명하자면..)\n",
        "2. 코드를 재사용 할 수 있으며, 실수를 줄일 수 있습니다.\n",
        "3. 코드의 구조를 한 눈에 파악할 수 있습니다."
      ],
      "metadata": {
        "id": "4IcpPnhm8KOt"
      }
    },
    {
      "cell_type": "code",
      "source": [
        "def 부지매입():\n",
        "    pass\n",
        "\n",
        "def 설계도면작성():\n",
        "    pass\n",
        "\n",
        "def 인력모집():\n",
        "    pass\n",
        "\n",
        "def 벽돌쌓기():\n",
        "    pass\n",
        "\n",
        "def 지붕올리기():\n",
        "    pass\n",
        "\n",
        "# 건축 또는 집짓기\n",
        "# 신입사원이 왔을 때\n",
        "# 3년에 한 번 이직\n",
        "# 7년에 한 번 이직\n",
        "# 오래 있으신 분들\n",
        "부지매입()\n",
        "설계도면작성()\n",
        "인력모집()\n",
        "벽돌쌓기() # 10만줄\n",
        "벽돌쌓기() # 10만줄\n",
        "벽돌쌓기() # 10만줄\n",
        "지붕올리기()"
      ],
      "metadata": {
        "id": "iIYFKZe09bG7"
      },
      "execution_count": null,
      "outputs": []
    },
    {
      "cell_type": "code",
      "source": [
        "# 파선아실 (파라미터는 선언할 때, 아규먼트는 실제)\n",
        "def function(x, y):\n",
        "    z = x + y\n",
        "    return z\n",
        "print(f'function(5, 7) = {function(5, 7)}')"
      ],
      "metadata": {
        "id": "Il4BXUND-nJN"
      },
      "execution_count": null,
      "outputs": []
    },
    {
      "cell_type": "code",
      "source": [
        "# 같은 코드 1\n",
        "def function(x, y):\n",
        "    z = x + y\n",
        "print(f'function(5, 7) = {function(5, 7)}')"
      ],
      "metadata": {
        "id": "addNyqNr_jS3"
      },
      "execution_count": null,
      "outputs": []
    },
    {
      "cell_type": "code",
      "source": [
        "# 같은 코드 2\n",
        "def function(x, y):\n",
        "    z = x + y\n",
        "    return None\n",
        "print(f'function(5, 7) = {function(5, 7)}')"
      ],
      "metadata": {
        "id": "7a1hnmaB_oZq"
      },
      "execution_count": null,
      "outputs": []
    },
    {
      "cell_type": "code",
      "source": [
        "# 같은 코드 3\n",
        "def function(x, y):\n",
        "    z = x + y\n",
        "    return\n",
        "print(f'function(5, 7) = {function(5, 7)}')"
      ],
      "metadata": {
        "id": "gTJiK7Nr_vX6"
      },
      "execution_count": null,
      "outputs": []
    },
    {
      "cell_type": "code",
      "source": [
        "def hello():\n",
        "    print('1')\n",
        "    print('2')\n",
        "    print('3')\n",
        "\n",
        "print(hello())"
      ],
      "metadata": {
        "id": "grOdNtJMCC81"
      },
      "execution_count": null,
      "outputs": []
    },
    {
      "cell_type": "code",
      "source": [
        "# 함수 연습문제 1\n",
        "def one():\n",
        "    print('one1')\n",
        "    print('one2')\n",
        "    print('one3')\n",
        "    return 100\n",
        "\n",
        "def two():\n",
        "    print('two1')\n",
        "    print('two2')\n",
        "    one()\n",
        "    return\n",
        "\n",
        "print(two())"
      ],
      "metadata": {
        "id": "qLJA0i9x-TTy"
      },
      "execution_count": null,
      "outputs": []
    },
    {
      "cell_type": "code",
      "source": [
        "# 함수 연습문제 2\n",
        "def one():\n",
        "    print('one1')\n",
        "    print('one2')\n",
        "    print('one3')\n",
        "    return 100\n",
        "\n",
        "def two():\n",
        "    print('two1')\n",
        "    print('two2')\n",
        "    x = one()\n",
        "    return x + x\n",
        "    \n",
        "print(two())"
      ],
      "metadata": {
        "id": "dLMSXtT4BcMv"
      },
      "execution_count": null,
      "outputs": []
    },
    {
      "cell_type": "code",
      "source": [
        "# 함수 연습문제 3\n",
        "def one(a, b):\n",
        "    print('one1')\n",
        "    print('one2')\n",
        "    print('one3')\n",
        "    return a + b\n",
        "\n",
        "def two(x):\n",
        "    y = 100\n",
        "    print('two1')\n",
        "    print('two2')\n",
        "    x = one(x, y)\n",
        "    return x + x\n",
        "    \n",
        "print(two(10))"
      ],
      "metadata": {
        "id": "slyPXuOjCSM_"
      },
      "execution_count": null,
      "outputs": []
    },
    {
      "cell_type": "code",
      "source": [
        "# 함수 연습문제 4\n",
        "def one():\n",
        "    print('one')\n",
        "    return 10\n",
        "\n",
        "def two():\n",
        "    print('two')\n",
        "    return 10\n",
        "    \n",
        "def three():\n",
        "    print('three')\n",
        "    return 10\n",
        "\n",
        "a = one()\n",
        "b = two()\n",
        "c = three()\n",
        "print(a + b)\n",
        "print(a + b + c)\n",
        "\n",
        "# 좋지 않은 예입니다.\n",
        "# print(one() + two())\n",
        "# print(one() + two() + three())"
      ],
      "metadata": {
        "id": "CRsRECxzDxnG"
      },
      "execution_count": null,
      "outputs": []
    },
    {
      "cell_type": "code",
      "source": [
        "# 함수란 무엇일까요?\n",
        "# 함수의 이름은 메모리 상에 코드 블럭을 가리키는 변수입니다.\n",
        "leehojun = print\n",
        "leehojun('hello') # 소괄호는 그 함수 블록을 실행시키는 명령어가 됩니다. "
      ],
      "metadata": {
        "id": "PsEUEuxoIwpi"
      },
      "execution_count": null,
      "outputs": []
    },
    {
      "cell_type": "code",
      "source": [
        "id(leehojun), id(print)"
      ],
      "metadata": {
        "id": "UcUgQfHfJfGD"
      },
      "execution_count": null,
      "outputs": []
    },
    {
      "cell_type": "code",
      "source": [
        "l = [leehojun, print, leehojun, print]\n",
        "leehojun('hello world')\n",
        "l[0]('hello world')"
      ],
      "metadata": {
        "id": "7uZdFPoXJk6V"
      },
      "execution_count": null,
      "outputs": []
    },
    {
      "cell_type": "code",
      "source": [
        "def hello(a):\n",
        "    a('hello')\n",
        "    a('hello')\n",
        "    a('hello')\n",
        "\n",
        "print(hello(print))"
      ],
      "metadata": {
        "id": "cewR96IiJ3JQ"
      },
      "execution_count": null,
      "outputs": []
    },
    {
      "cell_type": "code",
      "source": [
        "def hello():\n",
        "    def custom_sum(a, b):\n",
        "        return a + b\n",
        "    return custom_sum\n",
        "\n",
        "c = hello()\n",
        "c(10, 100)"
      ],
      "metadata": {
        "id": "N1eMGvhtKWLI"
      },
      "execution_count": null,
      "outputs": []
    },
    {
      "cell_type": "code",
      "source": [
        "def hello(a):\n",
        "    return a\n",
        "\n",
        "c = hello(print)\n",
        "c(10, 100)"
      ],
      "metadata": {
        "id": "SfbC0IhiKxSg"
      },
      "execution_count": null,
      "outputs": []
    },
    {
      "cell_type": "markdown",
      "source": [
        "## 함수의 기본 기능"
      ],
      "metadata": {
        "id": "Bt93gXoCMdHL"
      }
    },
    {
      "cell_type": "code",
      "source": [
        "# 파선아실 (파라미터는 선언할 때, 아규먼트는 실제)\n",
        "def function(x, y):\n",
        "    z = x + y\n",
        "    return z\n",
        "print(f'function(5, 7) = {function(5, 7)}')"
      ],
      "metadata": {
        "id": "3HLLHsmMMg_a"
      },
      "execution_count": null,
      "outputs": []
    },
    {
      "cell_type": "code",
      "source": [
        "# return을 만나게 되면 함수는 종료가 됩니다.\n",
        "def function(x, y):\n",
        "    z = x + y\n",
        "    return z\n",
        "    print('hello')\n",
        "    print('hello')\n",
        "print(function(5, 7))"
      ],
      "metadata": {
        "id": "033OsoIDMwZh"
      },
      "execution_count": null,
      "outputs": []
    },
    {
      "cell_type": "code",
      "source": [
        "# return을 빨리 만나게 해주세요.\n",
        "# early return\n",
        "# 조건이 부합하지 않으면 바로 return을 하도록 하는 코딩 패턴\n",
        "# 이렇게 작성함으로써, 가독성이 좋은 코드\n",
        "def custom_sum(x, y):\n",
        "    if type(x) != int or type(y) != int:\n",
        "        return '연산할 수 없습니다.'\n",
        "    z = x + y # 100줄이라 가정\n",
        "    return z\n",
        "print(custom_sum(5, '가나다'))"
      ],
      "metadata": {
        "id": "UvFmqLKtNBwn"
      },
      "execution_count": null,
      "outputs": []
    },
    {
      "cell_type": "code",
      "source": [
        "# 한글코딩의 장점\n",
        "# 1. 고유명사(한라산, 새싹멤버) -> 기획자와 소통하기도 좋습니다.\n",
        "# 2. 알고리즘 가독성이 괜찮습니다. 프로젝트는 조금 힘들 수 있어요. 일부 모듈에서는 \n",
        "\n",
        "# 한글코딩의 단점\n",
        "# 1. 싫어하시는 분도 많습니다.\n",
        "# 2. 한영키 바꾸는 것"
      ],
      "metadata": {
        "id": "GFAhTqQkO15K"
      },
      "execution_count": null,
      "outputs": []
    },
    {
      "cell_type": "code",
      "source": [
        "# 함수 안에 함수\n",
        "def one():\n",
        "    def two():\n",
        "        print('hello1')\n",
        "    def three():\n",
        "        print('hello2')\n",
        "    return 100\n",
        "\n",
        "print(one())"
      ],
      "metadata": {
        "id": "yLbZd-pWQVXB"
      },
      "execution_count": null,
      "outputs": []
    },
    {
      "cell_type": "code",
      "source": [
        "# 함수 안에 함수와 함수 안에 변수는 밖에서 호출이 안됩니다.\n",
        "# 아래거싱 만약 실행되었다면 위 어딘가에서 two와 x가 정의되어 있는 것입니다.\n",
        "def one():\n",
        "    def two():\n",
        "        print('hello1')\n",
        "    def three():\n",
        "        print('hello2')\n",
        "    two()\n",
        "    three()\n",
        "    return 100\n",
        "\n",
        "print(one())\n",
        "# print(x) # error"
      ],
      "metadata": {
        "id": "hsUTJPnLQxs6"
      },
      "execution_count": null,
      "outputs": []
    },
    {
      "cell_type": "code",
      "source": [
        "# 함수 안에 함수와 함수 안에 변수를 해봤으니\n",
        "# 이번에는 함수 밖에 함수와 함수 밖에 변수를 해보도록 하겠습니다.\n",
        "\n",
        "def test():\n",
        "    print('test')\n",
        "\n",
        "def one():\n",
        "    test()\n",
        "\n",
        "def two():\n",
        "    test()\n",
        "\n",
        "one()\n",
        "two()\n",
        "test()"
      ],
      "metadata": {
        "id": "FLBJafc2RwT0"
      },
      "execution_count": null,
      "outputs": []
    },
    {
      "cell_type": "code",
      "source": [
        "# 위 원리와 마찬가지로 밖에 있는 변수를 '가져오는 것만' 가능합니다.\n",
        "# 수정은 안됩니다.\n",
        "\n",
        "test = 10\n",
        "\n",
        "def one():\n",
        "    print(test)\n",
        "\n",
        "def two():\n",
        "    print(test)\n",
        "\n",
        "one()\n",
        "two()"
      ],
      "metadata": {
        "id": "yyCn2jQhSgsw"
      },
      "execution_count": null,
      "outputs": []
    },
    {
      "cell_type": "code",
      "source": [
        "# 이렇게 하시면 error가 납니다! 밖에 있는 변수는 수정이 안됩니다.\n",
        "test = 10\n",
        "\n",
        "def one():\n",
        "    # test = test + 10\n",
        "    return test + 1\n",
        "\n",
        "one()\n",
        "print(test)"
      ],
      "metadata": {
        "id": "Kwvv_y6CS2Kl"
      },
      "execution_count": null,
      "outputs": []
    },
    {
      "cell_type": "markdown",
      "source": [
        "## 지역 변수와 전역 변수"
      ],
      "metadata": {
        "id": "Mpew7By3S8XX"
      }
    },
    {
      "cell_type": "code",
      "source": [
        "# 전역변수 접근은 가능하지만 수정이 되진 않습니다.\n",
        "a = 100\n",
        "def f():\n",
        "    a = a + 1\n",
        "f()"
      ],
      "metadata": {
        "id": "Q2DTE9oXTJFB"
      },
      "execution_count": null,
      "outputs": []
    },
    {
      "cell_type": "code",
      "source": [
        "# 전역변수를 함수 내부에서 수정이 되게 하는 코드입니다.\n",
        "# 권하지 않습니다.\n",
        "a = 100\n",
        "def f():\n",
        "    global a # 실무에서 사용 안합니다.\n",
        "    a = a + 1\n",
        "f()\n",
        "print(a)"
      ],
      "metadata": {
        "id": "LgzyAjfSXLie"
      },
      "execution_count": null,
      "outputs": []
    },
    {
      "cell_type": "code",
      "source": [
        "# 정해진 루트 외에 다른 루트로 해당 값을 수정하려고 하지 마세요.\n",
        "a = 100\n",
        "def f(x):\n",
        "    x = x + 1\n",
        "    return x\n",
        "a = f(a)\n",
        "print(a)"
      ],
      "metadata": {
        "id": "NTukWJM5Xo0T"
      },
      "execution_count": null,
      "outputs": []
    },
    {
      "cell_type": "code",
      "source": [
        "# 순수 함수\n",
        "def f(x):\n",
        "    return x + x + 100\n",
        "f(10)\n",
        "f(20) \n",
        "# 아규먼트 값에 따라 다르지만 \n",
        "# 20에 2배해서 10이 더해진다는 사실은 변하지 않죠?"
      ],
      "metadata": {
        "id": "0qSKju9bYDcB"
      },
      "execution_count": null,
      "outputs": []
    },
    {
      "cell_type": "code",
      "source": [
        "test = 100\n",
        "def f(x):\n",
        "    return x + x + 100 + test\n",
        "f(10)\n",
        "# 아규먼트 값에 따라 다르지만 \n",
        "# 20에 2배해서 10이 더해진다는 사실은 변하지 않죠?\n",
        "# 그렇지 않습니다. test값이 다른 곳에서 조작이 되면\n",
        "# 더해지는 값이 200이 안될 수도 있죠\n",
        "# 예측이 불가하게 되는 것!"
      ],
      "metadata": {
        "id": "k6v_PnGyYV8T"
      },
      "execution_count": null,
      "outputs": []
    },
    {
      "cell_type": "code",
      "source": [
        "# 지역변수와 전역변수 이어서\n",
        "# 전역변수 : 전역에서 접근할 수 있는 변수\n",
        "# 지역변수 : 함수 내에서만 접근할 수 있는 변수 "
      ],
      "metadata": {
        "id": "70oSJKoPY3d9"
      },
      "execution_count": null,
      "outputs": []
    },
    {
      "cell_type": "code",
      "source": [
        "a = 100\n",
        "def one():\n",
        "    a = 10\n",
        "    print(a)\n",
        "\n",
        "one()\n",
        "print(a)"
      ],
      "metadata": {
        "id": "cXRncJAeZK1H"
      },
      "execution_count": null,
      "outputs": []
    },
    {
      "cell_type": "code",
      "source": [
        "# 어려우신 분들은 pass!\n",
        "# 조금 있다가 요약정리에서도 써드리지 않을 예정입니다.\n",
        "# 자신의 공간에 변수가 선언되어 있지 않으면\n",
        "# 전역까지 찾아 올라갑니다. 전역에도 없으면 error\n",
        "\n",
        "a = 100\n",
        "def one():\n",
        "    # a = 10\n",
        "    def two():\n",
        "        def three():\n",
        "            print(a)\n",
        "        three()\n",
        "        print(a)\n",
        "    two()\n",
        "    a = 10\n",
        "    print(a)\n",
        "\n",
        "one()\n",
        "print(a)"
      ],
      "metadata": {
        "id": "hDE_3GzmZziz"
      },
      "execution_count": null,
      "outputs": []
    },
    {
      "cell_type": "code",
      "source": [
        "a = 100\n",
        "\n",
        "def one():\n",
        "    two()\n",
        "    a = 10\n",
        "    print(a)\n",
        "\n",
        "def two():\n",
        "    three()\n",
        "    print(a)\n",
        "\n",
        "def three():\n",
        "    print(a)\n",
        "\n",
        "one()\n",
        "\n",
        "# two()\n",
        "print(a)"
      ],
      "metadata": {
        "id": "UwCdJD3Avhz2"
      },
      "execution_count": null,
      "outputs": []
    },
    {
      "cell_type": "code",
      "source": [
        "# error가 나는 코드\n",
        "x = 100\n",
        "def outer():\n",
        "    x = 1\n",
        "    def inner():\n",
        "        x += 1 # 바깥 함수 지역 변수 수정 불가\n",
        "        print(x)\n",
        "    inner()\n",
        "    print(x)\n",
        "\n",
        "outer()\n",
        "print(x)"
      ],
      "metadata": {
        "id": "9xHju0PrcEGY"
      },
      "execution_count": null,
      "outputs": []
    },
    {
      "cell_type": "code",
      "source": [
        "x = 100\n",
        "def outer():\n",
        "    x = 1\n",
        "    def inner():\n",
        "        nonlocal x # outer()에 있는 x 수정\n",
        "        x += 1\n",
        "        print(x)\n",
        "    inner()\n",
        "    print(x)\n",
        "\n",
        "outer()\n",
        "print(x)"
      ],
      "metadata": {
        "id": "nD4cXoyHbVlP"
      },
      "execution_count": null,
      "outputs": []
    },
    {
      "cell_type": "code",
      "source": [
        "x = 100\n",
        "def outer():\n",
        "    x = 1\n",
        "    def inner():\n",
        "        global x # 전역에 있는 x 수정\n",
        "        x += 1\n",
        "        print(x)\n",
        "    inner()\n",
        "    print(x)\n",
        "\n",
        "outer()\n",
        "print(x)"
      ],
      "metadata": {
        "id": "f0Rf7Z-vb3eg"
      },
      "execution_count": null,
      "outputs": []
    },
    {
      "cell_type": "markdown",
      "source": [
        "## 재귀 함수"
      ],
      "metadata": {
        "id": "MP0dHansceTS"
      }
    },
    {
      "cell_type": "markdown",
      "source": [
        "* 내가 나를 호출하는 것입니다.\n",
        "* 재귀 <-> for문은 대부분 호환이 가능합니다.\n",
        "* 반복문 사용하시기를 권합니다!\n",
        "* 어렵고 효율도 안좋아요!\n",
        "* 필수적으로 사용\n"
      ],
      "metadata": {
        "id": "JAggLRkdcgJf"
      }
    },
    {
      "cell_type": "code",
      "source": [
        "#sys.setrecursionlimit -> 제한을 늘릴 수 있음\n",
        "def 숫자출력():\n",
        "    print(1)\n",
        "    return 숫자출력()\n",
        "숫자출력()"
      ],
      "metadata": {
        "id": "aduJH4lecd4b"
      },
      "execution_count": null,
      "outputs": []
    },
    {
      "cell_type": "code",
      "source": [
        "# for로 펙토리얼\n",
        "# 5! = 5 * 4 * 3 * 2 1\n",
        "\n",
        "# 1 * 2 * 3 * 4 * 5\n",
        "result = 1\n",
        "for i in range(1, 6):\n",
        "    result *= i\n",
        "\n",
        "result"
      ],
      "metadata": {
        "id": "YQug6LQkd2Pr"
      },
      "execution_count": null,
      "outputs": []
    },
    {
      "cell_type": "code",
      "source": [
        "# 재귀로 펙토리얼\n",
        "\n",
        "def f(n):\n",
        "    if n <= 1 :\n",
        "        return 1\n",
        "    else:\n",
        "        return n * f(n-1)\n",
        "\n",
        "f(5)\n",
        "\n",
        "'''\n",
        "f(5)    5 * f(4) == 5 ** 24 =>120\n",
        "f(4)    4 * f(3) == 4 * 6\n",
        "f(3)    3 * f(2) == 3 * 2\n",
        "f(2)    2 * f(1) == 2 * 1\n",
        "f(1)    1\n",
        "'''"
      ],
      "metadata": {
        "id": "5CSW7EXMeR9U"
      },
      "execution_count": null,
      "outputs": []
    },
    {
      "cell_type": "code",
      "source": [
        "# for로 문자열 거꾸로 출력하기\n",
        "s = 'hello'\n",
        "result = ''\n",
        "\n",
        "for i in s:\n",
        "    result = i + result\n",
        "\n",
        "result\n",
        "'''\n",
        "result = 'h' + ''\n",
        "result = 'e' + 'h'\n",
        "result = 'l' + 'eh'\n",
        "result = 'l' + 'leh'\n",
        "result = 'o' + 'lleh'\n",
        "'''\n",
        "# 실무에서는 이렇게 거꾸로 만들지 않습니다.\n",
        "# 슬라이싱이 일반 for문보다 8배 빠릅니다.\n",
        "# s[::-1] 이렇게 쓰시면 됩니다."
      ],
      "metadata": {
        "id": "VGRC6tGwflID"
      },
      "execution_count": null,
      "outputs": []
    },
    {
      "cell_type": "code",
      "source": [
        "def reverse(s):\n",
        "    if len(s) == 1:\n",
        "        return s\n",
        "    else:\n",
        "        return reverse(s[1:]) + s[0]\n",
        "\n",
        "reverse('hello')\n",
        "\n",
        "'''\n",
        "reverse('hello')    reverse('ello') + 'h'   == 'olle' + 'h'\n",
        "reverse('ello')     reverse('llo') + 'e'    == 'oll' + 'e'\n",
        "reverse('llo')      reverse('lo') + 'l'     == 'ol' + 'l'\n",
        "reverse('lo')       reverse('o') + 'l'      == 'o' + 'l'\n",
        "reverse('o')        'o'\n",
        "'''"
      ],
      "metadata": {
        "id": "0LZXNC2WgcQZ"
      },
      "execution_count": null,
      "outputs": []
    },
    {
      "cell_type": "code",
      "source": [
        "# 피보나치\n",
        "# 재귀가 얼마나 비효율적인지 보여드리기 위해서 진행\n",
        "# 1 1 2 3 5 8 13 21 ...\n",
        "\n",
        "curr = 1\n",
        "next = 1\n",
        "for i in range(1, 6):\n",
        "    curr, next = next, curr + next\n",
        "\n",
        "next"
      ],
      "metadata": {
        "id": "oDFfKdYiz7VQ"
      },
      "execution_count": null,
      "outputs": []
    },
    {
      "cell_type": "code",
      "source": [
        "# 피보나치 재귀\n",
        "\n",
        "def f(n):\n",
        "    if n == 1 or n == 2:\n",
        "        return 1\n",
        "    return f(n-1) + f(n-2)\n",
        "\n",
        "1, 1, f(3), f(4), f(5), f(6)"
      ],
      "metadata": {
        "id": "0E78ELmX1qb7"
      },
      "execution_count": null,
      "outputs": []
    },
    {
      "cell_type": "code",
      "source": [
        "f(35) #8초"
      ],
      "metadata": {
        "id": "Xw5SMkNl3pcl"
      },
      "execution_count": null,
      "outputs": []
    },
    {
      "cell_type": "code",
      "source": [
        "# 재귀의 비효율을 이렇게 해결할 수는 있다를 보여드리기 위함\n",
        "# but 가능하면 for문을 이용해주세요\n",
        "from functools import lru_cache\n",
        "\n",
        "@lru_cache(maxsize=None)\n",
        "def fib(num):\n",
        "    if num == 0:\n",
        "        return 0\n",
        "    if num == 1 or num == 2:\n",
        "        return 1\n",
        "    else:\n",
        "        return fib(num-1) + fib(num-2)\n",
        "\n",
        "fib(40)"
      ],
      "metadata": {
        "id": "qvVfRZAo3Mma"
      },
      "execution_count": null,
      "outputs": []
    },
    {
      "cell_type": "code",
      "source": [
        "x = 1\n",
        "y = 2\n",
        "\n",
        "x, y = y, x\n",
        "\n",
        "x, y"
      ],
      "metadata": {
        "id": "4R8-Ux_W1Z_t"
      },
      "execution_count": null,
      "outputs": []
    },
    {
      "cell_type": "markdown",
      "source": [
        "## !! 연습문제"
      ],
      "metadata": {
        "id": "leMyfqP870O7"
      }
    },
    {
      "cell_type": "code",
      "source": [
        "# 1번\n",
        "a = 'pithon'\n",
        "\n",
        "def 함수1():\n",
        "    def 함수2():\n",
        "        print('love')\n",
        "        \n",
        "    print('I')\n",
        "    함수2()\n",
        "    return \"python\"\n",
        "\t\n",
        "\n",
        "a = 함수1()\n",
        "print(a)\n",
        "\n",
        "# I\n",
        "# love\n",
        "# python"
      ],
      "metadata": {
        "id": "nF89l0gy4PW3"
      },
      "execution_count": null,
      "outputs": []
    },
    {
      "cell_type": "code",
      "source": [
        "# 2번\n",
        "def plus(num1, num2):\n",
        "\treturn num1 + num2\n",
        "\n",
        "def minus(num1, num2):\n",
        "\treturn num1 - num2\n",
        "\n",
        "def multiply(num1, num2):\n",
        "\treturn num1 * num2\n",
        "\n",
        "def divide(num1, num2):\n",
        "\treturn num1 / num2\n",
        "\n",
        "print(f'plus : {plus(10, 5)}')\n",
        "print(f'minus : {minus(10, 5)}')\n",
        "print(f'multiply : {multiply(10, 5)}')\n",
        "print(f'divide : {divide(10, 5)}')"
      ],
      "metadata": {
        "id": "GKxWnbDw4gZp"
      },
      "execution_count": null,
      "outputs": []
    },
    {
      "cell_type": "code",
      "source": [
        "# 2번 - 람다\n",
        "plus = lambda num1, num2 : num1 + num2\n",
        "minus = lambda num1, num2 : num1 - num2\n",
        "multiply = lambda num1, num2 : num1 * num2\n",
        "divide = lambda num1, num2 : num1 / num2\n",
        "\n",
        "print(f'plus : {plus(10, 5)}')\n",
        "print(f'minus : {minus(10, 5)}')\n",
        "print(f'multiply : {multiply(10, 5)}')\n",
        "print(f'divide : {divide(10, 5)}')"
      ],
      "metadata": {
        "id": "48LnnbCJ8d1r"
      },
      "execution_count": null,
      "outputs": []
    },
    {
      "cell_type": "code",
      "source": [
        "# 실력이 있으신 분은 견고한 코드가 될 수 있도록 해주셔야 합니다.\n",
        "def plus(num1, num2):\n",
        "    if type(num1) == int and type(num2) == int:\n",
        "        return num1 + num2\n",
        "    return '정수가 아니기에 연산할 수 없습니다.'\n",
        "\n",
        "# 테스트 주도 개발\n",
        "print(f\"plus : {plus(10, 5)}\")\n",
        "print(f\"plus : {plus(10, '5')}\")\n",
        "print(f\"plus : {plus('10', 5)}\")\n",
        "print(f\"plus : {plus('10', '5')}\")\n",
        "print(f\"plus : {plus(10, 'a')}\")\n",
        "print(f\"plus : {plus(10, True)}\")\n",
        "print(f\"plus : {plus(False, 5)}\")\n",
        "print(f\"plus : {plus(10, 10.1)}\")"
      ],
      "metadata": {
        "id": "am_QG27SA7UA"
      },
      "execution_count": null,
      "outputs": []
    },
    {
      "cell_type": "code",
      "source": [
        "# 실력이 있으신 분은 견고한 코드가 될 수 있도록 해주셔야 합니다.\n",
        "def plus(num1, num2):\n",
        "    if type(num1) == int and type(num2) == int:\n",
        "        return num1 + num2\n",
        "    return float('inf')\n",
        "\n",
        "# 테스트 주도 개발\n",
        "print(f\"plus : {plus(10, 5)}\")\n",
        "print(f\"plus : {plus(10, '5')}\")\n",
        "print(f\"plus : {plus('10', 5)}\")\n",
        "print(f\"plus : {plus('10', '5')}\")\n",
        "print(f\"plus : {plus(10, 'a')}\")\n",
        "print(f\"plus : {plus(10, True)}\")\n",
        "print(f\"plus : {plus(False, 5)}\")\n",
        "print(f\"plus : {plus(10, 10.1)}\")"
      ],
      "metadata": {
        "id": "jjed5VePA4qi"
      },
      "execution_count": null,
      "outputs": []
    },
    {
      "cell_type": "code",
      "source": [
        "# 실력이 있으신 분은 견고한 코드가 될 수 있도록 해주셔야 합니다.\n",
        "def plus(num1, num2):\n",
        "    try:\n",
        "        return num1 + num2\n",
        "    except:\n",
        "        return float('inf')\n",
        "\n",
        "# 테스트 주도 개발\n",
        "print(f\"plus : {plus(10, 5)}\")\n",
        "print(f\"plus : {plus(10, '5')}\")\n",
        "print(f\"plus : {plus('10', 5)}\")\n",
        "print(f\"plus : {plus('10', '5')}\")\n",
        "print(f\"plus : {plus(10, 'a')}\")\n",
        "print(f\"plus : {plus(10, True)}\")\n",
        "print(f\"plus : {plus(False, 5)}\")\n",
        "print(f\"plus : {plus(10, 10.1)}\")"
      ],
      "metadata": {
        "id": "Jmb0OvWs_aU1"
      },
      "execution_count": null,
      "outputs": []
    },
    {
      "cell_type": "code",
      "source": [
        "float('inf') > 1000000000000000000000000"
      ],
      "metadata": {
        "id": "26Ra3JPTA-KP"
      },
      "execution_count": null,
      "outputs": []
    },
    {
      "cell_type": "code",
      "source": [
        "# 3. x의 n제곱을 구하는 함수를 만들어주세요.\n",
        "# 재귀함수를 이용하여 만들어야하며, x은 0이 아닙니다. (x, n > 1)\n",
        "\n",
        "def squared(x, n):\n",
        "    if n < 1:\n",
        "        return 1\n",
        "    else:\n",
        "        return x * squared(x, n-1)\n",
        "\n",
        "squared(3, 3)"
      ],
      "metadata": {
        "id": "BsoxLf9342xH"
      },
      "execution_count": null,
      "outputs": []
    },
    {
      "cell_type": "code",
      "source": [
        "# 재귀를 Log(N, 2)\n",
        "def my_pow(num1, num2):\n",
        "    if num2 == 0:\n",
        "        return 1\n",
        "    if num2 == 1:\n",
        "        return num1\n",
        "    if num2 % 2 == 0:\n",
        "        half = my_pow(num1, num2 // 2)\n",
        "        return half * half\n",
        "    else:\n",
        "        half = my_pow(num1, num2 // 2)\n",
        "        return half * half * num1\n",
        "\n",
        "my_pow(2, 3)\n",
        "\n",
        "'''\n",
        "# 1번째 순회  \n",
        "my_pow(2, 4)                    return \n",
        "half = my_pow(2, 4 // 2)        \n",
        "my_pow(2, 2)                    half * half    4       \n",
        "half = my_pow(2, 1) == 2\n",
        "my_pow(2, 1) == 2\n",
        "'''"
      ],
      "metadata": {
        "id": "tvMDdbMvMK2r"
      },
      "execution_count": null,
      "outputs": []
    },
    {
      "cell_type": "code",
      "source": [
        "# 재귀함수를 사용해서 푼 것도 아니고\n",
        "# 팩토리 함수라고도 하고, 클로져라고도 합니다.\n",
        "def 제곱(x):\n",
        "    def 승수(y):\n",
        "        return x ** y\n",
        "    return 승수\n",
        "\n",
        "제곱3 = 제곱(3)\n",
        "제곱3(4)"
      ],
      "metadata": {
        "id": "bySHNQplDSEj"
      },
      "execution_count": null,
      "outputs": []
    },
    {
      "cell_type": "markdown",
      "source": [
        "## 리스트(list)"
      ],
      "metadata": {
        "id": "MG2MMriNEgHZ"
      }
    },
    {
      "cell_type": "markdown",
      "source": [
        "* 순서를 가진 데이터들의 집합(Sequence)\n",
        "* 리스트는 값의 변경\n",
        "* 리스트 안에 리스트로 다차원의 리스트를 만드는 것도 가능\n",
        "* 리스트 안에 다른 딕셔너리, 셋, 튜플 등을 넣는 것도 가능합니다"
      ],
      "metadata": {
        "id": "6yZ3hR9YFbZl"
      }
    },
    {
      "cell_type": "code",
      "source": [
        "l = [1000, 2000, 3000, 1000, 2000, 3000]\n",
        "id(l[0]), id(l[3])"
      ],
      "metadata": {
        "id": "QP7cbKWgMPS_"
      },
      "execution_count": null,
      "outputs": []
    },
    {
      "cell_type": "code",
      "source": [
        "# 컨벤션 자료형(딕셔너리, 튜플, 셋, 리스트)에서는\n",
        "# 메모리 효율을 위해\n",
        "# 같은 값이 있을 경우 같은 곳을 가리키게 설계되어 있습니다."
      ],
      "metadata": {
        "id": "ywX-fNQkF2H2"
      },
      "execution_count": null,
      "outputs": []
    },
    {
      "cell_type": "code",
      "source": [
        "l = [10, 20, 30, 40]\n",
        "l[0] = 1000\n",
        "l"
      ],
      "metadata": {
        "id": "Uk9zT0j3GHCF"
      },
      "execution_count": null,
      "outputs": []
    },
    {
      "cell_type": "code",
      "source": [
        "s = 'hello world'\n",
        "s[0] = 'k' # error\n",
        "s"
      ],
      "metadata": {
        "id": "-kULo8G9MSbS"
      },
      "execution_count": null,
      "outputs": []
    },
    {
      "cell_type": "code",
      "source": [
        "data = [[1, 2, 3],\n",
        "        [4, 5, 6],\n",
        "        [7, 8, 9]]\n",
        "\n",
        "data"
      ],
      "metadata": {
        "id": "v3ytXlBPMT9R"
      },
      "execution_count": null,
      "outputs": []
    },
    {
      "cell_type": "code",
      "source": [
        "data[0]"
      ],
      "metadata": {
        "id": "_I7BlOcxMVRG"
      },
      "execution_count": null,
      "outputs": []
    },
    {
      "cell_type": "code",
      "source": [
        "data[0][0]\n",
        "[1, 2, 3][0]"
      ],
      "metadata": {
        "id": "xR-3BvkFMWfU"
      },
      "execution_count": null,
      "outputs": []
    },
    {
      "cell_type": "code",
      "source": [
        "data = [[1, 2, 3],\n",
        "        [4, 5, 6],\n",
        "        [7, 8, 9]]\n",
        "\n",
        "data[0][0] *= 2\n",
        "data[0][1] *= 2\n",
        "data[0][2] *= 2\n",
        "data[1][0] *= 2\n",
        "data[1][1] *= 2\n",
        "data[1][2] *= 2\n",
        "data[2][0] *= 2\n",
        "data[2][1] *= 2\n",
        "data[2][2] *= 2\n",
        "data"
      ],
      "metadata": {
        "id": "hby7HaWNGyoQ"
      },
      "execution_count": null,
      "outputs": []
    },
    {
      "cell_type": "code",
      "source": [
        "data = [[1, 2, 3],\n",
        "        [4, 5, 6],\n",
        "        [7, 8, 9]]\n",
        "\n",
        "for i in range(3):\n",
        "    data[i][0] *= 2\n",
        "    data[i][1] *= 2\n",
        "    data[i][2] *= 2\n",
        "\n",
        "data"
      ],
      "metadata": {
        "id": "9f4pG4UZMmho"
      },
      "execution_count": null,
      "outputs": []
    },
    {
      "cell_type": "code",
      "source": [
        "data = [[1, 2, 3],\n",
        "        [4, 5, 6],\n",
        "        [7, 8, 9]]\n",
        "\n",
        "for i in range(3):\n",
        "    for j in range(3):\n",
        "        data[i][j] *= 2\n",
        "        \n",
        "data"
      ],
      "metadata": {
        "id": "pcjgsqAwMn6P"
      },
      "execution_count": null,
      "outputs": []
    },
    {
      "cell_type": "code",
      "source": [
        "'''\n",
        "3               == 스칼라\n",
        "[3, 4]          == 벡터\n",
        "[[1, 2, 3],     == 메트릭스(행렬)\n",
        "[4, 5, 6],\n",
        "[7, 8, 9]]\n",
        "[[[1, 2, 3]],   == 텐서(다차원, 3차원 이상)\n",
        "[[4, 5, 6]],\n",
        "[[7, 8, 9]]]\n",
        "\n",
        "텐서플로우 : 인공지능 중 유명한 라이브러리\n",
        "'''"
      ],
      "metadata": {
        "id": "dR_9LzyQH5Ni"
      },
      "execution_count": null,
      "outputs": []
    },
    {
      "cell_type": "code",
      "source": [
        "# 리스트에서 주의해야 하는 연산! 곱하기 연산..\n",
        "x = [10] * 3\n",
        "x"
      ],
      "metadata": {
        "id": "EW0mbtx6ItNJ"
      },
      "execution_count": null,
      "outputs": []
    },
    {
      "cell_type": "code",
      "source": [
        "x[0] = 100\n",
        "x"
      ],
      "metadata": {
        "id": "oMOV-zfJJCVg"
      },
      "execution_count": null,
      "outputs": []
    },
    {
      "cell_type": "code",
      "source": [
        "x = [[10]*2] *3\n",
        "x"
      ],
      "metadata": {
        "id": "1UTYmJsxJFP1"
      },
      "execution_count": null,
      "outputs": []
    },
    {
      "cell_type": "code",
      "source": [
        "x[0][0] = 100\n",
        "x"
      ],
      "metadata": {
        "id": "UVKifVjuJCTA"
      },
      "execution_count": null,
      "outputs": []
    },
    {
      "cell_type": "code",
      "source": [
        "x = [[[10] * 3] * 3] * 4\n",
        "x[0][0][0] = 1000\n",
        "x"
      ],
      "metadata": {
        "id": "x57esrT0JCBk"
      },
      "execution_count": null,
      "outputs": []
    },
    {
      "cell_type": "code",
      "source": [
        "[1, 2, 3] + [1, 2, 3]"
      ],
      "metadata": {
        "id": "cAGvKmxXM9Rl"
      },
      "execution_count": null,
      "outputs": []
    },
    {
      "cell_type": "code",
      "source": [
        "# [1, 2, 3] + 1 # error"
      ],
      "metadata": {
        "id": "yOYsQS-FND8B"
      },
      "execution_count": null,
      "outputs": []
    },
    {
      "cell_type": "code",
      "source": [
        "id(x[0][0]),id(x[0][1])"
      ],
      "metadata": {
        "id": "B-mzap-2J2xK"
      },
      "execution_count": null,
      "outputs": []
    },
    {
      "cell_type": "code",
      "source": [
        "l = [10, 20, 30]\n",
        "type(l), dir(l), help(l)"
      ],
      "metadata": {
        "id": "U7Nat5WoJ_bB"
      },
      "execution_count": null,
      "outputs": []
    },
    {
      "cell_type": "markdown",
      "source": [
        "## 리스트의 메서드"
      ],
      "metadata": {
        "id": "lEynneHANPAr"
      }
    },
    {
      "cell_type": "code",
      "source": [
        "# 'append', 'clear', 'copy', 'count', 'extend', 'index', \n",
        "# 'insert', 'pop', 'remove', 'reverse', 'sort'"
      ],
      "metadata": {
        "id": "cOVnud20NQP_"
      },
      "execution_count": null,
      "outputs": []
    },
    {
      "cell_type": "code",
      "source": [
        "l = [1, 2, 3]\n",
        "l.append(4) # 요소 하나 추가\n",
        "l"
      ],
      "metadata": {
        "id": "hQRaizlBNnyN"
      },
      "execution_count": null,
      "outputs": []
    },
    {
      "cell_type": "code",
      "source": [
        "l = [1, 2, 3]\n",
        "l.append([1, 2, 3])\n",
        "l"
      ],
      "metadata": {
        "id": "ArpoHJrpNs-H"
      },
      "execution_count": null,
      "outputs": []
    },
    {
      "cell_type": "code",
      "source": [
        "l = [1, 2, 3]\n",
        "l.extend(4) # error 여러가지 요소를 한꺼번에 추가할때\n",
        "l"
      ],
      "metadata": {
        "id": "Dnae_VCdNv6s"
      },
      "execution_count": null,
      "outputs": []
    },
    {
      "cell_type": "code",
      "source": [
        "l = [1, 2, 3]\n",
        "l.extend('hello')\n",
        "l"
      ],
      "metadata": {
        "id": "J1XxikjBOCwa"
      },
      "execution_count": null,
      "outputs": []
    },
    {
      "cell_type": "code",
      "source": [
        "l = [1, 2, 3]\n",
        "l.extend({'one':10, 'two':20})\n",
        "l"
      ],
      "metadata": {
        "id": "Ty03Vj3-OSMT"
      },
      "execution_count": null,
      "outputs": []
    },
    {
      "cell_type": "code",
      "source": [
        "l = [1, 2, 3]\n",
        "l.extend({10, 20, 30})\n",
        "l"
      ],
      "metadata": {
        "id": "n-VjWb4hOZBL"
      },
      "execution_count": null,
      "outputs": []
    },
    {
      "cell_type": "code",
      "source": [
        "l = [1, 2, 3]\n",
        "l.extend([1, 2, 3])\n",
        "l"
      ],
      "metadata": {
        "id": "TcQOYx0cN3ej"
      },
      "execution_count": null,
      "outputs": []
    },
    {
      "cell_type": "code",
      "source": [
        "l = [10, 20, 30]\n",
        "l.clear()\n",
        "l"
      ],
      "metadata": {
        "id": "SQESr1uAN-Ca"
      },
      "execution_count": null,
      "outputs": []
    },
    {
      "cell_type": "code",
      "source": [
        "l = [10, 20, 30]\n",
        "l = []\n",
        "l"
      ],
      "metadata": {
        "id": "BQtyuM1QO6TV"
      },
      "execution_count": null,
      "outputs": []
    },
    {
      "cell_type": "code",
      "source": [
        "제주과일가게 = [['바나나', 1000], ['수박', 2000], ['딸기', 3000]]\n",
        "서울과일가게 = 제주과일가게\n",
        "서울과일가게[0] = ['바나나', 2000]\n",
        "서울과일가게, 제주과일가게"
      ],
      "metadata": {
        "id": "85Sz2NEtO-wl"
      },
      "execution_count": null,
      "outputs": []
    },
    {
      "cell_type": "code",
      "source": [
        "제주과일가게 = [['바나나', 1000], ['수박', 2000], ['딸기', 3000]]\n",
        "서울과일가게 = 제주과일가게.copy() # 얕은 복사\n",
        "서울과일가게[0] = ['바나나', 2000]\n",
        "서울과일가게, 제주과일가게"
      ],
      "metadata": {
        "id": "4ukXRx4EPd8i"
      },
      "execution_count": null,
      "outputs": []
    },
    {
      "cell_type": "code",
      "source": [
        "제주과일가게 = [['바나나', 1000], ['수박', 2000], ['딸기', 3000]]\n",
        "서울과일가게 = 제주과일가게[:] # 얕은 복사\n",
        "서울과일가게[0] = ['바나나', 2000]\n",
        "서울과일가게, 제주과일가게"
      ],
      "metadata": {
        "id": "27KoA2nAQJ4G"
      },
      "execution_count": null,
      "outputs": []
    },
    {
      "cell_type": "code",
      "source": [
        "s = 'hello world'\n",
        "s[:5]"
      ],
      "metadata": {
        "id": "KlqPH0ppQSYj"
      },
      "execution_count": null,
      "outputs": []
    },
    {
      "cell_type": "code",
      "source": [
        "l = [10, 20, 30, 40, 50]\n",
        "l[:3]\n",
        "ll = l[:]\n",
        "ll"
      ],
      "metadata": {
        "id": "mazvu-qmQWu4"
      },
      "execution_count": null,
      "outputs": []
    },
    {
      "cell_type": "code",
      "source": [
        "id(l), id(ll)"
      ],
      "metadata": {
        "id": "TeqxSEYZQiNy"
      },
      "execution_count": null,
      "outputs": []
    },
    {
      "cell_type": "code",
      "source": [
        "# 이 이상의 내용은 뒤에 얕은 복사와 깊은 복사에서 알아봅니다."
      ],
      "metadata": {
        "id": "c_uCVPi1Rt4Y"
      },
      "execution_count": null,
      "outputs": []
    },
    {
      "cell_type": "code",
      "source": [
        "제주과일가게 = [['바나나', 1000], ['수박', 2000], ['딸기', 3000]]\n",
        "# 서울과일가게 = 제주과일가게[:] # 얕은 복사\n",
        "서울과일가게 = 제주과일가게.copy()\n",
        "id(서울과일가게[0]), id(제주과일가게[0])\n",
        "id(서울과일가게[0][0]), id(제주과일가게[0][0])\n",
        "서울과일가게[0][1] = 3000\n",
        "서울과일가게,제주과일가게"
      ],
      "metadata": {
        "id": "Asl0W0u1Qxqn"
      },
      "execution_count": null,
      "outputs": []
    },
    {
      "cell_type": "code",
      "source": [
        "l = [1, 2, 3]\n",
        "ll = l[:]\n",
        "l[0] = 1000\n",
        "l, ll"
      ],
      "metadata": {
        "id": "lwqY8ua1RbqM"
      },
      "execution_count": null,
      "outputs": []
    },
    {
      "cell_type": "code",
      "source": [
        "l = [1, 2, 3]\n",
        "ll = l.copy()\n",
        "l[0] = 1000\n",
        "l, ll"
      ],
      "metadata": {
        "id": "ChRVtIDJRrsj"
      },
      "execution_count": null,
      "outputs": []
    },
    {
      "cell_type": "code",
      "source": [
        "ㅣ = [1, 2, 3, 1, 1, 1, 2, 3, 2, 3, 1, 1]\n",
        "ㅣ.count(1)"
      ],
      "metadata": {
        "id": "j9YS9dXXSLJ3"
      },
      "execution_count": null,
      "outputs": []
    },
    {
      "cell_type": "code",
      "source": [
        "a = [10, 1, 1, 11, 2, 23, 12, 11]\n",
        "a.index(11)\n",
        "a[:a.index(11)]"
      ],
      "metadata": {
        "id": "45tqN89NS2xc"
      },
      "execution_count": null,
      "outputs": []
    },
    {
      "cell_type": "code",
      "source": [
        "a = [10, 20, 30]\n",
        "a.insert(2, 1000) # insert는 값을 지우지는 않습니다.\n",
        "a"
      ],
      "metadata": {
        "id": "2hfzMLCzTZHk"
      },
      "execution_count": null,
      "outputs": []
    },
    {
      "cell_type": "code",
      "source": [
        "l = [10, 20, 30, 40, 50]\n",
        "l.pop()"
      ],
      "metadata": {
        "id": "8VTr8sURTqsF"
      },
      "execution_count": null,
      "outputs": []
    },
    {
      "cell_type": "code",
      "source": [
        "l"
      ],
      "metadata": {
        "id": "KAnsjd49TvO9"
      },
      "execution_count": null,
      "outputs": []
    },
    {
      "cell_type": "code",
      "source": [
        "l = [10, 20, 30, 40, 50]\n",
        "l.pop(0) # 많이 사용합니다.\n",
        "l"
      ],
      "metadata": {
        "id": "mDwrUYWpT0NO"
      },
      "execution_count": null,
      "outputs": []
    },
    {
      "cell_type": "code",
      "source": [
        "# append : 맨 뒤에 추가\n",
        "# pop : 맨 뒤에서 값을 뽑아내고, index가 들어갈 경우 index에서 뽑습니다.\n",
        "# insert : index에 값을 삽입하고 원래 있던 값을 뒤로 밀어버립니다."
      ],
      "metadata": {
        "id": "5unYcid4T8ae"
      },
      "execution_count": null,
      "outputs": []
    },
    {
      "cell_type": "code",
      "source": [
        "l = [10, 20, 30, 40, 50]\n",
        "l.remove(20) # 예를 들어 for를 돌면서 remove를 하지 않기 바랍니다.\n",
        "l"
      ],
      "metadata": {
        "id": "JEFA_v-dUPV2"
      },
      "execution_count": null,
      "outputs": []
    },
    {
      "cell_type": "code",
      "source": [
        "l = [20, 20, 20, 20]\n",
        "for i in range(len(l)):\n",
        "    print(len(l)) # len가 계속 변하기 때문에 의도치 않은 에러가 날 수 있어요.\n",
        "    l.remove(20)"
      ],
      "metadata": {
        "id": "mRPDXmSsU_AD"
      },
      "execution_count": null,
      "outputs": []
    },
    {
      "cell_type": "code",
      "source": [
        "# 무한 반복입니다.\n",
        "l = [20, 20, 20, 20]\n",
        "for i in l:\n",
        "    print(len(l))\n",
        "    l.append(20)"
      ],
      "metadata": {
        "id": "f88455IVVYIN"
      },
      "execution_count": null,
      "outputs": []
    },
    {
      "cell_type": "code",
      "source": [
        "l = [10, 20, 30, 40, 50, 20, 20, 20]\n",
        "for i in range(l.count(20)):\n",
        "    l.remove(20)\n",
        "l"
      ],
      "metadata": {
        "id": "B2g4RWiAFemq"
      },
      "execution_count": null,
      "outputs": []
    },
    {
      "cell_type": "code",
      "source": [
        "# 실무에서\n",
        "# 어떤 값을 전부 없애거나\n",
        "# 어떤 값을 전부 찾는 것\n",
        "# 조건에 부합하는 것\n",
        "def f(x):\n",
        "    return x != 20\n",
        "\n",
        "# True인 것만 반환해줍니다.\n",
        "list(filter(f, [10, 20, 30, 40, 50, 20, 20, 20]))"
      ],
      "metadata": {
        "id": "9YyGwv6DF2-y"
      },
      "execution_count": null,
      "outputs": []
    },
    {
      "cell_type": "code",
      "source": [
        "filter(f, [10, 20, 30, 40, 50, 20, 20, 20])"
      ],
      "metadata": {
        "id": "lci6HhbpHXw2"
      },
      "execution_count": null,
      "outputs": []
    },
    {
      "cell_type": "code",
      "source": [
        "range(100) # 처음에 (0, 100)만 생성. 순회하기 전까지는 메모리를 잡아먹지 않음"
      ],
      "metadata": {
        "id": "TiQWMQLmGvgy"
      },
      "execution_count": null,
      "outputs": []
    },
    {
      "cell_type": "code",
      "source": [
        "for i in filter(f, [10, 20, 30, 40, 50, 20, 20, 20]):\n",
        "    print(i)"
      ],
      "metadata": {
        "id": "bPwFa3puHlwK"
      },
      "execution_count": null,
      "outputs": []
    },
    {
      "cell_type": "code",
      "source": [
        "list(filter(lambda x: x!=20, [10, 20, 30, 40, 50, 20, 20, 20]))"
      ],
      "metadata": {
        "id": "HQMLo3OLHt8D"
      },
      "execution_count": null,
      "outputs": []
    },
    {
      "cell_type": "code",
      "source": [
        "l = [5, 6, 4, 3, 8, 9, 1]\n",
        "l.reverse() # 역 정렬이 아니고 역순이며 원본을 만집니다.\n",
        "l"
      ],
      "metadata": {
        "id": "KtAmX2ujVycd"
      },
      "execution_count": null,
      "outputs": []
    },
    {
      "cell_type": "code",
      "source": [
        "l = [5, 6, 4, 3, 8, 9, 1]\n",
        "print(list(reversed(l))) # 역 정렬이 아니고 역순이며 원본을 만지지 않습니다.\n",
        "print(l)"
      ],
      "metadata": {
        "id": "hnSrXaszWE8F"
      },
      "execution_count": null,
      "outputs": []
    },
    {
      "cell_type": "code",
      "source": [
        "# l.reverse() : 리스트의 메서드이며, return None 입니다! 원본이 역순, 원본을 만집니다.\n",
        "# reversed(l) : 빌트인펑션이며, return 역순 입니다! 원본을 만지지 않습니다."
      ],
      "metadata": {
        "id": "9yUfEbf7WZ7f"
      },
      "execution_count": null,
      "outputs": []
    },
    {
      "cell_type": "code",
      "source": [
        "ㅣ = [5, 6, 4, 3, 8, 9, 1]\n",
        "print(l.reverse())\n",
        "l"
      ],
      "metadata": {
        "id": "yANXrwI3WuIf"
      },
      "execution_count": null,
      "outputs": []
    },
    {
      "cell_type": "code",
      "source": [
        "ㅣ = [5, 6, 4, 3, 8, 9, 1]\n",
        "print(list(reversed(l)))\n",
        "print(l)"
      ],
      "metadata": {
        "id": "73nIvqyDW3zr"
      },
      "execution_count": null,
      "outputs": []
    },
    {
      "cell_type": "code",
      "source": [
        "print(reversed(l))"
      ],
      "metadata": {
        "id": "i-hhYyQcXGXt"
      },
      "execution_count": null,
      "outputs": []
    },
    {
      "cell_type": "code",
      "source": [
        "print(type(range(10)))"
      ],
      "metadata": {
        "id": "gDsEZFFyXcxm"
      },
      "execution_count": null,
      "outputs": []
    },
    {
      "cell_type": "markdown",
      "source": [
        "## sort"
      ],
      "metadata": {
        "id": "5l7YSe3AH0d5"
      }
    },
    {
      "cell_type": "code",
      "source": [
        "l = [1, 5, 4, 2, 8, 5, 10, 9, 2, 3]\n",
        "l.sort() # 원본을 만지고, 반환값은 None\n",
        "l"
      ],
      "metadata": {
        "id": "ZUKh9nk_H2IU"
      },
      "execution_count": null,
      "outputs": []
    },
    {
      "cell_type": "code",
      "source": [
        "l = [1, 5, 4, 2, 8, 5, 10, 9, 2, 3]\n",
        "print(sorted([1, 5, 4, 2, 8, 5, 10, 9, 2, 3]))\n",
        "# 원본을 만지지 않고, 반환값은 정렬된 값\n",
        "print(l)"
      ],
      "metadata": {
        "id": "kQCeG5xKIfpF"
      },
      "execution_count": null,
      "outputs": []
    },
    {
      "cell_type": "code",
      "source": [
        "# 이렇게 실무에서 진행하진 않습니다.\n",
        "l = [1, 5, 4, 2, 8, 5, 10, 9, 2, 3]\n",
        "l.sort() # 오름차순\n",
        "l.reverse()\n",
        "l"
      ],
      "metadata": {
        "id": "TowqixOGIy4h"
      },
      "execution_count": null,
      "outputs": []
    },
    {
      "cell_type": "code",
      "source": [
        "# 이렇게 많이 사용합니다.\n",
        "l = [1, 5, 4, 2, 8, 5, 10, 9, 2, 3]\n",
        "l.sort(reverse=True) # 내림차순\n",
        "l"
      ],
      "metadata": {
        "id": "UostcI2kJAF7"
      },
      "execution_count": null,
      "outputs": []
    },
    {
      "cell_type": "code",
      "source": [
        "l = [1, 5, 4, 2, 8, 5, 10, 9, 2, 3]\n",
        "sorted(l, reverse=True) # 내림차순\n",
        "l"
      ],
      "metadata": {
        "id": "ch9-l2VtJIcG"
      },
      "execution_count": null,
      "outputs": []
    },
    {
      "cell_type": "code",
      "source": [
        "l = [[1, 10, 'leehojun'], \n",
        "     [20, 30, 'hojun'], \n",
        "     [10, 20, 'weniv!'], \n",
        "     [1, 2, 'hello world'], \n",
        "     [55, 11, 'sun']]\n",
        "\n",
        "# 1. 글자 수 대로 정렬해주세요.\n",
        "def f(x): # x는 list의 한 줄 [1, 10, 'leehojun']\n",
        "    return len(x[2]) # 리턴되는 값은 기준으로 정렬하고 싶은 값. int형이어야 함.\n",
        "\n",
        "print(sorted(l, key=f, reverse=False))\n",
        "print(sorted(l, key=lambda x:len(x[2]), reverse=False))\n",
        "\n",
        "# 2. 맨 앞에 위치한 숫자대로 정렬해주세요.\n",
        "def f2(x):\n",
        "    return x[0]\n",
        "\n",
        "print(sorted(l))\n",
        "print(sorted(l, key=f2))\n",
        "print(sorted(l, key=lambda x:x[0]))\n",
        "\n",
        "# 3. 중앙에 위치한 값대로 정렬해주세요.\n",
        "\n",
        "def f3(x):\n",
        "    return x[1]\n",
        "\n",
        "print(sorted(l, key=f3))\n",
        "print(sorted(l, key=lambda x:x[1]))\n",
        "\n",
        "l = [[1, 10, 32], \n",
        "     [20, 30, 11], \n",
        "     [10, 20, 22], \n",
        "     [1, 2, 13], \n",
        "     [55, 11, 44]]\n",
        "\n",
        "\n",
        "# 4. 3개의 전체 합이 작은 순서대로 출력해주세요.\n",
        "\n",
        "def f4(x):\n",
        "    return x[0] + x[1] + x[2]\n",
        "\n",
        "def f5(x):\n",
        "    return sum(x)\n",
        "\n",
        "print(sorted(l, key=f4))\n",
        "print(sorted(l, key=f5))\n",
        "print(sorted(l, key=lambda x:sum(x)))\n",
        "print(sorted(l, key=sum))"
      ],
      "metadata": {
        "id": "YteZvQvwJgVI"
      },
      "execution_count": null,
      "outputs": []
    },
    {
      "cell_type": "code",
      "source": [
        "# https://codingdojang.com/scode/408?answer_mode=hide\n",
        "# 좌표 평면 문제가 나오면 차원 축소나 차원 확대가 가능한 문제인지 확인\n",
        "\n",
        "point = [1, 3, 4, 8, 13, 17, 20]\n",
        "point[1:]\n",
        "\n",
        "# [1, 3, 4, 8, 13, 17, 20]\n",
        "# [3, 4, 8, 13, 17, 20]"
      ],
      "metadata": {
        "id": "ZwTXMAZFNyfZ"
      },
      "execution_count": null,
      "outputs": []
    },
    {
      "cell_type": "code",
      "source": [
        "list(zip('hello', 'world'))"
      ],
      "metadata": {
        "id": "uxEUQwLYOZXz"
      },
      "execution_count": null,
      "outputs": []
    },
    {
      "cell_type": "code",
      "source": [
        "list(zip(point, point[1:]))"
      ],
      "metadata": {
        "id": "vpCogeAWOoQZ"
      },
      "execution_count": null,
      "outputs": []
    },
    {
      "cell_type": "code",
      "source": [
        "# 다음 문제를 풀어보세요.\n",
        "def f(x):\n",
        "    return x[1] - x[0]\n",
        "\n",
        "sorted(zip(point, point[1:]), key=f)"
      ],
      "metadata": {
        "id": "qPhlVkFWPEdQ"
      },
      "execution_count": null,
      "outputs": []
    },
    {
      "cell_type": "code",
      "source": [
        "def f(x):\n",
        "    return x[1] - x[0]\n",
        "\n",
        "sorted(zip(point, point[1:]), key=f)[0]"
      ],
      "metadata": {
        "id": "K-nrVTwIR4oi"
      },
      "execution_count": null,
      "outputs": []
    },
    {
      "cell_type": "code",
      "source": [
        "sorted(zip(point, point[1:]), key=lambda x:x[1]-x[0])[0]"
      ],
      "metadata": {
        "id": "pU06dsxbR-Nh"
      },
      "execution_count": null,
      "outputs": []
    },
    {
      "cell_type": "code",
      "source": [
        "# https://school.programmers.co.kr/learn/courses/30/lessons/120835\n",
        "# 응급도\n",
        "# [3, 76, 24]\n",
        "# 우선순위\n",
        "# [3, 1, 2]\n",
        "\n",
        "l = [3, 76, 24]\n",
        "정렬된값 = sorted(l, reverse=True)\n",
        "정렬된값\n",
        "# 우리가 원하는 값 [2, 0, 1]\n",
        "\n",
        "결과값 = [\n",
        "            정렬된값.index(l[0]),\n",
        "            정렬된값.index(l[1]),\n",
        "            정렬된값.index(l[2])\n",
        "        ]\n",
        "결과값"
      ],
      "metadata": {
        "id": "5z5LJwpJUFw9"
      },
      "execution_count": null,
      "outputs": []
    },
    {
      "cell_type": "markdown",
      "source": [
        "## !!20230503 오늘 배운 것 정리\n"
      ],
      "metadata": {
        "id": "sDVdK3P-Od99"
      }
    },
    {
      "cell_type": "markdown",
      "source": [
        "1. 함수\n",
        "    1. 코드 덩어리(정말 쉽게 설명하면)\n",
        "    2. 코드를 재사용 할 수 있으며, 실수를 줄일 수 있습니다.\n",
        "    3. 코드의 구조를 한 눈에 파악할 수 있습니다.\n",
        "    4. 형태\n",
        "        ```python\n",
        "        # 파선아실(파라미터는 선언할 때, 아규먼트는 실제)\n",
        "        def function(x, y):\n",
        "            z = x + y\n",
        "            return z\n",
        "        print(f'function(5, 7) = {function(5, 7)}')\n",
        "        ```\n",
        "    5. 함수 안에 함수와 함수 안에 변수는 밖에서 접근이 불가합니다.\n",
        "    6. 지역 변수와 전역 변수\n",
        "        * 전역변수 : 전역에서 접근할 수 있는 변수\n",
        "        * 지역변수 : 함수 내에서만 접근할 수 있는 변수\n",
        "        ```python\n",
        "        # 전역변수는 각 함수에서 접근은 가능하지만 수정이 되진 않습니다.\n",
        "        # only read\n",
        "        # global이라는 키워드로 밖에 있는 변수를 수정할 수도 있지만 권하지 않습니다.\n",
        "        # 권하지 않기에 요약자료에도 없습니다.\n",
        "        a = 100\n",
        "        def f():\n",
        "            a = a + 1\n",
        "        f()\n",
        "        ```\n",
        "    7. 재귀함수\n",
        "        * 내가 나를 호출하는 것입니다.\n",
        "        * 재귀 <-> for문은 대부분 호환이 가능합니다.\n",
        "        * 반복문 사용하시기를 권합니다!\n",
        "        * 어렵고 효율도 안좋아요! (얼마나 효율이 안좋은지도 확인해보겠습니다.)\n",
        "        * 필수적으로 사용하는 곳이 있습니다.\n",
        "        ```python\n",
        "        def f(n):\n",
        "            if n <= 1:\n",
        "                return 1\n",
        "            else:\n",
        "                return n * f(n-1)\n",
        "\n",
        "        f(5)\n",
        "        ```\n",
        "2. list (리스트)\n",
        "    * 순서를 가진 데이터들의 집합(Sequence)\n",
        "    * 리스트는 값의 변경\n",
        "    * 리스트 안에 리스트로 다차원의 리스트를 만드는 것도 가능\n",
        "    * 리스트 안에 다른 딕셔너리, 셋, 튜플 등을 넣는 것도 가능합니다\n",
        "    ```python\n",
        "    l = [10, 20, 30, 40]\n",
        "    print(l[0]) # 순서로 값 호출\n",
        "    l[0] = 1000 # 값의 변경 가능\n",
        "    print(l)\n",
        "\n",
        "    data = [[1, 2, 3], # 다차원 배열\n",
        "        [4, 5, 6],\n",
        "        [7, 8, 9]]\n",
        "\n",
        "    print(data)\n",
        "    ```\n",
        "    * 리스트 메서드\n",
        "        * append : 맨 뒤에 값 추가\n",
        "        * clear : 모든 값 지우기\n",
        "        * copy : 얕은 복사\n",
        "        * count : 갯수 세기\n",
        "        * extend : 확장하기(뒤에 순회 가능한 객체가 들어오면 순차적으로 추가)\n",
        "        * index : 위치 찾기\n",
        "        * insert : 삽입하기\n",
        "        * pop: 맨 뒤에서 값 꺼내기(index가 들어오면 index에서 값 꺼냄)\n",
        "        * remove : 값 지우기\n",
        "        * reverse : 역순\n",
        "        * sort : 정렬\n"
      ],
      "metadata": {
        "id": "sh1pTPzeE25q"
      }
    },
    {
      "cell_type": "markdown",
      "source": [
        "## 깊은 복사와 얕은 복사"
      ],
      "metadata": {
        "id": "UuRQ0s4dQoIM"
      }
    },
    {
      "cell_type": "code",
      "source": [
        "# 아무런 복사도 이뤄지지 않은 상태\n",
        "l = [[1, 2, 3], [4, 5, 6]]\n",
        "ll = l\n",
        "ll[0][0] = 10\n",
        "l, ll"
      ],
      "metadata": {
        "id": "07uqa94cWY09"
      },
      "execution_count": null,
      "outputs": []
    },
    {
      "cell_type": "code",
      "source": [
        "# 얕은 복사\n",
        "l = [1000, 2000, 3000, 4000, 5000, 6000]\n",
        "ll = l.copy()\n",
        "ll[0] = 10\n",
        "l, ll"
      ],
      "metadata": {
        "id": "84Rcc7yeWnbA"
      },
      "execution_count": null,
      "outputs": []
    },
    {
      "cell_type": "code",
      "source": [
        "l = [1000, 2000, 3000, 1000, 1000, 1000]\n",
        "id([0]), id(l[3]), id(l[4]), id(l[5])"
      ],
      "metadata": {
        "id": "5O8e4nEGYMiR"
      },
      "execution_count": null,
      "outputs": []
    },
    {
      "cell_type": "code",
      "source": [
        "# 얕은 복사\n",
        "l = [1000, 2000, 3000, 4000, 5000, 6000]\n",
        "ll = l.copy()\n",
        "id(l[0]), id(ll[0]) # 같은 값이 나오니까 같은 객체를 가리키고 있다?"
      ],
      "metadata": {
        "id": "bzIPFeZkW8vL"
      },
      "execution_count": null,
      "outputs": []
    },
    {
      "cell_type": "code",
      "source": [
        "# 얕은 복사\n",
        "l = [1000, 2000, 3000, 4000, 5000, 6000]\n",
        "ll = l.copy()\n",
        "id(l), id(ll) # ㅣ = [ㅇ, ㅇ ,ㅇ] / ll = [ㅇ, ㅇ, ㅇ]"
      ],
      "metadata": {
        "id": "24cSrutqXNOX"
      },
      "execution_count": null,
      "outputs": []
    },
    {
      "cell_type": "code",
      "source": [
        "l = [[1, 2, 3], [4, 5, 6]]\n",
        "ll = l.copy()\n",
        "ll[0][0] = 10\n",
        "l, ll"
      ],
      "metadata": {
        "id": "-QsZZUXsYgyK"
      },
      "execution_count": null,
      "outputs": []
    },
    {
      "cell_type": "code",
      "source": [
        "id(l[0]), id(ll[0])"
      ],
      "metadata": {
        "id": "_zdevhMvYqlC"
      },
      "execution_count": null,
      "outputs": []
    },
    {
      "cell_type": "code",
      "source": [
        "# 얕은 복사\n",
        "l = [[1, 2, 3], [4, 5, 6]]\n",
        "ll = l.copy()\n",
        "ll[0] = 100\n",
        "l, ll"
      ],
      "metadata": {
        "id": "yrS4BU1cYzz4"
      },
      "execution_count": null,
      "outputs": []
    },
    {
      "cell_type": "code",
      "source": [
        "# 깊은 복사\n",
        "import copy\n",
        "\n",
        "l = [[1, 2, 3], [4, 5, 6]]\n",
        "ll = copy.deepcopy(l)\n",
        "ll[0][0] = 10\n",
        "l, ll"
      ],
      "metadata": {
        "id": "42U0J3HTZFA-"
      },
      "execution_count": null,
      "outputs": []
    },
    {
      "cell_type": "code",
      "source": [
        "# 깊은 복사\n",
        "import copy\n",
        "\n",
        "l = [[1, 2, 3], [4, 5, 6]]\n",
        "ll = copy.deepcopy(l)\n",
        "ll[0][0] = 10\n",
        "id(l), id(ll)\n",
        "id(l[0]), id(ll[0])\n",
        "id(l[0][0]), id(ll[0][0])"
      ],
      "metadata": {
        "id": "Rq07fr0rZdw5"
      },
      "execution_count": null,
      "outputs": []
    },
    {
      "cell_type": "code",
      "source": [
        "# 깊은 복사\n",
        "import copy\n",
        "\n",
        "l = [[1, 2, [1, [999, 998]]], [4, 5, [2, [333, 332]]]]\n",
        "ll = copy.deepcopy(l)\n",
        "ll[0][2][1][0] = 10\n",
        "l, ll\n",
        "id(l), id(ll)\n",
        "id(l[0]), id(ll[0])\n",
        "id(l[0][0]), id(ll[0][0])"
      ],
      "metadata": {
        "id": "C69ixGWrZrWV"
      },
      "execution_count": null,
      "outputs": []
    },
    {
      "cell_type": "markdown",
      "source": [
        "* 얕은 복사는 1 계층만 복사합니다.\n",
        "* 깊은 복사는 n 계층까지 모두 복사합니다."
      ],
      "metadata": {
        "id": "3qe7UgyWaHzG"
      }
    },
    {
      "cell_type": "markdown",
      "source": [
        "* 나를 이해시키는 단 하나의 코드는 반드시 존재합니다."
      ],
      "metadata": {
        "id": "g40pyl7xag_h"
      }
    },
    {
      "cell_type": "code",
      "source": [
        "# 얕은 복사\n",
        "l = [[1, 2, 3], [4, 5, 6]]\n",
        "ll = l[:]\n",
        "l[0] = 100\n",
        "l, ll"
      ],
      "metadata": {
        "id": "TYTZKNEWaxHA"
      },
      "execution_count": null,
      "outputs": []
    },
    {
      "cell_type": "code",
      "source": [
        "# 얕은 복사\n",
        "l = [[1, 2, 3], [4, 5, 6]]\n",
        "ll = l[:] # l.copy()를 써도 마찬가지입니다.\n",
        "l[0][0] = 100\n",
        "l, ll"
      ],
      "metadata": {
        "id": "i3lXenXCbSzN"
      },
      "execution_count": null,
      "outputs": []
    },
    {
      "cell_type": "code",
      "source": [
        "# sorted도 얕은 복사!\n",
        "l = [[1, 2], [3, 4], [5, 6]]\n",
        "ll = sorted(l)\n",
        "l[0][0] = 100\n",
        "l, ll"
      ],
      "metadata": {
        "id": "5AmbxmS_flNf"
      },
      "execution_count": null,
      "outputs": []
    },
    {
      "cell_type": "code",
      "source": [
        "# 얕은 복사\n",
        "# 리스트 컴프리헨션은 안배운 내용이니 keep해두시고\n",
        "# for문 배운 다음 다시 오셔서 복습하시기를 권해드립니다.\n",
        "l = [[1, 2, 3], [4, 5, 6]]\n",
        "ll = [i for i in l]\n",
        "l[0][0] = 100\n",
        "l, ll"
      ],
      "metadata": {
        "id": "gfbXWqqsbdpK"
      },
      "execution_count": null,
      "outputs": []
    },
    {
      "cell_type": "code",
      "source": [
        "# 1단계 깊은 복사\n",
        "# 리스트 컴프리헨션은 안배운 내용이니 keep해두시고\n",
        "# for문 배운 다음 다시 오셔서 복습하시기를 권해드립니다.\n",
        "l = [[1, 2, 3], [4, 5, 6]]\n",
        "ll = [i[:] for i in l]\n",
        "l[0][0] = 100\n",
        "l, ll"
      ],
      "metadata": {
        "id": "FFJ8hO_lbvYA"
      },
      "execution_count": null,
      "outputs": []
    },
    {
      "cell_type": "markdown",
      "source": [
        "## 다차원 리스트"
      ],
      "metadata": {
        "id": "RHx2Bm0iccN1"
      }
    },
    {
      "cell_type": "code",
      "source": [
        "a = [[1, 2, 3],\n",
        "     [11, 22, 33],\n",
        "     ['leehojun', 20, 30]]\n",
        "\n",
        "# 문제 : jun만 뽑아주세요!\n",
        "print(a[2][0][-3:])\n",
        "print(a[2][0][5:])\n",
        "print(a[2][0][5], a[2][0][6], a[2][0][7], sep='')"
      ],
      "metadata": {
        "id": "Sapqf2yXcbm-"
      },
      "execution_count": null,
      "outputs": []
    },
    {
      "cell_type": "markdown",
      "source": [
        "## 리스트에서 built-in function을 활용"
      ],
      "metadata": {
        "id": "0byCC-rjgOvP"
      }
    },
    {
      "cell_type": "markdown",
      "source": [
        "* 알아야 하는 built-in function\n",
        "```\n",
        "    A\n",
        "    abs()\n",
        "    all()\n",
        "    any()\n",
        "\n",
        "    B\n",
        "    bin()\n",
        "    bool()\n",
        "\n",
        "    C\n",
        "    chr()\n",
        "\n",
        "    D\n",
        "    dict()\n",
        "    dir()\n",
        "\n",
        "    E\n",
        "    enumerate()\n",
        "    eval()\n",
        "\n",
        "    F\n",
        "    filter()\n",
        "    float()\n",
        "\n",
        "    G\n",
        "    globals()\n",
        "\n",
        "    H\n",
        "    help()\n",
        "    hex()\n",
        "\n",
        "    I\n",
        "    id()\n",
        "    input()\n",
        "    int()\n",
        "    isinstance()\n",
        "    issubclass()\n",
        "    iter()\n",
        "\n",
        "    L\n",
        "    len()\n",
        "    list()\n",
        "    locals()\n",
        "\n",
        "    M\n",
        "    map()\n",
        "    max()\n",
        "    min()\n",
        "\n",
        "    N\n",
        "    next()\n",
        "\n",
        "    O\n",
        "    object()\n",
        "    oct()\n",
        "    open()\n",
        "    ord()\n",
        "\n",
        "    P\n",
        "    pow()\n",
        "    print()\n",
        "    property()\n",
        "\n",
        "    R\n",
        "    range()\n",
        "    repr()\n",
        "    reversed()\n",
        "    round()\n",
        "\n",
        "    S\n",
        "    set()\n",
        "    setattr()\n",
        "    slice()\n",
        "    sorted()\n",
        "    staticmethod()\n",
        "    str()\n",
        "    sum()\n",
        "    super()\n",
        "\n",
        "    T\n",
        "    tuple()\n",
        "    type()\n",
        "\n",
        "    V\n",
        "    vars()\n",
        "\n",
        "    Z\n",
        "    zip()\n",
        "```"
      ],
      "metadata": {
        "id": "QL2nr5Sog9_M"
      }
    },
    {
      "cell_type": "code",
      "source": [
        "a = [1, 2, 3, 4, 5, 6, 7, 8]\n",
        "print(max(a)) #최댓값\n",
        "print(min(a)) #최솟값\n",
        "print(sum(a)) #전체값의 합"
      ],
      "metadata": {
        "id": "ew9iDWPVgN6I"
      },
      "execution_count": null,
      "outputs": []
    },
    {
      "cell_type": "code",
      "source": [
        "#2차원\n",
        "a = [[1, 2, 3, 'a'],\n",
        "     [11, 22, 33, 'aaa'],\n",
        "     [10, 2000, 30, 'aa']]\n",
        "\n",
        "max(a, key=lambda x:x[1])\n",
        "max(a, key=lambda x:len(x[3]))"
      ],
      "metadata": {
        "id": "p5Z2LvZ4hwuO"
      },
      "execution_count": null,
      "outputs": []
    },
    {
      "cell_type": "code",
      "source": [
        "# 이름, 별점, 객실수, 가격\n",
        "호텔 = [\n",
        "        ['이스트소프트 호텔', 5, 100, 155000 ],\n",
        "        ['삼스트소프트 호텔', 4, 80, 145000 ],\n",
        "        ['사스트소프트 호텔', 3, 70, 135000 ]\n",
        "        # 마지막에 콤마를 허락하는 언어는 제한적(특히 JSON에서는 엄격해)\n",
        "       ]\n",
        "\n",
        "max(a, key=lambda x:x[3]) # 가장 가격이 높은 것을 뽑아낼 수 있음\n",
        "min(a, key=lambda x:x[3]) # 가장 가격이 낮은 것을 뽑아낼 수 있음\n",
        "max(a, key=lambda x:len(x[3]))"
      ],
      "metadata": {
        "id": "nY5GzMVdiV-E"
      },
      "execution_count": null,
      "outputs": []
    },
    {
      "cell_type": "code",
      "source": [
        "#2차원\n",
        "a = [[1, 2, 3],\n",
        "     [11, 22, 33],\n",
        "     [10, 2000, 30]]\n",
        "     \n",
        "max(a, key=lambda x:x[1])\n",
        "min(a, key=lambda x:x[1])\n",
        "# sum(a) error\n",
        "sum(a, [])"
      ],
      "metadata": {
        "id": "FjwT3QAKh_mf"
      },
      "execution_count": null,
      "outputs": []
    },
    {
      "cell_type": "markdown",
      "source": [
        "## 리스트의 순회"
      ],
      "metadata": {
        "id": "0WhiSVxHkfy0"
      }
    },
    {
      "cell_type": "code",
      "source": [
        "#1차원\n",
        "a = [1, 2, 3, 4, 5, 6, 7, 8]\n",
        "\n",
        "# for 변수 in 순회가능한 객체\n",
        "for i in a:\n",
        "     print(i)"
      ],
      "metadata": {
        "id": "c2D_-DeekijD"
      },
      "execution_count": null,
      "outputs": []
    },
    {
      "cell_type": "code",
      "source": [
        "#2차원\n",
        "a = [[1, 2, 3],\n",
        "     [11, 22, 33],\n",
        "     [13, 20000, 300000]]\n",
        "\n",
        "for i in a:\n",
        "    print(i)\n",
        "    print('---')\n",
        "print('end')"
      ],
      "metadata": {
        "id": "Z_Lsu9tskzxF"
      },
      "execution_count": null,
      "outputs": []
    },
    {
      "cell_type": "code",
      "source": [
        "#2차원\n",
        "a = [[1, 2, 3],\n",
        "     [11, 22, 33],\n",
        "     [13, 20000, 300000]]\n",
        "\n",
        "for i in a:\n",
        "    for j in i:\n",
        "        print(j)\n",
        "        print('---')\n",
        "print('end')"
      ],
      "metadata": {
        "id": "_Fp5bxmIlWAC"
      },
      "execution_count": null,
      "outputs": []
    },
    {
      "cell_type": "markdown",
      "source": [
        "## range"
      ],
      "metadata": {
        "id": "2Kgu5stNm630"
      }
    },
    {
      "cell_type": "code",
      "source": [
        "# range(start, stop, step)\n",
        "# 슬라이싱과 같은 규칙\n",
        "# 슬라이싱은 ':'(콜론)으로 연결되어 있고\n",
        "# range는 ','(콤마)로 연결되어 있습니다.\n",
        "\n",
        "print(list(range(100)))\n",
        "# python 2.x에서 python 3.x에 range를 사용하고 싶다면 xrange(10)\n",
        "print(list(range(5, 10)))\n",
        "\n",
        "print(list(range(0, 101, 2))) # 짝수\n",
        "print(list(range(1, 101, 2))) # 홀수\n",
        "print(list(range(100, 1, -2))) \n",
        "\n",
        "print(sum(list(range(0, 101)))) # list로 형변환 함으로써 리소스가 낭비됩니다.\n",
        "print(sum(range(0, 101))) # 이렇게 형 변환을 하지 않고 sum하시는 것을 권합니다.\n"
      ],
      "metadata": {
        "id": "4Ld_n4_0m861"
      },
      "execution_count": null,
      "outputs": []
    },
    {
      "cell_type": "markdown",
      "source": [
        "## list comprehension"
      ],
      "metadata": {
        "id": "W_J89gCapTD6"
      }
    },
    {
      "cell_type": "code",
      "source": [
        "# l = [1, 2, 3, 4, ...]\n",
        "# list(range(1, 101))\n",
        "l = []\n",
        "for i in range(1, 101):\n",
        "    l.append(i)\n",
        "l"
      ],
      "metadata": {
        "id": "TT_hd6lupSgJ"
      },
      "execution_count": null,
      "outputs": []
    },
    {
      "cell_type": "code",
      "source": [
        "# l = []\n",
        "# 연산을 해서 리스트에 넣고 싶을 때는 단순 range로 생성하는 것은 불가능.\n",
        "# for i in range(1, 11):\n",
        "#     l.append(i**i)\n",
        "# l\n",
        "\n",
        "l = [i**i for i in range(1, 11)]\n",
        "l\n",
        "\n",
        "# i -> append(i) 와 같은 의미\n",
        "l = [i for i in range(1, 11)]\n",
        "l"
      ],
      "metadata": {
        "id": "8L1Vtscep8Q4"
      },
      "execution_count": null,
      "outputs": []
    },
    {
      "cell_type": "code",
      "source": [
        "l = []\n",
        "for i in range(1, 100):\n",
        "    if i %3 == 0 or i %5 == 0:\n",
        "        l.append(i)\n",
        "\n",
        "# [i for i in range(1, 100) if i %3 == 0 or i %5 == 0]\n"
      ],
      "metadata": {
        "id": "miOdniz9qoTL"
      },
      "execution_count": null,
      "outputs": []
    },
    {
      "cell_type": "markdown",
      "source": [
        "## turple (튜플)"
      ],
      "metadata": {
        "id": "1Jjhe6179ghH"
      }
    },
    {
      "cell_type": "markdown",
      "source": [
        "- 튜플은 순서가 있는 시퀀스형 자료형입니다.\n",
        "- 참조값은 변경이 불가능(immutable) 합니다.\n",
        "- 다른 자료형을 입력할 수 있으며, 튜플 안에 튜플로 다차원의 튜플을 만드는 것도 가능합니다.\n",
        "- 값의 중복을 허락합니다."
      ],
      "metadata": {
        "id": "7r8VhZon9jDf"
      }
    },
    {
      "cell_type": "code",
      "source": [
        "t = (l, 20, 30)\n",
        "# t[1] = 1000 # TypeError: 'tuple' object does not support item assignment"
      ],
      "metadata": {
        "id": "k-qRT91b9hvf"
      },
      "execution_count": null,
      "outputs": []
    },
    {
      "cell_type": "code",
      "source": [
        "l = [1, 2, 3]\n",
        "t = (l, 20, 30) # 불변인 것을 t가 l을 참조하고 있다는 것이 불변\n",
        "l[0] = 1000\n",
        "t"
      ],
      "metadata": {
        "id": "zzbyHRr_-C26"
      },
      "execution_count": null,
      "outputs": []
    },
    {
      "cell_type": "code",
      "source": [
        "t = (10, 20, 30, 40, 50)\n",
        "t[:3] # 슬라이싱을 하면 다른 객체. t 자체는 불변"
      ],
      "metadata": {
        "id": "sqS5x5XC-jat"
      },
      "execution_count": null,
      "outputs": []
    },
    {
      "cell_type": "code",
      "source": [
        "type(t), dir(t)"
      ],
      "metadata": {
        "id": "r3mDVXze-dlI"
      },
      "execution_count": null,
      "outputs": []
    },
    {
      "cell_type": "code",
      "source": [
        "t = (10, 20, 30, 40, 50, 20)\n",
        "t.index(20), t.count(20)"
      ],
      "metadata": {
        "id": "jIolCIix-wGo"
      },
      "execution_count": null,
      "outputs": []
    },
    {
      "cell_type": "code",
      "source": [
        "t = tuple('leehojun')\n",
        "t\n",
        "t = tuple()\n",
        "t\n",
        "t = tuple(range(10))\n",
        "t\n",
        "t = (1)\n",
        "t\n",
        "t = (1,) #원소를 하나씩 넣고 싶을 때는 콤마(,)를 사용해줍니다.\n",
        "t"
      ],
      "metadata": {
        "id": "2-8rs3eS--LO"
      },
      "execution_count": null,
      "outputs": []
    },
    {
      "cell_type": "markdown",
      "source": [
        "## dict (딕셔너리, 사전형)"
      ],
      "metadata": {
        "id": "DTBeT6PM_m8U"
      }
    },
    {
      "cell_type": "markdown",
      "source": [
        "- 딕셔너리는 순서가 없는 자료형입니다.\n",
        "- 사전형은 Key와 Value 가 하나의 묶음으로 이루어진 자료 체계입니다.\n",
        "- 값의 변경이 가능합니다.\n",
        "- 다른 자료형을 입력할 수 있습니다.\n",
        "- 키의 중복은 허락하지 않고, 값의 중복을 허락합니다."
      ],
      "metadata": {
        "id": "G9ZHL9Sh_rJz"
      }
    },
    {
      "cell_type": "code",
      "source": [
        "d = {'one' : '하나', 'two' : '둘', 'three' : '셋'}\n",
        "d\n",
        "d['one']"
      ],
      "metadata": {
        "id": "PhCjq9EYABfW"
      },
      "execution_count": null,
      "outputs": []
    },
    {
      "cell_type": "code",
      "source": [
        "d['two'] = '투'\n",
        "d"
      ],
      "metadata": {
        "id": "P9P-fC0RA0Xa"
      },
      "execution_count": null,
      "outputs": []
    },
    {
      "cell_type": "code",
      "source": [
        "d = {} # dict\n",
        "type(d)\n",
        "\n",
        "d = {10} # set\n",
        "type(d)\n",
        "\n",
        "d = dict() # dict\n",
        "type(d)\n",
        "\n",
        "d = {'one' : 1} # dict\n",
        "type(d)"
      ],
      "metadata": {
        "id": "yXJj8mTjBKQh"
      },
      "execution_count": null,
      "outputs": []
    },
    {
      "cell_type": "code",
      "source": [
        "d = {'one' : '하나', 'two' : '둘', 'three' : '셋'}\n",
        "d.items()"
      ],
      "metadata": {
        "id": "I_6UDdPtBhEt"
      },
      "execution_count": null,
      "outputs": []
    },
    {
      "cell_type": "code",
      "source": [
        "dict([('one', '하나'), ('two', '둘'), ('three', '셋')])"
      ],
      "metadata": {
        "id": "SCH87nv4BxaC"
      },
      "execution_count": null,
      "outputs": []
    },
    {
      "cell_type": "code",
      "source": [
        "dict([['one', '하나'], ['two', '둘'], ['three', '셋']])"
      ],
      "metadata": {
        "id": "slC_NTp5B3PC"
      },
      "execution_count": null,
      "outputs": []
    },
    {
      "cell_type": "code",
      "source": [
        "dict(name='leehojun', age=10)"
      ],
      "metadata": {
        "id": "iv7Z0kUlCGLr"
      },
      "execution_count": null,
      "outputs": []
    },
    {
      "cell_type": "code",
      "source": [
        "list(zip('ABC', '123', 'abc'))\n",
        "\n",
        "dict(zip('ABC', '123')) # 형변환"
      ],
      "metadata": {
        "id": "ODwFoy08CL-b"
      },
      "execution_count": null,
      "outputs": []
    },
    {
      "cell_type": "code",
      "source": [
        "# 연습문제\n",
        "# dict와 zip를 사용해서 아래와 같은 형태로 데이터를 만들어주세요.\n",
        "# 잘 모르시겠으면 어떻게든 저 형태를 만들어주세요.\n",
        "\n",
        "# 원하는 형태 {'A': [10, 20], 'B': [20, 30], 'C': [30, 40]}\n",
        "\n",
        "dict(zip('ABC',[[10, 20], [20, 30], [30, 40]]))\n",
        "# dict(zip('ABC', [list(elem) for elem in zip([10, 20, 30], [20, 30, 40])]))\n",
        "# l = [10, 20, 30, 40]\n",
        "# dict(zip('ABC', zip(l, l[1:])))"
      ],
      "metadata": {
        "id": "dodTKGkvCgR8"
      },
      "execution_count": null,
      "outputs": []
    },
    {
      "cell_type": "code",
      "source": [
        "'B' in {'A': [10, 20], 'B': [20, 30], 'C': [30, 40]}"
      ],
      "metadata": {
        "id": "_oQ-Odu4Emr2"
      },
      "execution_count": null,
      "outputs": []
    },
    {
      "cell_type": "code",
      "source": [
        "len({'A': [10, 20], 'B': [20, 30], 'C': [30, 40]})"
      ],
      "metadata": {
        "id": "VCJTlawEJZDg"
      },
      "execution_count": null,
      "outputs": []
    },
    {
      "cell_type": "code",
      "source": [
        "# 공부해두시면 좋습니다!\n",
        "def switch(day):\n",
        "    return {\n",
        "        1: '월요일',\n",
        "        2: '화요일',\n",
        "        3: '수요일',\n",
        "        4: '목요일',\n",
        "        5: '금요일',\n",
        "        6: '토요일',\n",
        "        7: '일요일',\n",
        "    }[day]\n",
        "\n",
        "switch(7)\n",
        "# switch(8) # error"
      ],
      "metadata": {
        "id": "BEBOBrTeJZ_s"
      },
      "execution_count": null,
      "outputs": []
    },
    {
      "cell_type": "code",
      "source": [
        "def switch(day):\n",
        "    return {\n",
        "        1: '월요일',\n",
        "        2: '화요일',\n",
        "        3: '수요일',\n",
        "        4: '목요일',\n",
        "        5: '금요일',\n",
        "        6: '토요일',\n",
        "        7: '일요일',\n",
        "    }.get(day) # get을 사용하면 None을 줍니다\n",
        "\n",
        "switch(8) "
      ],
      "metadata": {
        "id": "h2wob_R5K0d8"
      },
      "execution_count": null,
      "outputs": []
    },
    {
      "cell_type": "code",
      "source": [
        "def switch(day):\n",
        "    return {\n",
        "        1: '월요일',\n",
        "        2: '화요일',\n",
        "        3: '수요일',\n",
        "        4: '목요일',\n",
        "        5: '금요일',\n",
        "        6: '토요일',\n",
        "        7: '일요일',\n",
        "    }.get(day,'요일을 찾지 못했습니다.')\n",
        "\n",
        "switch(8)\n",
        "# get을 사용하면 못찾는 값을 넣었을 때 '요일을 찾지 못했습니다.' 값을 줍니다."
      ],
      "metadata": {
        "id": "gProPKYyKn6G"
      },
      "execution_count": null,
      "outputs": []
    },
    {
      "cell_type": "code",
      "source": [
        "!python --version"
      ],
      "metadata": {
        "id": "9yleVWKzKAs4"
      },
      "execution_count": null,
      "outputs": []
    },
    {
      "cell_type": "code",
      "source": [
        "# 3.10버전 최신 문법에서는 match문법을 허용합니다!\n",
        "def number_to_string(agrument):\n",
        "    match agrument:\n",
        "        case 0:\n",
        "            return \"zero\"\n",
        "        case 1:\n",
        "            return \"one\"\n",
        "        case 2:\n",
        "            return \"two\"\n",
        "        case default:\n",
        "            return \"nothing\"\n",
        "\n",
        "number_to_string(1)"
      ],
      "metadata": {
        "id": "iSd74yKHJv0Y"
      },
      "execution_count": null,
      "outputs": []
    },
    {
      "cell_type": "code",
      "source": [
        "%%timeit\n",
        "\n",
        "s = 0\n",
        "for i in range(10000):\n",
        "    s += i"
      ],
      "metadata": {
        "id": "7usu0gobEs99"
      },
      "execution_count": null,
      "outputs": []
    },
    {
      "cell_type": "code",
      "source": [
        "%%timeit\n",
        "\n",
        "sum([i for i in range(10000)])"
      ],
      "metadata": {
        "id": "vfHEK0hgFTsH"
      },
      "execution_count": null,
      "outputs": []
    },
    {
      "cell_type": "code",
      "source": [
        "%%timeit\n",
        "\n",
        "sum(range(10000))"
      ],
      "metadata": {
        "id": "PQ-MjAlgFjai"
      },
      "execution_count": null,
      "outputs": []
    },
    {
      "cell_type": "code",
      "source": [
        "{'A': [10, 20], 'B': [20, 30], 'C': [30, 40]}.keys()"
      ],
      "metadata": {
        "id": "EH4sHph6LU4U"
      },
      "execution_count": null,
      "outputs": []
    },
    {
      "cell_type": "code",
      "source": [
        "{'A': [10, 20], 'B': [20, 30], 'C': [30, 40]}.values()"
      ],
      "metadata": {
        "id": "_m24byNZLeeH"
      },
      "execution_count": null,
      "outputs": []
    },
    {
      "cell_type": "code",
      "source": [
        "{'A': [10, 20], 'B': [20, 30], 'C': [30, 40]}.items()"
      ],
      "metadata": {
        "id": "2vcs247iLf3e"
      },
      "execution_count": null,
      "outputs": []
    },
    {
      "cell_type": "code",
      "source": [
        "dict.fromkeys('leehojun')"
      ],
      "metadata": {
        "id": "xUrSok8TLvbw"
      },
      "execution_count": null,
      "outputs": []
    },
    {
      "cell_type": "code",
      "source": [
        "dict.fromkeys('leehojun', 100)"
      ],
      "metadata": {
        "id": "emxfgmvlLzlW"
      },
      "execution_count": null,
      "outputs": []
    },
    {
      "cell_type": "code",
      "source": [
        "keys = ('name', 'age', 'grade')\n",
        "values = ('leehojun', '10', '수')\n",
        "\n",
        "dict.fromkeys(keys, values)"
      ],
      "metadata": {
        "id": "eDJNd42IMAC6"
      },
      "execution_count": null,
      "outputs": []
    },
    {
      "cell_type": "code",
      "source": [
        "d = {'one' : '하나', 'two' : '둘', 'three' : '셋'}\n",
        "d.update({'one' : 1, 'two' : 2})\n",
        "d"
      ],
      "metadata": {
        "id": "H1IvZFMUMj-S"
      },
      "execution_count": null,
      "outputs": []
    },
    {
      "cell_type": "code",
      "source": [
        "d = {'two' : 2, 'three' : '셋'}\n",
        "for i in d:\n",
        "    print(i)"
      ],
      "metadata": {
        "id": "V1SFfQbZND3Y"
      },
      "execution_count": null,
      "outputs": []
    },
    {
      "cell_type": "code",
      "source": [
        "d = {'two' : 2, 'three' : '셋'}\n",
        "for i in d:\n",
        "    print(d[i])"
      ],
      "metadata": {
        "id": "Kt68FDxBNGPA"
      },
      "execution_count": null,
      "outputs": []
    },
    {
      "cell_type": "markdown",
      "source": [
        "## 언패킹"
      ],
      "metadata": {
        "id": "-cUHz4-vNNbH"
      }
    },
    {
      "cell_type": "code",
      "source": [
        "# 패킹 : 1, 2, 3 => [1, 2, 3]\n",
        "# 언패킹 : [1, 2, 3] => 1, 2, 3"
      ],
      "metadata": {
        "id": "cVvJQ5_LNRAL"
      },
      "execution_count": null,
      "outputs": []
    },
    {
      "cell_type": "code",
      "source": [
        "a, b, c = 10, 20, 30\n",
        "a"
      ],
      "metadata": {
        "id": "FWHTLE7KNZXK"
      },
      "execution_count": null,
      "outputs": []
    },
    {
      "cell_type": "code",
      "source": [
        "a, b, c = (10, 20, 30) # 소괄호든 대괄호든 상관 없습니다.\n",
        "a"
      ],
      "metadata": {
        "id": "kksjqPMWNk_U"
      },
      "execution_count": null,
      "outputs": []
    },
    {
      "cell_type": "code",
      "source": [
        "i, j = [10, 20]\n",
        "i"
      ],
      "metadata": {
        "id": "T1a_yDfPNz7k"
      },
      "execution_count": null,
      "outputs": []
    },
    {
      "cell_type": "code",
      "source": [
        "for i, j in [[10, 20], [30, 40], [50, 60]]:\n",
        "    print(i, j)"
      ],
      "metadata": {
        "id": "opYlHwrGN0By"
      },
      "execution_count": null,
      "outputs": []
    },
    {
      "cell_type": "code",
      "source": [
        "for i, j, k in [[10, 20, [1, 2]], [30, 40, [3, 4]], [50, 60, [5, 6]]]:\n",
        "    print(i, j, k)"
      ],
      "metadata": {
        "id": "yyHkuS90OJG6"
      },
      "execution_count": null,
      "outputs": []
    },
    {
      "cell_type": "code",
      "source": [
        "for i, j, k in [[10, 20, [1, 2]], [30, 40, [3, 4]], [50, 60, []]]:\n",
        "    print(i, j, k)"
      ],
      "metadata": {
        "id": "KNYzKyrQOj73"
      },
      "execution_count": null,
      "outputs": []
    },
    {
      "cell_type": "code",
      "source": [
        "# swap\n",
        "a = 10\n",
        "b = 15\n",
        "a, b = b, a\n",
        "a, b"
      ],
      "metadata": {
        "id": "8ClO8JfkOnqw"
      },
      "execution_count": null,
      "outputs": []
    },
    {
      "cell_type": "code",
      "source": [
        "# swap in c\n",
        "a = 10\n",
        "b = 15\n",
        "temp = a\n",
        "a = b\n",
        "b = temp\n",
        "a, b"
      ],
      "metadata": {
        "id": "J8B8xaGcO3tV"
      },
      "execution_count": null,
      "outputs": []
    },
    {
      "cell_type": "code",
      "source": [
        "for i, j in d.items():\n",
        "     print(i, j)\n",
        "\n",
        "d.items()"
      ],
      "metadata": {
        "id": "aw6LAdjINJr6"
      },
      "execution_count": null,
      "outputs": []
    },
    {
      "cell_type": "markdown",
      "source": [
        "## max를 이용한 dict 최대 value의 key 값 가져오기"
      ],
      "metadata": {
        "id": "cSl2n1y5NruW"
      }
    },
    {
      "cell_type": "code",
      "source": [
        "d = {\n",
        "    'test1' : 10,\n",
        "    'test2' : 20,\n",
        "    'test3' : 31,\n",
        "    'test4' : 11,\n",
        "}\n",
        "\n",
        "# max(d.values()) # 31 # 이걸로는 뭔가 찾아내기가 힘듭니다.\n",
        "max(d, key=lambda x: d[x]) # # test3\n",
        "max(d, key=d.get) # test3"
      ],
      "metadata": {
        "id": "wCmxQslrPXOD"
      },
      "execution_count": null,
      "outputs": []
    },
    {
      "cell_type": "markdown",
      "source": [
        "## set (셋, 집합)"
      ],
      "metadata": {
        "id": "u1-M2Ku7QccZ"
      }
    },
    {
      "cell_type": "markdown",
      "source": [
        "* 집합 자료형은 중복을 허용하지 않으며\n",
        "* <U>순서가 없는<U> 자료형"
      ],
      "metadata": {
        "id": "ztGCpHbnRD7A"
      }
    },
    {
      "cell_type": "code",
      "source": [
        "n = set([1, 1, 2, 2, 3, 3, 4])\n",
        "print(n)"
      ],
      "metadata": {
        "id": "_TPA6QHIQtcA"
      },
      "execution_count": null,
      "outputs": []
    },
    {
      "cell_type": "code",
      "source": [
        "s = set('hello wolrd')\n",
        "print(s)"
      ],
      "metadata": {
        "id": "RYC-wC7BQ_PQ"
      },
      "execution_count": null,
      "outputs": []
    },
    {
      "cell_type": "code",
      "source": [
        "n = set([1, 1, 2, 2, 3, 3, 4])\n",
        "n.add(1000)\n",
        "print(n)"
      ],
      "metadata": {
        "id": "D0Qdp-MCTpfr"
      },
      "execution_count": null,
      "outputs": []
    },
    {
      "cell_type": "code",
      "source": [
        "n = set([1, 1, 2, 2, 3, 3, 4])\n",
        "n.update({10, 20})\n",
        "print(n)"
      ],
      "metadata": {
        "id": "QvxRlbKVT1q7"
      },
      "execution_count": null,
      "outputs": []
    },
    {
      "cell_type": "code",
      "source": [
        "n = set([1, 1, 2, 2, 3, 3, 4])\n",
        "n.remove(1)\n",
        "print(n)"
      ],
      "metadata": {
        "id": "Vsh4gBZHWW2M"
      },
      "execution_count": null,
      "outputs": []
    },
    {
      "cell_type": "markdown",
      "source": [
        "* pop은 실무에서 잘 사용하지 않습니다. 값을 랜덤하게 뽑아내기 때문입니다. 높은 확률로 앞에서부터 뽑아내긴 하지만 확률에 기대는 코딩을 하지 않기를 바랍니다. 공식문서에서는 랜덤하게 뽑아낸다고 되어 있습니다.\n",
        "* https://docs.python.org/3.11/library/stdtypes.html#frozenset.pop"
      ],
      "metadata": {
        "id": "QoxaF3ilXW2R"
      }
    },
    {
      "cell_type": "code",
      "source": [
        "# 교집합 별 3개\n",
        "a = {1, 2, 3}\n",
        "b = {3, 4, 5}\n",
        "a & b\n",
        "a.intersection(b)"
      ],
      "metadata": {
        "id": "M5kdLZR0Wfgl"
      },
      "execution_count": null,
      "outputs": []
    },
    {
      "cell_type": "code",
      "source": [
        "# 합집합\n",
        "a = {1, 2, 3}\n",
        "b = {3, 4, 5}\n",
        "a | b\n",
        "a.union(b)\n",
        "# a + b # error"
      ],
      "metadata": {
        "id": "A5Hi55ehX4-b"
      },
      "execution_count": null,
      "outputs": []
    },
    {
      "cell_type": "code",
      "source": [
        "# 차집합\n",
        "a = {1, 2, 3}\n",
        "b = {3, 4, 5}\n",
        "a - b\n",
        "a.difference(b)"
      ],
      "metadata": {
        "id": "_XBLvoToYM3N"
      },
      "execution_count": null,
      "outputs": []
    },
    {
      "cell_type": "code",
      "source": [
        "s = {1, 2, 3, 4}\n",
        "ss = {3, 4, 5, 6}\n",
        "s.issubset({1, 2})\n",
        "s.issubset({1, 2, 3, 4, 5, 6, 7, 8})"
      ],
      "metadata": {
        "id": "twYB4VTZYxa1"
      },
      "execution_count": null,
      "outputs": []
    },
    {
      "cell_type": "code",
      "source": [
        "# https://school.programmers.co.kr/learn/courses/30/lessons/120903?language=python3\n",
        "\n",
        "s1 = [\"a\", \"b\", \"c\"]\n",
        "s2 = [\"com\", \"b\", \"d\", \"p\", \"c\"]\n",
        "\t\n",
        "def solution(s1, s2):\n",
        "    return len(set(s1) & set(s2))\n",
        "\n",
        "solution(s1, s2)"
      ],
      "metadata": {
        "id": "nN_hrEIphZj7"
      },
      "execution_count": null,
      "outputs": []
    },
    {
      "cell_type": "code",
      "source": [
        "# https://school.programmers.co.kr/learn/courses/30/lessons/120888\n",
        "\n",
        "# my_string\t    result\n",
        "# \"people\"\t    \"peol\""
      ],
      "metadata": {
        "id": "S3re95mkRCWX"
      },
      "execution_count": null,
      "outputs": []
    },
    {
      "cell_type": "code",
      "source": [
        "# my_string\t    result\n",
        "# \"people\"\t    \"peol\"\n",
        "\n",
        "result = ''\n",
        "for i in 'people':\n",
        "    if i not in result:\n",
        "        result += i\n",
        "result"
      ],
      "metadata": {
        "id": "OgB47YMyY2mm"
      },
      "execution_count": null,
      "outputs": []
    },
    {
      "cell_type": "code",
      "source": [
        "def solution(my_string):\n",
        "    return set(my_string)\n",
        "\n",
        "solution('people')"
      ],
      "metadata": {
        "id": "4qvxv6TdSVRH"
      },
      "execution_count": null,
      "outputs": []
    },
    {
      "cell_type": "code",
      "source": [
        "def solution(my_string):\n",
        "    return ''.join(set(my_string))\n",
        "\n",
        "solution('people')"
      ],
      "metadata": {
        "id": "MLuqYisOShUr"
      },
      "execution_count": null,
      "outputs": []
    },
    {
      "cell_type": "code",
      "source": [
        "# 순서대로 결과를 얻는 방법\n",
        "# my_strig을 순회하면서 set에 포함이 되면 넣어줘.\n",
        "\n",
        "def solution(my_string):\n",
        "    집합 = set(my_string) # {'e', 'l', 'o', 'p'}\n",
        "    result = ''\n",
        "    for i in my_string:\n",
        "        if i in 집합:\n",
        "            result += i\n",
        "            집합.remove(i)\n",
        "    return result\n",
        "\n",
        "solution('people')"
      ],
      "metadata": {
        "id": "IV3XqyzkTWAY"
      },
      "execution_count": null,
      "outputs": []
    },
    {
      "cell_type": "markdown",
      "source": [
        "## !! 연습문제"
      ],
      "metadata": {
        "id": "cm3IYGZXapEs"
      }
    },
    {
      "cell_type": "code",
      "source": [
        "# 1번\n",
        "student_score = {\n",
        "\t\t'홍의': 97,\n",
        "\t\t'원희': 60,\n",
        "\t\t'동해': 77,\n",
        "\t\t'변수': 79,\n",
        "\t\t'창현': 89,\n",
        "}\n",
        "\n",
        "총점 = sum(student_score.values())\n",
        "평균 = 총점/len(student_score)\n",
        "높은_이름 = max(student_score, key=student_score.get)\n",
        "높은_점수 = student_score[높은_이름]\n",
        "낮은_이름 = min(student_score, key=student_score.get)\n",
        "낮은_점수 = student_score[낮은_이름]"
      ],
      "metadata": {
        "id": "Iz8EtxuHaqw9"
      },
      "execution_count": null,
      "outputs": []
    },
    {
      "cell_type": "code",
      "source": [
        "# 2번\n",
        "like = ['볶음밥', '라면', '국수', '파스타', '치킨', '짜장면', '국밥']\n",
        "dislike = ['국밥', '짬뽕', '찜닭', '파스타', '국수', '카레', '덮밥']\n",
        "\n",
        "# 메뉴 = []\n",
        "# for i in like:\n",
        "#     if i not in dislike:\n",
        "#         메뉴.append(i)\n",
        "# 메뉴\n",
        "\n",
        "set(like).difference(set(dislike))"
      ],
      "metadata": {
        "id": "vaczv3Lfdif2"
      },
      "execution_count": null,
      "outputs": []
    },
    {
      "cell_type": "markdown",
      "source": [
        "## !!20230504 오늘 배운 것 정리"
      ],
      "metadata": {
        "id": "k4LUxpwwuWl_"
      }
    },
    {
      "cell_type": "markdown",
      "source": [
        "1. sort\n",
        "    * sorted는 원본을 만지지 않는 'built-in function', 정렬입니다.\n",
        "    * sort는 원본을 만지는 '리스트 메서드', 정렬입니다.\n",
        "    * sort의 다양한 예\n",
        "        ```python\n",
        "        l = [[1, 10, 'leehojun'], \n",
        "            [20, 30, 'hojun'], \n",
        "            [10, 20, 'weniv!'], \n",
        "            [1, 2, 'hello world'], \n",
        "            [55, 11, 'sun']]\n",
        "\n",
        "        # 1. 글자 수 대로 정렬해주세요.\n",
        "        def f(x):\n",
        "            return len(x[2])\n",
        "\n",
        "        print(sorted(l, key=f, reverse=False))\n",
        "        print(sorted(l, key=lambda x:len(x[2]), reverse=False))\n",
        "\n",
        "        # 2. 맨 앞에 위치한 숫자대로 정렬해주세요.\n",
        "        def f2(x):\n",
        "            return x[0]\n",
        "\n",
        "        print(sorted(l))\n",
        "        print(sorted(l, key=f2))\n",
        "        print(sorted(l, key=lambda x:x[0]))\n",
        "\n",
        "        # 3. 중앙에 위치한 값대로 정렬해주세요.\n",
        "\n",
        "        def f3(x):\n",
        "            return x[1]\n",
        "\n",
        "        print(sorted(l))\n",
        "        print(sorted(l, key=f3))\n",
        "        print(sorted(l, key=lambda x:x[1]))\n",
        "\n",
        "        l = [[1, 10, 32], \n",
        "            [20, 30, 11], \n",
        "            [10, 20, 22], \n",
        "            [1, 2, 13], \n",
        "            [55, 11, 44]]\n",
        "            \n",
        "        # 4. 3개의 전체 합이 작은 순서대로 출력해주세요.\n",
        "\n",
        "        def f4(x):\n",
        "            return x[0] + x[1] + x[2]\n",
        "\n",
        "        def f5(x):\n",
        "            return sum(x)\n",
        "\n",
        "        print(sorted(l, key=f4))\n",
        "        print(sorted(l, key=f5))\n",
        "        print(sorted(l, key=lambda x: sum(x)))\n",
        "        print(sorted(l, key=sum))\n",
        "        ```\n",
        "\n",
        "2. 깊은 복사와 얕은 복사\n",
        "    1. 깊은 복사 : 완전히 다른 객체를 만듭니다.(깊은 복사는 n 계층까지 모두 복사)\n",
        "        ```python\n",
        "        # 깊은 복사\n",
        "        import copy\n",
        "\n",
        "        l = [[1, 2, 3], [4, 5, 6]]\n",
        "        ll = copy.deepcopy(l)\n",
        "        ll[0][0] = 10\n",
        "        l, ll\n",
        "        ```\n",
        "    2. 얕은 복사 : 내용물은 같은 다른 객체를 만듭니다.(얕은 복사는 1 계층만 복사)\n",
        "        ```python\n",
        "        # 얕은 복사\n",
        "        l = [[1, 2, 3], [4, 5, 6]]\n",
        "        ll = l[:] # l.copy, sorted를 써도 마찬가지입니다.\n",
        "        l[0][0] = 100\n",
        "        l, ll\n",
        "        ```\n",
        "\n",
        "3. range\n",
        "    ```python\n",
        "    # range(start, stop, step) \n",
        "    # 슬라이싱은 ':'(콜론)으로 연결되어 있고\n",
        "    # range는 ','(콤마)로 연결되어 있습니다.\n",
        "\n",
        "    print(list(range(100))) \n",
        "    # python 2.x에서 python 3.x에 range를 사용하고 싶다면 xrange(10)\n",
        "    print(list(range(5, 10)))\n",
        "\n",
        "    print(list(range(0, 101, 2))) #짝수\n",
        "    print(list(range(1, 101, 2))) #홀수\n",
        "    print(list(range(100, 1, -2)))\n",
        "    print(sum(list(range(0, 101))))\n",
        "    print(sum(range(0, 101))) # 이렇게 형 변환을 하지 않고 sum하시는 것을 권합니다.\n",
        "    ```\n",
        "\n",
        "4. list comprehension\n",
        "    ```python\n",
        "    # l = []\n",
        "    # for i in range(1, 11):\n",
        "    #     l.append(i**i)\n",
        "    # l\n",
        "\n",
        "    l = [i**i for i in range(1, 11)]\n",
        "    l\n",
        "    ```\n",
        "\n",
        "5. tuple\n",
        "    - 튜플은 순서가 있는 시퀀스형 자료형입니다.\n",
        "    - 참조값은 변경이 불가능(immutable) 합니다.\n",
        "        ```python\n",
        "        t = (10, 20, 30)\n",
        "        t[1] = 1000 # error\n",
        "        ```\n",
        "    - 다른 자료형을 입력할 수 있으며, 튜플 안에 튜플로 다차원의 튜플을 만드는 것도 가능합니다.\n",
        "    - 값의 중복을 허락합니다.\n",
        "    - 메서드는 index와 count밖에 없습니다.\n",
        "\n",
        "6. dict (딕셔너리, 사전형)\n",
        "    - 딕셔너리는 순서가 없는 자료형입니다.\n",
        "    - 사전형은 Key와 Value 가 하나의 묶음으로 이루어진 자료 체계입니다.\n",
        "    - 값의 변경이 가능합니다.\n",
        "        ```python\n",
        "        d = {'one' : '하나', 'two' : '둘', 'three' : '셋'}\n",
        "        print(d['one']) # 호출\n",
        "        d['two'] = '투' # 변경\n",
        "        d\n",
        "        ```\n",
        "    - 다른 자료형을 입력할 수 있습니다.\n",
        "    - 키의 중복은 허락하지 않고, 값의 중복을 허락합니다.\n",
        "    - dict를 활용한 switch 만들기\n",
        "        ```python\n",
        "        def switch(day):\n",
        "            return {\n",
        "                1 : '월요일',\n",
        "                2 : '화요일',\n",
        "                3 : '수요일',\n",
        "                4 : '목요일',\n",
        "                5 : '금요일',\n",
        "                6 : '토요일',\n",
        "                7 : '일요일',\n",
        "            }.get(day, '요일을 찾지 못했습니다.')\n",
        "\n",
        "        switch(8) \n",
        "        ```\n",
        "    - max를 이용한 dict 최대 value의 key값 가져오기\n",
        "        ```python\n",
        "        d = {\n",
        "            'test1': 10,\n",
        "            'test2': 20,\n",
        "            'test3': 31,\n",
        "            'test4': 11,\n",
        "        }\n",
        "\n",
        "        # max(d.values()) # 이걸로는 뭔가 찾아내기 힘듭니다.\n",
        "        max(d, key=lambda x: d[x])\n",
        "        max(d, key=d.get) #많이 사용하는 코드입니다.\n",
        "        ```\n",
        "\n",
        "7. 언패킹\n",
        "    * 언패킹 예\n",
        "        ```python\n",
        "        for i, j, k in [[10, 20, [1, 2]], [30, 40, [3, 4]], [50, 60, [5, 6]]]:\n",
        "            print(i, j, k)\n",
        "        ```\n",
        "    * swap 예\n",
        "        ```python\n",
        "        # swap\n",
        "        a = 10\n",
        "        b = 15\n",
        "        a, b = b, a\n",
        "        a, b\n",
        "        ```\n",
        "\n",
        "8. set (셋, 집합)\n",
        "    * 집합 자료형은 중복을 허용하지 않으며\n",
        "    * 순서가 없는 자료형\n",
        "        ```python\n",
        "        n = set([1, 1, 2, 2, 3, 3, 4])\n",
        "        print(n)\n",
        "        ```\n",
        "    * 메서드\n",
        "        - add : 값 추가\n",
        "        - update : 값 여러개 추가\n",
        "        - remove : 제거\n",
        "        - copy : 값 복사\n",
        "        - union : 합집합\n",
        "        - intersection : 교집합\n",
        "        - difference : 차집합\n",
        "        - issubset : 부분집합"
      ],
      "metadata": {
        "id": "PlZgH6gOubDV"
      }
    },
    {
      "cell_type": "markdown",
      "source": [
        "## (질의응답) max(student_score, key=student_score.get)"
      ],
      "metadata": {
        "id": "SdCknXtCiz93"
      }
    },
    {
      "cell_type": "code",
      "source": [
        "# l의 내용들이 하나씩 함수에 들어갔다 return되는데, 들어갔다 리턴된 값들은 임시로 저장 -> 얕은 복사\n",
        "def 함수(x):\n",
        "    print(x, ll[x])\n",
        "    return ll[x]\n",
        "l = [2, 4, 5, 3, 6, 0, 7, 1]\n",
        "ll = [10, 20, 30, 40, 50, 60, 70, 80]\n",
        "\n",
        "max(l, key=함수) # max를 함수를 기준으로 l이 아닌 ll[]에서 찾아서 l의 값을 반환"
      ],
      "metadata": {
        "colab": {
          "base_uri": "https://localhost:8080/"
        },
        "id": "zdB9FeEmjQ7M",
        "outputId": "e18f7083-8dfc-4ea5-d19c-4396e189ca12"
      },
      "execution_count": 5,
      "outputs": [
        {
          "output_type": "stream",
          "name": "stdout",
          "text": [
            "2 30\n",
            "4 50\n",
            "5 60\n",
            "3 40\n",
            "6 70\n",
            "0 10\n",
            "7 80\n",
            "1 20\n"
          ]
        },
        {
          "output_type": "execute_result",
          "data": {
            "text/plain": [
              "7"
            ]
          },
          "metadata": {},
          "execution_count": 5
        }
      ]
    },
    {
      "cell_type": "code",
      "source": [
        "def 함수(x):\n",
        "    print(x, ll[x])\n",
        "    return ll[x]\n",
        "\n",
        "l = [2, 4, 5, 3, 6, 0, 7, 1]\n",
        "ll = ['hello', 'a', 'bb', 'ccc', 'a', 'bbbb', 'hello world', 'cc']\n",
        "\n",
        "max(l, key=함수) # l이 순회되면서 함수(x)로 들어가"
      ],
      "metadata": {
        "colab": {
          "base_uri": "https://localhost:8080/"
        },
        "id": "_pOLlDeak4fy",
        "outputId": "c96aee16-4781-4569-e792-1bfa5d0b212f"
      },
      "execution_count": 6,
      "outputs": [
        {
          "output_type": "stream",
          "name": "stdout",
          "text": [
            "2 bb\n",
            "4 a\n",
            "5 bbbb\n",
            "3 ccc\n",
            "6 hello world\n",
            "0 hello\n",
            "7 cc\n",
            "1 a\n"
          ]
        },
        {
          "output_type": "execute_result",
          "data": {
            "text/plain": [
              "6"
            ]
          },
          "metadata": {},
          "execution_count": 6
        }
      ]
    },
    {
      "cell_type": "code",
      "source": [
        "def 함수(x):\n",
        "    return d.get(x)\n",
        "\n",
        "d = {\n",
        "      'test1': 10,\n",
        "      'test2': 20,\n",
        "      'test3': 31,\n",
        "      'test4': 11,\n",
        "}\n",
        "\n",
        "# max(d, key=함수)\n",
        "# max(d, key=d.get)\n",
        "# max(d, key=lambda x: d[x])"
      ],
      "metadata": {
        "colab": {
          "base_uri": "https://localhost:8080/",
          "height": 35
        },
        "id": "Dy2tHXvDlvm3",
        "outputId": "a2e167f7-cc55-4562-c09b-71c54a85d815"
      },
      "execution_count": 8,
      "outputs": [
        {
          "output_type": "execute_result",
          "data": {
            "text/plain": [
              "'test3'"
            ],
            "application/vnd.google.colaboratory.intrinsic+json": {
              "type": "string"
            }
          },
          "metadata": {},
          "execution_count": 8
        }
      ]
    },
    {
      "cell_type": "code",
      "source": [
        "# return에 초점을 맞춰주세요.\n",
        "def 함수(x):\n",
        "    return len(x)\n",
        "\n",
        "l = ['a', 'bb','ccc', 'dd']\n",
        "\n",
        "max(l, key = 함수)\n",
        "max(l, key = len)"
      ],
      "metadata": {
        "colab": {
          "base_uri": "https://localhost:8080/",
          "height": 35
        },
        "id": "xwwEWWCAmngS",
        "outputId": "a0124e61-871a-4f31-ef0c-e44e1e568bb7"
      },
      "execution_count": 9,
      "outputs": [
        {
          "output_type": "execute_result",
          "data": {
            "text/plain": [
              "'ccc'"
            ],
            "application/vnd.google.colaboratory.intrinsic+json": {
              "type": "string"
            }
          },
          "metadata": {},
          "execution_count": 9
        }
      ]
    },
    {
      "cell_type": "code",
      "source": [
        "# 수학을 잘하는 학생이 과학도 잘하나?\n",
        "# 수학에서의 1등이 과학에서도 1등인가?\n",
        "# 수학에 속한 학생 중 과학1등 구하기\n",
        "\n",
        "def 함수(x):\n",
        "    return d.get(x)\n",
        "\n",
        "수학 = {\n",
        "      '학생1': 10,\n",
        "      '학생2': 20,\n",
        "      '학생3': 31,\n",
        "      '학생4': 11,\n",
        "}\n",
        "\n",
        "과학 = {\n",
        "      '학생1': 11,\n",
        "      '학생2': 17,\n",
        "      '학생3': 13,\n",
        "      '학생4': 11,\n",
        "      '학생5': 25,\n",
        "      '학생6': 100,\n",
        "}\n",
        "\n",
        "수학점수가가장큰사람 = max(수학, key=수학.get)\n",
        "과학점수가가장큰사람 = max(과학, key=과학.get)\n",
        "과학점수가가장큰사람 = max(수학, key=과학.get) # 기준은 수학 / 정렬은 과학\n",
        "과학점수가가장큰사람"
      ],
      "metadata": {
        "colab": {
          "base_uri": "https://localhost:8080/",
          "height": 35
        },
        "id": "vxJQhOGZnRZQ",
        "outputId": "46f4ec75-6097-41c6-aff1-56bf83992e2e"
      },
      "execution_count": 14,
      "outputs": [
        {
          "output_type": "execute_result",
          "data": {
            "text/plain": [
              "'학생2'"
            ],
            "application/vnd.google.colaboratory.intrinsic+json": {
              "type": "string"
            }
          },
          "metadata": {},
          "execution_count": 14
        }
      ]
    },
    {
      "cell_type": "markdown",
      "source": [
        "## (질의응답) 함수의 아규먼트 순서"
      ],
      "metadata": {
        "id": "JXG3itmei5w4"
      }
    },
    {
      "cell_type": "code",
      "source": [
        "def f(a, b, c):\n",
        "    print(a, b, c)\n",
        "\n",
        "# f() # error\n",
        "# f(100, 10) # error\n",
        "f(a=100, b=200, c=300)\n",
        "f(c=300, a=100, b=200) #실무에서 이렇게 순서를 바꿔서 넣지 않고 보통 순서를 지켜줍니다.\n",
        "\n",
        "# 실무에서 언제 사용이 될까요?\n",
        "# 파라미터, 아규먼츠가 매우 많을 때\n",
        "# 이런 함수가 나오면 이 함수가 무엇을 뜻하는 것일까요?\n",
        "# addNewControl(\"Title\", 20, 50, 100, 50, 200, 300, 150)\n",
        "# addNewControl(title=\"Title\", height=20, width=50, textlen = 100, ...)\n",
        "# 어? 컨트롤 박스를 만드는 구나..."
      ],
      "metadata": {
        "colab": {
          "base_uri": "https://localhost:8080/"
        },
        "id": "qhRIp1gOpq8X",
        "outputId": "11b0f495-a8d8-4f39-856c-e40457c9a583"
      },
      "execution_count": 15,
      "outputs": [
        {
          "output_type": "stream",
          "name": "stdout",
          "text": [
            "100 200 300\n",
            "100 200 300\n"
          ]
        }
      ]
    },
    {
      "cell_type": "code",
      "source": [
        "def f(a=10, b=20, c=30):\n",
        "    print(a, b, c)\n",
        "\n",
        "f()\n",
        "f(100, 10)\n",
        "f(a=100, b=200, c=300)\n",
        "f(c=300, a=100, b=200)"
      ],
      "metadata": {
        "colab": {
          "base_uri": "https://localhost:8080/"
        },
        "id": "e7SHVFBvrOc3",
        "outputId": "82afa15b-c111-4fa3-c39d-3cc57c0cba87"
      },
      "execution_count": 16,
      "outputs": [
        {
          "output_type": "stream",
          "name": "stdout",
          "text": [
            "10 20 30\n",
            "100 10 30\n",
            "100 200 300\n",
            "100 200 300\n"
          ]
        }
      ]
    },
    {
      "cell_type": "code",
      "source": [
        "def f(a=10, b=20, c): # c만 default value를 안주게 되면 error, 순서대로 안주어야 합니다.\n",
        "    print(a, b, c)\n",
        "\n",
        "# f() # error\n",
        "# f(100, 10) # error\n",
        "# f(a=100, b=200, c=300) # error\n",
        "# f(c=300, a=100, b=200) # error\n",
        "# f(c=300) # error"
      ],
      "metadata": {
        "id": "ttJnJYRGruqM"
      },
      "execution_count": null,
      "outputs": []
    },
    {
      "cell_type": "code",
      "source": [
        "def f(a, b=20, c=10): # 순서대로 안주어야 하기 때문에 a에 값을 넣지 않았습니다.\n",
        "    print(a, b, c)\n",
        "\n",
        "# f() # error\n",
        "f(100, 10)\n",
        "f(a=100, b=200, c=300)\n",
        "f(c=300, a=100, b=200)"
      ],
      "metadata": {
        "colab": {
          "base_uri": "https://localhost:8080/"
        },
        "id": "Po3ieMGksDd6",
        "outputId": "d0e0b8e7-82e0-49e7-c465-887baaf19bfd"
      },
      "execution_count": 20,
      "outputs": [
        {
          "output_type": "stream",
          "name": "stdout",
          "text": [
            "100 10 10\n",
            "100 200 300\n",
            "100 200 300\n"
          ]
        }
      ]
    },
    {
      "cell_type": "markdown",
      "source": [
        "## (질의응답) zip, map 등 한 번 순회가 되면 안되는 이유"
      ],
      "metadata": {
        "id": "uKQiTQsQislW"
      }
    },
    {
      "cell_type": "code",
      "source": [
        "# zip을 많이 사용하지 않기 때문에 재사용이 안됨. 일회용임.\n",
        "# 한 번 순회하면 끝.\n",
        "# 메모리를 절약할 수 있다.\n",
        "a = [1, 2, 3]\n",
        "b = ['a', 'b', 'c']\n",
        "\n",
        "z = zip(a, b)\n",
        "print(list(z)) # [(1, 'a'), (2, 'b'), (3, 'c')]\n",
        "\n",
        "# zip 객체는 한 번 사용되었으므로 빈 리스트가 반환됩니다.\n",
        "print(list(z)) # []"
      ],
      "metadata": {
        "colab": {
          "base_uri": "https://localhost:8080/"
        },
        "id": "rNMGRkQJvcfP",
        "outputId": "74e378e6-3f51-47c2-a385-6de39a30901d"
      },
      "execution_count": 22,
      "outputs": [
        {
          "output_type": "stream",
          "name": "stdout",
          "text": [
            "[(1, 'a'), (2, 'b'), (3, 'c')]\n",
            "[]\n"
          ]
        }
      ]
    },
    {
      "cell_type": "code",
      "source": [
        "li = [1, 2, 3]\n",
        "st = ['a', 'b', 'c']\n",
        "z = zip(li, st)\n",
        "\n",
        "for i in z:\n",
        "    print(i)\n",
        "\n",
        "for i in z:\n",
        "    print(i)"
      ],
      "metadata": {
        "colab": {
          "base_uri": "https://localhost:8080/"
        },
        "id": "v8hIBSalvyj-",
        "outputId": "96ef61f8-6297-4c8f-c5d6-6265c6a45628"
      },
      "execution_count": 23,
      "outputs": [
        {
          "output_type": "stream",
          "name": "stdout",
          "text": [
            "(1, 'a')\n",
            "(2, 'b')\n",
            "(3, 'c')\n"
          ]
        }
      ]
    },
    {
      "cell_type": "code",
      "source": [
        "li = [1, 2, 3]\n",
        "st = ['a', 'b', 'c']\n",
        "i = iter(zip(li, st))\n",
        "next(i)"
      ],
      "metadata": {
        "colab": {
          "base_uri": "https://localhost:8080/"
        },
        "id": "-AFx0uoZv8od",
        "outputId": "d56f421f-e838-41d4-a467-e6031541d146"
      },
      "execution_count": 24,
      "outputs": [
        {
          "output_type": "execute_result",
          "data": {
            "text/plain": [
              "(1, 'a')"
            ]
          },
          "metadata": {},
          "execution_count": 24
        }
      ]
    },
    {
      "cell_type": "code",
      "source": [
        "next(i)"
      ],
      "metadata": {
        "colab": {
          "base_uri": "https://localhost:8080/"
        },
        "id": "MTQ1Wl_fwNxJ",
        "outputId": "e27f1e9a-dcee-47fc-ced4-3036092cf2ae"
      },
      "execution_count": 25,
      "outputs": [
        {
          "output_type": "execute_result",
          "data": {
            "text/plain": [
              "(2, 'b')"
            ]
          },
          "metadata": {},
          "execution_count": 25
        }
      ]
    },
    {
      "cell_type": "code",
      "source": [
        "next(i)"
      ],
      "metadata": {
        "colab": {
          "base_uri": "https://localhost:8080/"
        },
        "id": "fw-aO7P8wQOs",
        "outputId": "591b926f-6c4e-4560-e582-9cb270cbdad8"
      },
      "execution_count": 26,
      "outputs": [
        {
          "output_type": "execute_result",
          "data": {
            "text/plain": [
              "(3, 'c')"
            ]
          },
          "metadata": {},
          "execution_count": 26
        }
      ]
    },
    {
      "cell_type": "code",
      "source": [
        "next(i) # StopIteration"
      ],
      "metadata": {
        "colab": {
          "base_uri": "https://localhost:8080/",
          "height": 171
        },
        "id": "-j3vshnUwRie",
        "outputId": "80f6e5e1-c6cb-4342-afc6-3addd98004d8"
      },
      "execution_count": 27,
      "outputs": [
        {
          "output_type": "error",
          "ename": "StopIteration",
          "evalue": "ignored",
          "traceback": [
            "\u001b[0;31m---------------------------------------------------------------------------\u001b[0m",
            "\u001b[0;31mStopIteration\u001b[0m                             Traceback (most recent call last)",
            "\u001b[0;32m<ipython-input-27-67b7c3a79bcc>\u001b[0m in \u001b[0;36m<cell line: 1>\u001b[0;34m()\u001b[0m\n\u001b[0;32m----> 1\u001b[0;31m \u001b[0mnext\u001b[0m\u001b[0;34m(\u001b[0m\u001b[0mi\u001b[0m\u001b[0;34m)\u001b[0m \u001b[0;31m# StopIteration\u001b[0m\u001b[0;34m\u001b[0m\u001b[0;34m\u001b[0m\u001b[0m\n\u001b[0m",
            "\u001b[0;31mStopIteration\u001b[0m: "
          ]
        }
      ]
    },
    {
      "cell_type": "code",
      "source": [
        "li = [1, 2, 3]\n",
        "z = map(lambda x:x**2, li)\n",
        "\n",
        "for i in z:\n",
        "    print(i)\n",
        "\n",
        "for i in z:\n",
        "    print(i)"
      ],
      "metadata": {
        "colab": {
          "base_uri": "https://localhost:8080/"
        },
        "id": "WhVdgxsNwlvi",
        "outputId": "b9d20b75-d157-42eb-96ad-4c371b6dc3aa"
      },
      "execution_count": 29,
      "outputs": [
        {
          "output_type": "stream",
          "name": "stdout",
          "text": [
            "1\n",
            "4\n",
            "9\n"
          ]
        }
      ]
    },
    {
      "cell_type": "code",
      "source": [
        "li = [1, 2, 3]\n",
        "z = reversed(li)\n",
        "\n",
        "for i in z:\n",
        "    print(i)\n",
        "\n",
        "for i in z:\n",
        "    print(i)"
      ],
      "metadata": {
        "colab": {
          "base_uri": "https://localhost:8080/"
        },
        "id": "s70y47mDwr04",
        "outputId": "7d376257-69fb-4a47-9c25-6fac65442499"
      },
      "execution_count": 30,
      "outputs": [
        {
          "output_type": "stream",
          "name": "stdout",
          "text": [
            "3\n",
            "2\n",
            "1\n"
          ]
        }
      ]
    },
    {
      "cell_type": "code",
      "source": [
        "li = [1, 2, 3]\n",
        "z = filter(lambda x:x>1, li)\n",
        "\n",
        "for i in z:\n",
        "    print(i)\n",
        "\n",
        "for i in z:\n",
        "    print(i)"
      ],
      "metadata": {
        "colab": {
          "base_uri": "https://localhost:8080/"
        },
        "id": "6pUsKAbqwtGs",
        "outputId": "365ac6ab-a875-4c38-fe9c-941c694c375e"
      },
      "execution_count": 28,
      "outputs": [
        {
          "output_type": "stream",
          "name": "stdout",
          "text": [
            "2\n",
            "3\n"
          ]
        }
      ]
    },
    {
      "cell_type": "code",
      "source": [
        "# sorted는 많이 사용되기 때문에 계속 순회가 가능하게 설계가 되어 있습니다.\n",
        "# 이런 설계를 뒤에서 우리가 직접 해보게 될 것입니다.\n",
        "li = [1, 2, 3]\n",
        "z = sorted(li)\n",
        "\n",
        "for i in z:\n",
        "    print(i)\n",
        "\n",
        "for i in z:\n",
        "    print(i)"
      ],
      "metadata": {
        "colab": {
          "base_uri": "https://localhost:8080/"
        },
        "id": "Vhra5pnKwzRR",
        "outputId": "73fd443f-4727-4167-d484-5286b5e458ec"
      },
      "execution_count": 31,
      "outputs": [
        {
          "output_type": "stream",
          "name": "stdout",
          "text": [
            "1\n",
            "2\n",
            "3\n",
            "1\n",
            "2\n",
            "3\n"
          ]
        }
      ]
    },
    {
      "cell_type": "markdown",
      "source": [
        "## 조건문"
      ],
      "metadata": {
        "id": "er7FMCD1xikI"
      }
    },
    {
      "cell_type": "markdown",
      "source": [
        "* if, elif, else, continuem break"
      ],
      "metadata": {
        "id": "FkmAQT93xkRM"
      }
    },
    {
      "cell_type": "code",
      "source": [
        "x = 2\n",
        "if x > 1  and x < 10:\n",
        "    print('True')"
      ],
      "metadata": {
        "id": "q9PPWwvtzH-g"
      },
      "execution_count": null,
      "outputs": []
    },
    {
      "cell_type": "code",
      "source": [
        "if True:\n",
        "    print('hello')"
      ],
      "metadata": {
        "colab": {
          "base_uri": "https://localhost:8080/"
        },
        "id": "Yi7IsXqrzhaI",
        "outputId": "be8fdb31-78e5-4be3-dd28-ba47c84f1473"
      },
      "execution_count": 36,
      "outputs": [
        {
          "output_type": "stream",
          "name": "stdout",
          "text": [
            "hello\n"
          ]
        }
      ]
    },
    {
      "cell_type": "code",
      "source": [
        "if 12309:\n",
        "    print('hello')"
      ],
      "metadata": {
        "colab": {
          "base_uri": "https://localhost:8080/"
        },
        "id": "Ck4Oe6X9zjLH",
        "outputId": "c1fc04ea-7885-4dfa-a87a-d8f5611a4207"
      },
      "execution_count": 33,
      "outputs": [
        {
          "output_type": "stream",
          "name": "stdout",
          "text": [
            "hello\n"
          ]
        }
      ]
    },
    {
      "cell_type": "code",
      "source": [
        "def f():\n",
        "    return False # True 와 False로 바꿔보세요\n",
        "\n",
        "if f():\n",
        "    print('hello')\n",
        "    print('one')\n",
        "print('two')"
      ],
      "metadata": {
        "colab": {
          "base_uri": "https://localhost:8080/"
        },
        "id": "swpYRNJ4zmIR",
        "outputId": "2f1625e9-649a-4f42-aa7c-bead88691289"
      },
      "execution_count": 35,
      "outputs": [
        {
          "output_type": "stream",
          "name": "stdout",
          "text": [
            "two\n"
          ]
        }
      ]
    },
    {
      "cell_type": "code",
      "source": [
        "if '': # [], {}, '' 는 모두 False 취급 합니다.\n",
        "    print('hello')\n",
        "    print('one')\n",
        "print('two')"
      ],
      "metadata": {
        "colab": {
          "base_uri": "https://localhost:8080/"
        },
        "id": "e4rZNysUz-xh",
        "outputId": "7dc0f166-e08a-45d1-da65-94fc2384f5dd"
      },
      "execution_count": 37,
      "outputs": [
        {
          "output_type": "stream",
          "name": "stdout",
          "text": [
            "two\n"
          ]
        }
      ]
    },
    {
      "cell_type": "code",
      "source": [
        "if ' ': # 공백이 있는 것입니다. True\n",
        "    print('hello')\n",
        "    print('one')\n",
        "print('two')"
      ],
      "metadata": {
        "colab": {
          "base_uri": "https://localhost:8080/"
        },
        "id": "lHUSybZW0JuC",
        "outputId": "d9ad5378-ee8e-4d8a-9db5-8efae89214f8"
      },
      "execution_count": 38,
      "outputs": [
        {
          "output_type": "stream",
          "name": "stdout",
          "text": [
            "hello\n",
            "one\n",
            "two\n"
          ]
        }
      ]
    },
    {
      "cell_type": "code",
      "source": [
        "if [          ]: # False\n",
        "    print('hello')\n",
        "    print('one')\n",
        "print('two')"
      ],
      "metadata": {
        "colab": {
          "base_uri": "https://localhost:8080/"
        },
        "id": "pp6e1Nyd0QA8",
        "outputId": "094cd653-3292-4288-80c0-cc6df64d9904"
      },
      "execution_count": 39,
      "outputs": [
        {
          "output_type": "stream",
          "name": "stdout",
          "text": [
            "two\n"
          ]
        }
      ]
    },
    {
      "cell_type": "code",
      "source": [
        "if [,]: # SyntaxError\n",
        "    print('hello')\n",
        "    print('one')\n",
        "print('two')"
      ],
      "metadata": {
        "colab": {
          "base_uri": "https://localhost:8080/",
          "height": 135
        },
        "id": "JsNYQ0ck0Xdb",
        "outputId": "54ed12af-530f-4213-ca87-26b0f2abb308"
      },
      "execution_count": 40,
      "outputs": [
        {
          "output_type": "error",
          "ename": "SyntaxError",
          "evalue": "ignored",
          "traceback": [
            "\u001b[0;36m  File \u001b[0;32m\"<ipython-input-40-ee5bd3acfecf>\"\u001b[0;36m, line \u001b[0;32m1\u001b[0m\n\u001b[0;31m    if [,]: # 공백이 있는 것입니다. True\u001b[0m\n\u001b[0m        ^\u001b[0m\n\u001b[0;31mSyntaxError\u001b[0m\u001b[0;31m:\u001b[0m invalid syntax\n"
          ]
        }
      ]
    },
    {
      "cell_type": "code",
      "source": [
        "if [10,\n",
        "    20,\n",
        "    30, # 마지막 콤마는 허락합니다!. 소괄호, 중괄호, 대괄호에 공백은 병합합니다.\n",
        "    ]:\n",
        "    print('hello')\n",
        "    print('one')\n",
        "print('two')"
      ],
      "metadata": {
        "colab": {
          "base_uri": "https://localhost:8080/"
        },
        "id": "9pZ7CC0n0iEE",
        "outputId": "db04679e-84ac-49c7-bdf7-4ca673fda87b"
      },
      "execution_count": 41,
      "outputs": [
        {
          "output_type": "stream",
          "name": "stdout",
          "text": [
            "hello\n",
            "one\n",
            "two\n"
          ]
        }
      ]
    },
    {
      "cell_type": "code",
      "source": [
        "if None: \n",
        "    print('false')"
      ],
      "metadata": {
        "id": "QGTQBMqM2Zhf"
      },
      "execution_count": 44,
      "outputs": []
    },
    {
      "cell_type": "code",
      "source": [
        "class int(int):\n",
        "    def __eq__(self, next):\n",
        "        return True\n",
        "        \n",
        "if int('11') == int('10'): # == 는 __eq__, __eq__ 를 True로 반환하도록 하므로 무조건 True\n",
        "    print('hello')"
      ],
      "metadata": {
        "colab": {
          "base_uri": "https://localhost:8080/"
        },
        "id": "QYbS5yUi1Yan",
        "outputId": "54170093-59e1-49f5-a8dc-3e1d3778d47a"
      },
      "execution_count": 43,
      "outputs": [
        {
          "output_type": "stream",
          "name": "stdout",
          "text": [
            "hello\n"
          ]
        }
      ]
    },
    {
      "cell_type": "code",
      "source": [
        "if 10 > 11:\n",
        "    print('one') \n",
        "    print('two')\n",
        "print('three')\n",
        "else: # error\n",
        "    print('four')"
      ],
      "metadata": {
        "colab": {
          "base_uri": "https://localhost:8080/",
          "height": 135
        },
        "id": "dPHFgoZW2zJx",
        "outputId": "96aa1460-83b3-4ccf-e209-537659ca5659"
      },
      "execution_count": 45,
      "outputs": [
        {
          "output_type": "error",
          "ename": "SyntaxError",
          "evalue": "ignored",
          "traceback": [
            "\u001b[0;36m  File \u001b[0;32m\"<ipython-input-45-64e95f8c62a5>\"\u001b[0;36m, line \u001b[0;32m5\u001b[0m\n\u001b[0;31m    else:\u001b[0m\n\u001b[0m    ^\u001b[0m\n\u001b[0;31mSyntaxError\u001b[0m\u001b[0;31m:\u001b[0m invalid syntax\n"
          ]
        }
      ]
    },
    {
      "cell_type": "code",
      "source": [
        "if 10 > 11:\n",
        "    print('one') \n",
        "    print('two')\n",
        "else: # error\n",
        "    print('three')"
      ],
      "metadata": {
        "colab": {
          "base_uri": "https://localhost:8080/"
        },
        "id": "iLc56btu3IZF",
        "outputId": "4436beae-532d-43a6-b7ef-5761fbc72065"
      },
      "execution_count": 46,
      "outputs": [
        {
          "output_type": "stream",
          "name": "stdout",
          "text": [
            "three\n"
          ]
        }
      ]
    },
    {
      "cell_type": "code",
      "source": [
        "# else가 없어도 되는 경우\n",
        "def f():\n",
        "    if 10 > 11:\n",
        "        return 'one'\n",
        "    return 'two'\n",
        "\n",
        "print(f())"
      ],
      "metadata": {
        "colab": {
          "base_uri": "https://localhost:8080/"
        },
        "id": "Qk3ha7-K3Nlw",
        "outputId": "7c24ad48-b18d-4373-b9db-25885673446a"
      },
      "execution_count": 47,
      "outputs": [
        {
          "output_type": "stream",
          "name": "stdout",
          "text": [
            "two\n"
          ]
        }
      ]
    },
    {
      "cell_type": "code",
      "source": [
        "# 여러 개의 if 문을 단축할 수 있는 방법 =>\n",
        "# 가독성이 좋아지는 것을 선택하세요! 정답은 없습니다.\n",
        "# and 구문으로 if를 합칠 수 있습니다.\n",
        "x = 10\n",
        "if x > 5:\n",
        "    if type(x) == int :\n",
        "        print('one')\n",
        "    \n",
        "if x > 5 and type(x) == int :\n",
        "        print('one')"
      ],
      "metadata": {
        "id": "WtqHq5m13vnX"
      },
      "execution_count": null,
      "outputs": []
    },
    {
      "cell_type": "code",
      "source": [
        "# 여러 개의 if 문을 단축할 수 있는 방법 =>\n",
        "# 가독성이 좋아지는 것을 선택하세요! 정답은 없습니다.\n",
        "# and 구문으로 if를 합칠 수 있습니다.\n",
        "x = 10\n",
        "if x > 5:\n",
        "    if type(x) == int :\n",
        "        if x % 2 == 0 :\n",
        "             print('one')\n",
        "    \n",
        "if x > 5 and type(x) == int and x % 2 == 0:\n",
        "    print('one')"
      ],
      "metadata": {
        "id": "Z6q8zWZe4SyH"
      },
      "execution_count": 49,
      "outputs": []
    },
    {
      "cell_type": "code",
      "source": [
        "if True:\n",
        "    print('hello')\n",
        "else:\n",
        "    print('hello')\n",
        "else: # error\n",
        "    print('hello')\n",
        "else:\n",
        "    print('hello')"
      ],
      "metadata": {
        "id": "bFGd-Uf05N9Q"
      },
      "execution_count": null,
      "outputs": []
    },
    {
      "cell_type": "code",
      "source": [
        "if True: # 가능\n",
        "    print('hello')\n",
        "if True:\n",
        "    print('hello')\n",
        "if True:\n",
        "    print('hello')\n",
        "else:\n",
        "    print('hello')"
      ],
      "metadata": {
        "id": "PDQvGWr75ZNE"
      },
      "execution_count": null,
      "outputs": []
    },
    {
      "cell_type": "code",
      "source": [
        "if True: # 가능\n",
        "    print('hello')\n",
        "elif True:\n",
        "    print('hello')\n",
        "elif True:\n",
        "    print('hello')\n",
        "else:\n",
        "    print('hello')"
      ],
      "metadata": {
        "id": "73mO6wQp5egE"
      },
      "execution_count": null,
      "outputs": []
    },
    {
      "cell_type": "code",
      "source": [
        "elif True: # error 위에 구문이 있어야 합니다.\n",
        "    print('hello')\n",
        "elif True:\n",
        "    print('hello')\n",
        "else:\n",
        "    print('hello')"
      ],
      "metadata": {
        "id": "04AMOjS15jgQ"
      },
      "execution_count": null,
      "outputs": []
    },
    {
      "cell_type": "code",
      "source": [
        "score = 81\n",
        "money = 0\n",
        "\n",
        "if score >= 90: # 만약에 조건이 참이라면\n",
        "    print('mom : i\\'m so happy!')\n",
        "    money += 1000000\n",
        "elif score >= 80: # 그렇지 않고 만약에 조건이 참이라면\n",
        "    print('mom : i\\'m happy!')\n",
        "    money += 100000\n",
        "elif score >= 70: # '그렇지 않고 만약에' 에서 '그렇지 않고'가 만족이 안되기 때문에 실행하지 못합니다.\n",
        "    print('mom : i\\'m so...!')\n",
        "    money += 10000\n",
        "elif score >= 60:\n",
        "    print('mom : i\\'m so...!')\n",
        "    money += 1000\n",
        "else:\n",
        "    print('mom : i\\'m...!')\n",
        "print(money)\n",
        "# elif, else 구문은 함께 썼다면 한 덩어리가 되어\n",
        "# 하나만 실행이 되고 나머지는 실행이 되지 않습니다."
      ],
      "metadata": {
        "id": "RZ4UMe3gxo2r"
      },
      "execution_count": null,
      "outputs": []
    },
    {
      "cell_type": "code",
      "source": [
        "# Ctrl + M, m 누르시면 코드블록이 마크다운 블록이 됩니다.\n",
        "# Ctrl + M, y 누르시면 코드블록이 마크다운 블록이 됩니다."
      ],
      "metadata": {
        "id": "zCBJOz_J6CWI"
      },
      "execution_count": null,
      "outputs": []
    },
    {
      "cell_type": "markdown",
      "source": [
        "## if문 심화"
      ],
      "metadata": {
        "id": "f3w140rj5vEC"
      }
    },
    {
      "cell_type": "code",
      "source": [
        "# 저는 개인적으로 해당 문법이 가독성을 떨어뜨린다고 생각해\n",
        "# 권장하진 않습니다.\n",
        "\n",
        "if 10 > 5: print('hello') # 1줄에 사용하는 것이 가능합니다."
      ],
      "metadata": {
        "colab": {
          "base_uri": "https://localhost:8080/"
        },
        "id": "698hMLmO6cOo",
        "outputId": "8df2b952-df3a-42b4-cb19-c57a57b215f8"
      },
      "execution_count": 50,
      "outputs": [
        {
          "output_type": "stream",
          "name": "stdout",
          "text": [
            "hello\n"
          ]
        }
      ]
    },
    {
      "cell_type": "code",
      "source": [
        "if 1 > 5: print('hello')\n",
        "elif 5 > 1: print('world')"
      ],
      "metadata": {
        "colab": {
          "base_uri": "https://localhost:8080/"
        },
        "id": "ueuZ43eO6ijS",
        "outputId": "8012a3cd-4013-4556-eaec-6ff53a4257d1"
      },
      "execution_count": 51,
      "outputs": [
        {
          "output_type": "stream",
          "name": "stdout",
          "text": [
            "world\n"
          ]
        }
      ]
    },
    {
      "cell_type": "code",
      "source": [
        "if 1 > 5: print('hello')\n",
        "elif 1 > 5: print('world')\n",
        "else: print('hello world')"
      ],
      "metadata": {
        "colab": {
          "base_uri": "https://localhost:8080/"
        },
        "id": "bzBDZKSS9DKW",
        "outputId": "7e524a31-adaa-4a2c-baf2-f4c928c1d5ad"
      },
      "execution_count": 52,
      "outputs": [
        {
          "output_type": "stream",
          "name": "stdout",
          "text": [
            "hello world\n"
          ]
        }
      ]
    },
    {
      "cell_type": "code",
      "source": [
        "# 3항 연산자는 가독성을 해치지 않는 선에서 많이 사용합니다.\n",
        "print('one') if 5 > 1 else print('two')"
      ],
      "metadata": {
        "colab": {
          "base_uri": "https://localhost:8080/"
        },
        "id": "vULHKC8S9LeR",
        "outputId": "41569f00-2e08-4000-c822-5007f1c576bb"
      },
      "execution_count": 53,
      "outputs": [
        {
          "output_type": "stream",
          "name": "stdout",
          "text": [
            "one\n"
          ]
        }
      ]
    },
    {
      "cell_type": "code",
      "source": [
        "(print('one') if 5 > 1 else print('two'))"
      ],
      "metadata": {
        "colab": {
          "base_uri": "https://localhost:8080/"
        },
        "id": "DkriGtK89jKz",
        "outputId": "5892a2f4-a797-49ea-bc90-b161bd66810b"
      },
      "execution_count": 54,
      "outputs": [
        {
          "output_type": "stream",
          "name": "stdout",
          "text": [
            "one\n"
          ]
        }
      ]
    },
    {
      "cell_type": "code",
      "source": [
        " # error 이렇게 사용하지 않습니다!\n",
        "if 5 > 1 print('one') else print('two')"
      ],
      "metadata": {
        "colab": {
          "base_uri": "https://localhost:8080/",
          "height": 135
        },
        "id": "ga_z_fqw9viT",
        "outputId": "5c0ed959-2f29-4166-91f2-201be176fcb0"
      },
      "execution_count": 55,
      "outputs": [
        {
          "output_type": "error",
          "ename": "SyntaxError",
          "evalue": "ignored",
          "traceback": [
            "\u001b[0;36m  File \u001b[0;32m\"<ipython-input-55-13a873f1085b>\"\u001b[0;36m, line \u001b[0;32m1\u001b[0m\n\u001b[0;31m    if 5 > 1 print('one') else print('two')\u001b[0m\n\u001b[0m             ^\u001b[0m\n\u001b[0;31mSyntaxError\u001b[0m\u001b[0;31m:\u001b[0m invalid syntax\n"
          ]
        }
      ]
    },
    {
      "cell_type": "code",
      "source": [
        "if 5 > 1:\n",
        "     print('one')\n",
        "else:\n",
        "     print('two')"
      ],
      "metadata": {
        "id": "YqYX8diu-OuY"
      },
      "execution_count": null,
      "outputs": []
    },
    {
      "cell_type": "code",
      "source": [
        "# 할당이나 return 에서 많이 사용합니다.\n",
        "# 할당이나 return을 할 때 어떤 조건을 달고 싶을 때\n",
        "# 그런데 일반 if 문과 else 문이 거창하다고 생각이 되었을 떄\n",
        "y = 100\n",
        "x = 'one' if y > 80 else None"
      ],
      "metadata": {
        "id": "mby4eTIx-IRh"
      },
      "execution_count": 57,
      "outputs": []
    },
    {
      "cell_type": "code",
      "source": [
        "x"
      ],
      "metadata": {
        "colab": {
          "base_uri": "https://localhost:8080/",
          "height": 35
        },
        "id": "FxwdFFB1-YVS",
        "outputId": "40bac51a-7b72-4ccb-ba30-1fc6dfd1d9e8"
      },
      "execution_count": 58,
      "outputs": [
        {
          "output_type": "execute_result",
          "data": {
            "text/plain": [
              "'one'"
            ],
            "application/vnd.google.colaboratory.intrinsic+json": {
              "type": "string"
            }
          },
          "metadata": {},
          "execution_count": 58
        }
      ]
    },
    {
      "cell_type": "code",
      "source": [
        "def f(y):\n",
        "    if y > 80:\n",
        "        x = 'one'\n",
        "    else:\n",
        "        x = None\n",
        "    return x\n",
        "\n",
        "print(f(100))\n",
        "print(f(30))"
      ],
      "metadata": {
        "colab": {
          "base_uri": "https://localhost:8080/"
        },
        "id": "Uw_zw20n-ttO",
        "outputId": "dd84d6ed-6615-428e-e1a6-0bea86b8df33"
      },
      "execution_count": 59,
      "outputs": [
        {
          "output_type": "stream",
          "name": "stdout",
          "text": [
            "one\n",
            "None\n"
          ]
        }
      ]
    },
    {
      "cell_type": "code",
      "source": [
        "def f(y):\n",
        "    return 'one' if y > 80 else None\n",
        "\n",
        "print(f(100))\n",
        "print(f(30))"
      ],
      "metadata": {
        "colab": {
          "base_uri": "https://localhost:8080/"
        },
        "id": "3fYKwCJY-8re",
        "outputId": "0b70973c-4238-47c2-e311-9bcd7bc5b1a8"
      },
      "execution_count": 61,
      "outputs": [
        {
          "output_type": "stream",
          "name": "stdout",
          "text": [
            "one\n",
            "None\n"
          ]
        }
      ]
    },
    {
      "cell_type": "code",
      "source": [
        "def custom_sum(x):\n",
        "    return sum(x)\n",
        "\n",
        "custom_sum([1, 2, 3, 4, 5, 6]) # 21\n",
        "custom_sum([1, 2, 3, 4, '5', 6]) # float('inf')"
      ],
      "metadata": {
        "colab": {
          "base_uri": "https://localhost:8080/"
        },
        "id": "YM9ovBG6_q9p",
        "outputId": "f8c281d0-73ec-4b3a-a676-3410b6e55221"
      },
      "execution_count": 62,
      "outputs": [
        {
          "output_type": "stream",
          "name": "stdout",
          "text": [
            "6\n",
            "6\n"
          ]
        }
      ]
    },
    {
      "cell_type": "code",
      "source": [
        "# 이해를 위해 만든 예제입니다. 효율적이진 않습니다.\n",
        "def custom_sum(x):\n",
        "    return sum(x) if len(list(filter(lambda x : type(x) == int, x))) == len(x) else float('inf')\n",
        "\n",
        "custom_sum([1, 2, 3, 4, 5, 6]) # 21\n",
        "custom_sum([1, 2, 3, 4, '5', 6]) # float('inf')"
      ],
      "metadata": {
        "colab": {
          "base_uri": "https://localhost:8080/"
        },
        "id": "ReIAjHPOAW8b",
        "outputId": "1d411ad7-89c4-4fe9-8a20-3d958573ea24"
      },
      "execution_count": 14,
      "outputs": [
        {
          "output_type": "execute_result",
          "data": {
            "text/plain": [
              "21"
            ]
          },
          "metadata": {},
          "execution_count": 14
        }
      ]
    },
    {
      "cell_type": "code",
      "source": [
        "l = [1, 2, 3, '4', '5']\n",
        "list(filter(lambda x : type(x) == int, l))\n",
        "len(list(filter(lambda x : type(x) == int, l)))\n",
        "len(l)"
      ],
      "metadata": {
        "colab": {
          "base_uri": "https://localhost:8080/"
        },
        "id": "1bJ0Ndn9AzZN",
        "outputId": "119b333a-878d-4e60-e27d-d12c76709ebd"
      },
      "execution_count": 7,
      "outputs": [
        {
          "output_type": "execute_result",
          "data": {
            "text/plain": [
              "5"
            ]
          },
          "metadata": {},
          "execution_count": 7
        }
      ]
    },
    {
      "cell_type": "code",
      "source": [
        "# 문제 : 다음 if문을 3항 연산자로 표현해주세요.\n",
        "if x % 2 == 0:\n",
        "    홀짝여부 = '짝수'\n",
        "else:\n",
        "    홀짝여부 = '홀수'\n",
        "\n",
        "# 답\n",
        "x = 10\n",
        "홀짝여부 = '짝수' if x % 2 == 0 else '홀수'\n",
        "홀짝여부"
      ],
      "metadata": {
        "colab": {
          "base_uri": "https://localhost:8080/",
          "height": 35
        },
        "id": "yz5fu8NYCUsm",
        "outputId": "2de370e2-f56a-468e-902f-ed24721a3523"
      },
      "execution_count": 17,
      "outputs": [
        {
          "output_type": "execute_result",
          "data": {
            "text/plain": [
              "'짝수'"
            ],
            "application/vnd.google.colaboratory.intrinsic+json": {
              "type": "string"
            }
          },
          "metadata": {},
          "execution_count": 17
        }
      ]
    },
    {
      "cell_type": "code",
      "source": [
        "# 지금하는 것은 위 보다 빈도도 거의 없습니다.\n",
        "# 3항 연산자의 중첩\n",
        "# '조건1이 True일 때' if '조건1' else '조건1일 False이고 조건2가 True일 때' if '조건2' else '조건1, 조건2가 False일 때'"
      ],
      "metadata": {
        "id": "vAFtM8WjD2yF"
      },
      "execution_count": null,
      "outputs": []
    },
    {
      "cell_type": "code",
      "source": [
        "# '조건1이 True일 때' \n",
        "# if '조건1' \n",
        "# else '조건1일 False이고 조건2가 True일 때' \n",
        "#     if '조건2' \n",
        "#     else '조건1, 조건2가 False일 때'"
      ],
      "metadata": {
        "id": "WEOCSO8wEdf9"
      },
      "execution_count": null,
      "outputs": []
    },
    {
      "cell_type": "code",
      "source": [
        "x = 15\n",
        "if x % 2 == 0:\n",
        "    배수 = '2X' # 2의 배수\n",
        "elif x % 3 == 0:\n",
        "    배수 = '3X' # 3의 배수\n",
        "else:\n",
        "    배수 = '?' # 2의 배수도 아니고, 3의 배수도 아니다\n",
        "\n",
        "배수"
      ],
      "metadata": {
        "colab": {
          "base_uri": "https://localhost:8080/",
          "height": 35
        },
        "id": "82ewcg7REpJo",
        "outputId": "4fdc5fcf-2227-40a6-d1a4-38048f499e67"
      },
      "execution_count": 20,
      "outputs": [
        {
          "output_type": "execute_result",
          "data": {
            "text/plain": [
              "'3X'"
            ],
            "application/vnd.google.colaboratory.intrinsic+json": {
              "type": "string"
            }
          },
          "metadata": {},
          "execution_count": 20
        }
      ]
    },
    {
      "cell_type": "code",
      "source": [
        "x = 17\n",
        "배수 = '2X' if x % 2 == 0 else '3X' if x % 3 == 0 else '?'\n",
        "배수"
      ],
      "metadata": {
        "colab": {
          "base_uri": "https://localhost:8080/",
          "height": 35
        },
        "id": "lio14Z4-FJAK",
        "outputId": "6c0cb315-abaf-47d9-be0e-065d50085568"
      },
      "execution_count": 21,
      "outputs": [
        {
          "output_type": "execute_result",
          "data": {
            "text/plain": [
              "'?'"
            ],
            "application/vnd.google.colaboratory.intrinsic+json": {
              "type": "string"
            }
          },
          "metadata": {},
          "execution_count": 21
        }
      ]
    },
    {
      "cell_type": "markdown",
      "source": [
        "## for문"
      ],
      "metadata": {
        "id": "9nCxw92EF0HD"
      }
    },
    {
      "cell_type": "code",
      "source": [
        "# for 변수 in 순회가능한 객체:\n",
        "#     code"
      ],
      "metadata": {
        "id": "Ni1NRFOeF1tN"
      },
      "execution_count": null,
      "outputs": []
    },
    {
      "cell_type": "code",
      "source": [
        "# 순회가능한객체 != 시퀀스형 자료형 # 순서가 없어도 순회가 가능하기 때문에"
      ],
      "metadata": {
        "id": "eB4ke1U0GaZO"
      },
      "execution_count": null,
      "outputs": []
    },
    {
      "cell_type": "code",
      "source": [
        "for i in 'hello world':\n",
        "    print(i)"
      ],
      "metadata": {
        "id": "ahtG54KTGlVF"
      },
      "execution_count": null,
      "outputs": []
    },
    {
      "cell_type": "code",
      "source": [
        "for i in 10: # error\n",
        "    print(i)"
      ],
      "metadata": {
        "id": "CDpsPvbRGuSJ"
      },
      "execution_count": null,
      "outputs": []
    },
    {
      "cell_type": "code",
      "source": [
        "for i in 10.1: # error\n",
        "    print(i)"
      ],
      "metadata": {
        "id": "AQrsYD_SG0EH"
      },
      "execution_count": null,
      "outputs": []
    },
    {
      "cell_type": "code",
      "source": [
        "for i in [1, 2, 3]: # 리스트\n",
        "    print(i)"
      ],
      "metadata": {
        "id": "Aox-ptG6G1mN"
      },
      "execution_count": null,
      "outputs": []
    },
    {
      "cell_type": "code",
      "source": [
        "for i in (1, 2, 3): # 튜플\n",
        "    print(i)"
      ],
      "metadata": {
        "id": "X7wMSVrUG4Sf"
      },
      "execution_count": null,
      "outputs": []
    },
    {
      "cell_type": "code",
      "source": [
        "for i in {1, 2, 3}: # 셋\n",
        "    print(i)"
      ],
      "metadata": {
        "id": "xOG5dwmqG6lH"
      },
      "execution_count": null,
      "outputs": []
    },
    {
      "cell_type": "code",
      "source": [
        "for i in {'one':1, 'two':2, 'three'3}: # 딕셔너리\n",
        "    print(i)"
      ],
      "metadata": {
        "id": "PwCd0Z3_HEhg"
      },
      "execution_count": null,
      "outputs": []
    },
    {
      "cell_type": "code",
      "source": [
        "# 변수에는 range, enumerate, zip, map, sorted, reversed,,, \n",
        "for i in range(10):\n",
        "    print(i)"
      ],
      "metadata": {
        "id": "ieS6m-gtHMZx"
      },
      "execution_count": null,
      "outputs": []
    },
    {
      "cell_type": "code",
      "source": [
        "언어순위 = ['Python', 'JavaScript', 'JAVA', 'Ruby']\n",
        "for i in 언어순위:\n",
        "    print(i)"
      ],
      "metadata": {
        "colab": {
          "base_uri": "https://localhost:8080/"
        },
        "id": "9Uej9vDPHdjI",
        "outputId": "73a5faf6-5439-4215-fdd9-5887b207070e"
      },
      "execution_count": 23,
      "outputs": [
        {
          "output_type": "stream",
          "name": "stdout",
          "text": [
            "Python\n",
            "JavaScript\n",
            "JAVA\n",
            "Ruby\n"
          ]
        }
      ]
    },
    {
      "cell_type": "code",
      "source": [
        "언어순위 = ['Python', 'JavaScript', 'JAVA', 'Ruby']\n",
        "for i in enumerate(언어순위):\n",
        "    print(i)"
      ],
      "metadata": {
        "colab": {
          "base_uri": "https://localhost:8080/"
        },
        "id": "VCqXDJOfHwDj",
        "outputId": "073f1eab-1654-4d49-f768-61c1da05081f"
      },
      "execution_count": 26,
      "outputs": [
        {
          "output_type": "stream",
          "name": "stdout",
          "text": [
            "(0, 'Python')\n",
            "(1, 'JavaScript')\n",
            "(2, 'JAVA')\n",
            "(3, 'Ruby')\n"
          ]
        }
      ]
    },
    {
      "cell_type": "code",
      "source": [
        "언어순위 = ['Python', 'JavaScript', 'JAVA', 'Ruby']\n",
        "for i in enumerate(언어순위, 1):\n",
        "    print(i)"
      ],
      "metadata": {
        "colab": {
          "base_uri": "https://localhost:8080/"
        },
        "id": "Jj92j1-bH5O0",
        "outputId": "3b276dd5-3f58-4a5d-c262-f0d24547ae07"
      },
      "execution_count": 28,
      "outputs": [
        {
          "output_type": "stream",
          "name": "stdout",
          "text": [
            "(1, 'Python')\n",
            "(2, 'JavaScript')\n",
            "(3, 'JAVA')\n",
            "(4, 'Ruby')\n"
          ]
        }
      ]
    },
    {
      "cell_type": "code",
      "source": [
        "언어순위 = ['Python', 'JavaScript', 'JAVA', 'Ruby']\n",
        "for i in enumerate(언어순위, 101):\n",
        "    print(i)"
      ],
      "metadata": {
        "colab": {
          "base_uri": "https://localhost:8080/"
        },
        "id": "4u4LxSO2H8E7",
        "outputId": "06b588cc-fdd0-4a5f-f014-cc0b15aceff4"
      },
      "execution_count": 29,
      "outputs": [
        {
          "output_type": "stream",
          "name": "stdout",
          "text": [
            "(101, 'Python')\n",
            "(102, 'JavaScript')\n",
            "(103, 'JAVA')\n",
            "(104, 'Ruby')\n"
          ]
        }
      ]
    },
    {
      "cell_type": "code",
      "source": [
        "언어순위 = ['Python', 'JavaScript', 'JAVA', 'Ruby']\n",
        "for i, j in enumerate(언어순위, 101):\n",
        "    print(i, j)"
      ],
      "metadata": {
        "colab": {
          "base_uri": "https://localhost:8080/"
        },
        "id": "Q--_s7iGIBMd",
        "outputId": "40f64d17-b6c1-4e91-ccce-7db75d825794"
      },
      "execution_count": 30,
      "outputs": [
        {
          "output_type": "stream",
          "name": "stdout",
          "text": [
            "1 Python\n",
            "2 JavaScript\n",
            "3 JAVA\n",
            "4 Ruby\n"
          ]
        }
      ]
    },
    {
      "cell_type": "markdown",
      "source": [
        "## !! 20230508 오늘 배운 것 정리"
      ],
      "metadata": {
        "id": "vGkOz3BxWNG5"
      }
    },
    {
      "cell_type": "markdown",
      "source": [
        "* 조건문\n",
        "    * 조건에 따라 코드를 분기할 수 있는 구문\n",
        "    * if, elif, else\n",
        "    * elif와 else는 단독으로 사용이 되지 않습니다.\n",
        "    * 예시(score에 값을 변경해보면서 money 값을 확인해주세요.)\n",
        "    ```python\n",
        "    score = 81\n",
        "    money = 0\n",
        "\n",
        "    if score >= 90: # 만약에 조건이 참이라면\n",
        "        print('mom : i\\'m so happy!')\n",
        "        money += 1000000\n",
        "    elif score >= 80: # 그렇지 않고 만약에 조건이 참이라면\n",
        "        print('mom : i\\'m happy!')\n",
        "        money += 100000\n",
        "    elif score >= 70: # '그렇지 않고 만약에'에서 '그렇지 않고'가 만족이 안되기 때문에 실행하지 못합니다.\n",
        "        print('mom : i\\'m so...!')\n",
        "        money += 10000\n",
        "    elif score >= 60:\n",
        "        print('mom : i\\'m so...!')\n",
        "        money += 1000\n",
        "    else:\n",
        "        print('mom : i\\'m...!')\n",
        "    print(money)\n",
        "    ```\n",
        "    * 3항 연산자\n",
        "    ```python\n",
        "    def f(y):\n",
        "    return 'one' if y > 80 else None\n",
        "    ```\n",
        "* 정해진 순서를(next) 반복하는 것\n",
        "    * 형태\n",
        "    ```python\n",
        "    # for 변수 in 순회가능한객체:\n",
        "    #     code\n",
        "    ```\n",
        "    * 순회 가능한 객체(이터러블 객체) : 문자열, 리스트, 튜플, 딕셔너리, 셋, range, enumerate, map, set, sorted, reverse 등\n",
        "    * 순회 불가능한 객체 : int, float 등 \n",
        "    * code 안에서 변수를 사용하지 않을 경우 언더바를 관습적으로 사용합니다.\n",
        "    ```python\n",
        "    # for _ in 순회가능한객체:\n",
        "    #     code\n",
        "    ```"
      ],
      "metadata": {
        "id": "25qlr5DVWIIv"
      }
    },
    {
      "cell_type": "code",
      "source": [
        "# _는 for문 내에서 해당 변수를 사용하지 않을때 사용\n",
        "for _ in range(3):\n",
        "    print('hello world')"
      ],
      "metadata": {
        "colab": {
          "base_uri": "https://localhost:8080/"
        },
        "id": "CiTah-oN1G7U",
        "outputId": "0472af0b-13d8-448b-f7eb-2cdf498c6d7a"
      },
      "execution_count": 1,
      "outputs": [
        {
          "output_type": "stream",
          "name": "stdout",
          "text": [
            "hello world\n",
            "hello world\n",
            "hello world\n"
          ]
        }
      ]
    },
    {
      "cell_type": "code",
      "source": [
        "for _, i in [[1, 2], [3, 4], [5, 6]]:\n",
        "    print('hello world')\n",
        "    print(i)"
      ],
      "metadata": {
        "colab": {
          "base_uri": "https://localhost:8080/"
        },
        "id": "doUfOeoh1UrL",
        "outputId": "8fb33287-d0d6-4f2c-88a9-1c302a849b8b"
      },
      "execution_count": 2,
      "outputs": [
        {
          "output_type": "stream",
          "name": "stdout",
          "text": [
            "hello world\n",
            "2\n",
            "hello world\n",
            "4\n",
            "hello world\n",
            "6\n"
          ]
        }
      ]
    },
    {
      "cell_type": "code",
      "source": [
        "s = 0\n",
        "for i in range(0, 101, 2):\n",
        "    s += i\n",
        "s"
      ],
      "metadata": {
        "colab": {
          "base_uri": "https://localhost:8080/"
        },
        "id": "Kapc8-K_13Wa",
        "outputId": "7690d7df-faf3-47d0-f3a7-0df2640f550d"
      },
      "execution_count": 3,
      "outputs": [
        {
          "output_type": "execute_result",
          "data": {
            "text/plain": [
              "2550"
            ]
          },
          "metadata": {},
          "execution_count": 3
        }
      ]
    },
    {
      "cell_type": "code",
      "source": [
        "listx= [100,200,300,400]\n",
        "strx= 'abcd'\n",
        "dictx = {'one':1, 'two':2}\n",
        "\n",
        "listxlter = iter(listx)\n",
        "strxlter= iter(strx)\n",
        "dictxIter = iter(dictx)\n",
        "\n",
        "# 시퀀스형 자료에만 next가 되는 것은 아니고\n",
        "# next 다음 순회 값을 지정할 뿐입니다.\n",
        "print(next(listxlter), next(listxlter), next(listxlter), next(listxlter))\n",
        "print(next(strxlter), next(strxlter), next(strxlter), next(strxlter))\n",
        "print(next(dictxIter), next(dictxIter))"
      ],
      "metadata": {
        "colab": {
          "base_uri": "https://localhost:8080/"
        },
        "id": "n1werToC2Jmy",
        "outputId": "0cbe8e5b-faa8-4891-b646-ba77f465fda9"
      },
      "execution_count": 11,
      "outputs": [
        {
          "output_type": "stream",
          "name": "stdout",
          "text": [
            "100 200 300 400\n",
            "a b c d\n",
            "one two\n"
          ]
        }
      ]
    },
    {
      "cell_type": "code",
      "source": [
        "# for True: # 이렇게 사용하지는 못합니다.\n",
        "#     print('hello')"
      ],
      "metadata": {
        "colab": {
          "base_uri": "https://localhost:8080/"
        },
        "id": "Z4Owr2nJ20UI",
        "outputId": "7c26324a-e0ff-4d84-9909-30d45b7d4491"
      },
      "execution_count": 9,
      "outputs": [
        {
          "output_type": "stream",
          "name": "stdout",
          "text": [
            "100 200 300 400\n",
            "a b c d\n",
            "one two\n"
          ]
        }
      ]
    },
    {
      "cell_type": "markdown",
      "source": [
        "## break과 continue"
      ],
      "metadata": {
        "id": "ei4DQKkR3csj"
      }
    },
    {
      "cell_type": "code",
      "source": [
        "for i in range(10):\n",
        "    print(i)\n",
        "    if i == 5:\n",
        "        break"
      ],
      "metadata": {
        "colab": {
          "base_uri": "https://localhost:8080/"
        },
        "id": "UQ90cRtf3g4d",
        "outputId": "67b041c5-94b1-40f5-c324-e68ab65122ad"
      },
      "execution_count": 14,
      "outputs": [
        {
          "output_type": "stream",
          "name": "stdout",
          "text": [
            "2\n",
            "3\n",
            "4\n",
            "5\n",
            "6\n",
            "7\n",
            "8\n",
            "9\n"
          ]
        }
      ]
    },
    {
      "cell_type": "code",
      "source": [
        "# 모든 for가 중단이 되는 것이 아닙니다!\n",
        "# 자신을 감싸고 있는 단일 반복문만 탈출합니다.\n",
        "\n",
        "for i in range(10):\n",
        "    print('----------------')\n",
        "    print(i)\n",
        "    for j in range(10):\n",
        "        print(i, j)\n",
        "        if i == 5:\n",
        "            break"
      ],
      "metadata": {
        "id": "jpazCztP3xZS"
      },
      "execution_count": null,
      "outputs": []
    },
    {
      "cell_type": "code",
      "source": [
        "# continue는 다음 루프로 갑니다.\n",
        "# 아래 코드에서 continue는 의미가 없습니다.\n",
        "for i in range(10):\n",
        "    print(i)\n",
        "    if i == 5:\n",
        "        continue"
      ],
      "metadata": {
        "id": "mlFD1Dx048NI"
      },
      "execution_count": null,
      "outputs": []
    },
    {
      "cell_type": "code",
      "source": [
        "# continue는 다음 루프로 갑니다.\n",
        "# 아래 코드에서 continue는 아래 print를 실행시키지 않고\n",
        "# 다음 루프로 가게됩니다.\n",
        "for i in range(10):\n",
        "    if i == 5:\n",
        "        continue\n",
        "    print(i)"
      ],
      "metadata": {
        "id": "yLqG_y8Z5Sl-"
      },
      "execution_count": null,
      "outputs": []
    },
    {
      "cell_type": "code",
      "source": [
        "for i in range(10):\n",
        "    if i == 5:\n",
        "        pass # pass 와 continue는 다르다. pass는 공백을 채워주는 역할만 합니다.\n",
        "    print(i)"
      ],
      "metadata": {
        "colab": {
          "base_uri": "https://localhost:8080/"
        },
        "id": "gZWt0Gkf6bSs",
        "outputId": "b145d3f3-05a5-4759-a300-64d0756355d9"
      },
      "execution_count": 19,
      "outputs": [
        {
          "output_type": "stream",
          "name": "stdout",
          "text": [
            "0\n",
            "1\n",
            "2\n",
            "3\n",
            "4\n",
            "5\n",
            "6\n",
            "7\n",
            "8\n",
            "9\n"
          ]
        }
      ]
    },
    {
      "cell_type": "code",
      "source": [
        "for i in range(10):\n",
        "    print(i)\n",
        "    i += 2 # 작동이 되지 않습니다."
      ],
      "metadata": {
        "colab": {
          "base_uri": "https://localhost:8080/"
        },
        "id": "QMPNtoo47Okm",
        "outputId": "4e2651d3-6b0b-40b9-e50d-29b729fef5c2"
      },
      "execution_count": 25,
      "outputs": [
        {
          "output_type": "stream",
          "name": "stdout",
          "text": [
            "0\n",
            "1\n",
            "2\n",
            "3\n",
            "4\n",
            "5\n",
            "6\n",
            "7\n",
            "8\n",
            "9\n"
          ]
        }
      ]
    },
    {
      "cell_type": "code",
      "source": [
        "for i in range(0, 10, 2):\n",
        "    print(i)"
      ],
      "metadata": {
        "colab": {
          "base_uri": "https://localhost:8080/"
        },
        "id": "Bt9_WYLU7XZr",
        "outputId": "9342fc79-23c0-4f67-8194-abbb681b1698"
      },
      "execution_count": 24,
      "outputs": [
        {
          "output_type": "stream",
          "name": "stdout",
          "text": [
            "0\n",
            "2\n",
            "4\n",
            "6\n",
            "8\n"
          ]
        }
      ]
    },
    {
      "cell_type": "code",
      "source": [
        "# 실행과 동시에 정지를 눌러주세요.\n",
        "# 무한반복입니다.\n",
        "# 뒤에서 배울 generator로 무한반복을 구현해주세요.\n",
        "l = [1]\n",
        "for i in l:\n",
        "    l.append(i+1)\n",
        "    print(i)"
      ],
      "metadata": {
        "id": "0zno2rP275DB"
      },
      "execution_count": null,
      "outputs": []
    },
    {
      "cell_type": "markdown",
      "source": [
        "## for와 else **구문**"
      ],
      "metadata": {
        "id": "d4_bsPup6Ro4"
      }
    },
    {
      "cell_type": "code",
      "source": [
        "# 다른 언어에서는 이 구문이 작동되지 않습니다.\n",
        "for i in range(10):\n",
        "    if i == 5:\n",
        "        break\n",
        "else:\n",
        "    print('정상종료!')"
      ],
      "metadata": {
        "id": "aJUj1g7I5qc0"
      },
      "execution_count": 21,
      "outputs": []
    },
    {
      "cell_type": "code",
      "source": [
        "# 반복문 + else 구문은\n",
        "# 반복문이 break을 쓰지 않고 정상 종료되었을 떄\n",
        "# else 구문이 실행됩니다.\n",
        "\n",
        "for i in range(10):\n",
        "    if i == 5:\n",
        "        pass\n",
        "else:\n",
        "    print('정상종료!')"
      ],
      "metadata": {
        "colab": {
          "base_uri": "https://localhost:8080/"
        },
        "id": "0NGRBWMv6u6P",
        "outputId": "b6fad4b6-eb4e-4b66-9b62-1ddd55eb582e"
      },
      "execution_count": 23,
      "outputs": [
        {
          "output_type": "stream",
          "name": "stdout",
          "text": [
            "정상종료!\n"
          ]
        }
      ]
    },
    {
      "cell_type": "markdown",
      "source": [
        "## 리스트 표현식(list comprehension)"
      ],
      "metadata": {
        "id": "wcc-7Vee7yrR"
      }
    },
    {
      "cell_type": "code",
      "source": [
        "# 별 3.5개\n",
        "# 리스트 안에 반복문이나 조건문을 넣어 한 번에 리스트를 생성하는 기법\n",
        "# 리스트 표현식은 for보다 빠릅니다! (가독성 + 속도우위)\n",
        "l = []\n",
        "for i in range(10):\n",
        "    l.append(i)\n",
        "l"
      ],
      "metadata": {
        "colab": {
          "base_uri": "https://localhost:8080/"
        },
        "id": "d3UXn4KQ73GN",
        "outputId": "bd8ad28d-cba5-405d-ec3b-fcc427840d95"
      },
      "execution_count": 27,
      "outputs": [
        {
          "output_type": "execute_result",
          "data": {
            "text/plain": [
              "[0, 1, 2, 3, 4, 5, 6, 7, 8, 9]"
            ]
          },
          "metadata": {},
          "execution_count": 27
        }
      ]
    },
    {
      "cell_type": "code",
      "source": [
        "# 리스트 두고 / i 두고 / for문 입력\n",
        "[i for i in range(10)]"
      ],
      "metadata": {
        "colab": {
          "base_uri": "https://localhost:8080/"
        },
        "id": "u8Qcd0dC9nsK",
        "outputId": "f16faffb-1127-48e6-e88d-d08d24df0e05"
      },
      "execution_count": 30,
      "outputs": [
        {
          "output_type": "execute_result",
          "data": {
            "text/plain": [
              "[0, 1, 2, 3, 4, 5, 6, 7, 8, 9]"
            ]
          },
          "metadata": {},
          "execution_count": 30
        }
      ]
    },
    {
      "cell_type": "code",
      "source": [
        "# 이정도만 하실 수 있으면 우리 수업에서는 문제 없습니다.\n",
        "l = []\n",
        "for i in range(10):\n",
        "    if i % 2 == 0:\n",
        "        l.append(i)\n",
        "l"
      ],
      "metadata": {
        "id": "ZyW9D6LH9_iE"
      },
      "execution_count": null,
      "outputs": []
    },
    {
      "cell_type": "code",
      "source": [
        "# 리스트 두고 / i 두고 / for문 입력 / if문 입력\n",
        "[i for i in range(10) if i % 2 == 0]"
      ],
      "metadata": {
        "colab": {
          "base_uri": "https://localhost:8080/"
        },
        "id": "Fh7l5PpQ-JDN",
        "outputId": "a7120167-4a70-47b5-d442-8de8525fecea"
      },
      "execution_count": 31,
      "outputs": [
        {
          "output_type": "execute_result",
          "data": {
            "text/plain": [
              "[0, 2, 4, 6, 8]"
            ]
          },
          "metadata": {},
          "execution_count": 31
        }
      ]
    },
    {
      "cell_type": "code",
      "source": [
        "list(range(0, 10, 2)) # 이것도 가능하고, 직관적이죠."
      ],
      "metadata": {
        "id": "SsXjI-nI-VTy"
      },
      "execution_count": null,
      "outputs": []
    },
    {
      "cell_type": "code",
      "source": [
        "l = ['aa', 'abc', 'bbb', 'ccc', 'aba']\n",
        "[i for i in l if 'a' in i]"
      ],
      "metadata": {
        "colab": {
          "base_uri": "https://localhost:8080/"
        },
        "id": "_e_MYNMG-oGh",
        "outputId": "d3807b09-d45b-4ae8-f175-963f2f8608cf"
      },
      "execution_count": 32,
      "outputs": [
        {
          "output_type": "execute_result",
          "data": {
            "text/plain": [
              "['aa', 'abc', 'aba']"
            ]
          },
          "metadata": {},
          "execution_count": 32
        }
      ]
    },
    {
      "cell_type": "code",
      "source": [
        "# 아래 코드는 어떻게 할까요?\n",
        "l = []\n",
        "for i in range(10):\n",
        "    if i % 2 == 0:\n",
        "        l.append(i)\n",
        "    elif i % 3 == 0:\n",
        "        l.append(i)\n",
        "l"
      ],
      "metadata": {
        "colab": {
          "base_uri": "https://localhost:8080/"
        },
        "id": "xHBHyLkv_Ij6",
        "outputId": "1bc76f8e-a781-437c-ceaa-91ddd025c3f5"
      },
      "execution_count": 33,
      "outputs": [
        {
          "output_type": "execute_result",
          "data": {
            "text/plain": [
              "[0, 2, 3, 4, 6, 8, 9]"
            ]
          },
          "metadata": {},
          "execution_count": 33
        }
      ]
    },
    {
      "cell_type": "code",
      "source": [
        "l = []\n",
        "for i in range(10):\n",
        "    if i % 2 == 0 or i % 3 == 0:\n",
        "        l.append(i)\n",
        "l"
      ],
      "metadata": {
        "colab": {
          "base_uri": "https://localhost:8080/"
        },
        "id": "x4aZnUaaBhRs",
        "outputId": "8f0fc2d2-8b96-435c-b8a4-0a4462d2b2b3"
      },
      "execution_count": 34,
      "outputs": [
        {
          "output_type": "execute_result",
          "data": {
            "text/plain": [
              "[0, 2, 3, 4, 6, 8, 9]"
            ]
          },
          "metadata": {},
          "execution_count": 34
        }
      ]
    },
    {
      "cell_type": "code",
      "source": [
        "[i for i in range(10) if i % 2 == 0 or i % 3 == 0]"
      ],
      "metadata": {
        "colab": {
          "base_uri": "https://localhost:8080/"
        },
        "id": "sTb05XI4B0-i",
        "outputId": "fcecff95-6a2c-4b3e-a79d-3dddc32ac7c7"
      },
      "execution_count": 35,
      "outputs": [
        {
          "output_type": "execute_result",
          "data": {
            "text/plain": [
              "[0, 2, 3, 4, 6, 8, 9]"
            ]
          },
          "metadata": {},
          "execution_count": 35
        }
      ]
    },
    {
      "cell_type": "code",
      "source": [
        "# [i for i in range(10) if i % 2 == 0 elif i % 3 == 0] # error"
      ],
      "metadata": {
        "id": "I5yvxfuPCIGs"
      },
      "execution_count": null,
      "outputs": []
    },
    {
      "cell_type": "code",
      "source": [
        "# 구구단\n",
        "# for i in range(2, 10):\n",
        "#     for j in range(1, 10):\n",
        "#         print(i, j, i*j)\n",
        "\n",
        "'''\n",
        "# step 0\n",
        "# 이렇게 손이나 문자열로 늘여트려놓고\n",
        "# 내가 무엇을 줄일 수 있을까?를 고민하세요.\n",
        "2 1 2\n",
        "2 2 4\n",
        "2 3 6\n",
        "2 4 8\n",
        "2 5 10\n",
        "2 6 12\n",
        "2 7 14\n",
        "2 8 16\n",
        "2 9 18\n",
        "3 1 3\n",
        "3 2 6\n",
        "3 3 9\n",
        "3 4 12\n",
        "3 5 15\n",
        "3 6 18\n",
        "3 7 21\n",
        "3 8 24\n",
        "3 9 27\n",
        "'''\n",
        "\n",
        "# step 1 ~ 100 이렇게 하나씩 줄여가면 됩니다.\n",
        "# for i in range(1, 10):\n",
        "#     print(2, i, 99)\n",
        "\n",
        "# step 1 ~ 100 이렇게 하나씩 줄여가면 됩니다.\n",
        "# for i in range(1, 10):\n",
        "#     print(2, i, 2*i)\n",
        "\n",
        "for 단 in range(2, 10):\n",
        "    for i in range(1, 10):\n",
        "        print(단, i, 단*i)"
      ],
      "metadata": {
        "id": "ydPo6kDlCPB5"
      },
      "execution_count": null,
      "outputs": []
    },
    {
      "cell_type": "code",
      "source": [
        "# 별찍기\n",
        "# 트리 만드는 문제도 있고, 원 만드는 문제도 있고..\n",
        "'''\n",
        "*\n",
        "**\n",
        "***\n",
        "****\n",
        "*****\n",
        "'''"
      ],
      "metadata": {
        "id": "SFG6-lpXDLG-"
      },
      "execution_count": null,
      "outputs": []
    },
    {
      "cell_type": "code",
      "source": [
        "user_input = int(input('찍을 별의 층수?'))\n",
        "for i in range(1, user_input+1):\n",
        "    print('*' * i)"
      ],
      "metadata": {
        "colab": {
          "base_uri": "https://localhost:8080/"
        },
        "id": "caKbYUBtEhmV",
        "outputId": "73d602dc-a4c7-4ad1-b4ed-a98136adc018"
      },
      "execution_count": 39,
      "outputs": [
        {
          "output_type": "stream",
          "name": "stdout",
          "text": [
            "찍을 별의 층수?5\n",
            "*\n",
            "**\n",
            "***\n",
            "****\n",
            "*****\n"
          ]
        }
      ]
    },
    {
      "cell_type": "code",
      "source": [
        "l = []\n",
        "for i in range(2, 10):\n",
        "    for j in range(1, 10):\n",
        "        l.append([i, j, i*j])\n",
        "l"
      ],
      "metadata": {
        "id": "QuxSgz8oE9ZZ"
      },
      "execution_count": null,
      "outputs": []
    },
    {
      "cell_type": "code",
      "source": [
        "[[i, j, i*j] for i in range(2, 10) for j in range(1, 10)]"
      ],
      "metadata": {
        "id": "ElQBId3GFIXI"
      },
      "execution_count": null,
      "outputs": []
    },
    {
      "cell_type": "markdown",
      "source": [
        "## 다중 리스트 순회"
      ],
      "metadata": {
        "id": "QwqeIS4jF_Hr"
      }
    },
    {
      "cell_type": "code",
      "source": [
        "# 이정도 코드만 아셔도 실무하는 것에는 무리가 없습니다.\n",
        "skill = [\n",
        "        ('고기잡이', 100),\n",
        "        ('고기팔기', 120),\n",
        "        ('낚시', 5),\n",
        "        ('통발', 5),\n",
        "        ('큰그물', 5)\n",
        "]\n",
        "\n",
        "for i,j in skill:\n",
        "    print(i,j)"
      ],
      "metadata": {
        "colab": {
          "base_uri": "https://localhost:8080/"
        },
        "id": "pk2xhP33GBdS",
        "outputId": "09054355-a810-4fe9-95af-c6cb88689a28"
      },
      "execution_count": 42,
      "outputs": [
        {
          "output_type": "stream",
          "name": "stdout",
          "text": [
            "고기잡이 100\n",
            "고기팔기 120\n",
            "낚시 5\n",
            "통발 5\n",
            "큰그물 5\n"
          ]
        }
      ]
    },
    {
      "cell_type": "code",
      "source": [
        "skill_name = ['고기잡이', '고기팔기', '낚시']\n",
        "skill_point = [100, 120, 5]\n",
        "\n",
        "for i, j in zip(skill_name, skill_point):\n",
        "    print(i, j)"
      ],
      "metadata": {
        "colab": {
          "base_uri": "https://localhost:8080/"
        },
        "id": "-cIvGw4RGBjK",
        "outputId": "d9c505fe-fa83-431e-c709-106715473eb1"
      },
      "execution_count": 43,
      "outputs": [
        {
          "output_type": "stream",
          "name": "stdout",
          "text": [
            "고기잡이 100\n",
            "고기팔기 120\n",
            "낚시 5\n"
          ]
        }
      ]
    },
    {
      "cell_type": "code",
      "source": [
        "skill = [\n",
        "        ('고기잡이', [1, 100]),\n",
        "        ('고기팔기', [1, 100]),\n",
        "        ('낚시', [2, 100]),\n",
        "        ('통발', [2, 100]),\n",
        "        ('큰그물', [2, 100])\n",
        "]\n",
        "\n",
        "for i, [x, y] in skill:\n",
        "    print(i, x, y)"
      ],
      "metadata": {
        "colab": {
          "base_uri": "https://localhost:8080/"
        },
        "id": "pliIQ9pGGqF8",
        "outputId": "0d0d5d3b-fd07-450f-bd1d-d1dc4af8d169"
      },
      "execution_count": 44,
      "outputs": [
        {
          "output_type": "stream",
          "name": "stdout",
          "text": [
            "고기잡이 1 100\n",
            "고기팔기 1 100\n",
            "낚시 2 100\n",
            "통발 2 100\n",
            "큰그물 2 100\n"
          ]
        }
      ]
    },
    {
      "cell_type": "code",
      "source": [
        "skill = [\n",
        "        ('고기잡이', (1, 100)),\n",
        "        ('고기팔기', (1, 100)),\n",
        "        ('낚시', (2, 100)),\n",
        "        ('통발', (2, 100)),\n",
        "        ('큰그물', (2, 100))\n",
        "]\n",
        "\n",
        "for i, [x, y] in skill:\n",
        "    print(i, x, y)"
      ],
      "metadata": {
        "colab": {
          "base_uri": "https://localhost:8080/"
        },
        "id": "F9fXrLhhHKD6",
        "outputId": "81d16a8c-4462-4877-a587-7fe79ee92657"
      },
      "execution_count": 45,
      "outputs": [
        {
          "output_type": "stream",
          "name": "stdout",
          "text": [
            "고기잡이 1 100\n",
            "고기팔기 1 100\n",
            "낚시 2 100\n",
            "통발 2 100\n",
            "큰그물 2 100\n"
          ]
        }
      ]
    },
    {
      "cell_type": "code",
      "source": [
        "skill = [\n",
        "        ('고기잡이', 'ab'), # 'abc'는 error\n",
        "        ('고기팔기', 'cd'),\n",
        "        ('낚시', 'aa'),\n",
        "        ('통발', 'bb'),\n",
        "        ('큰그물', 'cc')\n",
        "]\n",
        "\n",
        "for i, [x, y] in skill:\n",
        "    print(i, x, y)"
      ],
      "metadata": {
        "colab": {
          "base_uri": "https://localhost:8080/"
        },
        "id": "EEPUGKRxHkEa",
        "outputId": "cb94aeb1-27bd-470b-ea23-7ed13ddc07e0"
      },
      "execution_count": 46,
      "outputs": [
        {
          "output_type": "stream",
          "name": "stdout",
          "text": [
            "고기잡이 a b\n",
            "고기팔기 c d\n",
            "낚시 a a\n",
            "통발 b b\n",
            "큰그물 c c\n"
          ]
        }
      ]
    },
    {
      "cell_type": "code",
      "source": [
        "# 문제\n",
        "# data는 다음과 같은 데이터가 있습니다.\n",
        "# 각각 skill 이름, skill 제한 레벨, skill 포인트, skill 등급입니다.\n",
        "# 아래와 같이 출력해주세요.\n",
        "data = [\n",
        "        ('고기잡이', (1, 100, 'S')),\n",
        "        ('고기팔기', (1, 100, 'A')),\n",
        "        ('낚시', (2, 100, 'A')),\n",
        "        ('통발', (2, 100, 'B')),\n",
        "        ('큰그물', (2, 100, 'S'))\n",
        "]\n",
        "\n",
        "\n",
        "for name, (level, point, grade) in data:\n",
        "    print(f'축하합니다 {grade}등급에 skill {name}를 습득하셨습니다!\\n해당 스킬은 레벨 제한 {level}에 스킬 포인트 {point}입니다.')\n",
        "    # print(f'해당 스킬은 레벨 제한 {level}에 스킬 포인트 {point}입니다.') # print는 큰 부하가 되기 때문에 한번만 사용."
      ],
      "metadata": {
        "colab": {
          "base_uri": "https://localhost:8080/"
        },
        "id": "fxL9pf6fH6wQ",
        "outputId": "77ee1b90-78ef-4162-e54b-bb61a8613477"
      },
      "execution_count": 50,
      "outputs": [
        {
          "output_type": "stream",
          "name": "stdout",
          "text": [
            "축하합니다 S등급에 skill 고기잡이를 습득하셨습니다!\n",
            "해당 스킬은 레벨 제한 1에 스킬 포인트 100입니다.\n",
            "축하합니다 A등급에 skill 고기팔기를 습득하셨습니다!\n",
            "해당 스킬은 레벨 제한 1에 스킬 포인트 100입니다.\n",
            "축하합니다 A등급에 skill 낚시를 습득하셨습니다!\n",
            "해당 스킬은 레벨 제한 2에 스킬 포인트 100입니다.\n",
            "축하합니다 B등급에 skill 통발를 습득하셨습니다!\n",
            "해당 스킬은 레벨 제한 2에 스킬 포인트 100입니다.\n",
            "축하합니다 S등급에 skill 큰그물를 습득하셨습니다!\n",
            "해당 스킬은 레벨 제한 2에 스킬 포인트 100입니다.\n"
          ]
        }
      ]
    },
    {
      "cell_type": "markdown",
      "source": [
        "## while문"
      ],
      "metadata": {
        "id": "7Xl4eF2dMCzM"
      }
    },
    {
      "cell_type": "code",
      "source": [
        "# 반복문 : for, while\n",
        "a = 1\n",
        "while a < 10 : # True인 동안에\n",
        "    print(a)\n",
        "    a += 1"
      ],
      "metadata": {
        "colab": {
          "base_uri": "https://localhost:8080/"
        },
        "id": "-mxoQ99kMHCd",
        "outputId": "9cc23605-f295-46f9-fc38-e7d9eb1ea0e8"
      },
      "execution_count": 51,
      "outputs": [
        {
          "output_type": "stream",
          "name": "stdout",
          "text": [
            "1\n",
            "2\n",
            "3\n",
            "4\n",
            "5\n",
            "6\n",
            "7\n",
            "8\n",
            "9\n"
          ]
        }
      ]
    },
    {
      "cell_type": "code",
      "source": [
        "# while 특정요소:\n",
        "#     특정요소 값 꺼내는 문법\n",
        "#     특정요소가 모두 없어질 때까지\n",
        "\n",
        "l = [1, 2, 3]\n",
        "while l: # []\n",
        "    print(l.pop())"
      ],
      "metadata": {
        "colab": {
          "base_uri": "https://localhost:8080/"
        },
        "id": "YQBqdWcgMfB2",
        "outputId": "dc5c694a-55b2-4167-cc30-ee6a6f29b6e7"
      },
      "execution_count": 52,
      "outputs": [
        {
          "output_type": "stream",
          "name": "stdout",
          "text": [
            "3\n",
            "2\n",
            "1\n"
          ]
        }
      ]
    },
    {
      "cell_type": "code",
      "source": [
        "l = {1, 2, 3}\n",
        "while l:\n",
        "    print(l.pop())"
      ],
      "metadata": {
        "colab": {
          "base_uri": "https://localhost:8080/"
        },
        "id": "BkCVXEM6NKNN",
        "outputId": "10bbf807-2f55-46a2-8e51-438ebf783f7e"
      },
      "execution_count": 54,
      "outputs": [
        {
          "output_type": "stream",
          "name": "stdout",
          "text": [
            "1\n",
            "2\n",
            "3\n"
          ]
        }
      ]
    },
    {
      "cell_type": "code",
      "source": [
        "# 중복되는 문자열 중 가장 첫번째 나온\n",
        "# 문자의 index를 반환하라!\n",
        "s = 'abkkkbbbccdennnneefefg'\n",
        "ss = set(s)\n",
        "while ss:\n",
        "    string = ss.pop()\n",
        "    print(string, s.index(string))"
      ],
      "metadata": {
        "colab": {
          "base_uri": "https://localhost:8080/"
        },
        "id": "BTzhw9_0PiNG",
        "outputId": "08ccf9b2-d109-4df7-be85-d9a67fda2625"
      },
      "execution_count": 57,
      "outputs": [
        {
          "output_type": "stream",
          "name": "stdout",
          "text": [
            "d 10\n",
            "g 21\n",
            "n 12\n",
            "b 1\n",
            "a 0\n",
            "c 8\n",
            "e 11\n",
            "k 2\n",
            "f 18\n"
          ]
        }
      ]
    },
    {
      "cell_type": "code",
      "source": [
        "# 이러한 무한반복은 메모리를 모두 소진합니다.\n",
        "# 서버가 뻗을 수도 있습니다.\n",
        "while True:\n",
        "    user_input = input('$')\n",
        "    split_data = user_input.split(' ')\n",
        "    if split_data[0] == 'mkdir':\n",
        "        print(f'{split_data[1]} 폴더가 생성되었습니다!')\n",
        "    elif split_data[0] == 'rmdir':\n",
        "        print(f'{split_data[1]} 폴더가 삭제되었습니다!')\n",
        "    elif split_data[0] == 'exit':\n",
        "        print('프로그램을 종료합니다.')\n",
        "        break"
      ],
      "metadata": {
        "id": "6KdNTZmYQVts"
      },
      "execution_count": null,
      "outputs": []
    },
    {
      "cell_type": "code",
      "source": [
        "import random\n",
        "\n",
        "random.randint(0, 100)"
      ],
      "metadata": {
        "colab": {
          "base_uri": "https://localhost:8080/"
        },
        "id": "VEipQj-_SvGT",
        "outputId": "38f54773-dcd1-4c81-df6d-da1da7d951c7"
      },
      "execution_count": 63,
      "outputs": [
        {
          "output_type": "execute_result",
          "data": {
            "text/plain": [
              "94"
            ]
          },
          "metadata": {},
          "execution_count": 63
        }
      ]
    },
    {
      "cell_type": "code",
      "source": [
        "import random\n",
        "# up down game\n",
        "\n",
        "result = random.randint(1, 100)\n",
        "\n",
        "while True:\n",
        "    user_input = int(input(''))\n",
        "    if user_input > result:\n",
        "        print('down')\n",
        "    elif user_input < result:\n",
        "        print('up')\n",
        "    else:\n",
        "        print('맞췄습니다!')\n",
        "        print('프로그램을 종료합니다.')\n",
        "        break"
      ],
      "metadata": {
        "colab": {
          "base_uri": "https://localhost:8080/"
        },
        "id": "6vl9v4muSBc-",
        "outputId": "1b292e71-a52f-40ad-9c53-017bed1e5c7e"
      },
      "execution_count": 65,
      "outputs": [
        {
          "output_type": "stream",
          "name": "stdout",
          "text": [
            "50\n",
            "down\n",
            "25\n",
            "down\n",
            "10\n",
            "맞췄습니다!\n",
            "프로그램을 종료합니다.\n"
          ]
        }
      ]
    },
    {
      "cell_type": "code",
      "source": [
        "# 구구단이 출력되지 않는 코드\n",
        "# 한땀한땀 따라가면서 왜 출력이 되지 않는지 체크해보세요.\n",
        "x = 2\n",
        "y = 1\n",
        "while x < 10:\n",
        "    while y < 10:\n",
        "        print(x, y, x * y)\n",
        "        y += 1\n",
        "    y = 1 # 초기화를 해주어야 다음 while에서 y < 10에 들어갈 수 있습니다.\n",
        "    x += 1"
      ],
      "metadata": {
        "id": "oB-Xyc-QT3IE"
      },
      "execution_count": null,
      "outputs": []
    },
    {
      "cell_type": "code",
      "source": [
        "count = 0\n",
        "while True:\n",
        "    print(count)\n",
        "    if count == 5:\n",
        "        break\n",
        "    count += 1\n",
        "print('end')"
      ],
      "metadata": {
        "colab": {
          "base_uri": "https://localhost:8080/"
        },
        "id": "Jl0HbY5_Up8u",
        "outputId": "cea4290d-cc5c-4056-8850-871cbaece4ff"
      },
      "execution_count": 67,
      "outputs": [
        {
          "output_type": "stream",
          "name": "stdout",
          "text": [
            "0\n",
            "1\n",
            "2\n",
            "3\n",
            "4\n",
            "5\n",
            "end\n"
          ]
        }
      ]
    },
    {
      "cell_type": "code",
      "source": [
        "# 무한 루프\n",
        "count = 0.0\n",
        "while True:\n",
        "    print(count)\n",
        "    if count == 0.3: # 부동소수점 문제가 발생할 수 있습니다.\n",
        "        break\n",
        "    count += 0.1\n",
        "print('end')"
      ],
      "metadata": {
        "id": "3UtZjQxgU0RL"
      },
      "execution_count": null,
      "outputs": []
    },
    {
      "cell_type": "code",
      "source": [
        "count = 0.0\n",
        "while True:\n",
        "    print(count)\n",
        "    if count >= 0.3:\n",
        "        break\n",
        "    count += 0.1\n",
        "print('end')"
      ],
      "metadata": {
        "colab": {
          "base_uri": "https://localhost:8080/"
        },
        "id": "Ho-_2qVuVTem",
        "outputId": "c8f39721-0b9a-48ad-8b6f-cb34d2902c82"
      },
      "execution_count": 69,
      "outputs": [
        {
          "output_type": "stream",
          "name": "stdout",
          "text": [
            "0.0\n",
            "0.1\n",
            "0.2\n",
            "0.30000000000000004\n",
            "end\n"
          ]
        }
      ]
    },
    {
      "cell_type": "code",
      "source": [
        "# 다른 언어에서는 이 구문이 작동되지 않습니다.\n",
        "i = 0\n",
        "while i < 10:\n",
        "    if i == 5:\n",
        "        break\n",
        "    i += 1\n",
        "else:\n",
        "    print('정상종료!')"
      ],
      "metadata": {
        "id": "lPkpFPWGVcz5"
      },
      "execution_count": 70,
      "outputs": []
    },
    {
      "cell_type": "code",
      "source": [
        "i = 0\n",
        "while i < 10:\n",
        "    i += 1\n",
        "else:\n",
        "    print('정상종료!')"
      ],
      "metadata": {
        "colab": {
          "base_uri": "https://localhost:8080/"
        },
        "id": "WHmzR3dUVt3R",
        "outputId": "a09757d8-8e17-483b-8ae3-cf2d57c69e78"
      },
      "execution_count": 71,
      "outputs": [
        {
          "output_type": "stream",
          "name": "stdout",
          "text": [
            "정상종료!\n"
          ]
        }
      ]
    },
    {
      "cell_type": "markdown",
      "source": [
        "* https://school.programmers.co.kr/learn/courses/30/lessons/120871"
      ],
      "metadata": {
        "id": "umEIvPiiYIFY"
      }
    },
    {
      "cell_type": "code",
      "source": [
        "# step1\n",
        "count10 = 0\n",
        "n = 15\n",
        "while count10 < n+1:\n",
        "    print(count10)\n",
        "    count10 += 1"
      ],
      "metadata": {
        "colab": {
          "base_uri": "https://localhost:8080/"
        },
        "id": "iAaHt2PGYKoN",
        "outputId": "2952c995-fa83-4c3a-a43f-fc0b14643dcd"
      },
      "execution_count": 77,
      "outputs": [
        {
          "output_type": "stream",
          "name": "stdout",
          "text": [
            "0\n",
            "1\n",
            "2\n",
            "3\n",
            "4\n",
            "5\n",
            "6\n",
            "7\n",
            "8\n",
            "9\n",
            "10\n",
            "11\n",
            "12\n",
            "13\n",
            "14\n",
            "15\n"
          ]
        }
      ]
    },
    {
      "cell_type": "code",
      "source": [
        "# step2 조건만 간단히 구현\n",
        "count10 = 0\n",
        "count3 = 0 # 3x 마을에서 쓰는 숫자\n",
        "n = 15\n",
        "while count10 < n + 1:\n",
        "    count10 += 1\n",
        "    count3 += 1\n",
        "    if (count3 % 3) == 0 or '3' in str(count3):\n",
        "        count3 += 1\n",
        "    # 저주의 숫자를 지나가도 다시 저주의 숫자일 수 있습니다\n",
        "    # 체크를 계속해야하는데 한번만 합니다\n",
        "    print(count10, count3)\n",
        "count3"
      ],
      "metadata": {
        "colab": {
          "base_uri": "https://localhost:8080/"
        },
        "id": "cQhbB186Y0TC",
        "outputId": "a6455744-bccf-4f58-cfb1-055ee6cc41a7"
      },
      "execution_count": 90,
      "outputs": [
        {
          "output_type": "stream",
          "name": "stdout",
          "text": [
            "1 1\n",
            "2 2\n",
            "3 4\n",
            "4 5\n",
            "5 7\n",
            "6 8\n",
            "7 10\n",
            "8 11\n",
            "9 13\n",
            "10 14\n",
            "11 16\n",
            "12 17\n",
            "13 19\n",
            "14 20\n",
            "15 22\n"
          ]
        },
        {
          "output_type": "execute_result",
          "data": {
            "text/plain": [
              "22"
            ]
          },
          "metadata": {},
          "execution_count": 90
        }
      ]
    },
    {
      "cell_type": "code",
      "source": [
        "# step3 조건만 간단히 구현 => 조건이 계속 반복되도록\n",
        "count10 = 0\n",
        "count3 = 0 # 3x 마을에서 쓰는 숫자\n",
        "n = 15\n",
        "while count10 < n:\n",
        "    count10 += 1\n",
        "    count3 += 1\n",
        "    while (count3 % 3) == 0 or '3' in str(count3):\n",
        "        count3 += 1\n",
        "    # 저주의 숫자를 지나가도 다시 저주의 숫자일 수 있습니다\n",
        "    # 체크를 계속해야하는데 한번만 합니다\n",
        "    print(count10, count3)"
      ],
      "metadata": {
        "colab": {
          "base_uri": "https://localhost:8080/"
        },
        "id": "Zv7U-M60tUxR",
        "outputId": "488ce1ca-0066-4e3b-f5ea-f4dcd0555320"
      },
      "execution_count": 93,
      "outputs": [
        {
          "output_type": "stream",
          "name": "stdout",
          "text": [
            "1 1\n",
            "2 2\n",
            "3 4\n",
            "4 5\n",
            "5 7\n",
            "6 8\n",
            "7 10\n",
            "8 11\n",
            "9 14\n",
            "10 16\n",
            "11 17\n",
            "12 19\n",
            "13 20\n",
            "14 22\n",
            "15 25\n"
          ]
        }
      ]
    },
    {
      "cell_type": "code",
      "source": [
        "def solution(n):\n",
        "    count10 = 0\n",
        "    count3 = 0\n",
        "    while count10 < n:\n",
        "        count10 += 1\n",
        "        count3 += 1\n",
        "        while count3 % 3 == 0 or '3' in str(count3):\n",
        "            count3 += 1\n",
        "    return count3"
      ],
      "metadata": {
        "id": "YcOhOeTBt73f"
      },
      "execution_count": 94,
      "outputs": []
    },
    {
      "cell_type": "code",
      "source": [
        "[i for i in range(1, 31) if i % 3 != 0 and not('3' in str(i))]"
      ],
      "metadata": {
        "colab": {
          "base_uri": "https://localhost:8080/"
        },
        "id": "eYvRZsU0ua9I",
        "outputId": "699eb086-209b-468e-dfa6-8cdee5e5aa62"
      },
      "execution_count": 96,
      "outputs": [
        {
          "output_type": "execute_result",
          "data": {
            "text/plain": [
              "[1, 2, 4, 5, 7, 8, 10, 11, 14, 16, 17, 19, 20, 22, 25, 26, 28, 29]"
            ]
          },
          "metadata": {},
          "execution_count": 96
        }
      ]
    },
    {
      "cell_type": "code",
      "source": [
        "def solution(n):\n",
        "    return [i for i in range(1, 1001) if i % 3 != 0 and not('3' in str(i))][n-1]"
      ],
      "metadata": {
        "id": "7koFYR3UuSSg"
      },
      "execution_count": 95,
      "outputs": []
    },
    {
      "cell_type": "markdown",
      "source": [
        "## 예외처리(try, except, else)"
      ],
      "metadata": {
        "id": "G7BDB5WsV6e9"
      }
    },
    {
      "cell_type": "code",
      "source": [
        "# try:\n",
        "#     실행문\n",
        "# except:\n",
        "#     예외 발생 시 처리문\n",
        "# else:\n",
        "#     예외 발생하지 않을 경우 실행문"
      ],
      "metadata": {
        "id": "NGNSGZTDV_O0"
      },
      "execution_count": null,
      "outputs": []
    },
    {
      "cell_type": "code",
      "source": [
        "try:\n",
        "    i = 1\n",
        "    j = 0\n",
        "    x = i/j\n",
        "except:\n",
        "    print(\"error\")\n",
        "else:\n",
        "    print(x)"
      ],
      "metadata": {
        "colab": {
          "base_uri": "https://localhost:8080/"
        },
        "id": "yIr-2PTTWI8Z",
        "outputId": "dcad6ff2-7d90-4bc5-ee80-d3cb2a2d23fc"
      },
      "execution_count": 73,
      "outputs": [
        {
          "output_type": "stream",
          "name": "stdout",
          "text": [
            "error\n"
          ]
        }
      ]
    },
    {
      "cell_type": "markdown",
      "source": [
        "## 실제 데이터를 가지고 연습 (json gen)"
      ],
      "metadata": {
        "id": "iPXSVJHcvEhM"
      }
    },
    {
      "cell_type": "markdown",
      "source": [
        "* https://json-generator.com/\n",
        "```\n",
        "[\n",
        "  '{{repeat(5, 7)}}',\n",
        "  {\n",
        "    _id: '{{objectId()}}',\n",
        "    age: '{{integer(20, 40)}}',\n",
        "    eyeColor: '{{random(\"blue\", \"brown\", \"green\")}}',\n",
        "    name: '{{firstName()}} {{surname()}}',\n",
        "    gender: '{{gender()}}'\n",
        "  }\n",
        "]\n",
        "```"
      ],
      "metadata": {
        "id": "eXpVcEk6vers"
      }
    },
    {
      "cell_type": "code",
      "source": [
        "data = [\n",
        "  {\n",
        "    \"_id\": \"6459ca0b0de24a6c6f303e29\",\n",
        "    \"age\": 26,\n",
        "    \"eyeColor\": \"green\",\n",
        "    \"name\": \"Miles Tyson\",\n",
        "    \"gender\": \"male\"\n",
        "  },\n",
        "  {\n",
        "    \"_id\": \"6459ca0bb19b8a6918c8dd0e\",\n",
        "    \"age\": 39,\n",
        "    \"eyeColor\": \"brown\",\n",
        "    \"name\": \"Celia Caldwell\",\n",
        "    \"gender\": \"female\"\n",
        "  },\n",
        "  {\n",
        "    \"_id\": \"6459ca0bd3c2ed81541d349e\",\n",
        "    \"age\": 32,\n",
        "    \"eyeColor\": \"green\",\n",
        "    \"name\": \"Saunders Kim\",\n",
        "    \"gender\": \"male\"\n",
        "  },\n",
        "  {\n",
        "    \"_id\": \"6459ca0bfcf6c38f9d16140c\",\n",
        "    \"age\": 27,\n",
        "    \"eyeColor\": \"brown\",\n",
        "    \"name\": \"Forbes Chaney\",\n",
        "    \"gender\": \"male\"\n",
        "  },\n",
        "  {\n",
        "    \"_id\": \"6459ca0b60598f84be97a322\",\n",
        "    \"age\": 31,\n",
        "    \"eyeColor\": \"green\",\n",
        "    \"name\": \"Faye Cole\",\n",
        "    \"gender\": \"female\"\n",
        "  },\n",
        "  {\n",
        "    \"_id\": \"6459ca0b3b66198736a00ef0\",\n",
        "    \"age\": 32,\n",
        "    \"eyeColor\": \"green\",\n",
        "    \"name\": \"Parker Saunders\",\n",
        "    \"gender\": \"male\"\n",
        "  }\n",
        "]\n",
        "\n",
        "data[0]\n",
        "data[0]['age']\n",
        "\n",
        "sum_age = 0\n",
        "for i in data:\n",
        "    sum_age += i['age']\n",
        "avg_age = sum_age / len(data)\n",
        "print(f'평균 나이 : {avg_age}')\n",
        "\n",
        "# 2번\n",
        "male = 0\n",
        "female = 0\n",
        "for i in data:\n",
        "    if i['gender'] == 'male':\n",
        "        male += 1\n",
        "    else:\n",
        "        female += 1\n",
        "\n",
        "print(f'남자성비 : {male / len(data)} 여자성비 : {female / len(data)}')\n",
        "\n",
        "average_age = sum(map(lambda x: x['age'], data))/len(data)\n",
        "male = len(list(filter(lambda x: x['gender'] == 'male', data)))\n",
        "female = len(list(filter(lambda x: x['gender'] == 'female', data)))\n",
        "print(f'평균나이는 {average_age} 입니다.\\n성비는 남성 {male} : 여성 {female} 입니다.')"
      ],
      "metadata": {
        "colab": {
          "base_uri": "https://localhost:8080/"
        },
        "id": "5hnCeqhpvNIE",
        "outputId": "8af64cda-ec02-44b1-d60a-1231c33322e7"
      },
      "execution_count": 9,
      "outputs": [
        {
          "output_type": "stream",
          "name": "stdout",
          "text": [
            "평균 나이 : 31.166666666666668\n",
            "남자성비 : 0.6666666666666666 여자성비 : 0.3333333333333333\n",
            "평균나이는 31.166666666666668 입니다.\n",
            "성비는 남성 4 : 여성 2 입니다.\n"
          ]
        }
      ]
    },
    {
      "cell_type": "code",
      "source": [
        "#Lv0\n",
        "(data[0]['age'] + data[1]['age'] + data[2]['age']) / 3\n",
        "\n",
        "성별 = []\n",
        "성별.append(data[0]['gender'])\n",
        "성별.append(data[1]['gender'])\n",
        "성별.append(data[2]['gender'])\n",
        "print(성별)\n",
        "print(성별.count('male') / len(data) * 100)\n",
        "print(성별.count('female') / len(data) * 100)"
      ],
      "metadata": {
        "colab": {
          "base_uri": "https://localhost:8080/"
        },
        "id": "HfPiEt6f1MNb",
        "outputId": "58b2804f-0964-419b-dd6a-f9e50c08e23d"
      },
      "execution_count": 6,
      "outputs": [
        {
          "output_type": "stream",
          "name": "stdout",
          "text": [
            "['male', 'female', 'male']\n",
            "33.33333333333333\n",
            "16.666666666666664\n"
          ]
        }
      ]
    },
    {
      "cell_type": "code",
      "source": [
        "#Lv1\n",
        "age_sum = 0\n",
        "for i in range(3): # 좋은 코드는 아닙니다.\n",
        "    age_sum += data[i]['age']\n",
        "age_sum / 3\n",
        "\n",
        "성별 = []\n",
        "for i in range(3):\n",
        "    성별.append(data[i]['gender'])\n",
        "print(성별.count('male') / len(data) * 100)\n",
        "print(성별.count('female') / len(data) * 100)"
      ],
      "metadata": {
        "colab": {
          "base_uri": "https://localhost:8080/"
        },
        "id": "xwooj3yk1NWI",
        "outputId": "ef1d7914-0b8f-4cbe-baa8-c6e5441159df"
      },
      "execution_count": 7,
      "outputs": [
        {
          "output_type": "stream",
          "name": "stdout",
          "text": [
            "33.33333333333333\n",
            "16.666666666666664\n"
          ]
        }
      ]
    },
    {
      "cell_type": "code",
      "source": [
        "#Lv1\n",
        "age_sum = 0\n",
        "for i in range(len(data)):\n",
        "    age_sum += data[i]['age']\n",
        "age_sum / 3\n",
        "\n",
        "성별 = []\n",
        "for i in range(len(data)):\n",
        "    성별.append(data[i]['gender'])\n",
        "print(성별.count('male') / len(data) * 100)\n",
        "print(성별.count('female') / len(data) * 100)"
      ],
      "metadata": {
        "colab": {
          "base_uri": "https://localhost:8080/"
        },
        "id": "01NPjYt71RDf",
        "outputId": "0b922df8-6215-4035-892e-616df207249c"
      },
      "execution_count": 8,
      "outputs": [
        {
          "output_type": "stream",
          "name": "stdout",
          "text": [
            "66.66666666666666\n",
            "33.33333333333333\n"
          ]
        }
      ]
    },
    {
      "cell_type": "code",
      "source": [
        "#Lv2\n",
        "\n",
        "# 평균 (1줄)\n",
        "# list(map(lambda x:x['age'], data))\n",
        "sum(map(lambda x:x['age'], data)) / len(data)\n",
        "\n",
        "# 성별 (1줄)\n",
        "len(list(filter(lambda x:x['gender'] == 'male', data))) / len(data) * 100\n",
        "len(list(filter(lambda x:x['gender'] == 'female', data))) / len(data) * 100"
      ],
      "metadata": {
        "colab": {
          "base_uri": "https://localhost:8080/"
        },
        "id": "qyXvjPI21Ufd",
        "outputId": "0aa29074-a967-4f46-f4bd-1fa94e3a7a6a"
      },
      "execution_count": 10,
      "outputs": [
        {
          "output_type": "execute_result",
          "data": {
            "text/plain": [
              "33.33333333333333"
            ]
          },
          "metadata": {},
          "execution_count": 10
        }
      ]
    },
    {
      "cell_type": "code",
      "source": [
        "# Q1\n",
        "# sol1\n",
        "sum([elem['age'] for elem in data]) / len(data)\n",
        "\n",
        "# sol2\n",
        "sum(map(lambda x:x['age'], data)) / len(data)\n",
        "\n",
        "# Q2\n",
        "gender = [elem['gender'] for elem in data]\n",
        "male = gender.count('male')\n",
        "female = gender.count('female')\n",
        "print(f'{male/len(gender)*100:.2f} : {female/len(gender)*100:.2f}')"
      ],
      "metadata": {
        "colab": {
          "base_uri": "https://localhost:8080/"
        },
        "id": "QYuByX225NkR",
        "outputId": "cc16ddf5-1810-4f05-ab12-f65ca98c9d0a"
      },
      "execution_count": 11,
      "outputs": [
        {
          "output_type": "stream",
          "name": "stdout",
          "text": [
            "66.67 : 33.33\n"
          ]
        }
      ]
    },
    {
      "cell_type": "code",
      "source": [
        "# Q1\n",
        "# sol1\n",
        "sum([elem['age'] for elem in data]) / len(data)\n",
        "\n",
        "# sol2\n",
        "sum(map(lambda x:x['age'], data)) / len(data)\n",
        "\n",
        "# Q2\n",
        "gender = [elem['gender'] for elem in data]\n",
        "male = gender.count('male')\n",
        "female = gender.count('female')\n",
        "male_percentage = male/len(gender)*100\n",
        "female_percentage = female/len(gender)*100\n",
        "print(f'{male_percentage:.2f} : {female_percentage:.2f}')"
      ],
      "metadata": {
        "id": "enXt9kXu5RW-"
      },
      "execution_count": null,
      "outputs": []
    },
    {
      "cell_type": "markdown",
      "source": [
        "## 알아야 하는 built-in function"
      ],
      "metadata": {
        "id": "NzPY3A8X8MDG"
      }
    },
    {
      "cell_type": "markdown",
      "source": [
        "* https://docs.python.org/3/library/functions.html"
      ],
      "metadata": {
        "id": "LqvW3zJ6-iYG"
      }
    },
    {
      "cell_type": "markdown",
      "source": [
        "### 수학적 통계에 활용되는 함수"
      ],
      "metadata": {
        "id": "9SMZiAD9-Vbf"
      }
    },
    {
      "cell_type": "markdown",
      "source": [
        "- abs( ) : 괄호 안에 있는 값을 절대값으로 출력해줍니다.\n",
        "- all( ) : 괄호 안에 있는 값들이 모두 True(False)일 때 True(False)를 출력합니다.\n",
        "- any( ) : 괄호안에 있는 값이 하나라고 True이면 True로 출력합니다.\n",
        "- pow( ) : 제곱을 출력합니다.\n",
        "- max( ) : 값의 최댓값을 출력합니다.\n",
        "- min( ) : 값의 최솟값을 출력합니다.\n",
        "- sum( ) : 값의 합계를 출력합니다.\n",
        "- len( ) : 문자열의 길이를 출력합니다.\n",
        "- sorted( ) : 데이터를 정렬해줍니다.\n",
        "- reversed( ) : 정렬되지 않은 상태에서 값을 역순으로 출력합니다."
      ],
      "metadata": {
        "id": "7NzX1VWH8OE1"
      }
    },
    {
      "cell_type": "code",
      "source": [
        "abs(-1)\n",
        "all([True, True, True])\n",
        "all([True, True, False])\n",
        "all(['a', 'b', 'ccc'])\n",
        "all(['a', '', 'ccc'])\n",
        "if all([3 > 5, 12 % 2 == 0, 15 % 5 == 0]):\n",
        "    print('hello')\n",
        "\n",
        "if all([3 > 5, \n",
        "        12 % 2 == 0, \n",
        "        15 % 5 == 0]):\n",
        "    print('hello')\n",
        "\n",
        "\n",
        "if 3 > 5 and 12 % 2 == 0 and 15 % 5 == 0:\n",
        "    print('hello')\n",
        "\n",
        "# if all([one(), two(), three()]):\n",
        "#     print('hello')\n",
        "\n",
        "# all(True, True, True) # all() takes exactly one argument (3 given)\n",
        "\n",
        "pow(2, 3)"
      ],
      "metadata": {
        "colab": {
          "base_uri": "https://localhost:8080/"
        },
        "id": "hBDAMUfd733U",
        "outputId": "71eb9461-2890-40e4-8229-28eb3d99ba45"
      },
      "execution_count": 16,
      "outputs": [
        {
          "output_type": "execute_result",
          "data": {
            "text/plain": [
              "8"
            ]
          },
          "metadata": {},
          "execution_count": 16
        }
      ]
    },
    {
      "cell_type": "code",
      "source": [
        "sum([[1, 2], [3, 4], [5, 6]], [])\n",
        "sum([1, 2, 3, 4, 5, 6], 100)\n",
        "# sum([1, 2, 3, 4, 5, 6], {1, 2, 3}) # error"
      ],
      "metadata": {
        "colab": {
          "base_uri": "https://localhost:8080/"
        },
        "id": "9twSFeGD9Avs",
        "outputId": "e644d293-e60e-4624-884b-837c715bea6e"
      },
      "execution_count": 19,
      "outputs": [
        {
          "output_type": "execute_result",
          "data": {
            "text/plain": [
              "121"
            ]
          },
          "metadata": {},
          "execution_count": 19
        }
      ]
    },
    {
      "cell_type": "code",
      "source": [
        "# __len__ 가 없는 것들 : map, zip, filter\n",
        "# class str(str):\n",
        "#     def __len__(self):\n",
        "#         return 1000\n",
        "\n",
        "len(str('hello world'))"
      ],
      "metadata": {
        "colab": {
          "base_uri": "https://localhost:8080/"
        },
        "id": "APYSNqCC9su-",
        "outputId": "12bbc1c8-1352-479b-9bf0-16f1256e3d3a"
      },
      "execution_count": 21,
      "outputs": [
        {
          "output_type": "execute_result",
          "data": {
            "text/plain": [
              "1000"
            ]
          },
          "metadata": {},
          "execution_count": 21
        }
      ]
    },
    {
      "cell_type": "code",
      "source": [
        "# len(zip([1, 2, 3], 'abc')) # error"
      ],
      "metadata": {
        "id": "JFiTm9ts-H23"
      },
      "execution_count": null,
      "outputs": []
    },
    {
      "cell_type": "markdown",
      "source": [
        "### 형변환 함수"
      ],
      "metadata": {
        "id": "UuvP6Fs3-lE_"
      }
    },
    {
      "cell_type": "markdown",
      "source": [
        "- set( )\n",
        "- dict( )\n",
        "- hex( ) : 16진법\n",
        "- bin( ) : 2진법\n",
        "- oct( ) : 8진법\n",
        "- bool( )\n",
        "- str( )\n",
        "- ord( ) : 각각의 문자에 대한 숫자값을 출력해줍니다.(아스키코드표를 참고하세요.)\n",
        "- float( )\n",
        "- tuple( )\n",
        "- chr( ) : 숫자값을 통해서 문자를 출력합니다.\n",
        "- list( )\n",
        "- range( )\n",
        "- complex( )"
      ],
      "metadata": {
        "id": "IGZ7aPib-f0w"
      }
    },
    {
      "cell_type": "code",
      "source": [
        "l = [1, 2, 3]\n",
        "type(l)"
      ],
      "metadata": {
        "colab": {
          "base_uri": "https://localhost:8080/"
        },
        "id": "HcZHYgyY-97G",
        "outputId": "c7bd05d1-ee02-4688-d763-085ad1f6980e"
      },
      "execution_count": 1,
      "outputs": [
        {
          "output_type": "execute_result",
          "data": {
            "text/plain": [
              "list"
            ]
          },
          "metadata": {},
          "execution_count": 1
        }
      ]
    },
    {
      "cell_type": "code",
      "source": [
        "# 아래 3개는 int형\n",
        "# bin( ) : 2진법\n",
        "# oct( ) : 8진법\n",
        "# hex( ) : 16진법\n",
        "bin(7)\n",
        "type(bin(7))\n",
        "0b111\n",
        "type(0b111)\n",
        "int('111', 2)\n",
        "int('0b111', 2)\n",
        "int(0b111, 2) # error"
      ],
      "metadata": {
        "colab": {
          "base_uri": "https://localhost:8080/"
        },
        "id": "u0U3_SPW_BDp",
        "outputId": "31983133-4144-4cf7-b3fd-79f722fd9e38"
      },
      "execution_count": 3,
      "outputs": [
        {
          "output_type": "execute_result",
          "data": {
            "text/plain": [
              "7"
            ]
          },
          "metadata": {},
          "execution_count": 3
        }
      ]
    },
    {
      "cell_type": "code",
      "source": [
        "# 알고리즘 문제에서 많이 활용\n",
        "ord('A')\n",
        "chr(65)"
      ],
      "metadata": {
        "colab": {
          "base_uri": "https://localhost:8080/",
          "height": 35
        },
        "id": "CufFNpES_tXF",
        "outputId": "130569ed-3222-4e0f-9fce-ac006e4e7e64"
      },
      "execution_count": 5,
      "outputs": [
        {
          "output_type": "execute_result",
          "data": {
            "text/plain": [
              "'A'"
            ],
            "application/vnd.google.colaboratory.intrinsic+json": {
              "type": "string"
            }
          },
          "metadata": {},
          "execution_count": 5
        }
      ]
    },
    {
      "cell_type": "code",
      "source": [
        "# list(range(start, stop, step))\n",
        "list(range(0, 10, 2))\n",
        "list(range(0, 10))\n",
        "list(range(10))\n",
        "list(range(-10, 10, 2))\n",
        "list(range(0, -10, -2))"
      ],
      "metadata": {
        "colab": {
          "base_uri": "https://localhost:8080/"
        },
        "id": "0zLmjesSAQNc",
        "outputId": "a900af19-cc99-4f94-f156-7cdf09493a60"
      },
      "execution_count": 10,
      "outputs": [
        {
          "output_type": "execute_result",
          "data": {
            "text/plain": [
              "[0, 1, 2, 3, 4, 5, 6, 7, 8, 9]"
            ]
          },
          "metadata": {},
          "execution_count": 10
        }
      ]
    },
    {
      "cell_type": "markdown",
      "source": [
        "### 도움말"
      ],
      "metadata": {
        "id": "gsCZGLoUA7vo"
      }
    },
    {
      "cell_type": "code",
      "source": [
        "def hojun():\n",
        "    '''\n",
        "    이호준이 작성한 함수\n",
        "    '''\n",
        "    pass\n",
        "\n",
        "help(hojun)"
      ],
      "metadata": {
        "colab": {
          "base_uri": "https://localhost:8080/"
        },
        "id": "lbt1rrYNA9Rs",
        "outputId": "60745989-fce6-4ccd-ec1a-9e0ada82a33b"
      },
      "execution_count": 11,
      "outputs": [
        {
          "output_type": "stream",
          "name": "stdout",
          "text": [
            "Help on function hojun in module __main__:\n",
            "\n",
            "hojun()\n",
            "    이호준이 작성한 함수\n",
            "\n"
          ]
        }
      ]
    },
    {
      "cell_type": "markdown",
      "source": [
        "### object 관련 함수"
      ],
      "metadata": {
        "id": "LxjGBmDRBAb3"
      }
    },
    {
      "cell_type": "markdown",
      "source": [
        "* dir()\n",
        "* id()\n",
        "* type()"
      ],
      "metadata": {
        "id": "mZfKaGIMBEKU"
      }
    },
    {
      "cell_type": "code",
      "source": [
        "# dir() # directory에 약자로 대상이 가진 attribute를 모두 출력합니다.\n",
        "# attribute가 무엇인가? class에서 배울 멤버 + 메서드 입니다."
      ],
      "metadata": {
        "id": "S2mt23FcBBBY"
      },
      "execution_count": null,
      "outputs": []
    },
    {
      "cell_type": "code",
      "source": [
        "def f():\n",
        "    return 100\n",
        "\n",
        "f.name = 'leehojun'\n",
        "dir(f)\n",
        "print(f.name)"
      ],
      "metadata": {
        "colab": {
          "base_uri": "https://localhost:8080/"
        },
        "id": "cCERSw0lBPCz",
        "outputId": "466154dd-dd11-4b4e-c47b-3665e40c5ef5"
      },
      "execution_count": 14,
      "outputs": [
        {
          "output_type": "stream",
          "name": "stdout",
          "text": [
            "leehojun\n"
          ]
        }
      ]
    },
    {
      "cell_type": "code",
      "source": [
        "# 배우는 재미\n",
        "# 단시간에 될 수 없습니다 => 경쟁력"
      ],
      "metadata": {
        "id": "i2wFKKq-BwDv"
      },
      "execution_count": null,
      "outputs": []
    },
    {
      "cell_type": "code",
      "source": [
        "# 메모리 지칭\n",
        "l = 10\n",
        "# 복사가 제대로 이뤄졌나?\n",
        "id(l) # 깊은복사, 얕은복사 "
      ],
      "metadata": {
        "id": "fzb6FZ4rCAVn"
      },
      "execution_count": null,
      "outputs": []
    },
    {
      "cell_type": "code",
      "source": [
        "type('abc') # str\n",
        "print(type('abc')) # <class 'str'>\n",
        "# print(type(f)) # class가 전체 Python을 관통하고 있습니다."
      ],
      "metadata": {
        "colab": {
          "base_uri": "https://localhost:8080/"
        },
        "id": "RfPuY15vCZ4B",
        "outputId": "5a755155-2256-4290-b184-b04e13533b4f"
      },
      "execution_count": 16,
      "outputs": [
        {
          "output_type": "stream",
          "name": "stdout",
          "text": [
            "<class 'str'>\n"
          ]
        }
      ]
    },
    {
      "cell_type": "markdown",
      "source": [
        "### 유용한 순회 가능 객체"
      ],
      "metadata": {
        "id": "FiBUmS61C-Eb"
      }
    },
    {
      "cell_type": "markdown",
      "source": [
        "- enumerate( ) : 값에 순위를 매기고 싶을 때 사용합니다.\n",
        "- range( )\n",
        "- filter( )\n",
        "- zip( )\n",
        "- map( )"
      ],
      "metadata": {
        "id": "YpoHsGgIDsCL"
      }
    },
    {
      "cell_type": "code",
      "source": [
        "print(type(range(3)))"
      ],
      "metadata": {
        "colab": {
          "base_uri": "https://localhost:8080/"
        },
        "id": "HDJ5jfTXC9xd",
        "outputId": "609188a3-ec58-4967-a0a9-b3e0eb1da910"
      },
      "execution_count": 17,
      "outputs": [
        {
          "output_type": "stream",
          "name": "stdout",
          "text": [
            "<class 'range'>\n"
          ]
        }
      ]
    },
    {
      "cell_type": "code",
      "source": [
        "list(enumerate([10, 20, 30]))"
      ],
      "metadata": {
        "colab": {
          "base_uri": "https://localhost:8080/"
        },
        "id": "XZ6KkLYdDv9Z",
        "outputId": "a7bf69f2-c127-418c-c9eb-8f881c187446"
      },
      "execution_count": 18,
      "outputs": [
        {
          "output_type": "execute_result",
          "data": {
            "text/plain": [
              "[(0, 10), (1, 20), (2, 30)]"
            ]
          },
          "metadata": {},
          "execution_count": 18
        }
      ]
    },
    {
      "cell_type": "code",
      "source": [
        "list(enumerate([10, 20, 30], 100))"
      ],
      "metadata": {
        "colab": {
          "base_uri": "https://localhost:8080/"
        },
        "id": "PmJSh96WDyMN",
        "outputId": "87c9cb2f-c8d6-4609-f343-11651d442edd"
      },
      "execution_count": 19,
      "outputs": [
        {
          "output_type": "execute_result",
          "data": {
            "text/plain": [
              "[(100, 10), (101, 20), (102, 30)]"
            ]
          },
          "metadata": {},
          "execution_count": 19
        }
      ]
    },
    {
      "cell_type": "code",
      "source": [
        "def 함수(x):\n",
        "    return x > 15\n",
        "\n",
        "list(filter(함수, [10, 20, 30, 40]))\n",
        "list(filter(None, [True, True, False, False]))\n",
        "# filter에 None 주는 것이 어디에 유용할까요?\n",
        "# 여러가지 자료형이 섞여 있을 때 값이 들어있는 것만 찾을 경우\n",
        "list(filter(None, [[], 'abc', '', '']))"
      ],
      "metadata": {
        "colab": {
          "base_uri": "https://localhost:8080/"
        },
        "id": "P3_CcPvCGddi",
        "outputId": "c2c434d1-c889-45a0-dd0d-3359db63636e"
      },
      "execution_count": 26,
      "outputs": [
        {
          "output_type": "execute_result",
          "data": {
            "text/plain": [
              "['abc']"
            ]
          },
          "metadata": {},
          "execution_count": 26
        }
      ]
    },
    {
      "cell_type": "code",
      "source": [
        "list(zip('abc', 'def', 'ght', [1, 2, 3], [4, 5, 6, 7]))"
      ],
      "metadata": {
        "colab": {
          "base_uri": "https://localhost:8080/"
        },
        "id": "D_BcOXPlHRS-",
        "outputId": "ffb59e22-37a7-4535-e9c7-38ce2543a495"
      },
      "execution_count": 29,
      "outputs": [
        {
          "output_type": "execute_result",
          "data": {
            "text/plain": [
              "[('a', 'd', 'g', 1, 4), ('b', 'e', 'h', 2, 5)]"
            ]
          },
          "metadata": {},
          "execution_count": 29
        }
      ]
    },
    {
      "cell_type": "code",
      "source": [
        "x = [5, 4, 6, 8, 2]\n",
        "list(zip('abcdefg', sorted(x)))"
      ],
      "metadata": {
        "colab": {
          "base_uri": "https://localhost:8080/"
        },
        "id": "CHUZyA1eHvsG",
        "outputId": "7602b595-5302-468c-a5bc-392196cf4061"
      },
      "execution_count": 30,
      "outputs": [
        {
          "output_type": "execute_result",
          "data": {
            "text/plain": [
              "[('a', 2), ('b', 4), ('c', 5), ('d', 6), ('e', 8)]"
            ]
          },
          "metadata": {},
          "execution_count": 30
        }
      ]
    },
    {
      "cell_type": "code",
      "source": [
        "x = [5, 4, 6, 8, 2]\n",
        "y = [7, 6, 45, 4, 2, 3, 3]\n",
        "list(zip('abcdefg', zip(x, y)))"
      ],
      "metadata": {
        "colab": {
          "base_uri": "https://localhost:8080/"
        },
        "id": "HYd4YtlnIFSy",
        "outputId": "4361ec82-f009-411f-e2b1-d48bd5d3a6b2"
      },
      "execution_count": 31,
      "outputs": [
        {
          "output_type": "execute_result",
          "data": {
            "text/plain": [
              "[('a', (5, 7)), ('b', (4, 6)), ('c', (6, 45)), ('d', (8, 4)), ('e', (2, 2))]"
            ]
          },
          "metadata": {},
          "execution_count": 31
        }
      ]
    },
    {
      "cell_type": "markdown",
      "source": [
        "## args, kargs"
      ],
      "metadata": {
        "id": "3Au8RHfSijqx"
      }
    },
    {
      "cell_type": "markdown",
      "source": [
        "- 가변 아규먼트, 가변 키워드 아규먼트"
      ],
      "metadata": {
        "id": "MCwNIOfcIuMa"
      }
    },
    {
      "cell_type": "code",
      "source": [
        "def print_args(*args): # 꼭 args가 될 필요는 없습니다.\n",
        "    print(args)\n",
        "\n",
        "print_args(100, True, 'leehojun')"
      ],
      "metadata": {
        "colab": {
          "base_uri": "https://localhost:8080/"
        },
        "id": "JNOyU88oIvWE",
        "outputId": "a029bd9e-0b8c-491b-b348-6a7cc33f7576"
      },
      "execution_count": 33,
      "outputs": [
        {
          "output_type": "stream",
          "name": "stdout",
          "text": [
            "(100, True, 'leehojun')\n"
          ]
        }
      ]
    },
    {
      "cell_type": "code",
      "source": [
        "def print_kwargs(a, **kwargs): # 꼭 kargs가 될 필요는 없습니다.\n",
        "    print(a)\n",
        "    print(kwargs)\n",
        "\n",
        "print_kwargs(100, name='leehojun', age='10')"
      ],
      "metadata": {
        "colab": {
          "base_uri": "https://localhost:8080/"
        },
        "id": "xPfq4lqRI9sF",
        "outputId": "2b4d47ef-7699-40a5-bb47-754a06515998"
      },
      "execution_count": 34,
      "outputs": [
        {
          "output_type": "stream",
          "name": "stdout",
          "text": [
            "100\n",
            "{'name': 'leehojun', 'age': '10'}\n"
          ]
        }
      ]
    },
    {
      "cell_type": "code",
      "source": [
        "def print_args(*args, b): # error입니다.\n",
        "    print(args)\n",
        "\n",
        "print_args(100, True, 'leehojun')"
      ],
      "metadata": {
        "id": "smgLbcDDJTZG"
      },
      "execution_count": null,
      "outputs": []
    },
    {
      "cell_type": "code",
      "source": [
        "def print_args(b, *args): # error입니다.\n",
        "    print(args)\n",
        "\n",
        "print_args(100, True, 'leehojun')"
      ],
      "metadata": {
        "id": "ZDeVqUHkKa8a"
      },
      "execution_count": null,
      "outputs": []
    },
    {
      "cell_type": "code",
      "source": [
        "def print_args(b, *args): # error입니다. args 앞에 순서대로 넣을 변수가 있어야 합니다.\n",
        "    print(args)\n",
        "\n",
        "print_args(100, True, b='leehojun')"
      ],
      "metadata": {
        "id": "ASec44rvKdYC"
      },
      "execution_count": null,
      "outputs": []
    },
    {
      "cell_type": "code",
      "source": [
        "one, two, *three = 1, 2, 3, 4, 5 # *가 하는 역할은? 남은 데이터의 패킹\n",
        "print(one, two, three)"
      ],
      "metadata": {
        "id": "nnw9STrrKef-"
      },
      "execution_count": null,
      "outputs": []
    },
    {
      "cell_type": "markdown",
      "source": [
        "## lambda"
      ],
      "metadata": {
        "id": "ypYgLegzQr8w"
      }
    },
    {
      "cell_type": "markdown",
      "source": [
        "- lambda 는 익명함수라고 하며, 이름이 없는 함수"
      ],
      "metadata": {
        "id": "uD6AP5kyKfF0"
      }
    },
    {
      "cell_type": "code",
      "source": [
        "leehojun = lambda x : x**2\n",
        "\n",
        "# def leehojun(x):\n",
        "#     return x ** 2"
      ],
      "metadata": {
        "id": "U-9uM5GNKjhT"
      },
      "execution_count": 35,
      "outputs": []
    },
    {
      "cell_type": "code",
      "source": [
        "print(type(leehojun))"
      ],
      "metadata": {
        "colab": {
          "base_uri": "https://localhost:8080/"
        },
        "id": "bMvK86kXKs3g",
        "outputId": "9a30ceab-2e98-4a9a-aab9-7ea64645b15c"
      },
      "execution_count": 36,
      "outputs": [
        {
          "output_type": "stream",
          "name": "stdout",
          "text": [
            "<class 'function'>\n"
          ]
        }
      ]
    },
    {
      "cell_type": "code",
      "source": [
        "print(lambda x : x**2)"
      ],
      "metadata": {
        "colab": {
          "base_uri": "https://localhost:8080/"
        },
        "id": "vrM-yFMdKvGT",
        "outputId": "ec963f65-46a2-4ac5-ca55-b9231438cbf2"
      },
      "execution_count": 37,
      "outputs": [
        {
          "output_type": "stream",
          "name": "stdout",
          "text": [
            "<function <lambda> at 0x7f78a20bbd90>\n"
          ]
        }
      ]
    },
    {
      "cell_type": "code",
      "source": [
        "print(dir(lambda x : x**2))"
      ],
      "metadata": {
        "colab": {
          "base_uri": "https://localhost:8080/"
        },
        "id": "FajdzB7ZKzqM",
        "outputId": "85dd0d0d-234e-4ec4-c7c7-1e042eceebe5"
      },
      "execution_count": 38,
      "outputs": [
        {
          "output_type": "stream",
          "name": "stdout",
          "text": [
            "['__annotations__', '__builtins__', '__call__', '__class__', '__closure__', '__code__', '__defaults__', '__delattr__', '__dict__', '__dir__', '__doc__', '__eq__', '__format__', '__ge__', '__get__', '__getattribute__', '__globals__', '__gt__', '__hash__', '__init__', '__init_subclass__', '__kwdefaults__', '__le__', '__lt__', '__module__', '__name__', '__ne__', '__new__', '__qualname__', '__reduce__', '__reduce_ex__', '__repr__', '__setattr__', '__sizeof__', '__str__', '__subclasshook__']\n"
          ]
        }
      ]
    },
    {
      "cell_type": "code",
      "source": [
        "def 함수(x):\n",
        "    return x ** 2\n",
        "\n",
        "print(dir(함수))"
      ],
      "metadata": {
        "colab": {
          "base_uri": "https://localhost:8080/"
        },
        "id": "r8ujJZ_VK1O0",
        "outputId": "482c2c48-2381-40d5-d7ea-47f2a453251a"
      },
      "execution_count": 40,
      "outputs": [
        {
          "output_type": "stream",
          "name": "stdout",
          "text": [
            "['__annotations__', '__builtins__', '__call__', '__class__', '__closure__', '__code__', '__defaults__', '__delattr__', '__dict__', '__dir__', '__doc__', '__eq__', '__format__', '__ge__', '__get__', '__getattribute__', '__globals__', '__gt__', '__hash__', '__init__', '__init_subclass__', '__kwdefaults__', '__le__', '__lt__', '__module__', '__name__', '__ne__', '__new__', '__qualname__', '__reduce__', '__reduce_ex__', '__repr__', '__setattr__', '__sizeof__', '__str__', '__subclasshook__']\n"
          ]
        }
      ]
    },
    {
      "cell_type": "code",
      "source": [
        "def add(x, y):\n",
        "    return x + y\n",
        "def sub():\n",
        "    pass\n",
        "def div():\n",
        "    pass\n",
        "def mul():\n",
        "    pass\n",
        "\n",
        "caculator = [add, sub, div, mul]\n",
        "print(caculator[0](10, 20))#0번째 값은 add 입니다.\n",
        "\n",
        "caculator2 = [lambda x,y:x+y, \n",
        "              lambda x,y:x-y, \n",
        "              lambda x,y:x/y, \n",
        "              lambda x,y:x*y]\n",
        "\n",
        "print(caculator2[0](10, 20)) #0번째 값은 add 입니다.\n",
        "print(caculator2[0](10, 20))"
      ],
      "metadata": {
        "id": "2Op7wv7gLokU"
      },
      "execution_count": null,
      "outputs": []
    },
    {
      "cell_type": "code",
      "source": [
        "def f():\n",
        "    return lambda x,y:x+y\n",
        "\n",
        "f()(10, 20)"
      ],
      "metadata": {
        "colab": {
          "base_uri": "https://localhost:8080/"
        },
        "id": "qkS0JNLpMMay",
        "outputId": "ad34d8e1-73b2-40c3-ece6-c5448d11d912"
      },
      "execution_count": 42,
      "outputs": [
        {
          "output_type": "execute_result",
          "data": {
            "text/plain": [
              "30"
            ]
          },
          "metadata": {},
          "execution_count": 42
        }
      ]
    },
    {
      "cell_type": "code",
      "source": [
        "def f():\n",
        "    return lambda x:lambda i:i**2\n",
        "\n",
        "f()(1)(10)"
      ],
      "metadata": {
        "colab": {
          "base_uri": "https://localhost:8080/"
        },
        "id": "KUNTJtcRMY0v",
        "outputId": "5cd8c5a9-05c9-427e-ee61-0c7726e44bae"
      },
      "execution_count": 45,
      "outputs": [
        {
          "output_type": "execute_result",
          "data": {
            "text/plain": [
              "100"
            ]
          },
          "metadata": {},
          "execution_count": 45
        }
      ]
    },
    {
      "cell_type": "code",
      "source": [
        "def f():\n",
        "    return lambda x:lambda i:x*i**2\n",
        "\n",
        "f()(2)(10)"
      ],
      "metadata": {
        "colab": {
          "base_uri": "https://localhost:8080/"
        },
        "id": "6IKam5bJMoSb",
        "outputId": "a4d2eda4-ff0b-477b-a39c-5c0dce2fc279"
      },
      "execution_count": 46,
      "outputs": [
        {
          "output_type": "execute_result",
          "data": {
            "text/plain": [
              "200"
            ]
          },
          "metadata": {},
          "execution_count": 46
        }
      ]
    },
    {
      "cell_type": "markdown",
      "source": [
        "### lambda 실무 응용"
      ],
      "metadata": {
        "id": "X6hlfuZLNfNJ"
      }
    },
    {
      "cell_type": "markdown",
      "source": [
        "* lambda가 응용되는 곳 : map, filter, max, min, sorted"
      ],
      "metadata": {
        "id": "8UYas1_KOaaI"
      }
    },
    {
      "cell_type": "code",
      "source": [
        "# 실무에서도 많이 사용됩니다.\n",
        "def 제곱(x):\n",
        "    return x ** 2\n",
        "\n",
        "# 재사용 하는 경우에는 함수로 선언하는 경우도 있습니다.\n",
        "list(map(제곱, [1, 2, 3, 4]))\n",
        "list(map(제곱, [1, 2, 3, 4]))\n",
        "\n",
        "list(map(lambda x : x ** 2, [1, 2, 3, 4]))"
      ],
      "metadata": {
        "colab": {
          "base_uri": "https://localhost:8080/"
        },
        "id": "8hVrmpCBNhwM",
        "outputId": "5c78ccf4-f4dd-4cb3-b2b4-d8ba82e26034"
      },
      "execution_count": 47,
      "outputs": [
        {
          "output_type": "execute_result",
          "data": {
            "text/plain": [
              "[1, 4, 9, 16]"
            ]
          },
          "metadata": {},
          "execution_count": 47
        }
      ]
    },
    {
      "cell_type": "code",
      "source": [
        "숫자 = [1, 2, 3, 4, 5]\n",
        "승수 = [2, 2, 2, 3, 3]\n",
        "\n",
        "#문제\n",
        "#1. 숫자의 승수를 zip으로 맵핑해서 진행하세요.\n",
        "print(list(zip(숫자, 승수)))\n",
        "\n",
        "#2. 숫자를 승수만큼 승수하여 결과값을 표현해주세요.\n",
        "print(list(map(lambda x, y : x ** y, 숫자, 승수)))\n",
        "\n",
        "#3. 승수한 값이 100이상인 값을 출력하세요.\n",
        "print(list(filter(lambda x : x > 100, map(lambda x, y : x ** y, 숫자, 승수))))\n",
        "\n",
        "#4. 승수한 값을 모두 더하세요.\n",
        "print(sum(map(lambda x, y : x ** y, 숫자, 승수)))"
      ],
      "metadata": {
        "colab": {
          "base_uri": "https://localhost:8080/"
        },
        "id": "CprGRACCOb8s",
        "outputId": "ccd690cf-d5e8-4504-8cc6-38cd24f46b04"
      },
      "execution_count": 69,
      "outputs": [
        {
          "output_type": "stream",
          "name": "stdout",
          "text": [
            "[(1, 2), (2, 2), (3, 2), (4, 3), (5, 3)]\n",
            "[1, 4, 9, 64, 125]\n",
            "[125]\n",
            "203\n"
          ]
        }
      ]
    },
    {
      "cell_type": "code",
      "source": [
        "숫자 = [1, 2, 3, 4, 5]\n",
        "승수 = [2, 2, 2, 3, 3]\n",
        "\n",
        "#문제\n",
        "#1. 숫자의 승수를 zip으로 맵핑해서 진행하세요.\n",
        "#2. 숫자를 승수만큼 승수하여 결과값을 표현해주세요.\n",
        "#3. 승수한 값이 100이상인 값을 출력하세요.\n",
        "#4. 승수한 값을 모두 더하세요.\n",
        "\n",
        "# Q1\n",
        "data = list(zip(숫자, 승수))\n",
        "\n",
        "##################################################################\n",
        "\n",
        "# Q2\n",
        "# Q2.1\n",
        "l = []\n",
        "for i in data:\n",
        "    l.append(i[0] ** i[1])\n",
        "print(l)\n",
        "\n",
        "# Q2.2\n",
        "def f(x):\n",
        "    return x[0] ** x[1]\n",
        " \n",
        "print(list(map(f, data)))\n",
        "\n",
        "# Q2.3\n",
        "print(list(map(lambda x:x[0] ** x[1], data)))\n",
        "\n",
        "# Q2.4\n",
        "print(list(map(lambda x:pow(x[0], x[1]), data)))\n",
        "\n",
        "##################################################################\n",
        "\n",
        "# Q3\n",
        "# Q3.1\n",
        "l = []\n",
        "for i in map(lambda x:x[0] ** x[1], data):\n",
        "    if i >= 100:\n",
        "        l.append(i)\n",
        "print(l)\n",
        "\n",
        "# Q3.2\n",
        "data2 = map(lambda x:x[0] ** x[1], data)\n",
        "print(list(filter(lambda x: x>=100, data2)))\n",
        "\n",
        "# Q3.3\n",
        "def f(x):\n",
        "    return x > 100\n",
        "data2 = map(lambda x:x[0] ** x[1], data)\n",
        "print(list(filter(f, data2)))\n",
        "\n",
        "# Q3.4\n",
        "# list(filter(lambda x: x>=100, [1, 4, 9, 64, 125]))\n",
        "print(list(filter(lambda x: x>=100, map(lambda x:x[0] ** x[1], data))))\n",
        "\n",
        "##################################################################\n",
        "\n",
        "# Q4\n",
        "sum(map(lambda x:pow(x[0], x[1]), data))"
      ],
      "metadata": {
        "colab": {
          "base_uri": "https://localhost:8080/"
        },
        "id": "4fbwrbNIMQWc",
        "outputId": "e3ffa405-70da-4c93-8849-26c1d30ca3f6"
      },
      "execution_count": 26,
      "outputs": [
        {
          "output_type": "stream",
          "name": "stdout",
          "text": [
            "[1, 4, 9, 64, 125]\n",
            "[1, 4, 9, 64, 125]\n",
            "[1, 4, 9, 64, 125]\n",
            "[1, 4, 9, 64, 125]\n",
            "[125]\n",
            "[125]\n",
            "[125]\n",
            "[125]\n"
          ]
        },
        {
          "output_type": "execute_result",
          "data": {
            "text/plain": [
              "203"
            ]
          },
          "metadata": {},
          "execution_count": 26
        }
      ]
    },
    {
      "cell_type": "code",
      "source": [
        "data = [i for i in range(len(숫자))]\n",
        "data"
      ],
      "metadata": {
        "colab": {
          "base_uri": "https://localhost:8080/"
        },
        "id": "-I_ydXdeQICa",
        "outputId": "1ce7669b-b352-4392-e196-8d97351e1841"
      },
      "execution_count": 19,
      "outputs": [
        {
          "output_type": "execute_result",
          "data": {
            "text/plain": [
              "[0, 1, 2, 3, 4]"
            ]
          },
          "metadata": {},
          "execution_count": 19
        }
      ]
    },
    {
      "cell_type": "code",
      "source": [
        "data = [(숫자[i], 승수[i]) for i in range(len(숫자))]\n",
        "data"
      ],
      "metadata": {
        "colab": {
          "base_uri": "https://localhost:8080/"
        },
        "id": "ZOgh71b5QXSP",
        "outputId": "942cfb72-98f0-4a44-9f58-85f5d33c8800"
      },
      "execution_count": 21,
      "outputs": [
        {
          "output_type": "execute_result",
          "data": {
            "text/plain": [
              "[(1, 2), (2, 2), (3, 2), (4, 3), (5, 3)]"
            ]
          },
          "metadata": {},
          "execution_count": 21
        }
      ]
    },
    {
      "cell_type": "code",
      "source": [
        "[i for i in data]\n",
        "[i[0] ** i[1] for i in data]"
      ],
      "metadata": {
        "colab": {
          "base_uri": "https://localhost:8080/"
        },
        "id": "XbfsGkufRN08",
        "outputId": "8a15f461-19eb-4a88-ba37-f090e8de11dd"
      },
      "execution_count": 23,
      "outputs": [
        {
          "output_type": "execute_result",
          "data": {
            "text/plain": [
              "[1, 4, 9, 64, 125]"
            ]
          },
          "metadata": {},
          "execution_count": 23
        }
      ]
    },
    {
      "cell_type": "code",
      "source": [
        "숫자 = [1, 2, 3, 4, 5]\n",
        "승수 = [2, 2, 2, 3, 3]\n",
        "\n",
        "#문제\n",
        "#1. 숫자의 승수를 zip으로 맵핑해서 진행하세요.\n",
        "#2. 숫자를 승수만큼 승수하여 결과값을 표현해주세요.\n",
        "#3. 승수한 값이 100이상인 값을 출력하세요.\n",
        "#4. 승수한 값을 모두 더하세요.\n",
        "\n",
        "# list comprehension 사용해서\n",
        "# Q1\n",
        "data = [i for i in range(len(숫자))]\n",
        "###\n",
        "data = [(숫자[i], 승수[i]) for i in range(len(숫자))]\n",
        "data\n",
        "\n",
        "# Q2\n",
        "[i for i in data]\n",
        "print([i[0] ** i[1] for i in data]) # 공간을 바로 할당해버립니다.\n",
        "\n",
        "# Q3\n",
        "print([i[0] ** i[1] for i in data if i[0] ** i[1] >=100])\n",
        "\n",
        "# Q4\n",
        "sum([i[0] ** i[1] for i in data])"
      ],
      "metadata": {
        "colab": {
          "base_uri": "https://localhost:8080/"
        },
        "id": "_zETA8W4PmpQ",
        "outputId": "f41ce557-84fe-4cb4-e37e-e91210cf7bc6"
      },
      "execution_count": 28,
      "outputs": [
        {
          "output_type": "stream",
          "name": "stdout",
          "text": [
            "[1, 4, 9, 64, 125]\n",
            "[125]\n"
          ]
        },
        {
          "output_type": "execute_result",
          "data": {
            "text/plain": [
              "203"
            ]
          },
          "metadata": {},
          "execution_count": 28
        }
      ]
    },
    {
      "cell_type": "markdown",
      "source": [
        "## !! 20230509 오늘 배운 것 정리"
      ],
      "metadata": {
        "id": "CQ99idbBLnhl"
      }
    },
    {
      "cell_type": "markdown",
      "source": [
        "- 반복문\n",
        "\n",
        "  - 정해진 순서를(next) 반복하는 것\n",
        "  - 형태\n",
        "\n",
        "  ```python\n",
        "  # for 변수 in 순회가능한객체: # stopItoration까지 반복\n",
        "  #     code\n",
        "\n",
        "  # while 조건: # true까지 반복\n",
        "  #     code\n",
        "  ```\n",
        "\n",
        "  - 순회 가능한 객체(이터러블 객체) : 문자열, 리스트, 튜플, 딕셔너리, 셋, range, enumerate, map, set, sorted, reverse 등\n",
        "  - 순회 불가능한 객체 : int, float 등\n",
        "  - code 안에서 변수를 사용하지 않을 경우 언더바를 관습적으로 사용합니다.\n",
        "\n",
        "  ```python\n",
        "  # for _ in 순회가능한객체:\n",
        "  #     code\n",
        "  ```\n",
        "\n",
        "  - 반복문 다음 else 구문 : break 없이 정상 종료 되면 실행\n",
        "  - 반복문 안에 break 구문 : 자신을 감싸고 있는 반복문 1개 탈출\n",
        "  - 반복문 안에 continue 구문 : 다음 루프로 넘어감\n",
        "  - 반복문 안에 pass : 공백만 채워줄 뿐 아무 기능 없음\n",
        "\n",
        "- bulit-in function\n",
        "\n",
        "  - 수학적 통계에 활용되는 함수\n",
        "\n",
        "    - abs( ) : 괄호 안에 있는 값을 절대값으로 출력해줍니다.\n",
        "    - all( ) : 괄호 안에 있는 값들이 모두 True(False)일 때 True(False)를 출력합니다.\n",
        "    - any( ) : 괄호안에 있는 값이 하나라고 True이면 True로 출력합니다.\n",
        "    - pow( ) : 제곱을 출력합니다.\n",
        "    - max( ) : 값의 최댓값을 출력합니다.\n",
        "    - min( ) : 값의 최솟값을 출력합니다.\n",
        "    - sum( ) : 값의 합계를 출력합니다.\n",
        "    - len( ) : 문자열의 길이를 출력합니다.\n",
        "    - sorted( ) : 데이터를 정렬해줍니다.\n",
        "    - reversed( ) : 정렬되지 않은 상태에서 값을 역순으로 출력합니다.\n",
        "\n",
        "  - 형변환 함수\n",
        "\n",
        "    - set( )\n",
        "    - dict( )\n",
        "    - hex( ) : 16진법\n",
        "    - bin( ) : 2진법\n",
        "    - oct( ) : 8진법\n",
        "    - bool( )\n",
        "    - str( )\n",
        "    - ord( ) : 각각의 문자에 대한 숫자값을 출력해줍니다.(유니코드표를 참고하세요.)\n",
        "    - float( )\n",
        "    - tuple( )\n",
        "    - chr( ) : 숫자값을 통해서 문자를 출력합니다.\n",
        "    - list( )\n",
        "    - range( )\n",
        "    - complex( )\n",
        "\n",
        "  - 도움말\n",
        "\n",
        "    - help( )\n",
        "\n",
        "  - object 관련 함수\n",
        "\n",
        "    - dir( )\n",
        "    - id( )\n",
        "    - type( )\n",
        "\n",
        "  - 순회 가능한 객체\n",
        "    - enumerate( ) : 값에 순위를 매기고 싶을 때 사용합니다.\n",
        "    - range( )\n",
        "    - sorted( )\n",
        "    - reversed( )\n",
        "    - filter( )\n",
        "    - zip( )\n",
        "    - map( )\n",
        "\n",
        "- args, kargs\n",
        "\n",
        "  - 가변 아규먼트, 가변 키워드 아규먼트\n",
        "\n",
        "  ```python\n",
        "  def print_args(*args): # 꼭 args가 될 필요는 없습니다.\n",
        "      print(args)\n",
        "\n",
        "  print_args(100, True, 'leehojun')\n",
        "\n",
        "  ####\n",
        "\n",
        "  def print_kwargs(**kwargs): # 꼭 kargs가 될 필요는 없습니다.\n",
        "  print(kwargs)\n",
        "\n",
        "  print_kwargs(name='leehojun', age='10')\n",
        "  ```\n",
        "\n",
        "- lambda\n",
        "\n",
        "  - lambda 는 익명함수라고 하며, 이름이 없는 함수\n",
        "  - 보통은 다시 사용되지 않을 함수를 선언할 때 사용\n",
        "\n",
        "  ```python\n",
        "  leehojun = lambda x : x**2\n",
        "\n",
        "  # def leehojun(x):\n",
        "  #     return x ** 2\n",
        "\n",
        "  list(map(lambda x : x ** 2, [1, 2, 3, 4]))\n",
        "  ```\n"
      ],
      "metadata": {
        "id": "MPlvccEyLve9"
      }
    },
    {
      "cell_type": "markdown",
      "source": [
        "## 클래스"
      ],
      "metadata": {
        "id": "ElWdU8dwAowS"
      }
    },
    {
      "cell_type": "markdown",
      "source": [
        "* 클래스는 데이터(멤버)와 기능(메서드)을 가지고 있는 인스턴트 객체를 생성하기 위한 역할\n",
        "* 우리가 배우고 있는 Python을 객체 지향 프로그래밍 언어\n",
        "    ```\n",
        "    현실                                코드\n",
        "    차 ---------------------------> class Car()\n",
        "    정수 -------------------------> class int()\n",
        "    실수 -------------------------> class float()\n",
        "\n",
        "    인간이 만들어 \n",
        "    놓은 현실 세계에서의 \n",
        "    정의 또는 약속 ---------------> class\n",
        "    \n",
        "    1 + 1 = 2가 컴퓨터 입장에서는 10일 수도 있고\n",
        "    'A' + 'A' = 'AA'가 아니라 컴퓨터 입장에서는 130일 수 있습니다.\n",
        "    ```"
      ],
      "metadata": {
        "id": "3O7itEPmAxaY"
      }
    },
    {
      "cell_type": "code",
      "source": [
        "class CarFactory(object): # 첫 문자는 대문자로 합니다.\n",
        "    max_speed = 300\n",
        "    max_people = 5\n",
        "    \n",
        "    # 아래 self는 스스로를 가리키기에\n",
        "    # self는 인스턴스를 가리킵니다.\n",
        "    def move(self):\n",
        "        print('차가 움직이고 있습니다.')\n",
        "\n",
        "    def stop(self):\n",
        "        print('차가 멈췄습니다.')\n",
        "\n",
        "# 클래스로 바로 접근해서 무엇을 하는 것을 권고하지 않습니다.\n",
        "# (제대로 알지 못하는 상태에서(인스턴스 변수, 클래스 변수))\n",
        "print(CarFactory.max_spped)\n",
        "\n",
        "k5 = CarFactory() # 붕어빵(인스턴스) = 붕어빵 틀(클래스)\n",
        "k3 = CarFactory() # 차(인스턴스) = 자동차공장(클래스)"
      ],
      "metadata": {
        "id": "9R4J1LVGAqSP"
      },
      "execution_count": null,
      "outputs": []
    },
    {
      "cell_type": "code",
      "source": [
        "class CarFactory(object):\n",
        "    max_speed = 300\n",
        "    max_people = 5\n",
        "    \n",
        "    def move(self):\n",
        "        print('차가 움직이고 있습니다.')\n",
        "\n",
        "    def stop(self):\n",
        "        print('차가 멈췄습니다.')\n",
        "\n",
        "k5 = CarFactory()\n",
        "k3 = CarFactory()\n",
        "k5.move()\n",
        "k3.move()\n",
        "k5.stop()\n",
        "k3.stop()\n",
        "print(k5.max_speed)"
      ],
      "metadata": {
        "colab": {
          "base_uri": "https://localhost:8080/"
        },
        "id": "BX5bde9NEkD6",
        "outputId": "64b2ad42-6cbb-4cf0-a094-55ed15a119cf"
      },
      "execution_count": 1,
      "outputs": [
        {
          "output_type": "stream",
          "name": "stdout",
          "text": [
            "차가 움직이고 있습니다.\n",
            "차가 움직이고 있습니다.\n",
            "차가 멈췄습니다.\n",
            "차가 멈췄습니다.\n",
            "300\n"
          ]
        }
      ]
    },
    {
      "cell_type": "code",
      "source": [
        "d = {'one':10, 'two':20}\n",
        "# d.three = 30\n",
        "d['three'] = 30\n",
        "print(d['three'])"
      ],
      "metadata": {
        "colab": {
          "base_uri": "https://localhost:8080/"
        },
        "id": "OaSe_5SeF0Qo",
        "outputId": "f6a80605-991d-4140-bd4e-0784bea9da95"
      },
      "execution_count": 2,
      "outputs": [
        {
          "output_type": "stream",
          "name": "stdout",
          "text": [
            "30\n"
          ]
        }
      ]
    },
    {
      "cell_type": "code",
      "source": [
        "def f():\n",
        "    pass\n",
        "f.one = 10\n",
        "f.two = 20\n",
        "f.three = 30\n",
        "print(f.one)"
      ],
      "metadata": {
        "colab": {
          "base_uri": "https://localhost:8080/"
        },
        "id": "lsopAok4GBi1",
        "outputId": "f6c34c18-63f8-4676-b6a2-4697623a28a9"
      },
      "execution_count": 3,
      "outputs": [
        {
          "output_type": "stream",
          "name": "stdout",
          "text": [
            "10\n"
          ]
        }
      ]
    },
    {
      "cell_type": "code",
      "source": [
        "# 메서드 : 클래스 내에 함수\n",
        "# 멤버 : 클래스 내에 변수\n",
        "class CarFactory(object):\n",
        "    max_speed = 300\n",
        "    max_people = 5\n",
        "\n",
        "    def __init__(self, userInputName): # 인스턴스가 만들어질 때 실행되는 메서드\n",
        "        self.name = userInputName\n",
        "    \n",
        "    def move(self):\n",
        "        print(self.name, '차가 움직이고 있습니다.')\n",
        "\n",
        "    def stop(self):\n",
        "        print(self.name, '차가 멈췄습니다.')\n",
        "\n",
        "k5 = CarFactory('케이파이브')\n",
        "k3 = CarFactory('케이쓰리')\n",
        "k5.move()\n",
        "k3.move()\n",
        "k5.stop()\n",
        "k3.stop()"
      ],
      "metadata": {
        "colab": {
          "base_uri": "https://localhost:8080/"
        },
        "id": "q1B_bm3-FADT",
        "outputId": "853816b0-585e-476e-ba4d-c14adf2a4c9e"
      },
      "execution_count": 10,
      "outputs": [
        {
          "output_type": "stream",
          "name": "stdout",
          "text": [
            "케이파이브 차가 움직이고 있습니다.\n",
            "케이쓰리 차가 움직이고 있습니다.\n",
            "케이파이브 차가 멈췄습니다.\n",
            "케이쓰리 차가 멈췄습니다.\n"
          ]
        }
      ]
    },
    {
      "cell_type": "code",
      "source": [
        "print(type(k3))\n",
        "print(dir(k3))\n",
        "# 'max_people', 멤버\n",
        "# 'max_speed', 멤버\n",
        "# 'move', 메소드\n",
        "# 'name', 멤버\n",
        "# 'stop' 메소드"
      ],
      "metadata": {
        "colab": {
          "base_uri": "https://localhost:8080/"
        },
        "id": "mKLtJIKvHC4Q",
        "outputId": "51270793-0997-4b35-b87d-c291db66712c"
      },
      "execution_count": 11,
      "outputs": [
        {
          "output_type": "stream",
          "name": "stdout",
          "text": [
            "<class '__main__.CarFactory'>\n",
            "['__class__', '__delattr__', '__dict__', '__dir__', '__doc__', '__eq__', '__format__', '__ge__', '__getattribute__', '__gt__', '__hash__', '__init__', '__init_subclass__', '__le__', '__lt__', '__module__', '__ne__', '__new__', '__reduce__', '__reduce_ex__', '__repr__', '__setattr__', '__sizeof__', '__str__', '__subclasshook__', '__weakref__', 'max_people', 'max_speed', 'move', 'name', 'stop']\n"
          ]
        }
      ]
    },
    {
      "cell_type": "code",
      "source": [
        "l = [10, 20, 30]\n",
        "print(type(l))\n",
        "print(dir(l))\n",
        "# 메소드\n",
        "# 'append', 'clear', 'copy', 'count', 'extend', \n",
        "# 'index', 'insert', 'pop', 'remove', 'reverse', 'sort'"
      ],
      "metadata": {
        "colab": {
          "base_uri": "https://localhost:8080/"
        },
        "id": "Go9_W6qOGxEz",
        "outputId": "c5f367e1-46f7-458b-fdf3-b5124a725ca4"
      },
      "execution_count": 5,
      "outputs": [
        {
          "output_type": "stream",
          "name": "stdout",
          "text": [
            "<class 'list'>\n",
            "['__add__', '__class__', '__class_getitem__', '__contains__', '__delattr__', '__delitem__', '__dir__', '__doc__', '__eq__', '__format__', '__ge__', '__getattribute__', '__getitem__', '__gt__', '__hash__', '__iadd__', '__imul__', '__init__', '__init_subclass__', '__iter__', '__le__', '__len__', '__lt__', '__mul__', '__ne__', '__new__', '__reduce__', '__reduce_ex__', '__repr__', '__reversed__', '__rmul__', '__setattr__', '__setitem__', '__sizeof__', '__str__', '__subclasshook__', 'append', 'clear', 'copy', 'count', 'extend', 'index', 'insert', 'pop', 'remove', 'reverse', 'sort']\n"
          ]
        }
      ]
    },
    {
      "cell_type": "code",
      "source": [
        "class list(object):\n",
        "    def __add__(self):\n",
        "        pass\n",
        "    def __class__(self):\n",
        "        pass\n",
        "    def __class_getitem__(self):\n",
        "        pass\n",
        "    def __eq__(self):\n",
        "        pass\n",
        "    def __ge__(self):\n",
        "        pass \n",
        "    # ... 생략 ...\n",
        "    def append(self):\n",
        "        pass\n",
        "    def clear(self):\n",
        "        pass\n",
        "    def copy(self):\n",
        "        pass\n",
        "    def count(self):\n",
        "        pass\n",
        "    def extend(self):\n",
        "        pass\n",
        "    def index(self):\n",
        "        pass\n",
        "    # ... 생략 ..."
      ],
      "metadata": {
        "id": "ZL8DtN1GIEZg"
      },
      "execution_count": null,
      "outputs": []
    },
    {
      "cell_type": "code",
      "source": [
        "# 클래스 변수\n",
        "# 클래스 변수는 클래스 바로 하위에 자리하고 있는 변수\n",
        "# 클래스 변수는 모든 인스턴스가 공유합니다.\n",
        "class Car(object):\n",
        "    # kinds가 인스턴스 레벨에 없어서 class변수로 접근하는 것이고, \n",
        "    # speed는 값을 =로 할당했기에 인스턴스변수가 생기는것\n",
        "    kinds = [] # 클래스 변수\n",
        "    speed = 300 # 클래스 변수\n",
        "    def add_kinds(self, name):\n",
        "        self.kinds.append(name)\n",
        "    def change_speed(self, speed):\n",
        "        self.speed = speed\n",
        "\n",
        "k5 = Car()\n",
        "k3 = Car()\n",
        "k5.add_kinds('k5')\n",
        "k3.add_kinds('k3')\n",
        "k5.change_speed(500)\n",
        "k3.change_speed(250)\n",
        "\n",
        "print('k5.kinds:', k5.kinds)\n",
        "print('k3.kinds:', k3.kinds)\n",
        "print('k5.speed:', k5.speed)\n",
        "print('k3.speed:', k3.speed)"
      ],
      "metadata": {
        "colab": {
          "base_uri": "https://localhost:8080/"
        },
        "id": "ZEytji4zU9ao",
        "outputId": "b25383d9-cda3-480d-cdf7-3eaba8fc2dab"
      },
      "execution_count": 30,
      "outputs": [
        {
          "output_type": "stream",
          "name": "stdout",
          "text": [
            "k5.kinds: ['k5', 'k3']\n",
            "k3.kinds: ['k5', 'k3']\n",
            "k5.speed: 500\n",
            "k3.speed: 250\n"
          ]
        }
      ]
    },
    {
      "cell_type": "code",
      "source": [
        "# 클래스 변수\n",
        "# 클래스 변수는 클래스 바로 하위에 자리하고 있는 변수\n",
        "# 클래스 변수는 모든 인스턴스가 공유합니다.\n",
        "class Car(object):\n",
        "    # kinds가 인스턴스 레벨에 없어서 class변수로 접근하는 것이고, \n",
        "    # speed는 값을 =로 할당했기에 인스턴스변수가 생기는것\n",
        "    kinds = [] # 클래스 변수\n",
        "    speed = 300 # 클래스 변수\n",
        "    def add_kinds(self, name):\n",
        "        self.kinds.append(name) # self.kinds=[]로 하면 인스턴스 변수\n",
        "    def change_speed(self, speed):\n",
        "        self.speed = speed\n",
        "\n",
        "k5 = Car()\n",
        "k3 = Car()\n",
        "k5.speed = 500\n",
        "k3.speed # 클래스 변수는 값을 공유한다며?"
      ],
      "metadata": {
        "colab": {
          "base_uri": "https://localhost:8080/"
        },
        "id": "qEnz_Z9UZXxc",
        "outputId": "0adf477b-cc3d-4135-819c-e5e16f968076"
      },
      "execution_count": 31,
      "outputs": [
        {
          "output_type": "execute_result",
          "data": {
            "text/plain": [
              "300"
            ]
          },
          "metadata": {},
          "execution_count": 31
        }
      ]
    },
    {
      "cell_type": "code",
      "source": [
        "id(k3.speed), id(k5.speed)\n",
        "id(k3.kinds), id(k5.kinds)"
      ],
      "metadata": {
        "colab": {
          "base_uri": "https://localhost:8080/"
        },
        "id": "ItZIbwqvabvB",
        "outputId": "f87e9c1a-720e-4e28-acd4-7ca33166af2e"
      },
      "execution_count": 34,
      "outputs": [
        {
          "output_type": "execute_result",
          "data": {
            "text/plain": [
              "(140338602376448, 140338602376448)"
            ]
          },
          "metadata": {},
          "execution_count": 34
        }
      ]
    },
    {
      "cell_type": "code",
      "source": [
        "주인공 = ['licat', 10000]\n",
        "\n",
        "class MobFactory(object):\n",
        "    def __init__(self, 이름, 공격력, 체력, 마력, 크기_넓이, 크기_높이, 아이템확률, x, y):\n",
        "        self.name = 이름\n",
        "        self.power = 공격력\n",
        "        self.hp = 체력\n",
        "        self.mp = 마력\n",
        "        self.width = 크기_넓이\n",
        "        self.height = 크기_높이\n",
        "        self.dropRate = 아이템확률\n",
        "\n",
        "    def attack(self):\n",
        "        주인공[1] -= self.power\n",
        "        print(f'{self.name}이 {self.power}데미지로 공격했습니다.')\n",
        "        print(f'{주인공[0]}의 체력이 {주인공[1]}가 되었습니다.')\n",
        "\n",
        "슬라임 = MobFactory('슬라임', 1, 10, 10, 2, 2, 100, 1, 1)\n",
        "오크 = MobFactory('오크', 10, 10, 10, 2, 2, 80, 1, 1)\n",
        "고블린 = MobFactory('고블린', 100, 10, 10, 2, 2, 60, 1, 1)\n",
        "드래곤 = MobFactory('드래곤', 1000, 10, 10, 2, 2, 40, 1, 1)\n",
        "해골 = MobFactory('해골', 100000, 10, 10, 2, 2, 1, 1, 1)"
      ],
      "metadata": {
        "id": "JdQpgi5gWBF8"
      },
      "execution_count": 37,
      "outputs": []
    },
    {
      "cell_type": "code",
      "source": [
        "슬라임.attack()"
      ],
      "metadata": {
        "colab": {
          "base_uri": "https://localhost:8080/"
        },
        "id": "s8UVdJzbdTgy",
        "outputId": "12232282-0793-49ce-ee9a-bc3e6d39df07"
      },
      "execution_count": 38,
      "outputs": [
        {
          "output_type": "stream",
          "name": "stdout",
          "text": [
            "슬라임이 1데미지로 공격했습니다.\n",
            "licat의 체력이 9999가 되었습니다.\n"
          ]
        }
      ]
    },
    {
      "cell_type": "code",
      "source": [
        "class MainCharactor(object):\n",
        "    def __init__(self, 이름, 직업, 공격력, 체력, 마력, 크기_넓이, 크기_높이, x, y):\n",
        "        self.name = 이름\n",
        "        self.job = 직업\n",
        "        self.power = 공격력\n",
        "        self.hp = 체력\n",
        "        self.mp = 마력\n",
        "        self.width = 크기_넓이\n",
        "        self.height = 크기_높이\n",
        "\n",
        "licat = MainCharactor('licat', '검사', 10000, 10, 10, 2, 2, 1, 1) \n",
        "mura = MainCharactor('mura', '마법사', 10000, 10, 10, 2, 2, 1, 1)"
      ],
      "metadata": {
        "id": "6D6mGs6beDTb"
      },
      "execution_count": 40,
      "outputs": []
    },
    {
      "cell_type": "code",
      "source": [
        "주인공 = ['licat', 10000]\n",
        "\n",
        "class MobFactory(object):\n",
        "    def __init__(self, 이름, 공격력, 체력, 마력, 크기_넓이, 크기_높이, 아이템확률, x, y):\n",
        "        self.name = 이름\n",
        "        self.power = 공격력\n",
        "        self.hp = 체력\n",
        "        self.mp = 마력\n",
        "        self.width = 크기_넓이\n",
        "        self.height = 크기_높이\n",
        "        self.dropRate = 아이템확률\n",
        "\n",
        "    def __add__(self, next):\n",
        "        if self.name == '슬라임':\n",
        "            return MobFactory(f'왕{self.name + next.name}', \n",
        "                              self.power + next.power, \n",
        "                              10, 10, 2, 2, 100, 1, 1)\n",
        "        return None\n",
        "\n",
        "    def attack(self):\n",
        "        주인공[1] -= self.power\n",
        "        print(f'{self.name}이 {self.power}데미지로 공격했습니다.')\n",
        "        print(f'{주인공[0]}의 체력이 {주인공[1]}가 되었습니다.')\n",
        "\n",
        "class MainCharactor(object):\n",
        "    def __init__(self, 이름, 직업, 공격력, 체력, 마력, 크기_넓이, 크기_높이, x, y):\n",
        "        self.name = 이름\n",
        "        self.job = 직업\n",
        "        self.power = 공격력\n",
        "        self.hp = 체력\n",
        "        self.mp = 마력\n",
        "        self.width = 크기_넓이\n",
        "        self.height = 크기_높이\n",
        "\n",
        "슬라임 = MobFactory('슬라임', 1, 10, 10, 2, 2, 100, 1, 1)\n",
        "왕슬라임 = 슬라임 + 슬라임\n",
        "\n",
        "왕슬라임.power\n",
        "왕슬라임.name"
      ],
      "metadata": {
        "colab": {
          "base_uri": "https://localhost:8080/",
          "height": 35
        },
        "id": "KRh9QcoZ0w6o",
        "outputId": "c082ba0e-e014-4fb5-c595-c79793a06226"
      },
      "execution_count": 52,
      "outputs": [
        {
          "output_type": "execute_result",
          "data": {
            "text/plain": [
              "'왕슬라임슬라임'"
            ],
            "application/vnd.google.colaboratory.intrinsic+json": {
              "type": "string"
            }
          },
          "metadata": {},
          "execution_count": 52
        }
      ]
    },
    {
      "cell_type": "markdown",
      "source": [
        "### 주인공 코드 다른분 예시"
      ],
      "metadata": {
        "id": "msmG9xQDiwtf"
      }
    },
    {
      "cell_type": "code",
      "source": [
        "# 성철님 코드\n",
        "class User(object):\n",
        "    def __init__(self, 이름, 공격력, 체력, 마력, 크기_넓이, 크기_높이, 아이템확률, x, y):\n",
        "        self.name = 이름\n",
        "        self.power = 공격력\n",
        "        self.hp = 체력\n",
        "        self.mp = 마력\n",
        "        self.width = 크기_넓이\n",
        "        self.height = 크기_높이\n",
        "        self.dropRate = 아이템확률\n",
        "\n",
        "    def 슬라임_attack(self):\n",
        "        슬라임.hp -= self.power\n",
        "        print(f'{self.name}이 {self.power}데미지로 공격했습니다.')\n",
        "        print(f'몬스터의 체력이 {슬라임.hp}가 되었습니다.')\n",
        "\n",
        "licat = User('licat', 5, 10000, 1000, 2, 2, 0, 2, 2)\n",
        "licat.슬라임_attack()\n",
        "mura = User('mura', 5, 10000, 1000, 2, 2, 0, 2, 2)\n",
        "mura.슬라임_attack()"
      ],
      "metadata": {
        "colab": {
          "base_uri": "https://localhost:8080/"
        },
        "id": "wtdCtroKir6P",
        "outputId": "83d6ee7f-fe43-4447-89a3-6eef558ae68c"
      },
      "execution_count": 74,
      "outputs": [
        {
          "output_type": "stream",
          "name": "stdout",
          "text": [
            "licat이 5데미지로 공격했습니다.\n",
            "몬스터의 체력이 5가 되었습니다.\n",
            "mura이 5데미지로 공격했습니다.\n",
            "몬스터의 체력이 0가 되었습니다.\n"
          ]
        }
      ]
    },
    {
      "cell_type": "code",
      "source": [
        "# 개선 코드\n",
        "class User(object):\n",
        "    def __init__(self, 이름, 공격력, 체력, 마력, 크기_넓이, 크기_높이, 아이템확률, x, y):\n",
        "        self.name = 이름\n",
        "        self.power = 공격력\n",
        "        self.hp = 체력\n",
        "        self.mp = 마력\n",
        "        self.width = 크기_넓이\n",
        "        self.height = 크기_높이\n",
        "        self.dropRate = 아이템확률\n",
        "\n",
        "    def attack(self, target):\n",
        "        target.hp -= self.power\n",
        "        print(f'{self.name}이 {self.power}데미지로 공격했습니다.')\n",
        "        print(f'{target.name}의 체력이 {target.hp}가 되었습니다.')\n",
        "\n",
        "licat = User('licat', 5, 10000, 1000, 2, 2, 0, 2, 2)\n",
        "licat.attack(슬라임)\n",
        "licat.attack(드래곤)"
      ],
      "metadata": {
        "colab": {
          "base_uri": "https://localhost:8080/"
        },
        "id": "e9sQqc9kjBum",
        "outputId": "b470f140-3549-4491-b234-a57ba1b2114f"
      },
      "execution_count": 75,
      "outputs": [
        {
          "output_type": "stream",
          "name": "stdout",
          "text": [
            "licat이 5데미지로 공격했습니다.\n",
            "슬라임의 체력이 -5가 되었습니다.\n",
            "licat이 5데미지로 공격했습니다.\n",
            "드래곤의 체력이 0가 되었습니다.\n"
          ]
        }
      ]
    },
    {
      "cell_type": "code",
      "source": [
        "# 준균님 코드\n",
        "class Hero(object):\n",
        "    def __init__(self,hero_info):\n",
        "        self.info = hero_info\n",
        "    def get_info(self):\n",
        "        print(f\"{self.info['name']}/위치 : {self.info['pos']}/체력 {self.info['hp']}/{self.info['max_hp']} / 레벨{self.info['level']}\")\n",
        "\n",
        "licat = Hero({\n",
        "    'name' : 'licat',\n",
        "    'pos' : [1,2],\n",
        "    'max_hp' : 100,\n",
        "    'hp' : 100,\n",
        "    'level' : 1,\n",
        "})\n",
        "\n",
        "mura = Hero({\n",
        "    'name' : 'mura',\n",
        "    'pos' : [5,5],\n",
        "    'max_hp' : 200,\n",
        "    'hp' : 200,\n",
        "    'level' : 5,\n",
        "})\n",
        "\n",
        "licat.get_info()\n",
        "mura.get_info()"
      ],
      "metadata": {
        "colab": {
          "base_uri": "https://localhost:8080/"
        },
        "id": "h5BWRYeRjC4d",
        "outputId": "03be1af5-a51d-480b-8bc1-a129d3b54b6a"
      },
      "execution_count": 76,
      "outputs": [
        {
          "output_type": "stream",
          "name": "stdout",
          "text": [
            "licat/위치 : [1, 2]/체력 100/100 / 레벨1\n",
            "mura/위치 : [5, 5]/체력 200/200 / 레벨5\n"
          ]
        }
      ]
    },
    {
      "cell_type": "code",
      "source": [
        "# 질문? JAVA의 this와 self가 같은 개념인지?\n",
        "# 답? JavaScript나 JAVA의 self와 개념이 비슷한데, 역시나 이렇게 대조를 해가면서 공부를 하면\n",
        "# 오해의 여지가 생깁니다. 데이터 구조부터 다르긴 합니다."
      ],
      "metadata": {
        "id": "vy6Z63iOjNYw"
      },
      "execution_count": 77,
      "outputs": []
    },
    {
      "cell_type": "code",
      "source": [
        "# 동섭님 코드\n",
        "고블린 = ['Monster', 5000]\n",
        "class PlayerSet(object):\n",
        "    def __init__(self, 이름, 물리공격력, 마법공격력, 체력, 마력, 크기_넓이, 크기_높이, 위치_x축, 위치_y축):\n",
        "        self.name = 이름\n",
        "        self.hit_power = 물리공격력\n",
        "        self.magic_power = 마법공격력\n",
        "        self.hp = 체력\n",
        "        self.mp = 마력\n",
        "        self.width = 크기_넓이\n",
        "        self.height = 크기_높이\n",
        "        self.coordinate_x = 위치_x축\n",
        "        self.coordinate_y = 위치_y축\n",
        "    def attack(self):\n",
        "        고블린[1] -= self.hit_power\n",
        "        print(f'{self.name}이 {self.hit_power}데미지로 공격했습니다.')\n",
        "        print(f'고블린의 체력이 {주인공[1]}이 되었습니다.')\n",
        "    def magic(self):\n",
        "        고블린[1] -= self.magic_power\n",
        "        self.mp -= 5\n",
        "        print(f'{self.name}이 {self.magic_power}데미지로 공격했습니다.')\n",
        "        print(f'고블린의 체력이 {고블린[1]}이 되었습니다.')\n",
        "        print(f'{self.name}의 마력이 {self.mp}이 되었습니다.')\n",
        "\n",
        "\n",
        "라이캣 = PlayerSet('liecat', 100, 10, 2000, 500, 5, 5, 25, 10)\n",
        "뮤라 = PlayerSet('mura', 5, 100, 2000,  1000, 3, 3, 30, 17)\n",
        "\n",
        "라이캣.attack(), 뮤라.magic()\n",
        "라이캣.magic(), 뮤라.attack()"
      ],
      "metadata": {
        "colab": {
          "base_uri": "https://localhost:8080/"
        },
        "id": "cTGLIot-jP2l",
        "outputId": "7e4c0202-8e3b-414f-892d-45f7cf65ace6"
      },
      "execution_count": 78,
      "outputs": [
        {
          "output_type": "stream",
          "name": "stdout",
          "text": [
            "liecat이 100데미지로 공격했습니다.\n",
            "고블린의 체력이 10000이 되었습니다.\n",
            "mura이 100데미지로 공격했습니다.\n",
            "고블린의 체력이 4800이 되었습니다.\n",
            "mura의 마력이 995이 되었습니다.\n",
            "liecat이 10데미지로 공격했습니다.\n",
            "고블린의 체력이 4790이 되었습니다.\n",
            "liecat의 마력이 495이 되었습니다.\n",
            "mura이 5데미지로 공격했습니다.\n",
            "고블린의 체력이 10000이 되었습니다.\n"
          ]
        },
        {
          "output_type": "execute_result",
          "data": {
            "text/plain": [
              "(None, None)"
            ]
          },
          "metadata": {},
          "execution_count": 78
        }
      ]
    },
    {
      "cell_type": "code",
      "source": [
        "# 종수님 코드\n",
        "class Character(object):\n",
        "    def __init__(self, 이름, 직업, 외형):\n",
        "        self.name = 이름\n",
        "        self.characterClass = 직업\n",
        "        self.characterModel = 외형\n",
        "        self.x = 0\n",
        "        self.y = 0\n",
        "    \n",
        "    def change_model(self, newCharacterModel):\n",
        "        self.characterModel = newCharacterModel\n",
        "        print(f'외형 변경 {self.characterModel} -> {newCharacterModel}')\n",
        "    \n",
        "    def move_left(self):\n",
        "        self.x += 1\n",
        "        print(f'현재 좌표 ({self.x},{self.y})')\n",
        "    \n",
        "    def move_right(self):\n",
        "        self.x -= 1\n",
        "        print(f'현재 좌표 ({self.x},{self.y})')\n",
        "\n",
        "    def move_up(self):\n",
        "        self.y += 1\n",
        "        print(f'현재 좌표 ({self.x},{self.y})')\n",
        "    \n",
        "    def move_down(self):\n",
        "        self.y -= 1\n",
        "        print(f'현재 좌표 ({self.x},{self.y})')\n",
        "\n",
        "licat = Character('licat',직업=1,외형=1)\n",
        "mura = Character('mura',2,2)"
      ],
      "metadata": {
        "id": "jNISO8Z5jZN1"
      },
      "execution_count": 79,
      "outputs": []
    },
    {
      "cell_type": "markdown",
      "source": [
        "### ."
      ],
      "metadata": {
        "id": "p9ia34v_jy1K"
      }
    },
    {
      "cell_type": "code",
      "source": [
        "# 쉽고 중요한 예제!\n",
        "\n",
        "class BlogFactory(object):\n",
        "    def __init__(self, 제목, 내용, 조회수, 글쓴이, 생성날짜):\n",
        "        self.title = 제목\n",
        "        self.content = 내용\n",
        "        self.count = 조회수\n",
        "        self.writer = 글쓴이\n",
        "        self.create_date = 생성날짜\n",
        "\n",
        "게시글1 = BlogFactory(\n",
        "    '오늘 제주의 날씨',\n",
        "    '오늘 제주의 날씨는 참 좋네요! 블라블라',\n",
        "    '0',\n",
        "    '이호준',\n",
        "    '2023/05/10')\n",
        "\n",
        "게시글2 = BlogFactory(\n",
        "    '오늘 부산의 날씨',\n",
        "    '오늘 부산의 날씨는 참 좋네요! 블라블라',\n",
        "    '10000',\n",
        "    '김재현',\n",
        "    '2023/05/10')\n",
        "\n",
        "게시글3 = BlogFactory(\n",
        "    '오늘 강원의 날씨',\n",
        "    '오늘 강원의 날씨는 참 좋네요! 블라블라',\n",
        "    '100',\n",
        "    '남궁범',\n",
        "    '2023/05/10')\n",
        "\n",
        "\n",
        "게시글1.title"
      ],
      "metadata": {
        "colab": {
          "base_uri": "https://localhost:8080/",
          "height": 35
        },
        "id": "0ia-8Hmajxrp",
        "outputId": "0a45c718-3b21-48e3-cb86-d1840bbac8f7"
      },
      "execution_count": 53,
      "outputs": [
        {
          "output_type": "execute_result",
          "data": {
            "text/plain": [
              "'오늘 제주의 날씨'"
            ],
            "application/vnd.google.colaboratory.intrinsic+json": {
              "type": "string"
            }
          },
          "metadata": {},
          "execution_count": 53
        }
      ]
    },
    {
      "cell_type": "code",
      "source": [
        "# 쉽고 중요한 예제!\n",
        "\n",
        "class BlogFactory(object):\n",
        "    def __init__(self, 제목, 내용, 조회수, 글쓴이, 생성날짜):\n",
        "        self.title = 제목\n",
        "        self.content = 내용\n",
        "        self.count = 조회수\n",
        "        self.writer = 글쓴이\n",
        "        self.create_date = 생성날짜\n",
        "\n",
        "게시글1 = BlogFactory(\n",
        "    '오늘 제주의 날씨',\n",
        "    '오늘 제주의 날씨는 참 좋네요! 블라블라',\n",
        "    '0',\n",
        "    '이호준',\n",
        "    '2023/05/10')\n",
        "\n",
        "게시글2 = BlogFactory(\n",
        "    '오늘 부산의 날씨',\n",
        "    '오늘 부산의 날씨는 참 좋네요! 블라블라',\n",
        "    '10000',\n",
        "    '김재현',\n",
        "    '2023/05/10')\n",
        "\n",
        "게시글3 = BlogFactory(\n",
        "    '오늘 강원의 날씨',\n",
        "    '오늘 강원의 날씨는 참 좋네요! 블라블라',\n",
        "    '100',\n",
        "    '남궁범',\n",
        "    '2023/05/10')\n",
        "\n",
        "\n",
        "data = [게시글1, 게시글2, 게시글3]\n",
        "for i in data:\n",
        "    print(i.title)"
      ],
      "metadata": {
        "colab": {
          "base_uri": "https://localhost:8080/"
        },
        "id": "MQvi6Dwx4X4a",
        "outputId": "428ef532-5c22-408b-e7de-61f9156dc593"
      },
      "execution_count": 54,
      "outputs": [
        {
          "output_type": "stream",
          "name": "stdout",
          "text": [
            "오늘 제주의 날씨\n",
            "오늘 부산의 날씨\n",
            "오늘 강원의 날씨\n"
          ]
        }
      ]
    },
    {
      "cell_type": "code",
      "source": [
        "# 쉽고 중요한 예제!\n",
        "# 이 코드는 가능하면 손으로 2 ~ 3번 써보시길 권해드립니다.\n",
        "\n",
        "class BlogFactory(object):\n",
        "    def __init__(self, 제목, 내용, 조회수, 글쓴이, 생성날짜):\n",
        "        self.title = 제목\n",
        "        self.content = 내용\n",
        "        self.count = 조회수\n",
        "        self.writer = 글쓴이\n",
        "        self.create_date = 생성날짜\n",
        "\n",
        "게시글1 = BlogFactory(\n",
        "    '오늘 제주의 날씨',\n",
        "    '오늘 제주의 날씨는 참 좋네요! 블라블라',\n",
        "    '0',\n",
        "    '이호준',\n",
        "    '2023/05/10')\n",
        "\n",
        "게시글2 = BlogFactory(\n",
        "    '오늘 부산의 날씨',\n",
        "    '오늘 부산의 날씨는 참 좋네요! 블라블라',\n",
        "    '10000',\n",
        "    '김재현',\n",
        "    '2023/05/10')\n",
        "\n",
        "게시글3 = BlogFactory(\n",
        "    '오늘 강원의 날씨',\n",
        "    '오늘 강원의 날씨는 참 좋네요! 블라블라',\n",
        "    '100',\n",
        "    '남궁범',\n",
        "    '2023/05/10')\n",
        "\n",
        "\n",
        "data = [게시글1, 게시글2, 게시글3]\n",
        "for i in data:\n",
        "    if i.writer == '이호준':\n",
        "        print(i.title)\n",
        "        print(i.content)\n",
        "        print(i.count)\n",
        "        print(i.create_date)"
      ],
      "metadata": {
        "colab": {
          "base_uri": "https://localhost:8080/"
        },
        "id": "rTxMmU7D4iVy",
        "outputId": "eb835ddb-a80e-4498-80ba-8695b25a9dbd"
      },
      "execution_count": 56,
      "outputs": [
        {
          "output_type": "stream",
          "name": "stdout",
          "text": [
            "오늘 제주의 날씨\n",
            "오늘 제주의 날씨는 참 좋네요! 블라블라\n",
            "0\n",
            "2023/05/10\n"
          ]
        }
      ]
    },
    {
      "cell_type": "code",
      "source": [
        "data = [게시글1, 게시글2, 게시글3]\n",
        "for i in data:\n",
        "    print(i.title)\n",
        "    print(i.content)\n",
        "    print(i.writer)\n",
        "    print(i.count)\n",
        "    print(i.create_date)"
      ],
      "metadata": {
        "colab": {
          "base_uri": "https://localhost:8080/"
        },
        "id": "t7ChozeH5CQv",
        "outputId": "8eb63965-03b4-42b8-dab9-0534666a4625"
      },
      "execution_count": 57,
      "outputs": [
        {
          "output_type": "stream",
          "name": "stdout",
          "text": [
            "오늘 제주의 날씨\n",
            "오늘 제주의 날씨는 참 좋네요! 블라블라\n",
            "이호준\n",
            "0\n",
            "2023/05/10\n",
            "오늘 부산의 날씨\n",
            "오늘 부산의 날씨는 참 좋네요! 블라블라\n",
            "김재현\n",
            "10000\n",
            "2023/05/10\n",
            "오늘 강원의 날씨\n",
            "오늘 강원의 날씨는 참 좋네요! 블라블라\n",
            "남궁범\n",
            "100\n",
            "2023/05/10\n"
          ]
        }
      ]
    },
    {
      "cell_type": "code",
      "source": [
        "data = [게시글1, 게시글2, 게시글3]\n",
        "for i in data:\n",
        "    print(f'<h2>{i.title}</h2>')\n",
        "    print(f'<p>{i.content}</p>')\n",
        "    print(f'<p>{i.writer}</p>')\n",
        "    print(f'<p>{i.count}</p>')\n",
        "    print(f'<p>{i.create_date}</p>')"
      ],
      "metadata": {
        "colab": {
          "base_uri": "https://localhost:8080/"
        },
        "id": "g2KSI1kR5efP",
        "outputId": "ac67fc71-f440-4e98-c0c1-9cef1ccc5012"
      },
      "execution_count": 58,
      "outputs": [
        {
          "output_type": "stream",
          "name": "stdout",
          "text": [
            "<h2>오늘 제주의 날씨</h2>\n",
            "<p>오늘 제주의 날씨는 참 좋네요! 블라블라</p>\n",
            "<p>이호준</p>\n",
            "<p>0</p>\n",
            "<p>2023/05/10</p>\n",
            "<h2>오늘 부산의 날씨</h2>\n",
            "<p>오늘 부산의 날씨는 참 좋네요! 블라블라</p>\n",
            "<p>김재현</p>\n",
            "<p>10000</p>\n",
            "<p>2023/05/10</p>\n",
            "<h2>오늘 강원의 날씨</h2>\n",
            "<p>오늘 강원의 날씨는 참 좋네요! 블라블라</p>\n",
            "<p>남궁범</p>\n",
            "<p>100</p>\n",
            "<p>2023/05/10</p>\n"
          ]
        }
      ]
    },
    {
      "cell_type": "code",
      "source": [
        "# 클래스 변수로 글쓴이 찾기"
      ],
      "metadata": {
        "id": "voxIcbhg2f-T"
      },
      "execution_count": null,
      "outputs": []
    },
    {
      "cell_type": "code",
      "source": [
        "# 조금 난이도가 있는 예제이기 때문에\n",
        "# 기억하지 않으셔도 됩니다.\n",
        "\n",
        "class BlogFactory(object):\n",
        "    dataset = []\n",
        "\n",
        "    def __init__(self, 제목, 내용, 조회수, 글쓴이, 생성날짜):\n",
        "        self.title = 제목\n",
        "        self.content = 내용\n",
        "        self.count = 조회수\n",
        "        self.writer = 글쓴이\n",
        "        self.create_date = 생성날짜\n",
        "        self.dataset.append(self)\n",
        "\n",
        "게시글1 = BlogFactory(\n",
        "    '오늘 제주의 날씨',\n",
        "    '오늘 제주의 날씨는 참 좋네요! 블라블라',\n",
        "    '0',\n",
        "    '이호준',\n",
        "    '2023/05/10'\n",
        "    )\n",
        "\n",
        "게시글2 = BlogFactory(\n",
        "    '오늘 부산의 날씨',\n",
        "    '오늘 부산의 날씨는 참 좋네요! 블라블라',\n",
        "    '10000',\n",
        "    '김재현',\n",
        "    '2023/05/10'\n",
        "    )\n",
        "\n",
        "게시글3 = BlogFactory(\n",
        "    '오늘 강원의 날씨',\n",
        "    '오늘 강원의 날씨는 참 좋네요! 블라블라',\n",
        "    '100',\n",
        "    '남궁범',\n",
        "    '2023/05/10'\n",
        "    )\n",
        "\n",
        "\n",
        "for i in 게시글1.dataset:\n",
        "    print(i.title)"
      ],
      "metadata": {
        "colab": {
          "base_uri": "https://localhost:8080/"
        },
        "id": "SBnUStf55wZr",
        "outputId": "202aa260-fec7-407f-dfd9-bad22064474a"
      },
      "execution_count": 62,
      "outputs": [
        {
          "output_type": "stream",
          "name": "stdout",
          "text": [
            "오늘 제주의 날씨\n",
            "오늘 부산의 날씨\n",
            "오늘 강원의 날씨\n"
          ]
        }
      ]
    },
    {
      "cell_type": "code",
      "source": [
        "# x = 10 # 10이라는 값을 갖고 있는 Integer클래스의 인스턴스\n",
        "# y = 10\n",
        "\n",
        "# x.__add__ = lambda self, next : str(self) + str(next) # error\n",
        "# AttributeError: 'int' object attribute '__add__' is read-only"
      ],
      "metadata": {
        "id": "YtOcMEG_7C6c"
      },
      "execution_count": null,
      "outputs": []
    },
    {
      "cell_type": "code",
      "source": [
        "# python read only method create 가능한가?"
      ],
      "metadata": {
        "id": "DBVeuaPX8cEr"
      },
      "execution_count": null,
      "outputs": []
    },
    {
      "cell_type": "code",
      "source": [
        "class BlogFactory(object):\n",
        "    dataset = []\n",
        "\n",
        "    def __init__(self, 제목, 내용, 조회수, 글쓴이, 생성날짜):\n",
        "        self.title = 제목\n",
        "        self.content = 내용\n",
        "        self.count = 조회수\n",
        "        self.writer = 글쓴이\n",
        "        self.create_date = 생성날짜\n",
        "        self.dataset.append(self)\n",
        "\n",
        "    def __str__(self):\n",
        "        return 'hello'\n",
        "\n",
        "게시글1 = BlogFactory(\n",
        "        '오늘 제주의 날씨',\n",
        "        '오늘 제주의 날씨는 참 좋네요! 블라블라',\n",
        "        '0',\n",
        "        '이호준',\n",
        "        '2023/05/10',\n",
        "    )\n",
        "\n",
        "게시글2 = BlogFactory(\n",
        "        '오늘 부산의 날씨',\n",
        "        '오늘 부산의 날씨는 참 좋네요! 블라블라',\n",
        "        '1000000',\n",
        "        '김재현',\n",
        "        '2023/05/10',\n",
        "    )\n",
        "\n",
        "print(게시글1, 게시글2)"
      ],
      "metadata": {
        "colab": {
          "base_uri": "https://localhost:8080/"
        },
        "id": "y4xJ3vk--iqX",
        "outputId": "a95f7c5b-3dc3-4dd9-a086-4dcb9a5bc3e3"
      },
      "execution_count": 68,
      "outputs": [
        {
          "output_type": "stream",
          "name": "stdout",
          "text": [
            "hello hello\n"
          ]
        }
      ]
    },
    {
      "cell_type": "code",
      "source": [
        "# 중요한 예제입니다.\n",
        "class BlogFactory(object):\n",
        "    dataset = []\n",
        "\n",
        "    def __init__(self, 제목, 내용, 조회수, 글쓴이, 생성날짜):\n",
        "        self.title = 제목\n",
        "        self.content = 내용\n",
        "        self.count = 조회수\n",
        "        self.writer = 글쓴이\n",
        "        self.create_date = 생성날짜\n",
        "        self.dataset.append(self)\n",
        "    \n",
        "    def __str__(self):\n",
        "        return  self.title\n",
        "\n",
        "게시글1 = BlogFactory(\n",
        "        '오늘 제주의 날씨',\n",
        "        '오늘 제주의 날씨는 참 좋네요! 블라블라',\n",
        "        '0',\n",
        "        '이호준',\n",
        "        '2023/05/10',\n",
        "    )\n",
        "\n",
        "게시글2 = BlogFactory(\n",
        "        '오늘 부산의 날씨',\n",
        "        '오늘 부산의 날씨는 참 좋네요! 블라블라',\n",
        "        '10000',\n",
        "        '김재현',\n",
        "        '2023/05/10'\n",
        "    )\n",
        "\n",
        "print(게시글1)\n",
        "print(게시글2)"
      ],
      "metadata": {
        "colab": {
          "base_uri": "https://localhost:8080/"
        },
        "id": "86MzwVbm9j3G",
        "outputId": "95e59836-598a-4dd2-d65c-e8e1eccc1ad9"
      },
      "execution_count": 67,
      "outputs": [
        {
          "output_type": "stream",
          "name": "stdout",
          "text": [
            "오늘 제주의 날씨\n",
            "오늘 부산의 날씨\n"
          ]
        }
      ]
    },
    {
      "cell_type": "code",
      "source": [
        "# 중요한 예제입니다.\n",
        "class BlogFactory(object):\n",
        "    dataset = []\n",
        "\n",
        "    def __init__(self, 제목, 내용, 조회수, 글쓴이, 생성날짜):\n",
        "        self.title = 제목\n",
        "        self.content = 내용\n",
        "        self.count = 조회수\n",
        "        self.writer = 글쓴이\n",
        "        self.create_date = 생성날짜\n",
        "        self.dataset.append(self)\n",
        "    \n",
        "    def __str__(self):\n",
        "        return  f'제목 : {self.title}, 내용 : {self.content[:5]}, 글쓴이 : {self.writer}'\n",
        "\n",
        "게시글1 = BlogFactory(\n",
        "        '오늘 제주의 날씨',\n",
        "        '오늘 제주의 날씨는 참 좋네요! 블라블라',\n",
        "        '0',\n",
        "        '이호준',\n",
        "        '2023/05/10',\n",
        "    )\n",
        "\n",
        "게시글2 = BlogFactory(\n",
        "        '오늘 부산의 날씨',\n",
        "        '오늘 부산의 날씨는 참 좋네요! 블라블라',\n",
        "        '10000',\n",
        "        '김재현',\n",
        "        '2023/05/10'\n",
        "    )\n",
        "\n",
        "print(게시글1)\n",
        "print(게시글2)"
      ],
      "metadata": {
        "colab": {
          "base_uri": "https://localhost:8080/"
        },
        "id": "UoY41iUd_WgP",
        "outputId": "6fec06f6-ab9c-4f24-b9d0-d170a7b6b178"
      },
      "execution_count": 69,
      "outputs": [
        {
          "output_type": "stream",
          "name": "stdout",
          "text": [
            "제목 : 오늘 제주의 날씨, 내용 : 오늘 제주, 글쓴이 : 이호준\n",
            "제목 : 오늘 부산의 날씨, 내용 : 오늘 부산, 글쓴이 : 김재현\n"
          ]
        }
      ]
    },
    {
      "cell_type": "code",
      "source": [
        "# 중요한 예제입니다.\n",
        "class BlogFactory(object):\n",
        "    dataset = []\n",
        "\n",
        "    def __init__(self, 제목, 내용, 조회수, 글쓴이, 생성날짜):\n",
        "        self.title = 제목\n",
        "        self.content = 내용\n",
        "        self.count = 조회수\n",
        "        self.writer = 글쓴이\n",
        "        self.create_date = 생성날짜\n",
        "        self.dataset.append(self)\n",
        "    \n",
        "    def __str__(self):\n",
        "        return  f'{len(self.dataset)}, 제목 : {self.title}, 내용 : {self.content[:5]}, 글쓴이 : {self.writer}'\n",
        "\n",
        "게시글1 = BlogFactory(\n",
        "        '오늘 제주의 날씨',\n",
        "        '오늘 제주의 날씨는 참 좋네요! 블라블라',\n",
        "        '0',\n",
        "        '이호준',\n",
        "        '2023/05/10',\n",
        "    )\n",
        "print(게시글1)\n",
        "\n",
        "게시글2 = BlogFactory(\n",
        "        '오늘 부산의 날씨',\n",
        "        '오늘 부산의 날씨는 참 좋네요! 블라블라',\n",
        "        '10000',\n",
        "        '김재현',\n",
        "        '2023/05/10'\n",
        "    )\n",
        "\n",
        "print(게시글2)"
      ],
      "metadata": {
        "colab": {
          "base_uri": "https://localhost:8080/"
        },
        "id": "sZZQwjPVCG7B",
        "outputId": "cf9d9075-e6c8-41dc-8e46-f8e4f4e076f8"
      },
      "execution_count": 73,
      "outputs": [
        {
          "output_type": "stream",
          "name": "stdout",
          "text": [
            "1, 제목 : 오늘 제주의 날씨, 내용 : 오늘 제주, 글쓴이 : 이호준\n",
            "2, 제목 : 오늘 부산의 날씨, 내용 : 오늘 부산, 글쓴이 : 김재현\n"
          ]
        }
      ]
    },
    {
      "cell_type": "code",
      "source": [
        "# 각각 class를 만들어주시고, instance를 2개 이상 넣어서\n",
        "# 활용(출력, 수정 등) 해보세요.\n",
        "# 15분씩 총 30분, 6분에 문제를 냈기 때문에 36분까지 실습해보겠습니다.\n",
        "# 각 코드는 만들어서 쓰레드에 올려주세요.\n",
        "# 중요한 코드이니 꼭 한 번 만들어보세요! :)\n",
        "class UserInfo(object):\n",
        "    pass\n",
        "\n",
        "class BookInfo(object):\n",
        "    pass"
      ],
      "metadata": {
        "id": "KN4EStcWP7Qu"
      },
      "execution_count": null,
      "outputs": []
    },
    {
      "cell_type": "code",
      "source": [
        "class UserInfo(object): # 배민\n",
        "    dataset = []\n",
        "    def __init__(self, 아이디, 비밀번호, 이름, 주소, 이메일, 생년월일, 전화번호):\n",
        "        self.id = 아이디\n",
        "        self.pw = 비밀번호\n",
        "        self.name = 이름\n",
        "        self.address = 주소\n",
        "        self.email = 이메일\n",
        "        self.birth = 생년월일\n",
        "        self.phone = 전화번호\n",
        "        self.dataset.append(self)\n",
        "    \n",
        "    def 비밀번호변경(self, new_pw):\n",
        "        self.pw = new_pw\n",
        "        print('비밀번호가 변경되었습니다.')\n",
        "\n",
        "    def 주소변경(self, new_address):\n",
        "        self.pw = new_address\n",
        "        print('주소가 변경되었습니다.')\n",
        "\n",
        "class Menu(object):\n",
        "    def __init__(self, 메뉴이름, 가격):\n",
        "        self.name = 메뉴이름\n",
        "        self.price = 가격\n",
        "\n",
        "class Order(object):\n",
        "    def __init__(self, user, menu, quantity):\n",
        "        self.user = user\n",
        "        self.menu = menu\n",
        "        self.quantity = quantity\n",
        "        self.total_price = menu.price * quantity\n",
        "\n",
        "    def __str__(self):\n",
        "        return f'{self.user.name}이 {self.user.address}로 {self.menu.name}을 {self.quantity}개 주문하였습니다.\\n총 금액은 {self.total_price}입니다.'\n",
        "\n",
        "유저1 = UserInfo(\n",
        "        'test',\n",
        "        'test1',\n",
        "        '홍길동',\n",
        "        '서울',\n",
        "        'test@naver.com',\n",
        "        '2023/05/10',\n",
        "        '010-1111-1111'\n",
        "    )\n",
        "\n",
        "print(유저1.pw)\n",
        "유저1.비밀번호변경('test2')\n",
        "print(유저1.pw)\n",
        "\n",
        "메뉴1 = Menu('김밥', 3500)\n",
        "\n",
        "주문1 = Order(유저1, 메뉴1, 2)\n",
        "print(주문1)"
      ],
      "metadata": {
        "colab": {
          "base_uri": "https://localhost:8080/"
        },
        "id": "Vn_vp6vMDApr",
        "outputId": "265a0d1c-3dd6-46d6-9df1-e029c9a7845b"
      },
      "execution_count": 115,
      "outputs": [
        {
          "output_type": "stream",
          "name": "stdout",
          "text": [
            "test1\n",
            "비밀번호가 변경되었습니다.\n",
            "test2\n",
            "홍길동이 서울로 김밥을 2개 주문하였습니다.\n",
            "총 금액은 7000입니다.\n"
          ]
        }
      ]
    },
    {
      "cell_type": "code",
      "source": [
        "class BookInfo(object):\n",
        "    def __init__(self, 제목, 저자, 출판사, 카테고리, 이미지, 설명, 평점, 가격):\n",
        "        self.title = 제목\n",
        "        self.author = 저자\n",
        "        self.publisher = 출판사\n",
        "        self.category = 카테고리\n",
        "        self.img = 이미지\n",
        "        self.description = 설명\n",
        "        self.grade = 평점\n",
        "        self.price = 가격\n",
        "\n",
        "    def __str__(self):\n",
        "        return f'제목 : {self.title}\\n저자 : {self.author}\\n출판사 : {self.publisher}\\n카테고리 : {self.category}\\n이미지 : {self.img}\\n설명 : {self.description}\\n평점 : {self.grade}\\n가격 : {self.price}'\n",
        "    \n",
        "책1 = BookInfo(\n",
        "        'Python bootcamp - 얕은물',\n",
        "        '이호준, 김혜원 외 7명',\n",
        "        '사도출판',\n",
        "        '컴퓨터/IT, 진로/교육/교재',\n",
        "        'https://img.ridicdn.net/cover/2773000034/xxlarge#1',\n",
        "        '파이썬 기초 강의인 <파이썬 부트캠프>는 비전공자를 위한 얕은 물 강의와 전공자를 위한 깊은 물 강의로 이뤄져 있습니다.',\n",
        "        '5.0',\n",
        "        '0',\n",
        "    )\n",
        "\n",
        "print(책1)"
      ],
      "metadata": {
        "colab": {
          "base_uri": "https://localhost:8080/"
        },
        "id": "u1RAdoiwEfr2",
        "outputId": "6e21f6dc-d7aa-4ca8-a3e0-ada485d13d5b"
      },
      "execution_count": 150,
      "outputs": [
        {
          "output_type": "stream",
          "name": "stdout",
          "text": [
            "제목 : Python bootcamp - 얕은물\n",
            "저자 : 이호준, 김혜원 외 7명\n",
            "출판사 : 사도출판\n",
            "카테고리 : 컴퓨터/IT, 진로/교육/교재\n",
            "이미지 : https://img.ridicdn.net/cover/2773000034/xxlarge#1\n",
            "설명 : 파이썬 기초 강의인 <파이썬 부트캠프>는 비전공자를 위한 얕은 물 강의와 전공자를 위한 깊은 물 강의로 이뤄져 있습니다.\n",
            "평점 : 5.0\n",
            "가격 : 0\n"
          ]
        }
      ]
    },
    {
      "cell_type": "code",
      "source": [
        "# (advanced) 그리고 물건을 사면 물건의 값이 UserInfo를 건드려야 하겠죠. \n",
        "# 물건도 class로 구현해주시면 너무 좋은 예제가 될 것 같네요. 🙂\n",
        "\n",
        "# (advanced) 실제 github의 유저 정보를 등을 이용해서도 만들어보세요.\n",
        "# https://api.github.com/repos/paullabkorea/jupyternotebookblog/languages\n",
        "# https://docs.github.com/ko/rest/repos/repos?apiVersion=2022-11-28#get-a-repository\n"
      ],
      "metadata": {
        "id": "3wUi1SzRPwCN"
      },
      "execution_count": null,
      "outputs": []
    },
    {
      "cell_type": "code",
      "source": [
        "import hashlib\n",
        "\n",
        "비밀번호 = hashlib.sha256()\n",
        "비밀번호.update('helloworld!'.encode('utf-8'))\n",
        "비밀번호.hexdigest() # 영화를 집어넣든, 음악을 집어넣든, 소설을 집어넣든, 암호를 집어넣든 모두 64자로 만듭니다."
      ],
      "metadata": {
        "colab": {
          "base_uri": "https://localhost:8080/",
          "height": 35
        },
        "id": "-pc2CS5hRbl5",
        "outputId": "ad2f25c7-54c8-486b-aedf-564a1230f0c6"
      },
      "execution_count": 116,
      "outputs": [
        {
          "output_type": "execute_result",
          "data": {
            "text/plain": [
              "'98d234db7e91f5ba026a25d0d6f17bc5ee0a347ea2216b0c9de06d43536d49f4'"
            ],
            "application/vnd.google.colaboratory.intrinsic+json": {
              "type": "string"
            }
          },
          "metadata": {},
          "execution_count": 116
        }
      ]
    },
    {
      "cell_type": "code",
      "source": [
        "# 1번째 스탭\n",
        "# 공개되는 정보, 공개되지 않는 정보\n",
        "# 멤버(정적 수치, 문자열)와 메서드(기능)\n",
        "class Product(object):\n",
        "    def __init__(self, 품명, 가격):\n",
        "        self.product_name = 품명\n",
        "        self.price = 가격\n",
        "        \n",
        "자전거 = Product(\n",
        "    '자전거',\n",
        "    100000,\n",
        ")\n",
        "\n",
        "class UserInfo(object):\n",
        "    def __init__(self, \n",
        "                 이름, \n",
        "                 이메일,\n",
        "                 비밀번호, \n",
        "                 주요접속기기, \n",
        "                 주요접속국가, \n",
        "                 주요접속지역, \n",
        "                 마지막접속일자, \n",
        "                 회원가입날짜, \n",
        "                 별명, \n",
        "                 적립금, \n",
        "                 생일, \n",
        "                 휴대폰번호, \n",
        "                 휴대폰인증여부, \n",
        "                 고객등급, \n",
        "                 휴면계정여부):\n",
        "        self.이름 = 이름\n",
        "        self.고객등급 = 고객등급\n",
        "        self.적립금 = 적립금\n",
        "    \n",
        "    def 물품구매(self, product):\n",
        "        self.적립금 -= product.price\n",
        "\n",
        "    def 회원탈퇴(self):\n",
        "        pass\n",
        "\n",
        "    def 장바구니등록(self):\n",
        "        pass\n",
        "\n",
        "이호준 = UserInfo(\n",
        "    이름 = '이호준',\n",
        "    이메일 = 'hojun@gmail.com',\n",
        "    비밀번호 = '98d234db7e91f5ba026a25d0d6f17bc5ee0a347ea2216b0c9de06d43536d49f4',\n",
        "    주요접속기기 = 'Android',\n",
        "    주요접속국가 = 'Korea',\n",
        "    주요접속지역 = 'Jeju',\n",
        "    마지막접속일자 = '23/05/10',\n",
        "    회원가입날짜 = '23/05/10',\n",
        "    별명 = '준',\n",
        "    적립금 = 1000000000,\n",
        "    생일 = '13/13',\n",
        "    휴대폰번호 = '010-0000-0000',\n",
        "    휴대폰인증여부 = True,\n",
        "    고객등급 = 'VIP',\n",
        "    휴면계정여부 = False,\n",
        ")\n",
        "\n",
        "이호준.물품구매(자전거)\n",
        "이호준.적립금"
      ],
      "metadata": {
        "colab": {
          "base_uri": "https://localhost:8080/"
        },
        "id": "vXU6z6wsQApw",
        "outputId": "7b7555e2-5a85-4cdf-8468-04321b2cfee8"
      },
      "execution_count": 119,
      "outputs": [
        {
          "output_type": "execute_result",
          "data": {
            "text/plain": [
              "999900000"
            ]
          },
          "metadata": {},
          "execution_count": 119
        }
      ]
    },
    {
      "cell_type": "code",
      "source": [],
      "metadata": {
        "id": "lULCO95hVAHv"
      },
      "execution_count": null,
      "outputs": []
    },
    {
      "cell_type": "code",
      "source": [],
      "metadata": {
        "id": "LfVuLR6AUxSv"
      },
      "execution_count": null,
      "outputs": []
    },
    {
      "cell_type": "code",
      "source": [
        "class Car(object):\n",
        "    MaxSpeed = 300\n",
        "    MaxPeoeple = 5\n",
        "    def __init__(self):\n",
        "        pass\n",
        "    def move(self, x):\n",
        "        pass\n",
        "    def stop(self):\n",
        "        print('멈췄습니다.')\n",
        "    @staticmethod #decorator\n",
        "    def 스피드배속(현재스피드, 배속할스피드):\n",
        "        print(f'현재 {현재스피드 * 배속할스피드}의 스피드로 달리고 있습니다.')\n",
        "\n",
        "Car.스피드배속(100, 2) # 붕어빵 찍는 틀이 얼마나 붕어빵을 만들어 냈는가?"
      ],
      "metadata": {
        "colab": {
          "base_uri": "https://localhost:8080/"
        },
        "id": "Qc-A_8uLW_vM",
        "outputId": "748f9050-bc3d-4751-b45a-1a0b7cbdd0b0"
      },
      "execution_count": 121,
      "outputs": [
        {
          "output_type": "stream",
          "name": "stdout",
          "text": [
            "현재 200의 스피드로 달리고 있습니다.\n"
          ]
        }
      ]
    },
    {
      "cell_type": "code",
      "source": [
        "# 예를 들어서\n",
        "class Hotel():\n",
        "    pass\n",
        "\n",
        "Hotel.빈방있는호텔() # 전체 호텔 중 빈방이 있는 호텔\n",
        "호텔1.빈방() # 호텔1에 빈방이 있는지 여부"
      ],
      "metadata": {
        "id": "DQH5eT3FXzdy"
      },
      "execution_count": null,
      "outputs": []
    },
    {
      "cell_type": "markdown",
      "source": [
        "## 상속"
      ],
      "metadata": {
        "id": "6vxf7Tm9Ym8M"
      }
    },
    {
      "cell_type": "code",
      "source": [
        "# 이 예제는 기억하고 있어야 합니다.\n",
        "class Car(object): # 상속 : 괄호 안에 있는게 부모.\n",
        "    maxSpeed = 300\n",
        "    maxPeople = 5\n",
        "    def move(self, x):\n",
        "        print(x, '의 스피드로 달리고 있습니다.')\n",
        "    def stop(self):\n",
        "        print('멈췄습니다.')\n",
        "\n",
        "class HybridCar(Car):\n",
        "    battery = 1000\n",
        "    batteryKM = 300\n",
        "\n",
        "class ElectricCar(HybridCar):\n",
        "    battery = 2000\n",
        "    batteryKM = 600"
      ],
      "metadata": {
        "id": "-xy1wbiOYbgb"
      },
      "execution_count": 122,
      "outputs": []
    },
    {
      "cell_type": "code",
      "source": [
        "dir(k3)"
      ],
      "metadata": {
        "id": "L_fzKS6qY4-n"
      },
      "execution_count": null,
      "outputs": []
    },
    {
      "cell_type": "code",
      "source": [
        "K3 = Car()\n",
        "HyK3 = HybridCar()\n",
        "ElHyK3 = ElectricCar()\n",
        "# id(K3.maxSpeed), id(HyK3.maxSpeed)\n",
        "# id(K3.move), id(HyK3.move)\n",
        "\n",
        "ElHyK3.move(10)"
      ],
      "metadata": {
        "colab": {
          "base_uri": "https://localhost:8080/"
        },
        "id": "8fUTGBefZOMf",
        "outputId": "e7e2b6de-8334-4a09-8e4b-4c4e3ab38310"
      },
      "execution_count": 128,
      "outputs": [
        {
          "output_type": "stream",
          "name": "stdout",
          "text": [
            "10 의 스피드로 달리고 있습니다.\n"
          ]
        }
      ]
    },
    {
      "cell_type": "code",
      "source": [
        "# 질문 : id를 객체가 아니라 count라는 정수값을 지정해줘서 증가시키고 싶습니다.\n",
        "# 답 : 아래코드처럼 사용하시면 됩니다.\n",
        "class BlogFactory(object):\n",
        "\n",
        "    count = 0\n",
        "\n",
        "    def __init__(self, 제목, 내용, 조회수, 글쓴이, 생성날짜):\n",
        "        BlogFactory.count += 1\n",
        "        self.id = BlogFactory.count\n",
        "        self.title = 제목\n",
        "        self.content = 내용\n",
        "        self.count = 조회수\n",
        "        self.writer = 글쓴이\n",
        "        self.create_date = 생성날짜\n",
        "\n",
        "    def __str__(self):\n",
        "        return f'{self.id}. 제목 : {self.title}, 내용 : {self.content[:5]}'\n",
        "\n",
        "게시글1 = BlogFactory(\n",
        "        '오늘 제주의 날씨',\n",
        "        '오늘 제주의 날씨는 참 좋네요! 블라블라',\n",
        "        '0',\n",
        "        '이호준',\n",
        "        '2023/05/10',\n",
        "    )\n",
        "\n",
        "게시글2 = BlogFactory(\n",
        "        '오늘 부산의 날씨',\n",
        "        '오늘 부산의 날씨는 참 좋네요! 블라블라',\n",
        "        '1000000',\n",
        "        '김재현',\n",
        "        '2023/05/10',\n",
        "    )\n",
        "\n",
        "print(게시글1)\n",
        "print(게시글2)"
      ],
      "metadata": {
        "id": "-z1iDiaQ3D7J"
      },
      "execution_count": null,
      "outputs": []
    },
    {
      "cell_type": "markdown",
      "source": [
        "## !!20230510 오늘 배운 것 정리"
      ],
      "metadata": {
        "id": "Gu3YzRsmkiI5"
      }
    },
    {
      "cell_type": "markdown",
      "source": [
        "- 클래스\n",
        "\n",
        "  - 클래스는 데이터(멤버)와 기능(메서드)을 가지고 있는 인스턴트 객체를 생성하기 위한 역할\n",
        "  - 우리가 배우고 있는 Python을 객체 지향 프로그래밍 언어\n",
        "\n",
        "    ```\n",
        "    현실                                코드\n",
        "    차 ---------------------------> class Car()\n",
        "    정수 -------------------------> class int()\n",
        "    실수 -------------------------> class float()\n",
        "\n",
        "    인간이 만들어\n",
        "    놓은 현실 세계에서의\n",
        "    정의 또는 약속 --------------> class\n",
        "\n",
        "    1 + 1 = 2가 컴퓨터 입장에서는 10일 수도 있고\n",
        "    'A' + 'A' = 'AA'가 아니라 컴퓨터 입장에서는 130일 수 있습니다.\n",
        "    현실세계에서 '인간끼리' 약속을 코드에 세계로 옮긴거에요.\n",
        "    ```\n",
        "\n",
        "  - 예제 1\n",
        "\n",
        "    ```python\n",
        "    # 메서드 : 클래스 내에 함수\n",
        "    # 멤버 : 클래스 내에 변수\n",
        "    # 애트리뷰트 : 멤버 + 메서드\n",
        "    class CarFactory(object):\n",
        "        max_speed = 300\n",
        "        max_people = 5\n",
        "        def move(self):\n",
        "            print('차가 움직이고 있습니다.')\n",
        "        def stop(self):\n",
        "            print('차가 멈췄습니다.')\n",
        "\n",
        "    k5 = CarFactory()\n",
        "    k3 = CarFactory()\n",
        "    k5.move()\n",
        "    k3.move()\n",
        "    k5.stop()\n",
        "    k3.stop()\n",
        "    print(k5.max_speed)\n",
        "    ```\n",
        "\n",
        "  - 예제2\n",
        "\n",
        "    ```python\n",
        "    # 클래스 변수\n",
        "    # 클래스 바로 하위에 자리하고 있으며\n",
        "    # 모든 인스턴스가 공유합니다.\n",
        "    # 인스턴스 변수\n",
        "    # 인스턴스 영역 안에서만 사용하는 변수\n",
        "    class Car(object):\n",
        "        # kinds가 인스턴스에 없기에 class변수로 접근\n",
        "        # speed는 값을 = 로 할당했기에 인스턴스변수 생성\n",
        "        kinds = []\n",
        "        speed = 300\n",
        "        def add_kinds(self, name):\n",
        "            self.kinds.append(name) # self.kinds = [name]로 사용하면 인스턴스 변수가 됩니다.\n",
        "        def change_speed(self, speed):\n",
        "            self.speed = speed\n",
        "\n",
        "    k5 = Car()\n",
        "    k3 = Car()\n",
        "    k5.speed = 500\n",
        "    k3.speed # 클래스 변수는 값을 공유한다고 했는데?\n",
        "    ```\n",
        "\n",
        "  - 예제3\n",
        "\n",
        "    ```python\n",
        "    # 쉽고 중요한 예제!\n",
        "    # 이 코드는 가능하면 손으로 2 ~ 3번 써보시길 권해드립니다.\n",
        "\n",
        "    class BlogFactory(object):\n",
        "        def __init__(self, 제목, 내용, 조회수, 글쓴이, 생성날짜):\n",
        "            self.title = 제목\n",
        "            self.content = 내용\n",
        "            self.count = 조회수\n",
        "            self.writer = 글쓴이\n",
        "            self.create_date = 생성날짜\n",
        "\n",
        "    게시글1 = BlogFactory(\n",
        "            '오늘 제주의 날씨',\n",
        "            '오늘 제주의 날씨는 참 좋네요! 블라블라',\n",
        "            '0',\n",
        "            '이호준',\n",
        "            '2023/05/10',\n",
        "        )\n",
        "\n",
        "    게시글2 = BlogFactory(\n",
        "            '오늘 부산의 날씨',\n",
        "            '오늘 부산의 날씨는 참 좋네요! 블라블라',\n",
        "            '1000000',\n",
        "            '김재현',\n",
        "            '2023/05/10',\n",
        "        )\n",
        "\n",
        "    게시글3 = BlogFactory(\n",
        "            '오늘 강원의 날씨',\n",
        "            '오늘 강원의 날씨는 참 좋네요! 블라블라',\n",
        "            '10000',\n",
        "            '범남궁',\n",
        "            '2023/05/10',\n",
        "        )\n",
        "\n",
        "    data = [게시글1, 게시글2, 게시글3]\n",
        "    for i in data:\n",
        "        if i.writer == '이호준':\n",
        "            print(i.title)\n",
        "            print(i.content)\n",
        "            print(i.count)\n",
        "            print(i.create_date)\n",
        "    ```\n",
        "\n",
        "- 클래스 상속\n",
        "\n",
        "  - 클래스에서 상속은 상속해주는 클래스(Parent Class, Super class)의 내용(속성과 메소드)을 상속받는 클래스(Child class, sub class)가 가지게 되는 것\n",
        "  - 코드 예\n",
        "\n",
        "    ```python\n",
        "    # 이 예제는 기억하고 있으셔야 합니다.\n",
        "    class Car:\n",
        "        maxSpeed = 300\n",
        "        maxPeople = 5\n",
        "        def move(self, x):\n",
        "            print(x, '의 스피드로 달리고 있습니다.')\n",
        "        def stop(self):\n",
        "            print('멈췄습니다.')\n",
        "\n",
        "    class HybridCar(Car):\n",
        "        battery = 1000\n",
        "        batteryKM = 300\n",
        "\n",
        "    class ElectricCar(HybridCar):\n",
        "        battery = 2000\n",
        "        batteryKM = 600\n",
        "\n",
        "    K3 = Car()\n",
        "    HyK3 = HybridCar()\n",
        "    ElHyK3 = ElectricCar()\n",
        "    # id(K3.maxSpeed), id(HyK3.maxSpeed)\n",
        "    # id(K3.move), id(HyK3.move)\n",
        "\n",
        "    ElHyK3.move(10)\n",
        "    ```\n"
      ],
      "metadata": {
        "id": "MXWmfwyBknRW"
      }
    },
    {
      "cell_type": "markdown",
      "source": [
        "## 데코레이터"
      ],
      "metadata": {
        "id": "Co6u-BjnSarX"
      }
    },
    {
      "cell_type": "markdown",
      "source": [
        "## 클로저, 팩토리 함수"
      ],
      "metadata": {
        "id": "yEyP9JxSXKL0"
      }
    },
    {
      "cell_type": "markdown",
      "source": [
        "## 제너레이터"
      ],
      "metadata": {
        "id": "kwbDz26RN2C2"
      }
    }
  ]
}